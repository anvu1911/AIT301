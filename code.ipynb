{
  "cells": [
    {
      "cell_type": "code",
      "execution_count": 1,
      "metadata": {
        "id": "Aaja5i8ip0CX"
      },
      "outputs": [],
      "source": [
        "import tensorflow as tf"
      ]
    },
    {
      "cell_type": "code",
      "execution_count": 2,
      "metadata": {
        "colab": {
          "base_uri": "https://localhost:8080/"
        },
        "id": "S0OlNpuzp8T_",
        "outputId": "0632cf84-fb04-42a8-fdd4-6788df4a4f13"
      },
      "outputs": [
        {
          "name": "stdout",
          "output_type": "stream",
          "text": [
            "Mounted at /content/drive\n"
          ]
        }
      ],
      "source": [
        "from google.colab import drive\n",
        "drive.mount('/content/drive')"
      ]
    },
    {
      "cell_type": "code",
      "execution_count": 3,
      "metadata": {
        "colab": {
          "base_uri": "https://localhost:8080/",
          "height": 1000
        },
        "id": "LCmtfSqtqH75",
        "outputId": "26741a55-c55f-4b83-d60f-0fef6a737819"
      },
      "outputs": [
        {
          "name": "stdout",
          "output_type": "stream",
          "text": [
            "Collecting mltu==1.0.9\n",
            "  Downloading mltu-1.0.9-py3-none-any.whl (35 kB)\n",
            "Requirement already satisfied: PyYAML>=6.0 in /usr/local/lib/python3.10/dist-packages (from mltu==1.0.9) (6.0)\n",
            "Requirement already satisfied: tqdm in /usr/local/lib/python3.10/dist-packages (from mltu==1.0.9) (4.65.0)\n",
            "Requirement already satisfied: pandas in /usr/local/lib/python3.10/dist-packages (from mltu==1.0.9) (1.5.3)\n",
            "Requirement already satisfied: numpy in /usr/local/lib/python3.10/dist-packages (from mltu==1.0.9) (1.22.4)\n",
            "Requirement already satisfied: opencv-python in /usr/local/lib/python3.10/dist-packages (from mltu==1.0.9) (4.7.0.72)\n",
            "Collecting Pillow==9.4.0 (from mltu==1.0.9)\n",
            "  Downloading Pillow-9.4.0-cp310-cp310-manylinux_2_28_x86_64.whl (3.4 MB)\n",
            "\u001b[2K     \u001b[90m━━━━━━━━━━━━━━━━━━━━━━━━━━━━━━━━━━━━━━━━\u001b[0m \u001b[32m3.4/3.4 MB\u001b[0m \u001b[31m33.9 MB/s\u001b[0m eta \u001b[36m0:00:00\u001b[0m\n",
            "\u001b[?25hCollecting onnxruntime (from mltu==1.0.9)\n",
            "  Downloading onnxruntime-1.15.1-cp310-cp310-manylinux_2_17_x86_64.manylinux2014_x86_64.whl (5.9 MB)\n",
            "\u001b[2K     \u001b[90m━━━━━━━━━━━━━━━━━━━━━━━━━━━━━━━━━━━━━━━━\u001b[0m \u001b[32m5.9/5.9 MB\u001b[0m \u001b[31m107.6 MB/s\u001b[0m eta \u001b[36m0:00:00\u001b[0m\n",
            "\u001b[?25hCollecting librosa==0.9.2 (from mltu==1.0.9)\n",
            "  Downloading librosa-0.9.2-py3-none-any.whl (214 kB)\n",
            "\u001b[2K     \u001b[90m━━━━━━━━━━━━━━━━━━━━━━━━━━━━━━━━━━━━━━\u001b[0m \u001b[32m214.3/214.3 kB\u001b[0m \u001b[31m25.1 MB/s\u001b[0m eta \u001b[36m0:00:00\u001b[0m\n",
            "\u001b[?25hRequirement already satisfied: matplotlib in /usr/local/lib/python3.10/dist-packages (from mltu==1.0.9) (3.7.1)\n",
            "Collecting onnx==1.14.0 (from mltu==1.0.9)\n",
            "  Downloading onnx-1.14.0-cp310-cp310-manylinux_2_17_x86_64.manylinux2014_x86_64.whl (14.6 MB)\n",
            "\u001b[2K     \u001b[90m━━━━━━━━━━━━━━━━━━━━━━━━━━━━━━━━━━━━━━━━\u001b[0m \u001b[32m14.6/14.6 MB\u001b[0m \u001b[31m94.9 MB/s\u001b[0m eta \u001b[36m0:00:00\u001b[0m\n",
            "\u001b[?25hCollecting tf2onnx==1.14.0 (from mltu==1.0.9)\n",
            "  Downloading tf2onnx-1.14.0-py3-none-any.whl (451 kB)\n",
            "\u001b[2K     \u001b[90m━━━━━━━━━━━━━━━━━━━━━━━━━━━━━━━━━━━━━━\u001b[0m \u001b[32m451.2/451.2 kB\u001b[0m \u001b[31m44.4 MB/s\u001b[0m eta \u001b[36m0:00:00\u001b[0m\n",
            "\u001b[?25hRequirement already satisfied: audioread>=2.1.9 in /usr/local/lib/python3.10/dist-packages (from librosa==0.9.2->mltu==1.0.9) (3.0.0)\n",
            "Requirement already satisfied: scipy>=1.2.0 in /usr/local/lib/python3.10/dist-packages (from librosa==0.9.2->mltu==1.0.9) (1.10.1)\n",
            "Requirement already satisfied: scikit-learn>=0.19.1 in /usr/local/lib/python3.10/dist-packages (from librosa==0.9.2->mltu==1.0.9) (1.2.2)\n",
            "Requirement already satisfied: joblib>=0.14 in /usr/local/lib/python3.10/dist-packages (from librosa==0.9.2->mltu==1.0.9) (1.2.0)\n",
            "Requirement already satisfied: decorator>=4.0.10 in /usr/local/lib/python3.10/dist-packages (from librosa==0.9.2->mltu==1.0.9) (4.4.2)\n",
            "Collecting resampy>=0.2.2 (from librosa==0.9.2->mltu==1.0.9)\n",
            "  Downloading resampy-0.4.2-py3-none-any.whl (3.1 MB)\n",
            "\u001b[2K     \u001b[90m━━━━━━━━━━━━━━━━━━━━━━━━━━━━━━━━━━━━━━━━\u001b[0m \u001b[32m3.1/3.1 MB\u001b[0m \u001b[31m36.2 MB/s\u001b[0m eta \u001b[36m0:00:00\u001b[0m\n",
            "\u001b[?25hRequirement already satisfied: numba>=0.45.1 in /usr/local/lib/python3.10/dist-packages (from librosa==0.9.2->mltu==1.0.9) (0.56.4)\n",
            "Requirement already satisfied: soundfile>=0.10.2 in /usr/local/lib/python3.10/dist-packages (from librosa==0.9.2->mltu==1.0.9) (0.12.1)\n",
            "Requirement already satisfied: pooch>=1.0 in /usr/local/lib/python3.10/dist-packages (from librosa==0.9.2->mltu==1.0.9) (1.6.0)\n",
            "Requirement already satisfied: packaging>=20.0 in /usr/local/lib/python3.10/dist-packages (from librosa==0.9.2->mltu==1.0.9) (23.1)\n",
            "Requirement already satisfied: protobuf>=3.20.2 in /usr/local/lib/python3.10/dist-packages (from onnx==1.14.0->mltu==1.0.9) (3.20.3)\n",
            "Requirement already satisfied: typing-extensions>=3.6.2.1 in /usr/local/lib/python3.10/dist-packages (from onnx==1.14.0->mltu==1.0.9) (4.6.3)\n",
            "Requirement already satisfied: requests in /usr/local/lib/python3.10/dist-packages (from tf2onnx==1.14.0->mltu==1.0.9) (2.27.1)\n",
            "Requirement already satisfied: six in /usr/local/lib/python3.10/dist-packages (from tf2onnx==1.14.0->mltu==1.0.9) (1.16.0)\n",
            "Collecting flatbuffers<3.0,>=1.12 (from tf2onnx==1.14.0->mltu==1.0.9)\n",
            "  Downloading flatbuffers-2.0.7-py2.py3-none-any.whl (26 kB)\n",
            "Requirement already satisfied: contourpy>=1.0.1 in /usr/local/lib/python3.10/dist-packages (from matplotlib->mltu==1.0.9) (1.1.0)\n",
            "Requirement already satisfied: cycler>=0.10 in /usr/local/lib/python3.10/dist-packages (from matplotlib->mltu==1.0.9) (0.11.0)\n",
            "Requirement already satisfied: fonttools>=4.22.0 in /usr/local/lib/python3.10/dist-packages (from matplotlib->mltu==1.0.9) (4.40.0)\n",
            "Requirement already satisfied: kiwisolver>=1.0.1 in /usr/local/lib/python3.10/dist-packages (from matplotlib->mltu==1.0.9) (1.4.4)\n",
            "Requirement already satisfied: pyparsing>=2.3.1 in /usr/local/lib/python3.10/dist-packages (from matplotlib->mltu==1.0.9) (3.1.0)\n",
            "Requirement already satisfied: python-dateutil>=2.7 in /usr/local/lib/python3.10/dist-packages (from matplotlib->mltu==1.0.9) (2.8.2)\n",
            "Collecting coloredlogs (from onnxruntime->mltu==1.0.9)\n",
            "  Downloading coloredlogs-15.0.1-py2.py3-none-any.whl (46 kB)\n",
            "\u001b[2K     \u001b[90m━━━━━━━━━━━━━━━━━━━━━━━━━━━━━━━━━━━━━━━━\u001b[0m \u001b[32m46.0/46.0 kB\u001b[0m \u001b[31m5.6 MB/s\u001b[0m eta \u001b[36m0:00:00\u001b[0m\n",
            "\u001b[?25hRequirement already satisfied: sympy in /usr/local/lib/python3.10/dist-packages (from onnxruntime->mltu==1.0.9) (1.11.1)\n",
            "Requirement already satisfied: pytz>=2020.1 in /usr/local/lib/python3.10/dist-packages (from pandas->mltu==1.0.9) (2022.7.1)\n",
            "Requirement already satisfied: llvmlite<0.40,>=0.39.0dev0 in /usr/local/lib/python3.10/dist-packages (from numba>=0.45.1->librosa==0.9.2->mltu==1.0.9) (0.39.1)\n",
            "Requirement already satisfied: setuptools in /usr/local/lib/python3.10/dist-packages (from numba>=0.45.1->librosa==0.9.2->mltu==1.0.9) (67.7.2)\n",
            "Requirement already satisfied: appdirs>=1.3.0 in /usr/local/lib/python3.10/dist-packages (from pooch>=1.0->librosa==0.9.2->mltu==1.0.9) (1.4.4)\n",
            "Requirement already satisfied: urllib3<1.27,>=1.21.1 in /usr/local/lib/python3.10/dist-packages (from requests->tf2onnx==1.14.0->mltu==1.0.9) (1.26.16)\n",
            "Requirement already satisfied: certifi>=2017.4.17 in /usr/local/lib/python3.10/dist-packages (from requests->tf2onnx==1.14.0->mltu==1.0.9) (2023.5.7)\n",
            "Requirement already satisfied: charset-normalizer~=2.0.0 in /usr/local/lib/python3.10/dist-packages (from requests->tf2onnx==1.14.0->mltu==1.0.9) (2.0.12)\n",
            "Requirement already satisfied: idna<4,>=2.5 in /usr/local/lib/python3.10/dist-packages (from requests->tf2onnx==1.14.0->mltu==1.0.9) (3.4)\n",
            "Requirement already satisfied: threadpoolctl>=2.0.0 in /usr/local/lib/python3.10/dist-packages (from scikit-learn>=0.19.1->librosa==0.9.2->mltu==1.0.9) (3.1.0)\n",
            "Requirement already satisfied: cffi>=1.0 in /usr/local/lib/python3.10/dist-packages (from soundfile>=0.10.2->librosa==0.9.2->mltu==1.0.9) (1.15.1)\n",
            "Collecting humanfriendly>=9.1 (from coloredlogs->onnxruntime->mltu==1.0.9)\n",
            "  Downloading humanfriendly-10.0-py2.py3-none-any.whl (86 kB)\n",
            "\u001b[2K     \u001b[90m━━━━━━━━━━━━━━━━━━━━━━━━━━━━━━━━━━━━━━━━\u001b[0m \u001b[32m86.8/86.8 kB\u001b[0m \u001b[31m11.8 MB/s\u001b[0m eta \u001b[36m0:00:00\u001b[0m\n",
            "\u001b[?25hRequirement already satisfied: mpmath>=0.19 in /usr/local/lib/python3.10/dist-packages (from sympy->onnxruntime->mltu==1.0.9) (1.3.0)\n",
            "Requirement already satisfied: pycparser in /usr/local/lib/python3.10/dist-packages (from cffi>=1.0->soundfile>=0.10.2->librosa==0.9.2->mltu==1.0.9) (2.21)\n",
            "Installing collected packages: flatbuffers, Pillow, onnx, humanfriendly, tf2onnx, resampy, coloredlogs, onnxruntime, librosa, mltu\n",
            "  Attempting uninstall: flatbuffers\n",
            "    Found existing installation: flatbuffers 23.5.26\n",
            "    Uninstalling flatbuffers-23.5.26:\n",
            "      Successfully uninstalled flatbuffers-23.5.26\n",
            "  Attempting uninstall: Pillow\n",
            "    Found existing installation: Pillow 8.4.0\n",
            "    Uninstalling Pillow-8.4.0:\n",
            "      Successfully uninstalled Pillow-8.4.0\n",
            "  Attempting uninstall: librosa\n",
            "    Found existing installation: librosa 0.10.0.post2\n",
            "    Uninstalling librosa-0.10.0.post2:\n",
            "      Successfully uninstalled librosa-0.10.0.post2\n",
            "Successfully installed Pillow-9.4.0 coloredlogs-15.0.1 flatbuffers-2.0.7 humanfriendly-10.0 librosa-0.9.2 mltu-1.0.9 onnx-1.14.0 onnxruntime-1.15.1 resampy-0.4.2 tf2onnx-1.14.0\n"
          ]
        },
        {
          "data": {
            "application/vnd.colab-display-data+json": {
              "pip_warning": {
                "packages": [
                  "PIL",
                  "flatbuffers"
                ]
              }
            }
          },
          "metadata": {},
          "output_type": "display_data"
        }
      ],
      "source": [
        "!pip install mltu==1.0.9"
      ]
    },
    {
      "cell_type": "code",
      "execution_count": 4,
      "metadata": {
        "id": "F5I2-QhAp0Cg"
      },
      "outputs": [],
      "source": [
        "from keras.callbacks import EarlyStopping, ModelCheckpoint, ReduceLROnPlateau, TensorBoard\n",
        "\n",
        "from mltu.preprocessors import ImageReader\n",
        "from mltu.transformers import ImageResizer, LabelIndexer, LabelPadding, ImageShowCV2\n",
        "from mltu.augmentors import RandomBrightness, RandomRotate, RandomErodeDilate, RandomSharpen\n",
        "from mltu.annotations.images import CVImage\n",
        "\n",
        "from mltu.tensorflow.dataProvider import DataProvider\n",
        "from mltu.tensorflow.losses import CTCloss\n",
        "from mltu.tensorflow.callbacks import Model2onnx, TrainLogger\n",
        "from mltu.tensorflow.metrics import CERMetric, WERMetric\n",
        "\n",
        "import os\n",
        "from tqdm import tqdm"
      ]
    },
    {
      "cell_type": "code",
      "execution_count": 5,
      "metadata": {
        "colab": {
          "base_uri": "https://localhost:8080/"
        },
        "id": "FvJvf7wsqUgB",
        "outputId": "d4440232-766a-4d0a-bdfb-6d64046e0d18"
      },
      "outputs": [
        {
          "name": "stdout",
          "output_type": "stream",
          "text": [
            "\u001b[1;30;43mStreaming output truncated to the last 5000 lines.\u001b[0m\n",
            "  inflating: /content/sentences/h07/h07-025a/h07-025a-00.png  \n",
            "  inflating: /content/sentences/h07/h07-025a/h07-025a-01.png  \n",
            "  inflating: /content/sentences/h07/h07-025a/h07-025a-02.png  \n",
            "  inflating: /content/sentences/h07/h07-025a/h07-025a-03.png  \n",
            "  inflating: /content/sentences/h07/h07-025a/h07-025a-04.png  \n",
            "  inflating: /content/sentences/h07/h07-025a/h07-025a-05.png  \n",
            "  inflating: /content/sentences/h07/h07-025a/h07-025a-06.png  \n",
            "  inflating: /content/sentences/h07/h07-025a/h07-025a-07.png  \n",
            "  inflating: /content/sentences/h07/h07-025a/h07-025a-08.png  \n",
            " extracting: /content/sentences/h07/h07-025a/h07-025a-09.png  \n",
            "   creating: /content/sentences/h07/h07-028/\n",
            "  inflating: /content/sentences/h07/h07-028/h07-028-00.png  \n",
            "  inflating: /content/sentences/h07/h07-028/h07-028-01.png  \n",
            "  inflating: /content/sentences/h07/h07-028/h07-028-02.png  \n",
            "  inflating: /content/sentences/h07/h07-028/h07-028-03.png  \n",
            "  inflating: /content/sentences/h07/h07-028/h07-028-04.png  \n",
            "  inflating: /content/sentences/h07/h07-028/h07-028-05.png  \n",
            "  inflating: /content/sentences/h07/h07-028/h07-028-06.png  \n",
            "  inflating: /content/sentences/h07/h07-028/h07-028-07.png  \n",
            "  inflating: /content/sentences/h07/h07-028/h07-028-08.png  \n",
            "  inflating: /content/sentences/h07/h07-028/h07-028-09.png  \n",
            "  inflating: /content/sentences/h07/h07-028/h07-028-10.png  \n",
            "   creating: /content/sentences/h07/h07-028a/\n",
            "  inflating: /content/sentences/h07/h07-028a/h07-028a-00.png  \n",
            "  inflating: /content/sentences/h07/h07-028a/h07-028a-01.png  \n",
            "  inflating: /content/sentences/h07/h07-028a/h07-028a-02.png  \n",
            "  inflating: /content/sentences/h07/h07-028a/h07-028a-03.png  \n",
            "  inflating: /content/sentences/h07/h07-028a/h07-028a-04.png  \n",
            "  inflating: /content/sentences/h07/h07-028a/h07-028a-05.png  \n",
            "  inflating: /content/sentences/h07/h07-028a/h07-028a-06.png  \n",
            "  inflating: /content/sentences/h07/h07-028a/h07-028a-07.png  \n",
            " extracting: /content/sentences/h07/h07-028a/h07-028a-08.png  \n",
            "   creating: /content/sentences/h07/h07-030/\n",
            "  inflating: /content/sentences/h07/h07-030/h07-030-00.png  \n",
            "  inflating: /content/sentences/h07/h07-030/h07-030-01.png  \n",
            "  inflating: /content/sentences/h07/h07-030/h07-030-02.png  \n",
            "  inflating: /content/sentences/h07/h07-030/h07-030-03.png  \n",
            "  inflating: /content/sentences/h07/h07-030/h07-030-04.png  \n",
            "  inflating: /content/sentences/h07/h07-030/h07-030-05.png  \n",
            "  inflating: /content/sentences/h07/h07-030/h07-030-06.png  \n",
            "  inflating: /content/sentences/h07/h07-030/h07-030-07.png  \n",
            "  inflating: /content/sentences/h07/h07-030/h07-030-08.png  \n",
            "  inflating: /content/sentences/h07/h07-030/h07-030-09.png  \n",
            "   creating: /content/sentences/h07/h07-030a/\n",
            "  inflating: /content/sentences/h07/h07-030a/h07-030a-00.png  \n",
            "  inflating: /content/sentences/h07/h07-030a/h07-030a-01.png  \n",
            "  inflating: /content/sentences/h07/h07-030a/h07-030a-02.png  \n",
            "  inflating: /content/sentences/h07/h07-030a/h07-030a-03.png  \n",
            "  inflating: /content/sentences/h07/h07-030a/h07-030a-04.png  \n",
            "  inflating: /content/sentences/h07/h07-030a/h07-030a-05.png  \n",
            "  inflating: /content/sentences/h07/h07-030a/h07-030a-06.png  \n",
            "  inflating: /content/sentences/h07/h07-030a/h07-030a-07.png  \n",
            "  inflating: /content/sentences/h07/h07-030a/h07-030a-08.png  \n",
            "  inflating: /content/sentences/h07/h07-030a/h07-030a-09.png  \n",
            "   creating: /content/sentences/h07/h07-033/\n",
            "  inflating: /content/sentences/h07/h07-033/h07-033-00.png  \n",
            "  inflating: /content/sentences/h07/h07-033/h07-033-01.png  \n",
            "  inflating: /content/sentences/h07/h07-033/h07-033-02.png  \n",
            "  inflating: /content/sentences/h07/h07-033/h07-033-03.png  \n",
            "  inflating: /content/sentences/h07/h07-033/h07-033-04.png  \n",
            "  inflating: /content/sentences/h07/h07-033/h07-033-05.png  \n",
            "  inflating: /content/sentences/h07/h07-033/h07-033-06.png  \n",
            "  inflating: /content/sentences/h07/h07-033/h07-033-07.png  \n",
            "  inflating: /content/sentences/h07/h07-033/h07-033-08.png  \n",
            "  inflating: /content/sentences/h07/h07-033/h07-033-09.png  \n",
            "   creating: /content/sentences/h07/h07-033a/\n",
            "  inflating: /content/sentences/h07/h07-033a/h07-033a-00.png  \n",
            "  inflating: /content/sentences/h07/h07-033a/h07-033a-01.png  \n",
            "  inflating: /content/sentences/h07/h07-033a/h07-033a-02.png  \n",
            "  inflating: /content/sentences/h07/h07-033a/h07-033a-03.png  \n",
            "  inflating: /content/sentences/h07/h07-033a/h07-033a-04.png  \n",
            "  inflating: /content/sentences/h07/h07-033a/h07-033a-05.png  \n",
            "  inflating: /content/sentences/h07/h07-033a/h07-033a-06.png  \n",
            "  inflating: /content/sentences/h07/h07-033a/h07-033a-07.png  \n",
            "  inflating: /content/sentences/h07/h07-033a/h07-033a-08.png  \n",
            "  inflating: /content/sentences/h07/h07-033a/h07-033a-09.png  \n",
            "  inflating: /content/sentences/h07/h07-033a/h07-033a-10.png  \n",
            "   creating: /content/sentences/h07/h07-037/\n",
            "  inflating: /content/sentences/h07/h07-037/h07-037-00.png  \n",
            "  inflating: /content/sentences/h07/h07-037/h07-037-01.png  \n",
            "  inflating: /content/sentences/h07/h07-037/h07-037-02.png  \n",
            "  inflating: /content/sentences/h07/h07-037/h07-037-03.png  \n",
            "  inflating: /content/sentences/h07/h07-037/h07-037-04.png  \n",
            "  inflating: /content/sentences/h07/h07-037/h07-037-05.png  \n",
            "  inflating: /content/sentences/h07/h07-037/h07-037-06.png  \n",
            "  inflating: /content/sentences/h07/h07-037/h07-037-07.png  \n",
            "  inflating: /content/sentences/h07/h07-037/h07-037-08.png  \n",
            "  inflating: /content/sentences/h07/h07-037/h07-037-09.png  \n",
            "   creating: /content/sentences/h07/h07-037a/\n",
            "  inflating: /content/sentences/h07/h07-037a/h07-037a-00.png  \n",
            "  inflating: /content/sentences/h07/h07-037a/h07-037a-01.png  \n",
            "  inflating: /content/sentences/h07/h07-037a/h07-037a-02.png  \n",
            "  inflating: /content/sentences/h07/h07-037a/h07-037a-03.png  \n",
            "  inflating: /content/sentences/h07/h07-037a/h07-037a-04.png  \n",
            "  inflating: /content/sentences/h07/h07-037a/h07-037a-05.png  \n",
            "  inflating: /content/sentences/h07/h07-037a/h07-037a-06.png  \n",
            " extracting: /content/sentences/h07/h07-037a/h07-037a-07.png  \n",
            "   creating: /content/sentences/h07/h07-040/\n",
            "  inflating: /content/sentences/h07/h07-040/h07-040-00.png  \n",
            "  inflating: /content/sentences/h07/h07-040/h07-040-01.png  \n",
            "  inflating: /content/sentences/h07/h07-040/h07-040-02.png  \n",
            "  inflating: /content/sentences/h07/h07-040/h07-040-03.png  \n",
            "  inflating: /content/sentences/h07/h07-040/h07-040-04.png  \n",
            "  inflating: /content/sentences/h07/h07-040/h07-040-05.png  \n",
            "  inflating: /content/sentences/h07/h07-040/h07-040-06.png  \n",
            "  inflating: /content/sentences/h07/h07-040/h07-040-07.png  \n",
            "  inflating: /content/sentences/h07/h07-040/h07-040-08.png  \n",
            "  inflating: /content/sentences/h07/h07-040/h07-040-09.png  \n",
            "  inflating: /content/sentences/h07/h07-040/h07-040-10.png  \n",
            "   creating: /content/sentences/h07/h07-040b/\n",
            "  inflating: /content/sentences/h07/h07-040b/h07-040b-00.png  \n",
            "  inflating: /content/sentences/h07/h07-040b/h07-040b-01.png  \n",
            "  inflating: /content/sentences/h07/h07-040b/h07-040b-02.png  \n",
            "  inflating: /content/sentences/h07/h07-040b/h07-040b-03.png  \n",
            "  inflating: /content/sentences/h07/h07-040b/h07-040b-04.png  \n",
            "  inflating: /content/sentences/h07/h07-040b/h07-040b-05.png  \n",
            "  inflating: /content/sentences/h07/h07-040b/h07-040b-06.png  \n",
            "  inflating: /content/sentences/h07/h07-040b/h07-040b-07.png  \n",
            "  inflating: /content/sentences/h07/h07-040b/h07-040b-08.png  \n",
            "  inflating: /content/sentences/h07/h07-040b/h07-040b-09.png  \n",
            "  inflating: /content/sentences/h07/h07-040b/h07-040b-10.png  \n",
            "   creating: /content/sentences/h07/h07-044a/\n",
            "  inflating: /content/sentences/h07/h07-044a/h07-044a-00.png  \n",
            "  inflating: /content/sentences/h07/h07-044a/h07-044a-01.png  \n",
            "  inflating: /content/sentences/h07/h07-044a/h07-044a-02.png  \n",
            "  inflating: /content/sentences/h07/h07-044a/h07-044a-03.png  \n",
            "  inflating: /content/sentences/h07/h07-044a/h07-044a-04.png  \n",
            "  inflating: /content/sentences/h07/h07-044a/h07-044a-05.png  \n",
            "  inflating: /content/sentences/h07/h07-044a/h07-044a-06.png  \n",
            "  inflating: /content/sentences/h07/h07-044a/h07-044a-07.png  \n",
            "  inflating: /content/sentences/h07/h07-044a/h07-044a-08.png  \n",
            "   creating: /content/sentences/h07/h07-051b/\n",
            "  inflating: /content/sentences/h07/h07-051b/h07-051b-00.png  \n",
            "  inflating: /content/sentences/h07/h07-051b/h07-051b-01.png  \n",
            "  inflating: /content/sentences/h07/h07-051b/h07-051b-02.png  \n",
            "  inflating: /content/sentences/h07/h07-051b/h07-051b-03.png  \n",
            "  inflating: /content/sentences/h07/h07-051b/h07-051b-04.png  \n",
            "  inflating: /content/sentences/h07/h07-051b/h07-051b-05.png  \n",
            "  inflating: /content/sentences/h07/h07-051b/h07-051b-06.png  \n",
            "  inflating: /content/sentences/h07/h07-051b/h07-051b-07.png  \n",
            "  inflating: /content/sentences/h07/h07-051b/h07-051b-08.png  \n",
            "  inflating: /content/sentences/h07/h07-051b/h07-051b-09.png  \n",
            "  inflating: /content/sentences/h07/h07-051b/h07-051b-10.png  \n",
            "   creating: /content/sentences/h07/h07-054a/\n",
            "  inflating: /content/sentences/h07/h07-054a/h07-054a-00.png  \n",
            "  inflating: /content/sentences/h07/h07-054a/h07-054a-01.png  \n",
            "  inflating: /content/sentences/h07/h07-054a/h07-054a-02.png  \n",
            "  inflating: /content/sentences/h07/h07-054a/h07-054a-03.png  \n",
            "  inflating: /content/sentences/h07/h07-054a/h07-054a-04.png  \n",
            "  inflating: /content/sentences/h07/h07-054a/h07-054a-05.png  \n",
            "  inflating: /content/sentences/h07/h07-054a/h07-054a-06.png  \n",
            "  inflating: /content/sentences/h07/h07-054a/h07-054a-07.png  \n",
            "  inflating: /content/sentences/h07/h07-054a/h07-054a-08.png  \n",
            "   creating: /content/sentences/h07/h07-057a/\n",
            "  inflating: /content/sentences/h07/h07-057a/h07-057a-00.png  \n",
            "  inflating: /content/sentences/h07/h07-057a/h07-057a-01.png  \n",
            "  inflating: /content/sentences/h07/h07-057a/h07-057a-02.png  \n",
            "  inflating: /content/sentences/h07/h07-057a/h07-057a-03.png  \n",
            "  inflating: /content/sentences/h07/h07-057a/h07-057a-04.png  \n",
            "  inflating: /content/sentences/h07/h07-057a/h07-057a-05.png  \n",
            "  inflating: /content/sentences/h07/h07-057a/h07-057a-06.png  \n",
            "  inflating: /content/sentences/h07/h07-057a/h07-057a-07.png  \n",
            "   creating: /content/sentences/h07/h07-060a/\n",
            "  inflating: /content/sentences/h07/h07-060a/h07-060a-00.png  \n",
            "  inflating: /content/sentences/h07/h07-060a/h07-060a-01.png  \n",
            "  inflating: /content/sentences/h07/h07-060a/h07-060a-02.png  \n",
            "  inflating: /content/sentences/h07/h07-060a/h07-060a-03.png  \n",
            "  inflating: /content/sentences/h07/h07-060a/h07-060a-04.png  \n",
            "  inflating: /content/sentences/h07/h07-060a/h07-060a-05.png  \n",
            "  inflating: /content/sentences/h07/h07-060a/h07-060a-06.png  \n",
            "  inflating: /content/sentences/h07/h07-060a/h07-060a-07.png  \n",
            "  inflating: /content/sentences/h07/h07-060a/h07-060a-08.png  \n",
            "   creating: /content/sentences/h07/h07-060b/\n",
            "  inflating: /content/sentences/h07/h07-060b/h07-060b-00.png  \n",
            "  inflating: /content/sentences/h07/h07-060b/h07-060b-01.png  \n",
            "  inflating: /content/sentences/h07/h07-060b/h07-060b-02.png  \n",
            "  inflating: /content/sentences/h07/h07-060b/h07-060b-03.png  \n",
            "  inflating: /content/sentences/h07/h07-060b/h07-060b-04.png  \n",
            "  inflating: /content/sentences/h07/h07-060b/h07-060b-05.png  \n",
            "  inflating: /content/sentences/h07/h07-060b/h07-060b-06.png  \n",
            "  inflating: /content/sentences/h07/h07-060b/h07-060b-07.png  \n",
            "  inflating: /content/sentences/h07/h07-060b/h07-060b-08.png  \n",
            "  inflating: /content/sentences/h07/h07-060b/h07-060b-09.png  \n",
            "   creating: /content/sentences/h07/h07-063a/\n",
            "  inflating: /content/sentences/h07/h07-063a/h07-063a-00.png  \n",
            "  inflating: /content/sentences/h07/h07-063a/h07-063a-01.png  \n",
            "  inflating: /content/sentences/h07/h07-063a/h07-063a-02.png  \n",
            "  inflating: /content/sentences/h07/h07-063a/h07-063a-03.png  \n",
            "  inflating: /content/sentences/h07/h07-063a/h07-063a-04.png  \n",
            "  inflating: /content/sentences/h07/h07-063a/h07-063a-05.png  \n",
            "  inflating: /content/sentences/h07/h07-063a/h07-063a-06.png  \n",
            "  inflating: /content/sentences/h07/h07-063a/h07-063a-07.png  \n",
            "  inflating: /content/sentences/h07/h07-063a/h07-063a-08.png  \n",
            "   creating: /content/sentences/h07/h07-063b/\n",
            "  inflating: /content/sentences/h07/h07-063b/h07-063b-00.png  \n",
            "  inflating: /content/sentences/h07/h07-063b/h07-063b-01.png  \n",
            "  inflating: /content/sentences/h07/h07-063b/h07-063b-02.png  \n",
            "  inflating: /content/sentences/h07/h07-063b/h07-063b-03.png  \n",
            "  inflating: /content/sentences/h07/h07-063b/h07-063b-04.png  \n",
            "  inflating: /content/sentences/h07/h07-063b/h07-063b-05.png  \n",
            "  inflating: /content/sentences/h07/h07-063b/h07-063b-06.png  \n",
            "  inflating: /content/sentences/h07/h07-063b/h07-063b-07.png  \n",
            "  inflating: /content/sentences/h07/h07-063b/h07-063b-08.png  \n",
            "  inflating: /content/sentences/h07/h07-063b/h07-063b-09.png  \n",
            "   creating: /content/sentences/h07/h07-066a/\n",
            "  inflating: /content/sentences/h07/h07-066a/h07-066a-00.png  \n",
            "  inflating: /content/sentences/h07/h07-066a/h07-066a-01.png  \n",
            "  inflating: /content/sentences/h07/h07-066a/h07-066a-02.png  \n",
            "  inflating: /content/sentences/h07/h07-066a/h07-066a-03.png  \n",
            "  inflating: /content/sentences/h07/h07-066a/h07-066a-04.png  \n",
            "  inflating: /content/sentences/h07/h07-066a/h07-066a-05.png  \n",
            "  inflating: /content/sentences/h07/h07-066a/h07-066a-06.png  \n",
            "   creating: /content/sentences/h07/h07-066b/\n",
            "  inflating: /content/sentences/h07/h07-066b/h07-066b-00.png  \n",
            "  inflating: /content/sentences/h07/h07-066b/h07-066b-01.png  \n",
            "  inflating: /content/sentences/h07/h07-066b/h07-066b-02.png  \n",
            "  inflating: /content/sentences/h07/h07-066b/h07-066b-03.png  \n",
            "  inflating: /content/sentences/h07/h07-066b/h07-066b-04.png  \n",
            "  inflating: /content/sentences/h07/h07-066b/h07-066b-05.png  \n",
            "  inflating: /content/sentences/h07/h07-066b/h07-066b-06.png  \n",
            " extracting: /content/sentences/h07/h07-066b/h07-066b-07.png  \n",
            "   creating: /content/sentences/h07/h07-069/\n",
            "  inflating: /content/sentences/h07/h07-069/h07-069-00.png  \n",
            "  inflating: /content/sentences/h07/h07-069/h07-069-01.png  \n",
            "  inflating: /content/sentences/h07/h07-069/h07-069-02.png  \n",
            "  inflating: /content/sentences/h07/h07-069/h07-069-03.png  \n",
            "  inflating: /content/sentences/h07/h07-069/h07-069-04.png  \n",
            "  inflating: /content/sentences/h07/h07-069/h07-069-05.png  \n",
            "  inflating: /content/sentences/h07/h07-069/h07-069-06.png  \n",
            " extracting: /content/sentences/h07/h07-069/h07-069-07.png  \n",
            "   creating: /content/sentences/h07/h07-069a/\n",
            "  inflating: /content/sentences/h07/h07-069a/h07-069a-00.png  \n",
            "  inflating: /content/sentences/h07/h07-069a/h07-069a-01.png  \n",
            "  inflating: /content/sentences/h07/h07-069a/h07-069a-02.png  \n",
            "  inflating: /content/sentences/h07/h07-069a/h07-069a-03.png  \n",
            "  inflating: /content/sentences/h07/h07-069a/h07-069a-04.png  \n",
            "  inflating: /content/sentences/h07/h07-069a/h07-069a-05.png  \n",
            "   creating: /content/sentences/h07/h07-071/\n",
            "  inflating: /content/sentences/h07/h07-071/h07-071-00.png  \n",
            "  inflating: /content/sentences/h07/h07-071/h07-071-01.png  \n",
            "  inflating: /content/sentences/h07/h07-071/h07-071-02.png  \n",
            "  inflating: /content/sentences/h07/h07-071/h07-071-03.png  \n",
            "  inflating: /content/sentences/h07/h07-071/h07-071-04.png  \n",
            "  inflating: /content/sentences/h07/h07-071/h07-071-05.png  \n",
            "  inflating: /content/sentences/h07/h07-071/h07-071-06.png  \n",
            "  inflating: /content/sentences/h07/h07-071/h07-071-07.png  \n",
            "  inflating: /content/sentences/h07/h07-071/h07-071-08.png  \n",
            "  inflating: /content/sentences/h07/h07-071/h07-071-09.png  \n",
            "   creating: /content/sentences/h07/h07-071a/\n",
            "  inflating: /content/sentences/h07/h07-071a/h07-071a-00.png  \n",
            "  inflating: /content/sentences/h07/h07-071a/h07-071a-01.png  \n",
            "  inflating: /content/sentences/h07/h07-071a/h07-071a-02.png  \n",
            "  inflating: /content/sentences/h07/h07-071a/h07-071a-03.png  \n",
            "  inflating: /content/sentences/h07/h07-071a/h07-071a-04.png  \n",
            "  inflating: /content/sentences/h07/h07-071a/h07-071a-05.png  \n",
            "  inflating: /content/sentences/h07/h07-071a/h07-071a-06.png  \n",
            "  inflating: /content/sentences/h07/h07-071a/h07-071a-07.png  \n",
            "  inflating: /content/sentences/h07/h07-071a/h07-071a-08.png  \n",
            "  inflating: /content/sentences/h07/h07-071a/h07-071a-09.png  \n",
            "   creating: /content/sentences/h07/h07-075/\n",
            "  inflating: /content/sentences/h07/h07-075/h07-075-00.png  \n",
            "  inflating: /content/sentences/h07/h07-075/h07-075-01.png  \n",
            "  inflating: /content/sentences/h07/h07-075/h07-075-02.png  \n",
            "  inflating: /content/sentences/h07/h07-075/h07-075-03.png  \n",
            "  inflating: /content/sentences/h07/h07-075/h07-075-04.png  \n",
            "  inflating: /content/sentences/h07/h07-075/h07-075-05.png  \n",
            "  inflating: /content/sentences/h07/h07-075/h07-075-06.png  \n",
            "  inflating: /content/sentences/h07/h07-075/h07-075-07.png  \n",
            "   creating: /content/sentences/h07/h07-075a/\n",
            "  inflating: /content/sentences/h07/h07-075a/h07-075a-00.png  \n",
            "  inflating: /content/sentences/h07/h07-075a/h07-075a-01.png  \n",
            "  inflating: /content/sentences/h07/h07-075a/h07-075a-02.png  \n",
            "  inflating: /content/sentences/h07/h07-075a/h07-075a-03.png  \n",
            "  inflating: /content/sentences/h07/h07-075a/h07-075a-04.png  \n",
            "  inflating: /content/sentences/h07/h07-075a/h07-075a-05.png  \n",
            "  inflating: /content/sentences/h07/h07-075a/h07-075a-06.png  \n",
            "  inflating: /content/sentences/h07/h07-075a/h07-075a-07.png  \n",
            "   creating: /content/sentences/h07/h07-078/\n",
            "  inflating: /content/sentences/h07/h07-078/h07-078-00.png  \n",
            "  inflating: /content/sentences/h07/h07-078/h07-078-01.png  \n",
            "  inflating: /content/sentences/h07/h07-078/h07-078-02.png  \n",
            "  inflating: /content/sentences/h07/h07-078/h07-078-03.png  \n",
            "  inflating: /content/sentences/h07/h07-078/h07-078-04.png  \n",
            "  inflating: /content/sentences/h07/h07-078/h07-078-05.png  \n",
            "  inflating: /content/sentences/h07/h07-078/h07-078-06.png  \n",
            "  inflating: /content/sentences/h07/h07-078/h07-078-07.png  \n",
            "  inflating: /content/sentences/h07/h07-078/h07-078-08.png  \n",
            "  inflating: /content/sentences/h07/h07-078/h07-078-09.png  \n",
            "   creating: /content/sentences/h07/h07-078a/\n",
            "  inflating: /content/sentences/h07/h07-078a/h07-078a-00.png  \n",
            "  inflating: /content/sentences/h07/h07-078a/h07-078a-01.png  \n",
            "  inflating: /content/sentences/h07/h07-078a/h07-078a-02.png  \n",
            "  inflating: /content/sentences/h07/h07-078a/h07-078a-03.png  \n",
            "  inflating: /content/sentences/h07/h07-078a/h07-078a-04.png  \n",
            "  inflating: /content/sentences/h07/h07-078a/h07-078a-05.png  \n",
            "  inflating: /content/sentences/h07/h07-078a/h07-078a-06.png  \n",
            "  inflating: /content/sentences/h07/h07-078a/h07-078a-07.png  \n",
            "  inflating: /content/sentences/h07/h07-078a/h07-078a-08.png  \n",
            "   creating: /content/sentences/h07/h07-080/\n",
            "  inflating: /content/sentences/h07/h07-080/h07-080-00.png  \n",
            "  inflating: /content/sentences/h07/h07-080/h07-080-01.png  \n",
            "  inflating: /content/sentences/h07/h07-080/h07-080-02.png  \n",
            "  inflating: /content/sentences/h07/h07-080/h07-080-03.png  \n",
            "  inflating: /content/sentences/h07/h07-080/h07-080-04.png  \n",
            "  inflating: /content/sentences/h07/h07-080/h07-080-05.png  \n",
            "  inflating: /content/sentences/h07/h07-080/h07-080-06.png  \n",
            "  inflating: /content/sentences/h07/h07-080/h07-080-07.png  \n",
            "  inflating: /content/sentences/h07/h07-080/h07-080-08.png  \n",
            "  inflating: /content/sentences/h07/h07-080/h07-080-09.png  \n",
            "   creating: /content/sentences/h07/h07-080a/\n",
            "  inflating: /content/sentences/h07/h07-080a/h07-080a-00.png  \n",
            "  inflating: /content/sentences/h07/h07-080a/h07-080a-01.png  \n",
            "  inflating: /content/sentences/h07/h07-080a/h07-080a-02.png  \n",
            "  inflating: /content/sentences/h07/h07-080a/h07-080a-03.png  \n",
            "  inflating: /content/sentences/h07/h07-080a/h07-080a-04.png  \n",
            "  inflating: /content/sentences/h07/h07-080a/h07-080a-05.png  \n",
            "  inflating: /content/sentences/h07/h07-080a/h07-080a-06.png  \n",
            "  inflating: /content/sentences/h07/h07-080a/h07-080a-07.png  \n",
            "  inflating: /content/sentences/h07/h07-080a/h07-080a-08.png  \n",
            "  inflating: /content/sentences/h07/h07-080a/h07-080a-09.png  \n",
            "   creating: /content/sentences/h07/h07-084/\n",
            "  inflating: /content/sentences/h07/h07-084/h07-084-00.png  \n",
            "  inflating: /content/sentences/h07/h07-084/h07-084-01.png  \n",
            "  inflating: /content/sentences/h07/h07-084/h07-084-02.png  \n",
            "  inflating: /content/sentences/h07/h07-084/h07-084-03.png  \n",
            "  inflating: /content/sentences/h07/h07-084/h07-084-04.png  \n",
            "  inflating: /content/sentences/h07/h07-084/h07-084-05.png  \n",
            "  inflating: /content/sentences/h07/h07-084/h07-084-06.png  \n",
            "  inflating: /content/sentences/h07/h07-084/h07-084-07.png  \n",
            "  inflating: /content/sentences/h07/h07-084/h07-084-08.png  \n",
            "  inflating: /content/sentences/h07/h07-084/h07-084-09.png  \n",
            "   creating: /content/sentences/h07/h07-087/\n",
            "  inflating: /content/sentences/h07/h07-087/h07-087-00.png  \n",
            "  inflating: /content/sentences/h07/h07-087/h07-087-01.png  \n",
            " extracting: /content/sentences/h07/h07-087/h07-087-02.png  \n",
            "   creating: /content/sentences/j01/\n",
            "   creating: /content/sentences/j01/j01-042/\n",
            "  inflating: /content/sentences/j01/j01-042/j01-042-00.png  \n",
            "  inflating: /content/sentences/j01/j01-042/j01-042-01.png  \n",
            "  inflating: /content/sentences/j01/j01-042/j01-042-02.png  \n",
            "  inflating: /content/sentences/j01/j01-042/j01-042-03.png  \n",
            "  inflating: /content/sentences/j01/j01-042/j01-042-04.png  \n",
            "  inflating: /content/sentences/j01/j01-042/j01-042-05.png  \n",
            "  inflating: /content/sentences/j01/j01-042/j01-042-06.png  \n",
            "  inflating: /content/sentences/j01/j01-042/j01-042-07.png  \n",
            "  inflating: /content/sentences/j01/j01-042/j01-042-08.png  \n",
            "  inflating: /content/sentences/j01/j01-042/j01-042-09.png  \n",
            "   creating: /content/sentences/j01/j01-045/\n",
            "  inflating: /content/sentences/j01/j01-045/j01-045-00.png  \n",
            "  inflating: /content/sentences/j01/j01-045/j01-045-01.png  \n",
            "  inflating: /content/sentences/j01/j01-045/j01-045-02.png  \n",
            "  inflating: /content/sentences/j01/j01-045/j01-045-03.png  \n",
            "  inflating: /content/sentences/j01/j01-045/j01-045-04.png  \n",
            "  inflating: /content/sentences/j01/j01-045/j01-045-05.png  \n",
            "  inflating: /content/sentences/j01/j01-045/j01-045-06.png  \n",
            "  inflating: /content/sentences/j01/j01-045/j01-045-07.png  \n",
            "  inflating: /content/sentences/j01/j01-045/j01-045-08.png  \n",
            "  inflating: /content/sentences/j01/j01-045/j01-045-09.png  \n",
            "   creating: /content/sentences/j01/j01-049/\n",
            "  inflating: /content/sentences/j01/j01-049/j01-049-00.png  \n",
            "  inflating: /content/sentences/j01/j01-049/j01-049-01.png  \n",
            "  inflating: /content/sentences/j01/j01-049/j01-049-02.png  \n",
            "  inflating: /content/sentences/j01/j01-049/j01-049-03.png  \n",
            "  inflating: /content/sentences/j01/j01-049/j01-049-04.png  \n",
            "  inflating: /content/sentences/j01/j01-049/j01-049-05.png  \n",
            "  inflating: /content/sentences/j01/j01-049/j01-049-06.png  \n",
            "  inflating: /content/sentences/j01/j01-049/j01-049-07.png  \n",
            "   creating: /content/sentences/j01/j01-059/\n",
            "  inflating: /content/sentences/j01/j01-059/j01-059-00.png  \n",
            "  inflating: /content/sentences/j01/j01-059/j01-059-01.png  \n",
            "  inflating: /content/sentences/j01/j01-059/j01-059-02.png  \n",
            "  inflating: /content/sentences/j01/j01-059/j01-059-03.png  \n",
            "  inflating: /content/sentences/j01/j01-059/j01-059-04.png  \n",
            "  inflating: /content/sentences/j01/j01-059/j01-059-05.png  \n",
            "  inflating: /content/sentences/j01/j01-059/j01-059-06.png  \n",
            "  inflating: /content/sentences/j01/j01-059/j01-059-07.png  \n",
            "  inflating: /content/sentences/j01/j01-059/j01-059-08.png  \n",
            "  inflating: /content/sentences/j01/j01-059/j01-059-09.png  \n",
            "  inflating: /content/sentences/j01/j01-059/j01-059-10.png  \n",
            "   creating: /content/sentences/j01/j01-063/\n",
            "  inflating: /content/sentences/j01/j01-063/j01-063-00.png  \n",
            "  inflating: /content/sentences/j01/j01-063/j01-063-01.png  \n",
            "  inflating: /content/sentences/j01/j01-063/j01-063-02.png  \n",
            "  inflating: /content/sentences/j01/j01-063/j01-063-03.png  \n",
            "  inflating: /content/sentences/j01/j01-063/j01-063-04.png  \n",
            "  inflating: /content/sentences/j01/j01-063/j01-063-05.png  \n",
            "  inflating: /content/sentences/j01/j01-063/j01-063-06.png  \n",
            "  inflating: /content/sentences/j01/j01-063/j01-063-07.png  \n",
            "   creating: /content/sentences/j01/j01-066/\n",
            "  inflating: /content/sentences/j01/j01-066/j01-066-00.png  \n",
            "  inflating: /content/sentences/j01/j01-066/j01-066-01.png  \n",
            "  inflating: /content/sentences/j01/j01-066/j01-066-02.png  \n",
            "  inflating: /content/sentences/j01/j01-066/j01-066-03.png  \n",
            "  inflating: /content/sentences/j01/j01-066/j01-066-04.png  \n",
            "  inflating: /content/sentences/j01/j01-066/j01-066-05.png  \n",
            "  inflating: /content/sentences/j01/j01-066/j01-066-06.png  \n",
            "  inflating: /content/sentences/j01/j01-066/j01-066-07.png  \n",
            "  inflating: /content/sentences/j01/j01-066/j01-066-08.png  \n",
            "  inflating: /content/sentences/j01/j01-066/j01-066-09.png  \n",
            "  inflating: /content/sentences/j01/j01-066/j01-066-10.png  \n",
            "  inflating: /content/sentences/j01/j01-066/j01-066-11.png  \n",
            "   creating: /content/sentences/j01/j01-070/\n",
            "  inflating: /content/sentences/j01/j01-070/j01-070-00.png  \n",
            "  inflating: /content/sentences/j01/j01-070/j01-070-01.png  \n",
            "  inflating: /content/sentences/j01/j01-070/j01-070-02.png  \n",
            "  inflating: /content/sentences/j01/j01-070/j01-070-03.png  \n",
            "  inflating: /content/sentences/j01/j01-070/j01-070-04.png  \n",
            "  inflating: /content/sentences/j01/j01-070/j01-070-05.png  \n",
            "  inflating: /content/sentences/j01/j01-070/j01-070-06.png  \n",
            "   creating: /content/sentences/j04/\n",
            "   creating: /content/sentences/j04/j04-008/\n",
            "  inflating: /content/sentences/j04/j04-008/j04-008-00.png  \n",
            "  inflating: /content/sentences/j04/j04-008/j04-008-01.png  \n",
            "  inflating: /content/sentences/j04/j04-008/j04-008-02.png  \n",
            "  inflating: /content/sentences/j04/j04-008/j04-008-03.png  \n",
            "  inflating: /content/sentences/j04/j04-008/j04-008-04.png  \n",
            "  inflating: /content/sentences/j04/j04-008/j04-008-05.png  \n",
            "  inflating: /content/sentences/j04/j04-008/j04-008-06.png  \n",
            "  inflating: /content/sentences/j04/j04-008/j04-008-07.png  \n",
            "  inflating: /content/sentences/j04/j04-008/j04-008-08.png  \n",
            "   creating: /content/sentences/j04/j04-012/\n",
            "  inflating: /content/sentences/j04/j04-012/j04-012-00.png  \n",
            "  inflating: /content/sentences/j04/j04-012/j04-012-01.png  \n",
            "  inflating: /content/sentences/j04/j04-012/j04-012-02.png  \n",
            "  inflating: /content/sentences/j04/j04-012/j04-012-03.png  \n",
            "  inflating: /content/sentences/j04/j04-012/j04-012-04.png  \n",
            "  inflating: /content/sentences/j04/j04-012/j04-012-05.png  \n",
            "  inflating: /content/sentences/j04/j04-012/j04-012-06.png  \n",
            "  inflating: /content/sentences/j04/j04-012/j04-012-07.png  \n",
            "  inflating: /content/sentences/j04/j04-012/j04-012-08.png  \n",
            "  inflating: /content/sentences/j04/j04-012/j04-012-09.png  \n",
            "   creating: /content/sentences/j04/j04-015/\n",
            "  inflating: /content/sentences/j04/j04-015/j04-015-00.png  \n",
            "  inflating: /content/sentences/j04/j04-015/j04-015-01.png  \n",
            "  inflating: /content/sentences/j04/j04-015/j04-015-02.png  \n",
            "  inflating: /content/sentences/j04/j04-015/j04-015-03.png  \n",
            "  inflating: /content/sentences/j04/j04-015/j04-015-04.png  \n",
            "  inflating: /content/sentences/j04/j04-015/j04-015-05.png  \n",
            "  inflating: /content/sentences/j04/j04-015/j04-015-06.png  \n",
            "  inflating: /content/sentences/j04/j04-015/j04-015-07.png  \n",
            "  inflating: /content/sentences/j04/j04-015/j04-015-08.png  \n",
            "   creating: /content/sentences/j04/j04-019/\n",
            "  inflating: /content/sentences/j04/j04-019/j04-019-00.png  \n",
            "  inflating: /content/sentences/j04/j04-019/j04-019-01.png  \n",
            "  inflating: /content/sentences/j04/j04-019/j04-019-02.png  \n",
            "  inflating: /content/sentences/j04/j04-019/j04-019-03.png  \n",
            "  inflating: /content/sentences/j04/j04-019/j04-019-04.png  \n",
            "  inflating: /content/sentences/j04/j04-019/j04-019-05.png  \n",
            "  inflating: /content/sentences/j04/j04-019/j04-019-06.png  \n",
            "  inflating: /content/sentences/j04/j04-019/j04-019-07.png  \n",
            "  inflating: /content/sentences/j04/j04-019/j04-019-08.png  \n",
            "  inflating: /content/sentences/j04/j04-019/j04-019-09.png  \n",
            "  inflating: /content/sentences/j04/j04-019/j04-019-10.png  \n",
            "   creating: /content/sentences/j04/j04-024/\n",
            "  inflating: /content/sentences/j04/j04-024/j04-024-00.png  \n",
            "  inflating: /content/sentences/j04/j04-024/j04-024-01.png  \n",
            "  inflating: /content/sentences/j04/j04-024/j04-024-02.png  \n",
            "  inflating: /content/sentences/j04/j04-024/j04-024-03.png  \n",
            "  inflating: /content/sentences/j04/j04-024/j04-024-04.png  \n",
            "  inflating: /content/sentences/j04/j04-024/j04-024-05.png  \n",
            "  inflating: /content/sentences/j04/j04-024/j04-024-06.png  \n",
            "  inflating: /content/sentences/j04/j04-024/j04-024-07.png  \n",
            "  inflating: /content/sentences/j04/j04-024/j04-024-08.png  \n",
            "  inflating: /content/sentences/j04/j04-024/j04-024-09.png  \n",
            "   creating: /content/sentences/j04/j04-035/\n",
            "  inflating: /content/sentences/j04/j04-035/j04-035-00.png  \n",
            "  inflating: /content/sentences/j04/j04-035/j04-035-01.png  \n",
            "  inflating: /content/sentences/j04/j04-035/j04-035-02.png  \n",
            "  inflating: /content/sentences/j04/j04-035/j04-035-03.png  \n",
            "  inflating: /content/sentences/j04/j04-035/j04-035-04.png  \n",
            "  inflating: /content/sentences/j04/j04-035/j04-035-05.png  \n",
            "  inflating: /content/sentences/j04/j04-035/j04-035-06.png  \n",
            "  inflating: /content/sentences/j04/j04-035/j04-035-07.png  \n",
            "  inflating: /content/sentences/j04/j04-035/j04-035-08.png  \n",
            "  inflating: /content/sentences/j04/j04-035/j04-035-09.png  \n",
            "   creating: /content/sentences/j04/j04-039/\n",
            "  inflating: /content/sentences/j04/j04-039/j04-039-00.png  \n",
            "  inflating: /content/sentences/j04/j04-039/j04-039-01.png  \n",
            "  inflating: /content/sentences/j04/j04-039/j04-039-02.png  \n",
            "  inflating: /content/sentences/j04/j04-039/j04-039-03.png  \n",
            "  inflating: /content/sentences/j04/j04-039/j04-039-04.png  \n",
            "  inflating: /content/sentences/j04/j04-039/j04-039-05.png  \n",
            "  inflating: /content/sentences/j04/j04-039/j04-039-06.png  \n",
            "  inflating: /content/sentences/j04/j04-039/j04-039-07.png  \n",
            "  inflating: /content/sentences/j04/j04-039/j04-039-08.png  \n",
            "   creating: /content/sentences/j04/j04-046/\n",
            "  inflating: /content/sentences/j04/j04-046/j04-046-00.png  \n",
            "  inflating: /content/sentences/j04/j04-046/j04-046-01.png  \n",
            "  inflating: /content/sentences/j04/j04-046/j04-046-02.png  \n",
            "  inflating: /content/sentences/j04/j04-046/j04-046-03.png  \n",
            "  inflating: /content/sentences/j04/j04-046/j04-046-04.png  \n",
            "  inflating: /content/sentences/j04/j04-046/j04-046-05.png  \n",
            "  inflating: /content/sentences/j04/j04-046/j04-046-06.png  \n",
            "  inflating: /content/sentences/j04/j04-046/j04-046-07.png  \n",
            "  inflating: /content/sentences/j04/j04-046/j04-046-08.png  \n",
            "  inflating: /content/sentences/j04/j04-046/j04-046-09.png  \n",
            "  inflating: /content/sentences/j04/j04-046/j04-046-10.png  \n",
            "   creating: /content/sentences/j04/j04-053/\n",
            "  inflating: /content/sentences/j04/j04-053/j04-053-00.png  \n",
            "  inflating: /content/sentences/j04/j04-053/j04-053-01.png  \n",
            "  inflating: /content/sentences/j04/j04-053/j04-053-02.png  \n",
            "  inflating: /content/sentences/j04/j04-053/j04-053-03.png  \n",
            "  inflating: /content/sentences/j04/j04-053/j04-053-04.png  \n",
            "  inflating: /content/sentences/j04/j04-053/j04-053-05.png  \n",
            "  inflating: /content/sentences/j04/j04-053/j04-053-06.png  \n",
            "   creating: /content/sentences/j04/j04-061/\n",
            "  inflating: /content/sentences/j04/j04-061/j04-061-00.png  \n",
            "  inflating: /content/sentences/j04/j04-061/j04-061-01.png  \n",
            "  inflating: /content/sentences/j04/j04-061/j04-061-02.png  \n",
            "  inflating: /content/sentences/j04/j04-061/j04-061-03.png  \n",
            "  inflating: /content/sentences/j04/j04-061/j04-061-04.png  \n",
            "  inflating: /content/sentences/j04/j04-061/j04-061-05.png  \n",
            " extracting: /content/sentences/j04/j04-061/j04-061-06.png  \n",
            "   creating: /content/sentences/j04/j04-065/\n",
            "  inflating: /content/sentences/j04/j04-065/j04-065-00.png  \n",
            "  inflating: /content/sentences/j04/j04-065/j04-065-01.png  \n",
            "  inflating: /content/sentences/j04/j04-065/j04-065-02.png  \n",
            "  inflating: /content/sentences/j04/j04-065/j04-065-03.png  \n",
            "  inflating: /content/sentences/j04/j04-065/j04-065-04.png  \n",
            "  inflating: /content/sentences/j04/j04-065/j04-065-05.png  \n",
            "  inflating: /content/sentences/j04/j04-065/j04-065-06.png  \n",
            "  inflating: /content/sentences/j04/j04-065/j04-065-07.png  \n",
            " extracting: /content/sentences/j04/j04-065/j04-065-08.png  \n",
            "   creating: /content/sentences/j04/j04-070/\n",
            "  inflating: /content/sentences/j04/j04-070/j04-070-00.png  \n",
            "  inflating: /content/sentences/j04/j04-070/j04-070-01.png  \n",
            "  inflating: /content/sentences/j04/j04-070/j04-070-02.png  \n",
            "  inflating: /content/sentences/j04/j04-070/j04-070-03.png  \n",
            "  inflating: /content/sentences/j04/j04-070/j04-070-04.png  \n",
            "  inflating: /content/sentences/j04/j04-070/j04-070-05.png  \n",
            "  inflating: /content/sentences/j04/j04-070/j04-070-06.png  \n",
            "  inflating: /content/sentences/j04/j04-070/j04-070-07.png  \n",
            "  inflating: /content/sentences/j04/j04-070/j04-070-08.png  \n",
            "  inflating: /content/sentences/j04/j04-070/j04-070-09.png  \n",
            "  inflating: /content/sentences/j04/j04-070/j04-070-10.png  \n",
            "   creating: /content/sentences/j04/j04-076/\n",
            "  inflating: /content/sentences/j04/j04-076/j04-076-00.png  \n",
            "  inflating: /content/sentences/j04/j04-076/j04-076-01.png  \n",
            "  inflating: /content/sentences/j04/j04-076/j04-076-02.png  \n",
            "  inflating: /content/sentences/j04/j04-076/j04-076-03.png  \n",
            "  inflating: /content/sentences/j04/j04-076/j04-076-04.png  \n",
            "  inflating: /content/sentences/j04/j04-076/j04-076-05.png  \n",
            "   creating: /content/sentences/j04/j04-080/\n",
            "  inflating: /content/sentences/j04/j04-080/j04-080-00.png  \n",
            "  inflating: /content/sentences/j04/j04-080/j04-080-01.png  \n",
            "  inflating: /content/sentences/j04/j04-080/j04-080-02.png  \n",
            "  inflating: /content/sentences/j04/j04-080/j04-080-03.png  \n",
            "  inflating: /content/sentences/j04/j04-080/j04-080-04.png  \n",
            "  inflating: /content/sentences/j04/j04-080/j04-080-05.png  \n",
            "  inflating: /content/sentences/j04/j04-080/j04-080-06.png  \n",
            "  inflating: /content/sentences/j04/j04-080/j04-080-07.png  \n",
            " extracting: /content/sentences/j04/j04-080/j04-080-08.png  \n",
            "   creating: /content/sentences/j04/j04-094/\n",
            "  inflating: /content/sentences/j04/j04-094/j04-094-00.png  \n",
            "  inflating: /content/sentences/j04/j04-094/j04-094-01.png  \n",
            "  inflating: /content/sentences/j04/j04-094/j04-094-02.png  \n",
            "  inflating: /content/sentences/j04/j04-094/j04-094-03.png  \n",
            "  inflating: /content/sentences/j04/j04-094/j04-094-04.png  \n",
            "  inflating: /content/sentences/j04/j04-094/j04-094-05.png  \n",
            "  inflating: /content/sentences/j04/j04-094/j04-094-06.png  \n",
            "  inflating: /content/sentences/j04/j04-094/j04-094-07.png  \n",
            " extracting: /content/sentences/j04/j04-094/j04-094-08.png  \n",
            "   creating: /content/sentences/j04/j04-098/\n",
            "  inflating: /content/sentences/j04/j04-098/j04-098-00.png  \n",
            "  inflating: /content/sentences/j04/j04-098/j04-098-01.png  \n",
            "  inflating: /content/sentences/j04/j04-098/j04-098-02.png  \n",
            "  inflating: /content/sentences/j04/j04-098/j04-098-03.png  \n",
            "  inflating: /content/sentences/j04/j04-098/j04-098-04.png  \n",
            "  inflating: /content/sentences/j04/j04-098/j04-098-05.png  \n",
            "  inflating: /content/sentences/j04/j04-098/j04-098-06.png  \n",
            "  inflating: /content/sentences/j04/j04-098/j04-098-07.png  \n",
            "  inflating: /content/sentences/j04/j04-098/j04-098-08.png  \n",
            "  inflating: /content/sentences/j04/j04-098/j04-098-09.png  \n",
            "  inflating: /content/sentences/j04/j04-098/j04-098-10.png  \n",
            "   creating: /content/sentences/j04/j04-103/\n",
            "  inflating: /content/sentences/j04/j04-103/j04-103-00.png  \n",
            "  inflating: /content/sentences/j04/j04-103/j04-103-01.png  \n",
            "  inflating: /content/sentences/j04/j04-103/j04-103-02.png  \n",
            "  inflating: /content/sentences/j04/j04-103/j04-103-03.png  \n",
            "  inflating: /content/sentences/j04/j04-103/j04-103-04.png  \n",
            "  inflating: /content/sentences/j04/j04-103/j04-103-05.png  \n",
            "  inflating: /content/sentences/j04/j04-103/j04-103-06.png  \n",
            "   creating: /content/sentences/j04/j04-111/\n",
            "  inflating: /content/sentences/j04/j04-111/j04-111-00.png  \n",
            "  inflating: /content/sentences/j04/j04-111/j04-111-01.png  \n",
            "  inflating: /content/sentences/j04/j04-111/j04-111-02.png  \n",
            "  inflating: /content/sentences/j04/j04-111/j04-111-03.png  \n",
            "  inflating: /content/sentences/j04/j04-111/j04-111-04.png  \n",
            "  inflating: /content/sentences/j04/j04-111/j04-111-05.png  \n",
            "  inflating: /content/sentences/j04/j04-111/j04-111-06.png  \n",
            "  inflating: /content/sentences/j04/j04-111/j04-111-07.png  \n",
            "  inflating: /content/sentences/j04/j04-111/j04-111-08.png  \n",
            "  inflating: /content/sentences/j04/j04-111/j04-111-09.png  \n",
            "   creating: /content/sentences/j04/j04-115/\n",
            "  inflating: /content/sentences/j04/j04-115/j04-115-00.png  \n",
            "  inflating: /content/sentences/j04/j04-115/j04-115-01.png  \n",
            "  inflating: /content/sentences/j04/j04-115/j04-115-02.png  \n",
            "  inflating: /content/sentences/j04/j04-115/j04-115-03.png  \n",
            "  inflating: /content/sentences/j04/j04-115/j04-115-04.png  \n",
            "  inflating: /content/sentences/j04/j04-115/j04-115-05.png  \n",
            "  inflating: /content/sentences/j04/j04-115/j04-115-06.png  \n",
            "  inflating: /content/sentences/j04/j04-115/j04-115-07.png  \n",
            "   creating: /content/sentences/j06/\n",
            "   creating: /content/sentences/j06/j06-000/\n",
            "  inflating: /content/sentences/j06/j06-000/j06-000-00.png  \n",
            "  inflating: /content/sentences/j06/j06-000/j06-000-01.png  \n",
            "  inflating: /content/sentences/j06/j06-000/j06-000-02.png  \n",
            "  inflating: /content/sentences/j06/j06-000/j06-000-03.png  \n",
            "  inflating: /content/sentences/j06/j06-000/j06-000-04.png  \n",
            "  inflating: /content/sentences/j06/j06-000/j06-000-05.png  \n",
            "  inflating: /content/sentences/j06/j06-000/j06-000-06.png  \n",
            "  inflating: /content/sentences/j06/j06-000/j06-000-07.png  \n",
            "  inflating: /content/sentences/j06/j06-000/j06-000-08.png  \n",
            "  inflating: /content/sentences/j06/j06-000/j06-000-09.png  \n",
            "  inflating: /content/sentences/j06/j06-000/j06-000-10.png  \n",
            "   creating: /content/sentences/j06/j06-005/\n",
            "  inflating: /content/sentences/j06/j06-005/j06-005-00.png  \n",
            "  inflating: /content/sentences/j06/j06-005/j06-005-01.png  \n",
            "  inflating: /content/sentences/j06/j06-005/j06-005-02.png  \n",
            "  inflating: /content/sentences/j06/j06-005/j06-005-03.png  \n",
            "  inflating: /content/sentences/j06/j06-005/j06-005-04.png  \n",
            "  inflating: /content/sentences/j06/j06-005/j06-005-05.png  \n",
            "  inflating: /content/sentences/j06/j06-005/j06-005-06.png  \n",
            "  inflating: /content/sentences/j06/j06-005/j06-005-07.png  \n",
            "  inflating: /content/sentences/j06/j06-005/j06-005-08.png  \n",
            "  inflating: /content/sentences/j06/j06-005/j06-005-09.png  \n",
            "   creating: /content/sentences/j06/j06-008/\n",
            "  inflating: /content/sentences/j06/j06-008/j06-008-00.png  \n",
            "  inflating: /content/sentences/j06/j06-008/j06-008-01.png  \n",
            "  inflating: /content/sentences/j06/j06-008/j06-008-02.png  \n",
            "  inflating: /content/sentences/j06/j06-008/j06-008-03.png  \n",
            "  inflating: /content/sentences/j06/j06-008/j06-008-04.png  \n",
            "  inflating: /content/sentences/j06/j06-008/j06-008-05.png  \n",
            "  inflating: /content/sentences/j06/j06-008/j06-008-06.png  \n",
            "  inflating: /content/sentences/j06/j06-008/j06-008-07.png  \n",
            "  inflating: /content/sentences/j06/j06-008/j06-008-08.png  \n",
            "  inflating: /content/sentences/j06/j06-008/j06-008-09.png  \n",
            "  inflating: /content/sentences/j06/j06-008/j06-008-10.png  \n",
            "   creating: /content/sentences/j06/j06-014/\n",
            "  inflating: /content/sentences/j06/j06-014/j06-014-00.png  \n",
            "  inflating: /content/sentences/j06/j06-014/j06-014-01.png  \n",
            "  inflating: /content/sentences/j06/j06-014/j06-014-02.png  \n",
            "  inflating: /content/sentences/j06/j06-014/j06-014-03.png  \n",
            "  inflating: /content/sentences/j06/j06-014/j06-014-04.png  \n",
            "  inflating: /content/sentences/j06/j06-014/j06-014-05.png  \n",
            "  inflating: /content/sentences/j06/j06-014/j06-014-06.png  \n",
            "  inflating: /content/sentences/j06/j06-014/j06-014-07.png  \n",
            "  inflating: /content/sentences/j06/j06-014/j06-014-08.png  \n",
            "  inflating: /content/sentences/j06/j06-014/j06-014-09.png  \n",
            "  inflating: /content/sentences/j06/j06-014/j06-014-10.png  \n",
            "  inflating: /content/sentences/j06/j06-014/j06-014-11.png  \n",
            "   creating: /content/sentences/j06/j06-018/\n",
            "  inflating: /content/sentences/j06/j06-018/j06-018-00.png  \n",
            "  inflating: /content/sentences/j06/j06-018/j06-018-01.png  \n",
            "  inflating: /content/sentences/j06/j06-018/j06-018-02.png  \n",
            "  inflating: /content/sentences/j06/j06-018/j06-018-03.png  \n",
            "  inflating: /content/sentences/j06/j06-018/j06-018-04.png  \n",
            "  inflating: /content/sentences/j06/j06-018/j06-018-05.png  \n",
            "  inflating: /content/sentences/j06/j06-018/j06-018-06.png  \n",
            "  inflating: /content/sentences/j06/j06-018/j06-018-07.png  \n",
            "  inflating: /content/sentences/j06/j06-018/j06-018-08.png  \n",
            "  inflating: /content/sentences/j06/j06-018/j06-018-09.png  \n",
            "  inflating: /content/sentences/j06/j06-018/j06-018-10.png  \n",
            "   creating: /content/sentences/j06/j06-022/\n",
            "  inflating: /content/sentences/j06/j06-022/j06-022-00.png  \n",
            "  inflating: /content/sentences/j06/j06-022/j06-022-01.png  \n",
            "  inflating: /content/sentences/j06/j06-022/j06-022-02.png  \n",
            "  inflating: /content/sentences/j06/j06-022/j06-022-03.png  \n",
            "  inflating: /content/sentences/j06/j06-022/j06-022-04.png  \n",
            "  inflating: /content/sentences/j06/j06-022/j06-022-05.png  \n",
            "  inflating: /content/sentences/j06/j06-022/j06-022-06.png  \n",
            "  inflating: /content/sentences/j06/j06-022/j06-022-07.png  \n",
            "  inflating: /content/sentences/j06/j06-022/j06-022-08.png  \n",
            "  inflating: /content/sentences/j06/j06-022/j06-022-09.png  \n",
            "  inflating: /content/sentences/j06/j06-022/j06-022-10.png  \n",
            "   creating: /content/sentences/j06/j06-026/\n",
            "  inflating: /content/sentences/j06/j06-026/j06-026-00.png  \n",
            "  inflating: /content/sentences/j06/j06-026/j06-026-01.png  \n",
            "  inflating: /content/sentences/j06/j06-026/j06-026-02.png  \n",
            "  inflating: /content/sentences/j06/j06-026/j06-026-03.png  \n",
            "  inflating: /content/sentences/j06/j06-026/j06-026-04.png  \n",
            "  inflating: /content/sentences/j06/j06-026/j06-026-05.png  \n",
            "  inflating: /content/sentences/j06/j06-026/j06-026-06.png  \n",
            "  inflating: /content/sentences/j06/j06-026/j06-026-07.png  \n",
            "  inflating: /content/sentences/j06/j06-026/j06-026-08.png  \n",
            "  inflating: /content/sentences/j06/j06-026/j06-026-09.png  \n",
            "   creating: /content/sentences/j06/j06-030/\n",
            "  inflating: /content/sentences/j06/j06-030/j06-030-00.png  \n",
            "  inflating: /content/sentences/j06/j06-030/j06-030-01.png  \n",
            "  inflating: /content/sentences/j06/j06-030/j06-030-02.png  \n",
            "  inflating: /content/sentences/j06/j06-030/j06-030-03.png  \n",
            "  inflating: /content/sentences/j06/j06-030/j06-030-04.png  \n",
            "  inflating: /content/sentences/j06/j06-030/j06-030-05.png  \n",
            "  inflating: /content/sentences/j06/j06-030/j06-030-06.png  \n",
            "  inflating: /content/sentences/j06/j06-030/j06-030-07.png  \n",
            "  inflating: /content/sentences/j06/j06-030/j06-030-08.png  \n",
            "  inflating: /content/sentences/j06/j06-030/j06-030-09.png  \n",
            "  inflating: /content/sentences/j06/j06-030/j06-030-10.png  \n",
            "   creating: /content/sentences/j06/j06-034/\n",
            "  inflating: /content/sentences/j06/j06-034/j06-034-00.png  \n",
            "  inflating: /content/sentences/j06/j06-034/j06-034-01.png  \n",
            "  inflating: /content/sentences/j06/j06-034/j06-034-02.png  \n",
            "  inflating: /content/sentences/j06/j06-034/j06-034-03.png  \n",
            "  inflating: /content/sentences/j06/j06-034/j06-034-04.png  \n",
            "  inflating: /content/sentences/j06/j06-034/j06-034-05.png  \n",
            "  inflating: /content/sentences/j06/j06-034/j06-034-06.png  \n",
            "  inflating: /content/sentences/j06/j06-034/j06-034-07.png  \n",
            "  inflating: /content/sentences/j06/j06-034/j06-034-08.png  \n",
            "  inflating: /content/sentences/j06/j06-034/j06-034-09.png  \n",
            "  inflating: /content/sentences/j06/j06-034/j06-034-10.png  \n",
            "   creating: /content/sentences/j06/j06-051/\n",
            "  inflating: /content/sentences/j06/j06-051/j06-051-00.png  \n",
            "  inflating: /content/sentences/j06/j06-051/j06-051-01.png  \n",
            "  inflating: /content/sentences/j06/j06-051/j06-051-02.png  \n",
            "  inflating: /content/sentences/j06/j06-051/j06-051-03.png  \n",
            "  inflating: /content/sentences/j06/j06-051/j06-051-04.png  \n",
            "  inflating: /content/sentences/j06/j06-051/j06-051-05.png  \n",
            "  inflating: /content/sentences/j06/j06-051/j06-051-06.png  \n",
            "  inflating: /content/sentences/j06/j06-051/j06-051-07.png  \n",
            "  inflating: /content/sentences/j06/j06-051/j06-051-08.png  \n",
            "  inflating: /content/sentences/j06/j06-051/j06-051-09.png  \n",
            "  inflating: /content/sentences/j06/j06-051/j06-051-10.png  \n",
            "   creating: /content/sentences/j06/j06-056/\n",
            "  inflating: /content/sentences/j06/j06-056/j06-056-00.png  \n",
            "  inflating: /content/sentences/j06/j06-056/j06-056-01.png  \n",
            "  inflating: /content/sentences/j06/j06-056/j06-056-02.png  \n",
            "  inflating: /content/sentences/j06/j06-056/j06-056-03.png  \n",
            "  inflating: /content/sentences/j06/j06-056/j06-056-04.png  \n",
            "  inflating: /content/sentences/j06/j06-056/j06-056-05.png  \n",
            "  inflating: /content/sentences/j06/j06-056/j06-056-06.png  \n",
            "  inflating: /content/sentences/j06/j06-056/j06-056-07.png  \n",
            "  inflating: /content/sentences/j06/j06-056/j06-056-08.png  \n",
            "  inflating: /content/sentences/j06/j06-056/j06-056-09.png  \n",
            "  inflating: /content/sentences/j06/j06-056/j06-056-10.png  \n",
            "   creating: /content/sentences/j07/\n",
            "   creating: /content/sentences/j07/j07-000/\n",
            "  inflating: /content/sentences/j07/j07-000/j07-000-00.png  \n",
            "  inflating: /content/sentences/j07/j07-000/j07-000-01.png  \n",
            "  inflating: /content/sentences/j07/j07-000/j07-000-02.png  \n",
            "  inflating: /content/sentences/j07/j07-000/j07-000-03.png  \n",
            "  inflating: /content/sentences/j07/j07-000/j07-000-04.png  \n",
            "  inflating: /content/sentences/j07/j07-000/j07-000-05.png  \n",
            "  inflating: /content/sentences/j07/j07-000/j07-000-06.png  \n",
            "  inflating: /content/sentences/j07/j07-000/j07-000-07.png  \n",
            "   creating: /content/sentences/j07/j07-005/\n",
            "  inflating: /content/sentences/j07/j07-005/j07-005-00.png  \n",
            "  inflating: /content/sentences/j07/j07-005/j07-005-01.png  \n",
            "  inflating: /content/sentences/j07/j07-005/j07-005-02.png  \n",
            "  inflating: /content/sentences/j07/j07-005/j07-005-03.png  \n",
            "  inflating: /content/sentences/j07/j07-005/j07-005-04.png  \n",
            "  inflating: /content/sentences/j07/j07-005/j07-005-05.png  \n",
            "  inflating: /content/sentences/j07/j07-005/j07-005-06.png  \n",
            "  inflating: /content/sentences/j07/j07-005/j07-005-07.png  \n",
            "  inflating: /content/sentences/j07/j07-005/j07-005-08.png  \n",
            "   creating: /content/sentences/j07/j07-009/\n",
            "  inflating: /content/sentences/j07/j07-009/j07-009-00.png  \n",
            "  inflating: /content/sentences/j07/j07-009/j07-009-01.png  \n",
            "  inflating: /content/sentences/j07/j07-009/j07-009-02.png  \n",
            "  inflating: /content/sentences/j07/j07-009/j07-009-03.png  \n",
            "  inflating: /content/sentences/j07/j07-009/j07-009-04.png  \n",
            "  inflating: /content/sentences/j07/j07-009/j07-009-05.png  \n",
            "  inflating: /content/sentences/j07/j07-009/j07-009-06.png  \n",
            "  inflating: /content/sentences/j07/j07-009/j07-009-07.png  \n",
            "   creating: /content/sentences/j07/j07-012/\n",
            "  inflating: /content/sentences/j07/j07-012/j07-012-00.png  \n",
            "  inflating: /content/sentences/j07/j07-012/j07-012-01.png  \n",
            "  inflating: /content/sentences/j07/j07-012/j07-012-02.png  \n",
            "  inflating: /content/sentences/j07/j07-012/j07-012-03.png  \n",
            "  inflating: /content/sentences/j07/j07-012/j07-012-04.png  \n",
            "  inflating: /content/sentences/j07/j07-012/j07-012-05.png  \n",
            "  inflating: /content/sentences/j07/j07-012/j07-012-06.png  \n",
            "  inflating: /content/sentences/j07/j07-012/j07-012-07.png  \n",
            " extracting: /content/sentences/j07/j07-012/j07-012-08.png  \n",
            "   creating: /content/sentences/j07/j07-015/\n",
            "  inflating: /content/sentences/j07/j07-015/j07-015-00.png  \n",
            "  inflating: /content/sentences/j07/j07-015/j07-015-01.png  \n",
            "  inflating: /content/sentences/j07/j07-015/j07-015-02.png  \n",
            "  inflating: /content/sentences/j07/j07-015/j07-015-03.png  \n",
            "  inflating: /content/sentences/j07/j07-015/j07-015-04.png  \n",
            "  inflating: /content/sentences/j07/j07-015/j07-015-05.png  \n",
            "  inflating: /content/sentences/j07/j07-015/j07-015-06.png  \n",
            "   creating: /content/sentences/k01/\n",
            "   creating: /content/sentences/k01/k01-051/\n",
            "  inflating: /content/sentences/k01/k01-051/k01-051-00.png  \n",
            "  inflating: /content/sentences/k01/k01-051/k01-051-01.png  \n",
            "  inflating: /content/sentences/k01/k01-051/k01-051-02.png  \n",
            "  inflating: /content/sentences/k01/k01-051/k01-051-03.png  \n",
            "  inflating: /content/sentences/k01/k01-051/k01-051-04.png  \n",
            "  inflating: /content/sentences/k01/k01-051/k01-051-05.png  \n",
            "  inflating: /content/sentences/k01/k01-051/k01-051-06.png  \n",
            "  inflating: /content/sentences/k01/k01-051/k01-051-07.png  \n",
            "  inflating: /content/sentences/k01/k01-051/k01-051-08.png  \n",
            "  inflating: /content/sentences/k01/k01-051/k01-051-09.png  \n",
            "   creating: /content/sentences/k02/\n",
            "   creating: /content/sentences/k02/k02-018/\n",
            "  inflating: /content/sentences/k02/k02-018/k02-018-00.png  \n",
            "  inflating: /content/sentences/k02/k02-018/k02-018-01.png  \n",
            "  inflating: /content/sentences/k02/k02-018/k02-018-02.png  \n",
            "  inflating: /content/sentences/k02/k02-018/k02-018-03.png  \n",
            "  inflating: /content/sentences/k02/k02-018/k02-018-04.png  \n",
            "  inflating: /content/sentences/k02/k02-018/k02-018-05.png  \n",
            "  inflating: /content/sentences/k02/k02-018/k02-018-06.png  \n",
            " extracting: /content/sentences/k02/k02-018/k02-018-07.png  \n",
            "   creating: /content/sentences/k02/k02-023/\n",
            "  inflating: /content/sentences/k02/k02-023/k02-023-00.png  \n",
            "  inflating: /content/sentences/k02/k02-023/k02-023-01.png  \n",
            "  inflating: /content/sentences/k02/k02-023/k02-023-02.png  \n",
            "  inflating: /content/sentences/k02/k02-023/k02-023-03.png  \n",
            "  inflating: /content/sentences/k02/k02-023/k02-023-04.png  \n",
            "  inflating: /content/sentences/k02/k02-023/k02-023-05.png  \n",
            "  inflating: /content/sentences/k02/k02-023/k02-023-06.png  \n",
            "   creating: /content/sentences/k02/k02-029/\n",
            "  inflating: /content/sentences/k02/k02-029/k02-029-00.png  \n",
            "  inflating: /content/sentences/k02/k02-029/k02-029-01.png  \n",
            "  inflating: /content/sentences/k02/k02-029/k02-029-02.png  \n",
            "  inflating: /content/sentences/k02/k02-029/k02-029-03.png  \n",
            "  inflating: /content/sentences/k02/k02-029/k02-029-04.png  \n",
            " extracting: /content/sentences/k02/k02-029/k02-029-05.png  \n",
            "   creating: /content/sentences/k02/k02-036/\n",
            "  inflating: /content/sentences/k02/k02-036/k02-036-00.png  \n",
            "  inflating: /content/sentences/k02/k02-036/k02-036-01.png  \n",
            "  inflating: /content/sentences/k02/k02-036/k02-036-02.png  \n",
            "  inflating: /content/sentences/k02/k02-036/k02-036-03.png  \n",
            "  inflating: /content/sentences/k02/k02-036/k02-036-04.png  \n",
            "  inflating: /content/sentences/k02/k02-036/k02-036-05.png  \n",
            "  inflating: /content/sentences/k02/k02-036/k02-036-06.png  \n",
            "  inflating: /content/sentences/k02/k02-036/k02-036-07.png  \n",
            "   creating: /content/sentences/k02/k02-053/\n",
            "  inflating: /content/sentences/k02/k02-053/k02-053-00.png  \n",
            "  inflating: /content/sentences/k02/k02-053/k02-053-01.png  \n",
            "  inflating: /content/sentences/k02/k02-053/k02-053-02.png  \n",
            "  inflating: /content/sentences/k02/k02-053/k02-053-03.png  \n",
            "  inflating: /content/sentences/k02/k02-053/k02-053-04.png  \n",
            "  inflating: /content/sentences/k02/k02-053/k02-053-05.png  \n",
            "  inflating: /content/sentences/k02/k02-053/k02-053-06.png  \n",
            "  inflating: /content/sentences/k02/k02-053/k02-053-07.png  \n",
            "   creating: /content/sentences/k02/k02-062/\n",
            "  inflating: /content/sentences/k02/k02-062/k02-062-00.png  \n",
            "  inflating: /content/sentences/k02/k02-062/k02-062-01.png  \n",
            "  inflating: /content/sentences/k02/k02-062/k02-062-02.png  \n",
            "  inflating: /content/sentences/k02/k02-062/k02-062-03.png  \n",
            "  inflating: /content/sentences/k02/k02-062/k02-062-04.png  \n",
            "  inflating: /content/sentences/k02/k02-062/k02-062-05.png  \n",
            "  inflating: /content/sentences/k02/k02-062/k02-062-06.png  \n",
            "  inflating: /content/sentences/k02/k02-062/k02-062-07.png  \n",
            "  inflating: /content/sentences/k02/k02-062/k02-062-08.png  \n",
            "   creating: /content/sentences/k02/k02-067/\n",
            "  inflating: /content/sentences/k02/k02-067/k02-067-00.png  \n",
            "  inflating: /content/sentences/k02/k02-067/k02-067-01.png  \n",
            "  inflating: /content/sentences/k02/k02-067/k02-067-02.png  \n",
            "  inflating: /content/sentences/k02/k02-067/k02-067-03.png  \n",
            "  inflating: /content/sentences/k02/k02-067/k02-067-04.png  \n",
            "  inflating: /content/sentences/k02/k02-067/k02-067-05.png  \n",
            "  inflating: /content/sentences/k02/k02-067/k02-067-06.png  \n",
            "  inflating: /content/sentences/k02/k02-067/k02-067-07.png  \n",
            "   creating: /content/sentences/k02/k02-076/\n",
            "  inflating: /content/sentences/k02/k02-076/k02-076-00.png  \n",
            "  inflating: /content/sentences/k02/k02-076/k02-076-01.png  \n",
            "  inflating: /content/sentences/k02/k02-076/k02-076-02.png  \n",
            "  inflating: /content/sentences/k02/k02-076/k02-076-03.png  \n",
            "  inflating: /content/sentences/k02/k02-076/k02-076-04.png  \n",
            "  inflating: /content/sentences/k02/k02-076/k02-076-05.png  \n",
            "  inflating: /content/sentences/k02/k02-076/k02-076-06.png  \n",
            "  inflating: /content/sentences/k02/k02-076/k02-076-07.png  \n",
            "  inflating: /content/sentences/k02/k02-076/k02-076-08.png  \n",
            " extracting: /content/sentences/k02/k02-076/k02-076-09.png  \n",
            "   creating: /content/sentences/k02/k02-093/\n",
            "  inflating: /content/sentences/k02/k02-093/k02-093-00.png  \n",
            "  inflating: /content/sentences/k02/k02-093/k02-093-01.png  \n",
            "  inflating: /content/sentences/k02/k02-093/k02-093-02.png  \n",
            "  inflating: /content/sentences/k02/k02-093/k02-093-03.png  \n",
            "  inflating: /content/sentences/k02/k02-093/k02-093-04.png  \n",
            "  inflating: /content/sentences/k02/k02-093/k02-093-05.png  \n",
            "   creating: /content/sentences/k02/k02-097/\n",
            "  inflating: /content/sentences/k02/k02-097/k02-097-00.png  \n",
            "  inflating: /content/sentences/k02/k02-097/k02-097-01.png  \n",
            "  inflating: /content/sentences/k02/k02-097/k02-097-02.png  \n",
            "  inflating: /content/sentences/k02/k02-097/k02-097-03.png  \n",
            "  inflating: /content/sentences/k02/k02-097/k02-097-04.png  \n",
            "  inflating: /content/sentences/k02/k02-097/k02-097-05.png  \n",
            "  inflating: /content/sentences/k02/k02-097/k02-097-06.png  \n",
            "  inflating: /content/sentences/k02/k02-097/k02-097-07.png  \n",
            "  inflating: /content/sentences/k02/k02-097/k02-097-08.png  \n",
            " extracting: /content/sentences/k02/k02-097/k02-097-09.png  \n",
            "   creating: /content/sentences/k02/k02-102/\n",
            "  inflating: /content/sentences/k02/k02-102/k02-102-00.png  \n",
            "  inflating: /content/sentences/k02/k02-102/k02-102-01.png  \n",
            "  inflating: /content/sentences/k02/k02-102/k02-102-02.png  \n",
            "  inflating: /content/sentences/k02/k02-102/k02-102-03.png  \n",
            "  inflating: /content/sentences/k02/k02-102/k02-102-04.png  \n",
            "  inflating: /content/sentences/k02/k02-102/k02-102-05.png  \n",
            "  inflating: /content/sentences/k02/k02-102/k02-102-06.png  \n",
            " extracting: /content/sentences/k02/k02-102/k02-102-07.png  \n",
            "   creating: /content/sentences/k02/k02-112/\n",
            "  inflating: /content/sentences/k02/k02-112/k02-112-00.png  \n",
            "  inflating: /content/sentences/k02/k02-112/k02-112-01.png  \n",
            "  inflating: /content/sentences/k02/k02-112/k02-112-02.png  \n",
            "  inflating: /content/sentences/k02/k02-112/k02-112-03.png  \n",
            "  inflating: /content/sentences/k02/k02-112/k02-112-04.png  \n",
            "  inflating: /content/sentences/k02/k02-112/k02-112-05.png  \n",
            "  inflating: /content/sentences/k02/k02-112/k02-112-06.png  \n",
            "   creating: /content/sentences/k02/k02-117/\n",
            "  inflating: /content/sentences/k02/k02-117/k02-117-00.png  \n",
            "  inflating: /content/sentences/k02/k02-117/k02-117-01.png  \n",
            "  inflating: /content/sentences/k02/k02-117/k02-117-02.png  \n",
            "  inflating: /content/sentences/k02/k02-117/k02-117-03.png  \n",
            "  inflating: /content/sentences/k02/k02-117/k02-117-04.png  \n",
            "  inflating: /content/sentences/k02/k02-117/k02-117-05.png  \n",
            "  inflating: /content/sentences/k02/k02-117/k02-117-06.png  \n",
            "  inflating: /content/sentences/k02/k02-117/k02-117-07.png  \n",
            "  inflating: /content/sentences/k02/k02-117/k02-117-08.png  \n",
            "  inflating: /content/sentences/k02/k02-117/k02-117-09.png  \n",
            "   creating: /content/sentences/k03/\n",
            "   creating: /content/sentences/k03/k03-117/\n",
            "  inflating: /content/sentences/k03/k03-117/k03-117-00.png  \n",
            "  inflating: /content/sentences/k03/k03-117/k03-117-01.png  \n",
            "  inflating: /content/sentences/k03/k03-117/k03-117-02.png  \n",
            "  inflating: /content/sentences/k03/k03-117/k03-117-03.png  \n",
            "  inflating: /content/sentences/k03/k03-117/k03-117-04.png  \n",
            "  inflating: /content/sentences/k03/k03-117/k03-117-05.png  \n",
            "  inflating: /content/sentences/k03/k03-117/k03-117-06.png  \n",
            "  inflating: /content/sentences/k03/k03-117/k03-117-07.png  \n",
            "  inflating: /content/sentences/k03/k03-117/k03-117-08.png  \n",
            "   creating: /content/sentences/k03/k03-138/\n",
            "  inflating: /content/sentences/k03/k03-138/k03-138-00.png  \n",
            "  inflating: /content/sentences/k03/k03-138/k03-138-01.png  \n",
            "  inflating: /content/sentences/k03/k03-138/k03-138-02.png  \n",
            "  inflating: /content/sentences/k03/k03-138/k03-138-03.png  \n",
            "  inflating: /content/sentences/k03/k03-138/k03-138-04.png  \n",
            "  inflating: /content/sentences/k03/k03-138/k03-138-05.png  \n",
            "  inflating: /content/sentences/k03/k03-138/k03-138-06.png  \n",
            "   creating: /content/sentences/k03/k03-144/\n",
            "  inflating: /content/sentences/k03/k03-144/k03-144-00.png  \n",
            "  inflating: /content/sentences/k03/k03-144/k03-144-01.png  \n",
            "  inflating: /content/sentences/k03/k03-144/k03-144-02.png  \n",
            "  inflating: /content/sentences/k03/k03-144/k03-144-03.png  \n",
            "  inflating: /content/sentences/k03/k03-144/k03-144-04.png  \n",
            "  inflating: /content/sentences/k03/k03-144/k03-144-05.png  \n",
            "  inflating: /content/sentences/k03/k03-144/k03-144-06.png  \n",
            "  inflating: /content/sentences/k03/k03-144/k03-144-07.png  \n",
            "  inflating: /content/sentences/k03/k03-144/k03-144-08.png  \n",
            "   creating: /content/sentences/k03/k03-152/\n",
            "  inflating: /content/sentences/k03/k03-152/k03-152-00.png  \n",
            "  inflating: /content/sentences/k03/k03-152/k03-152-01.png  \n",
            "  inflating: /content/sentences/k03/k03-152/k03-152-02.png  \n",
            "  inflating: /content/sentences/k03/k03-152/k03-152-03.png  \n",
            "  inflating: /content/sentences/k03/k03-152/k03-152-04.png  \n",
            "  inflating: /content/sentences/k03/k03-152/k03-152-05.png  \n",
            "  inflating: /content/sentences/k03/k03-152/k03-152-06.png  \n",
            "  inflating: /content/sentences/k03/k03-152/k03-152-07.png  \n",
            "   creating: /content/sentences/k03/k03-157/\n",
            "  inflating: /content/sentences/k03/k03-157/k03-157-00.png  \n",
            "  inflating: /content/sentences/k03/k03-157/k03-157-01.png  \n",
            "  inflating: /content/sentences/k03/k03-157/k03-157-02.png  \n",
            "  inflating: /content/sentences/k03/k03-157/k03-157-03.png  \n",
            "  inflating: /content/sentences/k03/k03-157/k03-157-04.png  \n",
            "  inflating: /content/sentences/k03/k03-157/k03-157-05.png  \n",
            "  inflating: /content/sentences/k03/k03-157/k03-157-06.png  \n",
            "   creating: /content/sentences/k03/k03-164/\n",
            "  inflating: /content/sentences/k03/k03-164/k03-164-00.png  \n",
            "  inflating: /content/sentences/k03/k03-164/k03-164-01.png  \n",
            "  inflating: /content/sentences/k03/k03-164/k03-164-02.png  \n",
            "  inflating: /content/sentences/k03/k03-164/k03-164-03.png  \n",
            "  inflating: /content/sentences/k03/k03-164/k03-164-04.png  \n",
            "  inflating: /content/sentences/k03/k03-164/k03-164-05.png  \n",
            "  inflating: /content/sentences/k03/k03-164/k03-164-06.png  \n",
            "  inflating: /content/sentences/k03/k03-164/k03-164-07.png  \n",
            "  inflating: /content/sentences/k03/k03-164/k03-164-08.png  \n",
            "   creating: /content/sentences/k03/k03-180/\n",
            "  inflating: /content/sentences/k03/k03-180/k03-180-00.png  \n",
            "  inflating: /content/sentences/k03/k03-180/k03-180-01.png  \n",
            "  inflating: /content/sentences/k03/k03-180/k03-180-02.png  \n",
            "  inflating: /content/sentences/k03/k03-180/k03-180-03.png  \n",
            "  inflating: /content/sentences/k03/k03-180/k03-180-04.png  \n",
            " extracting: /content/sentences/k03/k03-180/k03-180-05.png  \n",
            "   creating: /content/sentences/k04/\n",
            "   creating: /content/sentences/k04/k04-000/\n",
            "  inflating: /content/sentences/k04/k04-000/k04-000-00.png  \n",
            "  inflating: /content/sentences/k04/k04-000/k04-000-01.png  \n",
            "  inflating: /content/sentences/k04/k04-000/k04-000-02.png  \n",
            "  inflating: /content/sentences/k04/k04-000/k04-000-03.png  \n",
            "  inflating: /content/sentences/k04/k04-000/k04-000-04.png  \n",
            "  inflating: /content/sentences/k04/k04-000/k04-000-05.png  \n",
            "   creating: /content/sentences/k04/k04-005/\n",
            "  inflating: /content/sentences/k04/k04-005/k04-005-00.png  \n",
            "  inflating: /content/sentences/k04/k04-005/k04-005-01.png  \n",
            "  inflating: /content/sentences/k04/k04-005/k04-005-02.png  \n",
            "  inflating: /content/sentences/k04/k04-005/k04-005-03.png  \n",
            "  inflating: /content/sentences/k04/k04-005/k04-005-04.png  \n",
            "  inflating: /content/sentences/k04/k04-005/k04-005-05.png  \n",
            " extracting: /content/sentences/k04/k04-005/k04-005-06.png  \n",
            "   creating: /content/sentences/k04/k04-010/\n",
            "  inflating: /content/sentences/k04/k04-010/k04-010-00.png  \n",
            "  inflating: /content/sentences/k04/k04-010/k04-010-01.png  \n",
            "  inflating: /content/sentences/k04/k04-010/k04-010-02.png  \n",
            "  inflating: /content/sentences/k04/k04-010/k04-010-03.png  \n",
            "  inflating: /content/sentences/k04/k04-010/k04-010-04.png  \n",
            "  inflating: /content/sentences/k04/k04-010/k04-010-05.png  \n",
            "  inflating: /content/sentences/k04/k04-010/k04-010-06.png  \n",
            "  inflating: /content/sentences/k04/k04-010/k04-010-07.png  \n",
            "  inflating: /content/sentences/k04/k04-010/k04-010-08.png  \n",
            "  inflating: /content/sentences/k04/k04-010/k04-010-09.png  \n",
            "  inflating: /content/sentences/k04/k04-010/k04-010-10.png  \n",
            "   creating: /content/sentences/k04/k04-014/\n",
            "  inflating: /content/sentences/k04/k04-014/k04-014-00.png  \n",
            "  inflating: /content/sentences/k04/k04-014/k04-014-01.png  \n",
            "  inflating: /content/sentences/k04/k04-014/k04-014-02.png  \n",
            "  inflating: /content/sentences/k04/k04-014/k04-014-03.png  \n",
            "  inflating: /content/sentences/k04/k04-014/k04-014-04.png  \n",
            "  inflating: /content/sentences/k04/k04-014/k04-014-05.png  \n",
            "  inflating: /content/sentences/k04/k04-014/k04-014-06.png  \n",
            "   creating: /content/sentences/k04/k04-017/\n",
            "  inflating: /content/sentences/k04/k04-017/k04-017-00.png  \n",
            "  inflating: /content/sentences/k04/k04-017/k04-017-01.png  \n",
            "  inflating: /content/sentences/k04/k04-017/k04-017-02.png  \n",
            "  inflating: /content/sentences/k04/k04-017/k04-017-03.png  \n",
            "  inflating: /content/sentences/k04/k04-017/k04-017-04.png  \n",
            "  inflating: /content/sentences/k04/k04-017/k04-017-05.png  \n",
            "  inflating: /content/sentences/k04/k04-017/k04-017-06.png  \n",
            "  inflating: /content/sentences/k04/k04-017/k04-017-07.png  \n",
            "  inflating: /content/sentences/k04/k04-017/k04-017-08.png  \n",
            "  inflating: /content/sentences/k04/k04-017/k04-017-09.png  \n",
            "   creating: /content/sentences/k04/k04-022/\n",
            "  inflating: /content/sentences/k04/k04-022/k04-022-00.png  \n",
            "  inflating: /content/sentences/k04/k04-022/k04-022-01.png  \n",
            "  inflating: /content/sentences/k04/k04-022/k04-022-02.png  \n",
            "  inflating: /content/sentences/k04/k04-022/k04-022-03.png  \n",
            "  inflating: /content/sentences/k04/k04-022/k04-022-04.png  \n",
            "  inflating: /content/sentences/k04/k04-022/k04-022-05.png  \n",
            "  inflating: /content/sentences/k04/k04-022/k04-022-06.png  \n",
            "  inflating: /content/sentences/k04/k04-022/k04-022-07.png  \n",
            "   creating: /content/sentences/k04/k04-028/\n",
            "  inflating: /content/sentences/k04/k04-028/k04-028-00.png  \n",
            "  inflating: /content/sentences/k04/k04-028/k04-028-01.png  \n",
            "  inflating: /content/sentences/k04/k04-028/k04-028-02.png  \n",
            "  inflating: /content/sentences/k04/k04-028/k04-028-03.png  \n",
            "  inflating: /content/sentences/k04/k04-028/k04-028-04.png  \n",
            "  inflating: /content/sentences/k04/k04-028/k04-028-05.png  \n",
            "  inflating: /content/sentences/k04/k04-028/k04-028-06.png  \n",
            " extracting: /content/sentences/k04/k04-028/k04-028-07.png  \n",
            "   creating: /content/sentences/k04/k04-033/\n",
            "  inflating: /content/sentences/k04/k04-033/k04-033-00.png  \n",
            "  inflating: /content/sentences/k04/k04-033/k04-033-01.png  \n",
            "  inflating: /content/sentences/k04/k04-033/k04-033-02.png  \n",
            "  inflating: /content/sentences/k04/k04-033/k04-033-03.png  \n",
            "  inflating: /content/sentences/k04/k04-033/k04-033-04.png  \n",
            "  inflating: /content/sentences/k04/k04-033/k04-033-05.png  \n",
            "  inflating: /content/sentences/k04/k04-033/k04-033-06.png  \n",
            "  inflating: /content/sentences/k04/k04-033/k04-033-07.png  \n",
            "  inflating: /content/sentences/k04/k04-033/k04-033-08.png  \n",
            "   creating: /content/sentences/k04/k04-039/\n",
            "  inflating: /content/sentences/k04/k04-039/k04-039-00.png  \n",
            "  inflating: /content/sentences/k04/k04-039/k04-039-01.png  \n",
            "  inflating: /content/sentences/k04/k04-039/k04-039-02.png  \n",
            "  inflating: /content/sentences/k04/k04-039/k04-039-03.png  \n",
            "  inflating: /content/sentences/k04/k04-039/k04-039-04.png  \n",
            "  inflating: /content/sentences/k04/k04-039/k04-039-05.png  \n",
            "  inflating: /content/sentences/k04/k04-039/k04-039-06.png  \n",
            "  inflating: /content/sentences/k04/k04-039/k04-039-07.png  \n",
            "   creating: /content/sentences/k04/k04-050/\n",
            "  inflating: /content/sentences/k04/k04-050/k04-050-00.png  \n",
            "  inflating: /content/sentences/k04/k04-050/k04-050-01.png  \n",
            "  inflating: /content/sentences/k04/k04-050/k04-050-02.png  \n",
            "  inflating: /content/sentences/k04/k04-050/k04-050-03.png  \n",
            "  inflating: /content/sentences/k04/k04-050/k04-050-04.png  \n",
            "  inflating: /content/sentences/k04/k04-050/k04-050-05.png  \n",
            " extracting: /content/sentences/k04/k04-050/k04-050-06.png  \n",
            "   creating: /content/sentences/k04/k04-054/\n",
            "  inflating: /content/sentences/k04/k04-054/k04-054-00.png  \n",
            "  inflating: /content/sentences/k04/k04-054/k04-054-01.png  \n",
            "  inflating: /content/sentences/k04/k04-054/k04-054-02.png  \n",
            "  inflating: /content/sentences/k04/k04-054/k04-054-03.png  \n",
            "  inflating: /content/sentences/k04/k04-054/k04-054-04.png  \n",
            "  inflating: /content/sentences/k04/k04-054/k04-054-05.png  \n",
            "  inflating: /content/sentences/k04/k04-054/k04-054-06.png  \n",
            "  inflating: /content/sentences/k04/k04-054/k04-054-07.png  \n",
            "  inflating: /content/sentences/k04/k04-054/k04-054-08.png  \n",
            "  inflating: /content/sentences/k04/k04-054/k04-054-09.png  \n",
            "   creating: /content/sentences/k04/k04-057/\n",
            "  inflating: /content/sentences/k04/k04-057/k04-057-00.png  \n",
            "  inflating: /content/sentences/k04/k04-057/k04-057-01.png  \n",
            "  inflating: /content/sentences/k04/k04-057/k04-057-02.png  \n",
            "  inflating: /content/sentences/k04/k04-057/k04-057-03.png  \n",
            "  inflating: /content/sentences/k04/k04-057/k04-057-04.png  \n",
            "  inflating: /content/sentences/k04/k04-057/k04-057-05.png  \n",
            "  inflating: /content/sentences/k04/k04-057/k04-057-06.png  \n",
            "  inflating: /content/sentences/k04/k04-057/k04-057-07.png  \n",
            "   creating: /content/sentences/k04/k04-061/\n",
            "  inflating: /content/sentences/k04/k04-061/k04-061-00.png  \n",
            "  inflating: /content/sentences/k04/k04-061/k04-061-01.png  \n",
            "  inflating: /content/sentences/k04/k04-061/k04-061-02.png  \n",
            "  inflating: /content/sentences/k04/k04-061/k04-061-03.png  \n",
            "  inflating: /content/sentences/k04/k04-061/k04-061-04.png  \n",
            "  inflating: /content/sentences/k04/k04-061/k04-061-05.png  \n",
            "  inflating: /content/sentences/k04/k04-061/k04-061-06.png  \n",
            "  inflating: /content/sentences/k04/k04-061/k04-061-07.png  \n",
            "  inflating: /content/sentences/k04/k04-061/k04-061-08.png  \n",
            "   creating: /content/sentences/k04/k04-064/\n",
            "  inflating: /content/sentences/k04/k04-064/k04-064-00.png  \n",
            "  inflating: /content/sentences/k04/k04-064/k04-064-01.png  \n",
            "  inflating: /content/sentences/k04/k04-064/k04-064-02.png  \n",
            "  inflating: /content/sentences/k04/k04-064/k04-064-03.png  \n",
            "  inflating: /content/sentences/k04/k04-064/k04-064-04.png  \n",
            "  inflating: /content/sentences/k04/k04-064/k04-064-05.png  \n",
            "   creating: /content/sentences/k04/k04-068/\n",
            "  inflating: /content/sentences/k04/k04-068/k04-068-00.png  \n",
            "  inflating: /content/sentences/k04/k04-068/k04-068-01.png  \n",
            "  inflating: /content/sentences/k04/k04-068/k04-068-02.png  \n",
            "  inflating: /content/sentences/k04/k04-068/k04-068-03.png  \n",
            "  inflating: /content/sentences/k04/k04-068/k04-068-04.png  \n",
            "  inflating: /content/sentences/k04/k04-068/k04-068-05.png  \n",
            "  inflating: /content/sentences/k04/k04-068/k04-068-06.png  \n",
            "  inflating: /content/sentences/k04/k04-068/k04-068-07.png  \n",
            "  inflating: /content/sentences/k04/k04-068/k04-068-08.png  \n",
            "   creating: /content/sentences/k04/k04-075/\n",
            "  inflating: /content/sentences/k04/k04-075/k04-075-00.png  \n",
            "  inflating: /content/sentences/k04/k04-075/k04-075-01.png  \n",
            "  inflating: /content/sentences/k04/k04-075/k04-075-02.png  \n",
            "  inflating: /content/sentences/k04/k04-075/k04-075-03.png  \n",
            "  inflating: /content/sentences/k04/k04-075/k04-075-04.png  \n",
            "  inflating: /content/sentences/k04/k04-075/k04-075-05.png  \n",
            "  inflating: /content/sentences/k04/k04-075/k04-075-06.png  \n",
            "  inflating: /content/sentences/k04/k04-075/k04-075-07.png  \n",
            "   creating: /content/sentences/k04/k04-079/\n",
            "  inflating: /content/sentences/k04/k04-079/k04-079-00.png  \n",
            "  inflating: /content/sentences/k04/k04-079/k04-079-01.png  \n",
            "  inflating: /content/sentences/k04/k04-079/k04-079-02.png  \n",
            "  inflating: /content/sentences/k04/k04-079/k04-079-03.png  \n",
            "  inflating: /content/sentences/k04/k04-079/k04-079-04.png  \n",
            "  inflating: /content/sentences/k04/k04-079/k04-079-05.png  \n",
            "  inflating: /content/sentences/k04/k04-079/k04-079-06.png  \n",
            "  inflating: /content/sentences/k04/k04-079/k04-079-07.png  \n",
            "  inflating: /content/sentences/k04/k04-079/k04-079-08.png  \n",
            "  inflating: /content/sentences/k04/k04-079/k04-079-09.png  \n",
            "  inflating: /content/sentences/k04/k04-079/k04-079-10.png  \n",
            "   creating: /content/sentences/k04/k04-085/\n",
            "  inflating: /content/sentences/k04/k04-085/k04-085-00.png  \n",
            "  inflating: /content/sentences/k04/k04-085/k04-085-01.png  \n",
            "  inflating: /content/sentences/k04/k04-085/k04-085-02.png  \n",
            "  inflating: /content/sentences/k04/k04-085/k04-085-03.png  \n",
            "  inflating: /content/sentences/k04/k04-085/k04-085-04.png  \n",
            "  inflating: /content/sentences/k04/k04-085/k04-085-05.png  \n",
            "  inflating: /content/sentences/k04/k04-085/k04-085-06.png  \n",
            "  inflating: /content/sentences/k04/k04-085/k04-085-07.png  \n",
            "   creating: /content/sentences/k04/k04-093/\n",
            "  inflating: /content/sentences/k04/k04-093/k04-093-00.png  \n",
            "  inflating: /content/sentences/k04/k04-093/k04-093-01.png  \n",
            "  inflating: /content/sentences/k04/k04-093/k04-093-02.png  \n",
            "  inflating: /content/sentences/k04/k04-093/k04-093-03.png  \n",
            "  inflating: /content/sentences/k04/k04-093/k04-093-04.png  \n",
            "  inflating: /content/sentences/k04/k04-093/k04-093-05.png  \n",
            "  inflating: /content/sentences/k04/k04-093/k04-093-06.png  \n",
            "  inflating: /content/sentences/k04/k04-093/k04-093-07.png  \n",
            "  inflating: /content/sentences/k04/k04-093/k04-093-08.png  \n",
            "   creating: /content/sentences/k04/k04-099/\n",
            "  inflating: /content/sentences/k04/k04-099/k04-099-00.png  \n",
            "  inflating: /content/sentences/k04/k04-099/k04-099-01.png  \n",
            "  inflating: /content/sentences/k04/k04-099/k04-099-02.png  \n",
            "  inflating: /content/sentences/k04/k04-099/k04-099-03.png  \n",
            "  inflating: /content/sentences/k04/k04-099/k04-099-04.png  \n",
            "  inflating: /content/sentences/k04/k04-099/k04-099-05.png  \n",
            "  inflating: /content/sentences/k04/k04-099/k04-099-06.png  \n",
            "   creating: /content/sentences/k04/k04-103/\n",
            "  inflating: /content/sentences/k04/k04-103/k04-103-00.png  \n",
            "  inflating: /content/sentences/k04/k04-103/k04-103-01.png  \n",
            "  inflating: /content/sentences/k04/k04-103/k04-103-02.png  \n",
            "  inflating: /content/sentences/k04/k04-103/k04-103-03.png  \n",
            "  inflating: /content/sentences/k04/k04-103/k04-103-04.png  \n",
            "  inflating: /content/sentences/k04/k04-103/k04-103-05.png  \n",
            "  inflating: /content/sentences/k04/k04-103/k04-103-06.png  \n",
            "  inflating: /content/sentences/k04/k04-103/k04-103-07.png  \n",
            "   creating: /content/sentences/k04/k04-106/\n",
            "  inflating: /content/sentences/k04/k04-106/k04-106-00.png  \n",
            "  inflating: /content/sentences/k04/k04-106/k04-106-01.png  \n",
            "  inflating: /content/sentences/k04/k04-106/k04-106-02.png  \n",
            "  inflating: /content/sentences/k04/k04-106/k04-106-03.png  \n",
            "  inflating: /content/sentences/k04/k04-106/k04-106-04.png  \n",
            "  inflating: /content/sentences/k04/k04-106/k04-106-05.png  \n",
            "  inflating: /content/sentences/k04/k04-106/k04-106-06.png  \n",
            "   creating: /content/sentences/k04/k04-110/\n",
            "  inflating: /content/sentences/k04/k04-110/k04-110-00.png  \n",
            "  inflating: /content/sentences/k04/k04-110/k04-110-01.png  \n",
            "  inflating: /content/sentences/k04/k04-110/k04-110-02.png  \n",
            "  inflating: /content/sentences/k04/k04-110/k04-110-03.png  \n",
            "  inflating: /content/sentences/k04/k04-110/k04-110-04.png  \n",
            "  inflating: /content/sentences/k04/k04-110/k04-110-05.png  \n",
            "  inflating: /content/sentences/k04/k04-110/k04-110-06.png  \n",
            "  inflating: /content/sentences/k04/k04-110/k04-110-07.png  \n",
            "  inflating: /content/sentences/k04/k04-110/k04-110-08.png  \n",
            "  inflating: /content/sentences/k04/k04-110/k04-110-09.png  \n",
            "  inflating: /content/sentences/k04/k04-110/k04-110-10.png  \n",
            "   creating: /content/sentences/k04/k04-115/\n",
            "  inflating: /content/sentences/k04/k04-115/k04-115-00.png  \n",
            "  inflating: /content/sentences/k04/k04-115/k04-115-01.png  \n",
            "  inflating: /content/sentences/k04/k04-115/k04-115-02.png  \n",
            "  inflating: /content/sentences/k04/k04-115/k04-115-03.png  \n",
            "  inflating: /content/sentences/k04/k04-115/k04-115-04.png  \n",
            "  inflating: /content/sentences/k04/k04-115/k04-115-05.png  \n",
            "  inflating: /content/sentences/k04/k04-115/k04-115-06.png  \n",
            "  inflating: /content/sentences/k04/k04-115/k04-115-07.png  \n",
            "   creating: /content/sentences/k04/k04-119/\n",
            "  inflating: /content/sentences/k04/k04-119/k04-119-00.png  \n",
            "  inflating: /content/sentences/k04/k04-119/k04-119-01.png  \n",
            "  inflating: /content/sentences/k04/k04-119/k04-119-02.png  \n",
            "  inflating: /content/sentences/k04/k04-119/k04-119-03.png  \n",
            "  inflating: /content/sentences/k04/k04-119/k04-119-04.png  \n",
            "  inflating: /content/sentences/k04/k04-119/k04-119-05.png  \n",
            "  inflating: /content/sentences/k04/k04-119/k04-119-06.png  \n",
            "   creating: /content/sentences/k04/k04-126/\n",
            "  inflating: /content/sentences/k04/k04-126/k04-126-00.png  \n",
            "  inflating: /content/sentences/k04/k04-126/k04-126-01.png  \n",
            "  inflating: /content/sentences/k04/k04-126/k04-126-02.png  \n",
            "  inflating: /content/sentences/k04/k04-126/k04-126-03.png  \n",
            "  inflating: /content/sentences/k04/k04-126/k04-126-04.png  \n",
            "  inflating: /content/sentences/k04/k04-126/k04-126-05.png  \n",
            "  inflating: /content/sentences/k04/k04-126/k04-126-06.png  \n",
            "   creating: /content/sentences/k04/k04-136/\n",
            "  inflating: /content/sentences/k04/k04-136/k04-136-00.png  \n",
            "  inflating: /content/sentences/k04/k04-136/k04-136-01.png  \n",
            "  inflating: /content/sentences/k04/k04-136/k04-136-02.png  \n",
            "  inflating: /content/sentences/k04/k04-136/k04-136-03.png  \n",
            "  inflating: /content/sentences/k04/k04-136/k04-136-04.png  \n",
            "  inflating: /content/sentences/k04/k04-136/k04-136-05.png  \n",
            "  inflating: /content/sentences/k04/k04-136/k04-136-06.png  \n",
            "  inflating: /content/sentences/k04/k04-136/k04-136-07.png  \n",
            "  inflating: /content/sentences/k04/k04-136/k04-136-08.png  \n",
            "   creating: /content/sentences/k04/k04-142/\n",
            "  inflating: /content/sentences/k04/k04-142/k04-142-00.png  \n",
            "  inflating: /content/sentences/k04/k04-142/k04-142-01.png  \n",
            "  inflating: /content/sentences/k04/k04-142/k04-142-02.png  \n",
            "  inflating: /content/sentences/k04/k04-142/k04-142-03.png  \n",
            "  inflating: /content/sentences/k04/k04-142/k04-142-04.png  \n",
            "  inflating: /content/sentences/k04/k04-142/k04-142-05.png  \n",
            "  inflating: /content/sentences/k04/k04-142/k04-142-06.png  \n",
            "   creating: /content/sentences/k04/k04-149/\n",
            "  inflating: /content/sentences/k04/k04-149/k04-149-00.png  \n",
            "  inflating: /content/sentences/k04/k04-149/k04-149-01.png  \n",
            "  inflating: /content/sentences/k04/k04-149/k04-149-02.png  \n",
            "  inflating: /content/sentences/k04/k04-149/k04-149-03.png  \n",
            "  inflating: /content/sentences/k04/k04-149/k04-149-04.png  \n",
            "  inflating: /content/sentences/k04/k04-149/k04-149-05.png  \n",
            "  inflating: /content/sentences/k04/k04-149/k04-149-06.png  \n",
            "   creating: /content/sentences/k04/k04-156/\n",
            "  inflating: /content/sentences/k04/k04-156/k04-156-00.png  \n",
            "  inflating: /content/sentences/k04/k04-156/k04-156-01.png  \n",
            "  inflating: /content/sentences/k04/k04-156/k04-156-02.png  \n",
            "  inflating: /content/sentences/k04/k04-156/k04-156-03.png  \n",
            "  inflating: /content/sentences/k04/k04-156/k04-156-04.png  \n",
            "  inflating: /content/sentences/k04/k04-156/k04-156-05.png  \n",
            "  inflating: /content/sentences/k04/k04-156/k04-156-06.png  \n",
            "   creating: /content/sentences/k04/k04-163/\n",
            "  inflating: /content/sentences/k04/k04-163/k04-163-00.png  \n",
            "  inflating: /content/sentences/k04/k04-163/k04-163-01.png  \n",
            "  inflating: /content/sentences/k04/k04-163/k04-163-02.png  \n",
            "  inflating: /content/sentences/k04/k04-163/k04-163-03.png  \n",
            "  inflating: /content/sentences/k04/k04-163/k04-163-04.png  \n",
            "  inflating: /content/sentences/k04/k04-163/k04-163-05.png  \n",
            "  inflating: /content/sentences/k04/k04-163/k04-163-06.png  \n",
            "  inflating: /content/sentences/k04/k04-163/k04-163-07.png  \n",
            "   creating: /content/sentences/k07/\n",
            "   creating: /content/sentences/k07/k07-059a/\n",
            "  inflating: /content/sentences/k07/k07-059a/k07-059a-00.png  \n",
            "  inflating: /content/sentences/k07/k07-059a/k07-059a-01.png  \n",
            "  inflating: /content/sentences/k07/k07-059a/k07-059a-02.png  \n",
            "  inflating: /content/sentences/k07/k07-059a/k07-059a-03.png  \n",
            "  inflating: /content/sentences/k07/k07-059a/k07-059a-04.png  \n",
            "  inflating: /content/sentences/k07/k07-059a/k07-059a-05.png  \n",
            "  inflating: /content/sentences/k07/k07-059a/k07-059a-06.png  \n",
            "  inflating: /content/sentences/k07/k07-059a/k07-059a-07.png  \n",
            "  inflating: /content/sentences/k07/k07-059a/k07-059a-08.png  \n",
            "   creating: /content/sentences/k07/k07-063a/\n",
            "  inflating: /content/sentences/k07/k07-063a/k07-063a-00.png  \n",
            "  inflating: /content/sentences/k07/k07-063a/k07-063a-01.png  \n",
            "  inflating: /content/sentences/k07/k07-063a/k07-063a-02.png  \n",
            "  inflating: /content/sentences/k07/k07-063a/k07-063a-03.png  \n",
            "  inflating: /content/sentences/k07/k07-063a/k07-063a-04.png  \n",
            "  inflating: /content/sentences/k07/k07-063a/k07-063a-05.png  \n",
            "  inflating: /content/sentences/k07/k07-063a/k07-063a-06.png  \n",
            "   creating: /content/sentences/k07/k07-067a/\n",
            "  inflating: /content/sentences/k07/k07-067a/k07-067a-00.png  \n",
            "  inflating: /content/sentences/k07/k07-067a/k07-067a-01.png  \n",
            "  inflating: /content/sentences/k07/k07-067a/k07-067a-02.png  \n",
            "  inflating: /content/sentences/k07/k07-067a/k07-067a-03.png  \n",
            "  inflating: /content/sentences/k07/k07-067a/k07-067a-04.png  \n",
            "  inflating: /content/sentences/k07/k07-067a/k07-067a-05.png  \n",
            "   creating: /content/sentences/k07/k07-077/\n",
            "  inflating: /content/sentences/k07/k07-077/k07-077-00.png  \n",
            "  inflating: /content/sentences/k07/k07-077/k07-077-01.png  \n",
            "  inflating: /content/sentences/k07/k07-077/k07-077-02.png  \n",
            "  inflating: /content/sentences/k07/k07-077/k07-077-03.png  \n",
            "  inflating: /content/sentences/k07/k07-077/k07-077-04.png  \n",
            "  inflating: /content/sentences/k07/k07-077/k07-077-05.png  \n",
            "  inflating: /content/sentences/k07/k07-077/k07-077-06.png  \n",
            "   creating: /content/sentences/k07/k07-085/\n",
            "  inflating: /content/sentences/k07/k07-085/k07-085-00.png  \n",
            "  inflating: /content/sentences/k07/k07-085/k07-085-01.png  \n",
            "  inflating: /content/sentences/k07/k07-085/k07-085-02.png  \n",
            "  inflating: /content/sentences/k07/k07-085/k07-085-03.png  \n",
            "  inflating: /content/sentences/k07/k07-085/k07-085-04.png  \n",
            "  inflating: /content/sentences/k07/k07-085/k07-085-05.png  \n",
            "  inflating: /content/sentences/k07/k07-085/k07-085-06.png  \n",
            "   creating: /content/sentences/k07/k07-122/\n",
            "  inflating: /content/sentences/k07/k07-122/k07-122-00.png  \n",
            "  inflating: /content/sentences/k07/k07-122/k07-122-01.png  \n",
            "  inflating: /content/sentences/k07/k07-122/k07-122-02.png  \n",
            "  inflating: /content/sentences/k07/k07-122/k07-122-03.png  \n",
            "  inflating: /content/sentences/k07/k07-122/k07-122-04.png  \n",
            "  inflating: /content/sentences/k07/k07-122/k07-122-05.png  \n",
            "  inflating: /content/sentences/k07/k07-122/k07-122-06.png  \n",
            "  inflating: /content/sentences/k07/k07-122/k07-122-07.png  \n",
            "  inflating: /content/sentences/k07/k07-122/k07-122-08.png  \n",
            "   creating: /content/sentences/k07/k07-125/\n",
            "  inflating: /content/sentences/k07/k07-125/k07-125-00.png  \n",
            "  inflating: /content/sentences/k07/k07-125/k07-125-01.png  \n",
            "  inflating: /content/sentences/k07/k07-125/k07-125-02.png  \n",
            "  inflating: /content/sentences/k07/k07-125/k07-125-03.png  \n",
            "  inflating: /content/sentences/k07/k07-125/k07-125-04.png  \n",
            "  inflating: /content/sentences/k07/k07-125/k07-125-05.png  \n",
            "  inflating: /content/sentences/k07/k07-125/k07-125-06.png  \n",
            "   creating: /content/sentences/k07/k07-134/\n",
            "  inflating: /content/sentences/k07/k07-134/k07-134-00.png  \n",
            "  inflating: /content/sentences/k07/k07-134/k07-134-01.png  \n",
            "  inflating: /content/sentences/k07/k07-134/k07-134-02.png  \n",
            "  inflating: /content/sentences/k07/k07-134/k07-134-03.png  \n",
            "  inflating: /content/sentences/k07/k07-134/k07-134-04.png  \n",
            "  inflating: /content/sentences/k07/k07-134/k07-134-05.png  \n",
            "  inflating: /content/sentences/k07/k07-134/k07-134-06.png  \n",
            "  inflating: /content/sentences/k07/k07-134/k07-134-07.png  \n",
            "   creating: /content/sentences/k07/k07-141/\n",
            "  inflating: /content/sentences/k07/k07-141/k07-141-00.png  \n",
            "  inflating: /content/sentences/k07/k07-141/k07-141-01.png  \n",
            "  inflating: /content/sentences/k07/k07-141/k07-141-02.png  \n",
            "  inflating: /content/sentences/k07/k07-141/k07-141-03.png  \n",
            "  inflating: /content/sentences/k07/k07-141/k07-141-04.png  \n",
            "  inflating: /content/sentences/k07/k07-141/k07-141-05.png  \n",
            "  inflating: /content/sentences/k07/k07-141/k07-141-06.png  \n",
            "  inflating: /content/sentences/k07/k07-141/k07-141-07.png  \n",
            "   creating: /content/sentences/k07/k07-146/\n",
            "  inflating: /content/sentences/k07/k07-146/k07-146-00.png  \n",
            "  inflating: /content/sentences/k07/k07-146/k07-146-01.png  \n",
            "  inflating: /content/sentences/k07/k07-146/k07-146-02.png  \n",
            "  inflating: /content/sentences/k07/k07-146/k07-146-03.png  \n",
            "  inflating: /content/sentences/k07/k07-146/k07-146-04.png  \n",
            "  inflating: /content/sentences/k07/k07-146/k07-146-05.png  \n",
            "  inflating: /content/sentences/k07/k07-146/k07-146-06.png  \n",
            "  inflating: /content/sentences/k07/k07-146/k07-146-07.png  \n",
            "  inflating: /content/sentences/k07/k07-146/k07-146-08.png  \n",
            "   creating: /content/sentences/k07/k07-152/\n",
            "  inflating: /content/sentences/k07/k07-152/k07-152-00.png  \n",
            "  inflating: /content/sentences/k07/k07-152/k07-152-01.png  \n",
            "  inflating: /content/sentences/k07/k07-152/k07-152-02.png  \n",
            "  inflating: /content/sentences/k07/k07-152/k07-152-03.png  \n",
            "  inflating: /content/sentences/k07/k07-152/k07-152-04.png  \n",
            "  inflating: /content/sentences/k07/k07-152/k07-152-05.png  \n",
            "  inflating: /content/sentences/k07/k07-152/k07-152-06.png  \n",
            "  inflating: /content/sentences/k07/k07-152/k07-152-07.png  \n",
            "   creating: /content/sentences/k07/k07-158/\n",
            "  inflating: /content/sentences/k07/k07-158/k07-158-00.png  \n",
            "  inflating: /content/sentences/k07/k07-158/k07-158-01.png  \n",
            "  inflating: /content/sentences/k07/k07-158/k07-158-02.png  \n",
            "  inflating: /content/sentences/k07/k07-158/k07-158-03.png  \n",
            "  inflating: /content/sentences/k07/k07-158/k07-158-04.png  \n",
            "  inflating: /content/sentences/k07/k07-158/k07-158-05.png  \n",
            "  inflating: /content/sentences/k07/k07-158/k07-158-06.png  \n",
            "  inflating: /content/sentences/k07/k07-158/k07-158-07.png  \n",
            "  inflating: /content/sentences/k07/k07-158/k07-158-08.png  \n",
            "   creating: /content/sentences/k07/k07-166/\n",
            "  inflating: /content/sentences/k07/k07-166/k07-166-00.png  \n",
            "  inflating: /content/sentences/k07/k07-166/k07-166-01.png  \n",
            "  inflating: /content/sentences/k07/k07-166/k07-166-02.png  \n",
            "  inflating: /content/sentences/k07/k07-166/k07-166-03.png  \n",
            "  inflating: /content/sentences/k07/k07-166/k07-166-04.png  \n",
            "  inflating: /content/sentences/k07/k07-166/k07-166-05.png  \n",
            "  inflating: /content/sentences/k07/k07-166/k07-166-06.png  \n",
            "  inflating: /content/sentences/k07/k07-166/k07-166-07.png  \n",
            "  inflating: /content/sentences/k07/k07-166/k07-166-08.png  \n",
            "  inflating: /content/sentences/k07/k07-166/k07-166-09.png  \n",
            "   creating: /content/sentences/k07/k07-176/\n",
            "  inflating: /content/sentences/k07/k07-176/k07-176-00.png  \n",
            "  inflating: /content/sentences/k07/k07-176/k07-176-01.png  \n",
            "  inflating: /content/sentences/k07/k07-176/k07-176-02.png  \n",
            "  inflating: /content/sentences/k07/k07-176/k07-176-03.png  \n",
            "  inflating: /content/sentences/k07/k07-176/k07-176-04.png  \n",
            "  inflating: /content/sentences/k07/k07-176/k07-176-05.png  \n",
            "  inflating: /content/sentences/k07/k07-176/k07-176-06.png  \n",
            "  inflating: /content/sentences/k07/k07-176/k07-176-07.png  \n",
            "  inflating: /content/sentences/k07/k07-176/k07-176-08.png  \n",
            "  inflating: /content/sentences/k07/k07-176/k07-176-09.png  \n",
            "  inflating: /content/sentences/k07/k07-176/k07-176-10.png  \n",
            "  inflating: /content/sentences/k07/k07-176/k07-176-11.png  \n",
            "   creating: /content/sentences/k07/k07-185/\n",
            "  inflating: /content/sentences/k07/k07-185/k07-185-00.png  \n",
            "  inflating: /content/sentences/k07/k07-185/k07-185-01.png  \n",
            "  inflating: /content/sentences/k07/k07-185/k07-185-02.png  \n",
            "  inflating: /content/sentences/k07/k07-185/k07-185-03.png  \n",
            "  inflating: /content/sentences/k07/k07-185/k07-185-04.png  \n",
            "  inflating: /content/sentences/k07/k07-185/k07-185-05.png  \n",
            "  inflating: /content/sentences/k07/k07-185/k07-185-06.png  \n",
            "  inflating: /content/sentences/k07/k07-185/k07-185-07.png  \n",
            "  inflating: /content/sentences/k07/k07-185/k07-185-08.png  \n",
            "  inflating: /content/sentences/k07/k07-185/k07-185-09.png  \n",
            "  inflating: /content/sentences/k07/k07-185/k07-185-10.png  \n",
            "  inflating: /content/sentences/k07/k07-185/k07-185-11.png  \n",
            "   creating: /content/sentences/l01/\n",
            "   creating: /content/sentences/l01/l01-000/\n",
            "  inflating: /content/sentences/l01/l01-000/l01-000-00.png  \n",
            "  inflating: /content/sentences/l01/l01-000/l01-000-01.png  \n",
            "  inflating: /content/sentences/l01/l01-000/l01-000-02.png  \n",
            "  inflating: /content/sentences/l01/l01-000/l01-000-03.png  \n",
            "  inflating: /content/sentences/l01/l01-000/l01-000-04.png  \n",
            "  inflating: /content/sentences/l01/l01-000/l01-000-05.png  \n",
            "  inflating: /content/sentences/l01/l01-000/l01-000-06.png  \n",
            "  inflating: /content/sentences/l01/l01-000/l01-000-07.png  \n",
            "  inflating: /content/sentences/l01/l01-000/l01-000-08.png  \n",
            "  inflating: /content/sentences/l01/l01-000/l01-000-09.png  \n",
            "  inflating: /content/sentences/l01/l01-000/l01-000-10.png  \n",
            "   creating: /content/sentences/l01/l01-007/\n",
            "  inflating: /content/sentences/l01/l01-007/l01-007-00.png  \n",
            "  inflating: /content/sentences/l01/l01-007/l01-007-01.png  \n",
            "  inflating: /content/sentences/l01/l01-007/l01-007-02.png  \n",
            "  inflating: /content/sentences/l01/l01-007/l01-007-03.png  \n",
            "  inflating: /content/sentences/l01/l01-007/l01-007-04.png  \n",
            "  inflating: /content/sentences/l01/l01-007/l01-007-05.png  \n",
            "   creating: /content/sentences/l01/l01-016/\n",
            "  inflating: /content/sentences/l01/l01-016/l01-016-00.png  \n",
            "  inflating: /content/sentences/l01/l01-016/l01-016-01.png  \n",
            "  inflating: /content/sentences/l01/l01-016/l01-016-02.png  \n",
            "  inflating: /content/sentences/l01/l01-016/l01-016-03.png  \n",
            "  inflating: /content/sentences/l01/l01-016/l01-016-04.png  \n",
            "  inflating: /content/sentences/l01/l01-016/l01-016-05.png  \n",
            " extracting: /content/sentences/l01/l01-016/l01-016-06.png  \n",
            "   creating: /content/sentences/l01/l01-023/\n",
            "  inflating: /content/sentences/l01/l01-023/l01-023-00.png  \n",
            "  inflating: /content/sentences/l01/l01-023/l01-023-01.png  \n",
            "  inflating: /content/sentences/l01/l01-023/l01-023-02.png  \n",
            "  inflating: /content/sentences/l01/l01-023/l01-023-03.png  \n",
            "  inflating: /content/sentences/l01/l01-023/l01-023-04.png  \n",
            "  inflating: /content/sentences/l01/l01-023/l01-023-05.png  \n",
            "  inflating: /content/sentences/l01/l01-023/l01-023-06.png  \n",
            "   creating: /content/sentences/l01/l01-030/\n",
            "  inflating: /content/sentences/l01/l01-030/l01-030-00.png  \n",
            "  inflating: /content/sentences/l01/l01-030/l01-030-01.png  \n",
            "  inflating: /content/sentences/l01/l01-030/l01-030-02.png  \n",
            "  inflating: /content/sentences/l01/l01-030/l01-030-03.png  \n",
            "  inflating: /content/sentences/l01/l01-030/l01-030-04.png  \n",
            "  inflating: /content/sentences/l01/l01-030/l01-030-05.png  \n",
            "  inflating: /content/sentences/l01/l01-030/l01-030-06.png  \n",
            "  inflating: /content/sentences/l01/l01-030/l01-030-07.png  \n",
            "  inflating: /content/sentences/l01/l01-030/l01-030-08.png  \n",
            "   creating: /content/sentences/l01/l01-050/\n",
            "  inflating: /content/sentences/l01/l01-050/l01-050-00.png  \n",
            "  inflating: /content/sentences/l01/l01-050/l01-050-01.png  \n",
            "  inflating: /content/sentences/l01/l01-050/l01-050-02.png  \n",
            "  inflating: /content/sentences/l01/l01-050/l01-050-03.png  \n",
            "  inflating: /content/sentences/l01/l01-050/l01-050-04.png  \n",
            "  inflating: /content/sentences/l01/l01-050/l01-050-05.png  \n",
            "  inflating: /content/sentences/l01/l01-050/l01-050-06.png  \n",
            "  inflating: /content/sentences/l01/l01-050/l01-050-07.png  \n",
            "  inflating: /content/sentences/l01/l01-050/l01-050-08.png  \n",
            "   creating: /content/sentences/l01/l01-065/\n",
            "  inflating: /content/sentences/l01/l01-065/l01-065-00.png  \n",
            "  inflating: /content/sentences/l01/l01-065/l01-065-01.png  \n",
            "  inflating: /content/sentences/l01/l01-065/l01-065-02.png  \n",
            "  inflating: /content/sentences/l01/l01-065/l01-065-03.png  \n",
            "  inflating: /content/sentences/l01/l01-065/l01-065-04.png  \n",
            "  inflating: /content/sentences/l01/l01-065/l01-065-05.png  \n",
            "  inflating: /content/sentences/l01/l01-065/l01-065-06.png  \n",
            "  inflating: /content/sentences/l01/l01-065/l01-065-07.png  \n",
            "  inflating: /content/sentences/l01/l01-065/l01-065-08.png  \n",
            "  inflating: /content/sentences/l01/l01-065/l01-065-09.png  \n",
            "  inflating: /content/sentences/l01/l01-065/l01-065-10.png  \n",
            " extracting: /content/sentences/l01/l01-065/l01-065-11.png  \n",
            "   creating: /content/sentences/l01/l01-082/\n",
            "  inflating: /content/sentences/l01/l01-082/l01-082-00.png  \n",
            "  inflating: /content/sentences/l01/l01-082/l01-082-01.png  \n",
            "  inflating: /content/sentences/l01/l01-082/l01-082-02.png  \n",
            "  inflating: /content/sentences/l01/l01-082/l01-082-03.png  \n",
            "  inflating: /content/sentences/l01/l01-082/l01-082-04.png  \n",
            "   creating: /content/sentences/l01/l01-095/\n",
            "  inflating: /content/sentences/l01/l01-095/l01-095-00.png  \n",
            "  inflating: /content/sentences/l01/l01-095/l01-095-01.png  \n",
            "  inflating: /content/sentences/l01/l01-095/l01-095-02.png  \n",
            "  inflating: /content/sentences/l01/l01-095/l01-095-03.png  \n",
            "  inflating: /content/sentences/l01/l01-095/l01-095-04.png  \n",
            "  inflating: /content/sentences/l01/l01-095/l01-095-05.png  \n",
            "  inflating: /content/sentences/l01/l01-095/l01-095-06.png  \n",
            "  inflating: /content/sentences/l01/l01-095/l01-095-07.png  \n",
            "  inflating: /content/sentences/l01/l01-095/l01-095-08.png  \n",
            "   creating: /content/sentences/l01/l01-105/\n",
            "  inflating: /content/sentences/l01/l01-105/l01-105-00.png  \n",
            "  inflating: /content/sentences/l01/l01-105/l01-105-01.png  \n",
            "  inflating: /content/sentences/l01/l01-105/l01-105-02.png  \n",
            "  inflating: /content/sentences/l01/l01-105/l01-105-03.png  \n",
            "  inflating: /content/sentences/l01/l01-105/l01-105-04.png  \n",
            "  inflating: /content/sentences/l01/l01-105/l01-105-05.png  \n",
            "  inflating: /content/sentences/l01/l01-105/l01-105-06.png  \n",
            "  inflating: /content/sentences/l01/l01-105/l01-105-07.png  \n",
            "  inflating: /content/sentences/l01/l01-105/l01-105-08.png  \n",
            "  inflating: /content/sentences/l01/l01-105/l01-105-09.png  \n",
            "  inflating: /content/sentences/l01/l01-105/l01-105-10.png  \n",
            "   creating: /content/sentences/l01/l01-111/\n",
            "  inflating: /content/sentences/l01/l01-111/l01-111-00.png  \n",
            "  inflating: /content/sentences/l01/l01-111/l01-111-01.png  \n",
            "  inflating: /content/sentences/l01/l01-111/l01-111-02.png  \n",
            "  inflating: /content/sentences/l01/l01-111/l01-111-03.png  \n",
            "  inflating: /content/sentences/l01/l01-111/l01-111-04.png  \n",
            "  inflating: /content/sentences/l01/l01-111/l01-111-05.png  \n",
            "  inflating: /content/sentences/l01/l01-111/l01-111-06.png  \n",
            "  inflating: /content/sentences/l01/l01-111/l01-111-07.png  \n",
            "  inflating: /content/sentences/l01/l01-111/l01-111-08.png  \n",
            "   creating: /content/sentences/l01/l01-119/\n",
            "  inflating: /content/sentences/l01/l01-119/l01-119-00.png  \n",
            "  inflating: /content/sentences/l01/l01-119/l01-119-01.png  \n",
            "  inflating: /content/sentences/l01/l01-119/l01-119-02.png  \n",
            "  inflating: /content/sentences/l01/l01-119/l01-119-03.png  \n",
            " extracting: /content/sentences/l01/l01-119/l01-119-04.png  \n",
            "  inflating: /content/sentences/l01/l01-119/l01-119-05.png  \n",
            " extracting: /content/sentences/l01/l01-119/l01-119-06.png  \n",
            "  inflating: /content/sentences/l01/l01-119/l01-119-07.png  \n",
            "   creating: /content/sentences/l01/l01-129/\n",
            "  inflating: /content/sentences/l01/l01-129/l01-129-00.png  \n",
            "  inflating: /content/sentences/l01/l01-129/l01-129-01.png  \n",
            "  inflating: /content/sentences/l01/l01-129/l01-129-02.png  \n",
            "  inflating: /content/sentences/l01/l01-129/l01-129-03.png  \n",
            "  inflating: /content/sentences/l01/l01-129/l01-129-04.png  \n",
            "  inflating: /content/sentences/l01/l01-129/l01-129-05.png  \n",
            "  inflating: /content/sentences/l01/l01-129/l01-129-06.png  \n",
            "  inflating: /content/sentences/l01/l01-129/l01-129-07.png  \n",
            "   creating: /content/sentences/l01/l01-133/\n",
            "  inflating: /content/sentences/l01/l01-133/l01-133-00.png  \n",
            "  inflating: /content/sentences/l01/l01-133/l01-133-01.png  \n",
            "  inflating: /content/sentences/l01/l01-133/l01-133-02.png  \n",
            "  inflating: /content/sentences/l01/l01-133/l01-133-03.png  \n",
            "  inflating: /content/sentences/l01/l01-133/l01-133-04.png  \n",
            "  inflating: /content/sentences/l01/l01-133/l01-133-05.png  \n",
            "  inflating: /content/sentences/l01/l01-133/l01-133-06.png  \n",
            "  inflating: /content/sentences/l01/l01-133/l01-133-07.png  \n",
            "  inflating: /content/sentences/l01/l01-133/l01-133-08.png  \n",
            "   creating: /content/sentences/l01/l01-143/\n",
            "  inflating: /content/sentences/l01/l01-143/l01-143-00.png  \n",
            "  inflating: /content/sentences/l01/l01-143/l01-143-01.png  \n",
            "  inflating: /content/sentences/l01/l01-143/l01-143-02.png  \n",
            "  inflating: /content/sentences/l01/l01-143/l01-143-03.png  \n",
            "  inflating: /content/sentences/l01/l01-143/l01-143-04.png  \n",
            "  inflating: /content/sentences/l01/l01-143/l01-143-05.png  \n",
            "  inflating: /content/sentences/l01/l01-143/l01-143-06.png  \n",
            "   creating: /content/sentences/l01/l01-157/\n",
            "  inflating: /content/sentences/l01/l01-157/l01-157-00.png  \n",
            "  inflating: /content/sentences/l01/l01-157/l01-157-01.png  \n",
            "  inflating: /content/sentences/l01/l01-157/l01-157-02.png  \n",
            "  inflating: /content/sentences/l01/l01-157/l01-157-03.png  \n",
            "  inflating: /content/sentences/l01/l01-157/l01-157-04.png  \n",
            "  inflating: /content/sentences/l01/l01-157/l01-157-05.png  \n",
            "  inflating: /content/sentences/l01/l01-157/l01-157-06.png  \n",
            "  inflating: /content/sentences/l01/l01-157/l01-157-07.png  \n",
            "   creating: /content/sentences/l01/l01-173/\n",
            "  inflating: /content/sentences/l01/l01-173/l01-173-00.png  \n",
            "  inflating: /content/sentences/l01/l01-173/l01-173-01.png  \n",
            "  inflating: /content/sentences/l01/l01-173/l01-173-02.png  \n",
            "  inflating: /content/sentences/l01/l01-173/l01-173-03.png  \n",
            "  inflating: /content/sentences/l01/l01-173/l01-173-04.png  \n",
            "  inflating: /content/sentences/l01/l01-173/l01-173-05.png  \n",
            "  inflating: /content/sentences/l01/l01-173/l01-173-06.png  \n",
            "  inflating: /content/sentences/l01/l01-173/l01-173-07.png  \n",
            "   creating: /content/sentences/l01/l01-179/\n",
            "  inflating: /content/sentences/l01/l01-179/l01-179-00.png  \n",
            "  inflating: /content/sentences/l01/l01-179/l01-179-01.png  \n",
            "  inflating: /content/sentences/l01/l01-179/l01-179-02.png  \n",
            "  inflating: /content/sentences/l01/l01-179/l01-179-03.png  \n",
            "  inflating: /content/sentences/l01/l01-179/l01-179-04.png  \n",
            "  inflating: /content/sentences/l01/l01-179/l01-179-05.png  \n",
            "  inflating: /content/sentences/l01/l01-179/l01-179-06.png  \n",
            "  inflating: /content/sentences/l01/l01-179/l01-179-07.png  \n",
            "  inflating: /content/sentences/l01/l01-179/l01-179-08.png  \n",
            "   creating: /content/sentences/l01/l01-187/\n",
            "  inflating: /content/sentences/l01/l01-187/l01-187-00.png  \n",
            "  inflating: /content/sentences/l01/l01-187/l01-187-01.png  \n",
            "  inflating: /content/sentences/l01/l01-187/l01-187-02.png  \n",
            "  inflating: /content/sentences/l01/l01-187/l01-187-03.png  \n",
            "  inflating: /content/sentences/l01/l01-187/l01-187-04.png  \n",
            "  inflating: /content/sentences/l01/l01-187/l01-187-05.png  \n",
            "  inflating: /content/sentences/l01/l01-187/l01-187-06.png  \n",
            "  inflating: /content/sentences/l01/l01-187/l01-187-07.png  \n",
            "  inflating: /content/sentences/l01/l01-187/l01-187-08.png  \n",
            "  inflating: /content/sentences/l01/l01-187/l01-187-09.png  \n",
            "  inflating: /content/sentences/l01/l01-187/l01-187-10.png  \n",
            "   creating: /content/sentences/l01/l01-195/\n",
            "  inflating: /content/sentences/l01/l01-195/l01-195-00.png  \n",
            "  inflating: /content/sentences/l01/l01-195/l01-195-01.png  \n",
            "  inflating: /content/sentences/l01/l01-195/l01-195-02.png  \n",
            "  inflating: /content/sentences/l01/l01-195/l01-195-03.png  \n",
            "  inflating: /content/sentences/l01/l01-195/l01-195-04.png  \n",
            "  inflating: /content/sentences/l01/l01-195/l01-195-05.png  \n",
            "  inflating: /content/sentences/l01/l01-195/l01-195-06.png  \n",
            "  inflating: /content/sentences/l01/l01-195/l01-195-07.png  \n",
            "   creating: /content/sentences/l01/l01-199/\n",
            "  inflating: /content/sentences/l01/l01-199/l01-199-00.png  \n",
            "  inflating: /content/sentences/l01/l01-199/l01-199-01.png  \n",
            "  inflating: /content/sentences/l01/l01-199/l01-199-02.png  \n",
            "  inflating: /content/sentences/l01/l01-199/l01-199-03.png  \n",
            "  inflating: /content/sentences/l01/l01-199/l01-199-04.png  \n",
            "  inflating: /content/sentences/l01/l01-199/l01-199-05.png  \n",
            "  inflating: /content/sentences/l01/l01-199/l01-199-06.png  \n",
            "  inflating: /content/sentences/l01/l01-199/l01-199-07.png  \n",
            "  inflating: /content/sentences/l01/l01-199/l01-199-08.png  \n",
            "  inflating: /content/sentences/l01/l01-199/l01-199-09.png  \n",
            "  inflating: /content/sentences/l01/l01-199/l01-199-10.png  \n",
            "   creating: /content/sentences/l03/\n",
            "   creating: /content/sentences/l03/l03-000/\n",
            "  inflating: /content/sentences/l03/l03-000/l03-000-00.png  \n",
            "  inflating: /content/sentences/l03/l03-000/l03-000-01.png  \n",
            "  inflating: /content/sentences/l03/l03-000/l03-000-02.png  \n",
            "  inflating: /content/sentences/l03/l03-000/l03-000-03.png  \n",
            "  inflating: /content/sentences/l03/l03-000/l03-000-04.png  \n",
            "  inflating: /content/sentences/l03/l03-000/l03-000-05.png  \n",
            "  inflating: /content/sentences/l03/l03-000/l03-000-06.png  \n",
            "  inflating: /content/sentences/l03/l03-000/l03-000-07.png  \n",
            "   creating: /content/sentences/l03/l03-004/\n",
            "  inflating: /content/sentences/l03/l03-004/l03-004-00.png  \n",
            "  inflating: /content/sentences/l03/l03-004/l03-004-01.png  \n",
            "  inflating: /content/sentences/l03/l03-004/l03-004-02.png  \n",
            "  inflating: /content/sentences/l03/l03-004/l03-004-03.png  \n",
            "  inflating: /content/sentences/l03/l03-004/l03-004-04.png  \n",
            "  inflating: /content/sentences/l03/l03-004/l03-004-05.png  \n",
            "  inflating: /content/sentences/l03/l03-004/l03-004-06.png  \n",
            "  inflating: /content/sentences/l03/l03-004/l03-004-07.png  \n",
            "  inflating: /content/sentences/l03/l03-004/l03-004-08.png  \n",
            "  inflating: /content/sentences/l03/l03-004/l03-004-09.png  \n",
            "   creating: /content/sentences/l03/l03-008/\n",
            "  inflating: /content/sentences/l03/l03-008/l03-008-00.png  \n",
            "  inflating: /content/sentences/l03/l03-008/l03-008-01.png  \n",
            "  inflating: /content/sentences/l03/l03-008/l03-008-02.png  \n",
            "  inflating: /content/sentences/l03/l03-008/l03-008-03.png  \n",
            "  inflating: /content/sentences/l03/l03-008/l03-008-04.png  \n",
            "  inflating: /content/sentences/l03/l03-008/l03-008-05.png  \n",
            "  inflating: /content/sentences/l03/l03-008/l03-008-06.png  \n",
            "  inflating: /content/sentences/l03/l03-008/l03-008-07.png  \n",
            "  inflating: /content/sentences/l03/l03-008/l03-008-08.png  \n",
            "  inflating: /content/sentences/l03/l03-008/l03-008-09.png  \n",
            "   creating: /content/sentences/l04/\n",
            "   creating: /content/sentences/l04/l04-000/\n",
            "  inflating: /content/sentences/l04/l04-000/l04-000-00.png  \n",
            "  inflating: /content/sentences/l04/l04-000/l04-000-01.png  \n",
            "  inflating: /content/sentences/l04/l04-000/l04-000-02.png  \n",
            "  inflating: /content/sentences/l04/l04-000/l04-000-03.png  \n",
            "  inflating: /content/sentences/l04/l04-000/l04-000-04.png  \n",
            "   creating: /content/sentences/l04/l04-005/\n",
            "  inflating: /content/sentences/l04/l04-005/l04-005-00.png  \n",
            "  inflating: /content/sentences/l04/l04-005/l04-005-01.png  \n",
            "  inflating: /content/sentences/l04/l04-005/l04-005-02.png  \n",
            "  inflating: /content/sentences/l04/l04-005/l04-005-03.png  \n",
            "  inflating: /content/sentences/l04/l04-005/l04-005-04.png  \n",
            "  inflating: /content/sentences/l04/l04-005/l04-005-05.png  \n",
            "  inflating: /content/sentences/l04/l04-005/l04-005-06.png  \n",
            "   creating: /content/sentences/l04/l04-012/\n",
            "  inflating: /content/sentences/l04/l04-012/l04-012-00.png  \n",
            "  inflating: /content/sentences/l04/l04-012/l04-012-01.png  \n",
            "  inflating: /content/sentences/l04/l04-012/l04-012-02.png  \n",
            "  inflating: /content/sentences/l04/l04-012/l04-012-03.png  \n",
            "  inflating: /content/sentences/l04/l04-012/l04-012-04.png  \n",
            "  inflating: /content/sentences/l04/l04-012/l04-012-05.png  \n",
            "  inflating: /content/sentences/l04/l04-012/l04-012-06.png  \n",
            "  inflating: /content/sentences/l04/l04-012/l04-012-07.png  \n",
            "   creating: /content/sentences/l04/l04-020/\n",
            "  inflating: /content/sentences/l04/l04-020/l04-020-00.png  \n",
            "  inflating: /content/sentences/l04/l04-020/l04-020-01.png  \n",
            "  inflating: /content/sentences/l04/l04-020/l04-020-02.png  \n",
            "  inflating: /content/sentences/l04/l04-020/l04-020-03.png  \n",
            "  inflating: /content/sentences/l04/l04-020/l04-020-04.png  \n",
            "  inflating: /content/sentences/l04/l04-020/l04-020-05.png  \n",
            "  inflating: /content/sentences/l04/l04-020/l04-020-06.png  \n",
            "   creating: /content/sentences/l04/l04-026/\n",
            "  inflating: /content/sentences/l04/l04-026/l04-026-00.png  \n",
            "  inflating: /content/sentences/l04/l04-026/l04-026-01.png  \n",
            "  inflating: /content/sentences/l04/l04-026/l04-026-02.png  \n",
            "  inflating: /content/sentences/l04/l04-026/l04-026-03.png  \n",
            "  inflating: /content/sentences/l04/l04-026/l04-026-04.png  \n",
            "  inflating: /content/sentences/l04/l04-026/l04-026-05.png  \n",
            "  inflating: /content/sentences/l04/l04-026/l04-026-06.png  \n",
            "  inflating: /content/sentences/l04/l04-026/l04-026-07.png  \n",
            "   creating: /content/sentences/l04/l04-034/\n",
            "  inflating: /content/sentences/l04/l04-034/l04-034-00.png  \n",
            "  inflating: /content/sentences/l04/l04-034/l04-034-01.png  \n",
            "  inflating: /content/sentences/l04/l04-034/l04-034-02.png  \n",
            "  inflating: /content/sentences/l04/l04-034/l04-034-03.png  \n",
            "  inflating: /content/sentences/l04/l04-034/l04-034-04.png  \n",
            "  inflating: /content/sentences/l04/l04-034/l04-034-05.png  \n",
            "  inflating: /content/sentences/l04/l04-034/l04-034-06.png  \n",
            "  inflating: /content/sentences/l04/l04-034/l04-034-07.png  \n",
            "  inflating: /content/sentences/l04/l04-034/l04-034-08.png  \n",
            "   creating: /content/sentences/l04/l04-043/\n",
            "  inflating: /content/sentences/l04/l04-043/l04-043-00.png  \n",
            "  inflating: /content/sentences/l04/l04-043/l04-043-01.png  \n",
            "  inflating: /content/sentences/l04/l04-043/l04-043-02.png  \n",
            "  inflating: /content/sentences/l04/l04-043/l04-043-03.png  \n",
            "  inflating: /content/sentences/l04/l04-043/l04-043-04.png  \n",
            "  inflating: /content/sentences/l04/l04-043/l04-043-05.png  \n",
            "  inflating: /content/sentences/l04/l04-043/l04-043-06.png  \n",
            "  inflating: /content/sentences/l04/l04-043/l04-043-07.png  \n",
            "  inflating: /content/sentences/l04/l04-043/l04-043-08.png  \n",
            "   creating: /content/sentences/l04/l04-052/\n",
            "  inflating: /content/sentences/l04/l04-052/l04-052-00.png  \n",
            "  inflating: /content/sentences/l04/l04-052/l04-052-01.png  \n",
            "  inflating: /content/sentences/l04/l04-052/l04-052-02.png  \n",
            "  inflating: /content/sentences/l04/l04-052/l04-052-03.png  \n",
            "  inflating: /content/sentences/l04/l04-052/l04-052-04.png  \n",
            "  inflating: /content/sentences/l04/l04-052/l04-052-05.png  \n",
            "  inflating: /content/sentences/l04/l04-052/l04-052-06.png  \n",
            "  inflating: /content/sentences/l04/l04-052/l04-052-07.png  \n",
            "  inflating: /content/sentences/l04/l04-052/l04-052-08.png  \n",
            "   creating: /content/sentences/l04/l04-062/\n",
            "  inflating: /content/sentences/l04/l04-062/l04-062-00.png  \n",
            "  inflating: /content/sentences/l04/l04-062/l04-062-01.png  \n",
            "  inflating: /content/sentences/l04/l04-062/l04-062-02.png  \n",
            "  inflating: /content/sentences/l04/l04-062/l04-062-03.png  \n",
            "  inflating: /content/sentences/l04/l04-062/l04-062-04.png  \n",
            "  inflating: /content/sentences/l04/l04-062/l04-062-05.png  \n",
            "  inflating: /content/sentences/l04/l04-062/l04-062-06.png  \n",
            "  inflating: /content/sentences/l04/l04-062/l04-062-07.png  \n",
            "  inflating: /content/sentences/l04/l04-062/l04-062-08.png  \n",
            "  inflating: /content/sentences/l04/l04-062/l04-062-09.png  \n",
            "   creating: /content/sentences/l04/l04-066/\n",
            "  inflating: /content/sentences/l04/l04-066/l04-066-00.png  \n",
            "  inflating: /content/sentences/l04/l04-066/l04-066-01.png  \n",
            "  inflating: /content/sentences/l04/l04-066/l04-066-02.png  \n",
            "  inflating: /content/sentences/l04/l04-066/l04-066-03.png  \n",
            "  inflating: /content/sentences/l04/l04-066/l04-066-04.png  \n",
            "  inflating: /content/sentences/l04/l04-066/l04-066-05.png  \n",
            "  inflating: /content/sentences/l04/l04-066/l04-066-06.png  \n",
            " extracting: /content/sentences/l04/l04-066/l04-066-07.png  \n",
            "   creating: /content/sentences/l04/l04-071/\n",
            "  inflating: /content/sentences/l04/l04-071/l04-071-00.png  \n",
            "  inflating: /content/sentences/l04/l04-071/l04-071-01.png  \n",
            "  inflating: /content/sentences/l04/l04-071/l04-071-02.png  \n",
            "  inflating: /content/sentences/l04/l04-071/l04-071-03.png  \n",
            "  inflating: /content/sentences/l04/l04-071/l04-071-04.png  \n",
            "  inflating: /content/sentences/l04/l04-071/l04-071-05.png  \n",
            "  inflating: /content/sentences/l04/l04-071/l04-071-06.png  \n",
            "  inflating: /content/sentences/l04/l04-071/l04-071-07.png  \n",
            "  inflating: /content/sentences/l04/l04-071/l04-071-08.png  \n",
            "   creating: /content/sentences/l04/l04-082/\n",
            "  inflating: /content/sentences/l04/l04-082/l04-082-00.png  \n",
            "  inflating: /content/sentences/l04/l04-082/l04-082-01.png  \n",
            "  inflating: /content/sentences/l04/l04-082/l04-082-02.png  \n",
            "  inflating: /content/sentences/l04/l04-082/l04-082-03.png  \n",
            "  inflating: /content/sentences/l04/l04-082/l04-082-04.png  \n",
            "  inflating: /content/sentences/l04/l04-082/l04-082-05.png  \n",
            "  inflating: /content/sentences/l04/l04-082/l04-082-06.png  \n",
            "  inflating: /content/sentences/l04/l04-082/l04-082-07.png  \n",
            "  inflating: /content/sentences/l04/l04-082/l04-082-08.png  \n",
            "   creating: /content/sentences/l04/l04-087/\n",
            "  inflating: /content/sentences/l04/l04-087/l04-087-00.png  \n",
            "  inflating: /content/sentences/l04/l04-087/l04-087-01.png  \n",
            "  inflating: /content/sentences/l04/l04-087/l04-087-02.png  \n",
            "  inflating: /content/sentences/l04/l04-087/l04-087-03.png  \n",
            "  inflating: /content/sentences/l04/l04-087/l04-087-04.png  \n",
            "  inflating: /content/sentences/l04/l04-087/l04-087-05.png  \n",
            "   creating: /content/sentences/l04/l04-093/\n",
            "  inflating: /content/sentences/l04/l04-093/l04-093-00.png  \n",
            "  inflating: /content/sentences/l04/l04-093/l04-093-01.png  \n",
            "  inflating: /content/sentences/l04/l04-093/l04-093-02.png  \n",
            "  inflating: /content/sentences/l04/l04-093/l04-093-03.png  \n",
            "  inflating: /content/sentences/l04/l04-093/l04-093-04.png  \n",
            "  inflating: /content/sentences/l04/l04-093/l04-093-05.png  \n",
            "  inflating: /content/sentences/l04/l04-093/l04-093-06.png  \n",
            " extracting: /content/sentences/l04/l04-093/l04-093-07.png  \n",
            "   creating: /content/sentences/l04/l04-098/\n",
            "  inflating: /content/sentences/l04/l04-098/l04-098-00.png  \n",
            "  inflating: /content/sentences/l04/l04-098/l04-098-01.png  \n",
            "  inflating: /content/sentences/l04/l04-098/l04-098-02.png  \n",
            "  inflating: /content/sentences/l04/l04-098/l04-098-03.png  \n",
            "  inflating: /content/sentences/l04/l04-098/l04-098-04.png  \n",
            "  inflating: /content/sentences/l04/l04-098/l04-098-05.png  \n",
            "  inflating: /content/sentences/l04/l04-098/l04-098-06.png  \n",
            "  inflating: /content/sentences/l04/l04-098/l04-098-07.png  \n",
            "   creating: /content/sentences/l04/l04-102/\n",
            "  inflating: /content/sentences/l04/l04-102/l04-102-00.png  \n",
            "  inflating: /content/sentences/l04/l04-102/l04-102-01.png  \n",
            "  inflating: /content/sentences/l04/l04-102/l04-102-02.png  \n",
            "  inflating: /content/sentences/l04/l04-102/l04-102-03.png  \n",
            "  inflating: /content/sentences/l04/l04-102/l04-102-04.png  \n",
            "  inflating: /content/sentences/l04/l04-102/l04-102-05.png  \n",
            "  inflating: /content/sentences/l04/l04-102/l04-102-06.png  \n",
            "  inflating: /content/sentences/l04/l04-102/l04-102-07.png  \n",
            "  inflating: /content/sentences/l04/l04-102/l04-102-08.png  \n",
            "   creating: /content/sentences/l04/l04-106/\n",
            "  inflating: /content/sentences/l04/l04-106/l04-106-00.png  \n",
            "  inflating: /content/sentences/l04/l04-106/l04-106-01.png  \n",
            "  inflating: /content/sentences/l04/l04-106/l04-106-02.png  \n",
            "  inflating: /content/sentences/l04/l04-106/l04-106-03.png  \n",
            "  inflating: /content/sentences/l04/l04-106/l04-106-04.png  \n",
            "  inflating: /content/sentences/l04/l04-106/l04-106-05.png  \n",
            "  inflating: /content/sentences/l04/l04-106/l04-106-06.png  \n",
            "   creating: /content/sentences/l04/l04-113/\n",
            "  inflating: /content/sentences/l04/l04-113/l04-113-00.png  \n",
            "  inflating: /content/sentences/l04/l04-113/l04-113-01.png  \n",
            "  inflating: /content/sentences/l04/l04-113/l04-113-02.png  \n",
            "  inflating: /content/sentences/l04/l04-113/l04-113-03.png  \n",
            "  inflating: /content/sentences/l04/l04-113/l04-113-04.png  \n",
            "  inflating: /content/sentences/l04/l04-113/l04-113-05.png  \n",
            "   creating: /content/sentences/l04/l04-118/\n",
            "  inflating: /content/sentences/l04/l04-118/l04-118-00.png  \n",
            "  inflating: /content/sentences/l04/l04-118/l04-118-01.png  \n",
            "  inflating: /content/sentences/l04/l04-118/l04-118-02.png  \n",
            "  inflating: /content/sentences/l04/l04-118/l04-118-03.png  \n",
            "  inflating: /content/sentences/l04/l04-118/l04-118-04.png  \n",
            "  inflating: /content/sentences/l04/l04-118/l04-118-05.png  \n",
            "  inflating: /content/sentences/l04/l04-118/l04-118-06.png  \n",
            "  inflating: /content/sentences/l04/l04-118/l04-118-07.png  \n",
            "   creating: /content/sentences/l04/l04-124/\n",
            "  inflating: /content/sentences/l04/l04-124/l04-124-00.png  \n",
            "  inflating: /content/sentences/l04/l04-124/l04-124-01.png  \n",
            "  inflating: /content/sentences/l04/l04-124/l04-124-02.png  \n",
            "  inflating: /content/sentences/l04/l04-124/l04-124-03.png  \n",
            "  inflating: /content/sentences/l04/l04-124/l04-124-04.png  \n",
            "  inflating: /content/sentences/l04/l04-124/l04-124-05.png  \n",
            "  inflating: /content/sentences/l04/l04-124/l04-124-06.png  \n",
            "  inflating: /content/sentences/l04/l04-124/l04-124-07.png  \n",
            "  inflating: /content/sentences/l04/l04-124/l04-124-08.png  \n",
            " extracting: /content/sentences/l04/l04-124/l04-124-09.png  \n",
            "   creating: /content/sentences/l04/l04-130/\n",
            "  inflating: /content/sentences/l04/l04-130/l04-130-00.png  \n",
            "  inflating: /content/sentences/l04/l04-130/l04-130-01.png  \n",
            "  inflating: /content/sentences/l04/l04-130/l04-130-02.png  \n",
            "  inflating: /content/sentences/l04/l04-130/l04-130-03.png  \n",
            "  inflating: /content/sentences/l04/l04-130/l04-130-04.png  \n",
            "  inflating: /content/sentences/l04/l04-130/l04-130-05.png  \n",
            "  inflating: /content/sentences/l04/l04-130/l04-130-06.png  \n",
            "  inflating: /content/sentences/l04/l04-130/l04-130-07.png  \n",
            "  inflating: /content/sentences/l04/l04-130/l04-130-08.png  \n",
            " extracting: /content/sentences/l04/l04-130/l04-130-09.png  \n",
            "   creating: /content/sentences/l04/l04-136/\n",
            "  inflating: /content/sentences/l04/l04-136/l04-136-00.png  \n",
            "  inflating: /content/sentences/l04/l04-136/l04-136-01.png  \n",
            "  inflating: /content/sentences/l04/l04-136/l04-136-02.png  \n",
            "  inflating: /content/sentences/l04/l04-136/l04-136-03.png  \n",
            "  inflating: /content/sentences/l04/l04-136/l04-136-04.png  \n",
            "  inflating: /content/sentences/l04/l04-136/l04-136-05.png  \n",
            "  inflating: /content/sentences/l04/l04-136/l04-136-06.png  \n",
            "  inflating: /content/sentences/l04/l04-136/l04-136-07.png  \n",
            "   creating: /content/sentences/l04/l04-141/\n",
            "  inflating: /content/sentences/l04/l04-141/l04-141-00.png  \n",
            "  inflating: /content/sentences/l04/l04-141/l04-141-01.png  \n",
            "  inflating: /content/sentences/l04/l04-141/l04-141-02.png  \n",
            "  inflating: /content/sentences/l04/l04-141/l04-141-03.png  \n",
            "  inflating: /content/sentences/l04/l04-141/l04-141-04.png  \n",
            "  inflating: /content/sentences/l04/l04-141/l04-141-05.png  \n",
            "  inflating: /content/sentences/l04/l04-141/l04-141-06.png  \n",
            "   creating: /content/sentences/l04/l04-147/\n",
            "  inflating: /content/sentences/l04/l04-147/l04-147-00.png  \n",
            "  inflating: /content/sentences/l04/l04-147/l04-147-01.png  \n",
            "  inflating: /content/sentences/l04/l04-147/l04-147-02.png  \n",
            "  inflating: /content/sentences/l04/l04-147/l04-147-03.png  \n",
            "  inflating: /content/sentences/l04/l04-147/l04-147-04.png  \n",
            "  inflating: /content/sentences/l04/l04-147/l04-147-05.png  \n",
            "   creating: /content/sentences/l04/l04-153/\n",
            "  inflating: /content/sentences/l04/l04-153/l04-153-00.png  \n",
            "  inflating: /content/sentences/l04/l04-153/l04-153-01.png  \n",
            "  inflating: /content/sentences/l04/l04-153/l04-153-02.png  \n",
            "  inflating: /content/sentences/l04/l04-153/l04-153-03.png  \n",
            "  inflating: /content/sentences/l04/l04-153/l04-153-04.png  \n",
            "  inflating: /content/sentences/l04/l04-153/l04-153-05.png  \n",
            "  inflating: /content/sentences/l04/l04-153/l04-153-06.png  \n",
            "  inflating: /content/sentences/l04/l04-153/l04-153-07.png  \n",
            "   creating: /content/sentences/l04/l04-159/\n",
            "  inflating: /content/sentences/l04/l04-159/l04-159-00.png  \n",
            "  inflating: /content/sentences/l04/l04-159/l04-159-01.png  \n",
            "  inflating: /content/sentences/l04/l04-159/l04-159-02.png  \n",
            "  inflating: /content/sentences/l04/l04-159/l04-159-03.png  \n",
            "  inflating: /content/sentences/l04/l04-159/l04-159-04.png  \n",
            "  inflating: /content/sentences/l04/l04-159/l04-159-05.png  \n",
            "  inflating: /content/sentences/l04/l04-159/l04-159-06.png  \n",
            "  inflating: /content/sentences/l04/l04-159/l04-159-07.png  \n",
            "  inflating: /content/sentences/l04/l04-159/l04-159-08.png  \n",
            "   creating: /content/sentences/l04/l04-163/\n",
            "  inflating: /content/sentences/l04/l04-163/l04-163-00.png  \n",
            "  inflating: /content/sentences/l04/l04-163/l04-163-01.png  \n",
            "  inflating: /content/sentences/l04/l04-163/l04-163-02.png  \n",
            "  inflating: /content/sentences/l04/l04-163/l04-163-03.png  \n",
            "  inflating: /content/sentences/l04/l04-163/l04-163-04.png  \n",
            "  inflating: /content/sentences/l04/l04-163/l04-163-05.png  \n",
            "  inflating: /content/sentences/l04/l04-163/l04-163-06.png  \n",
            "  inflating: /content/sentences/l04/l04-163/l04-163-07.png  \n",
            " extracting: /content/sentences/l04/l04-163/l04-163-08.png  \n",
            "   creating: /content/sentences/l04/l04-170/\n",
            "  inflating: /content/sentences/l04/l04-170/l04-170-00.png  \n",
            "  inflating: /content/sentences/l04/l04-170/l04-170-01.png  \n",
            "  inflating: /content/sentences/l04/l04-170/l04-170-02.png  \n",
            "  inflating: /content/sentences/l04/l04-170/l04-170-03.png  \n",
            "  inflating: /content/sentences/l04/l04-170/l04-170-04.png  \n",
            "  inflating: /content/sentences/l04/l04-170/l04-170-05.png  \n",
            "  inflating: /content/sentences/l04/l04-170/l04-170-06.png  \n",
            " extracting: /content/sentences/l04/l04-170/l04-170-07.png  \n",
            "   creating: /content/sentences/l04/l04-174/\n",
            "  inflating: /content/sentences/l04/l04-174/l04-174-00.png  \n",
            "  inflating: /content/sentences/l04/l04-174/l04-174-01.png  \n",
            "  inflating: /content/sentences/l04/l04-174/l04-174-02.png  \n",
            "  inflating: /content/sentences/l04/l04-174/l04-174-03.png  \n",
            "  inflating: /content/sentences/l04/l04-174/l04-174-04.png  \n",
            "  inflating: /content/sentences/l04/l04-174/l04-174-05.png  \n",
            "   creating: /content/sentences/l04/l04-179/\n",
            "  inflating: /content/sentences/l04/l04-179/l04-179-00.png  \n",
            "  inflating: /content/sentences/l04/l04-179/l04-179-01.png  \n",
            "  inflating: /content/sentences/l04/l04-179/l04-179-02.png  \n",
            "  inflating: /content/sentences/l04/l04-179/l04-179-03.png  \n",
            "  inflating: /content/sentences/l04/l04-179/l04-179-04.png  \n",
            "  inflating: /content/sentences/l04/l04-179/l04-179-05.png  \n",
            "  inflating: /content/sentences/l04/l04-179/l04-179-06.png  \n",
            "  inflating: /content/sentences/l04/l04-179/l04-179-07.png  \n",
            "   creating: /content/sentences/l07/\n",
            "   creating: /content/sentences/l07/l07-052/\n",
            "  inflating: /content/sentences/l07/l07-052/l07-052-00.png  \n",
            "  inflating: /content/sentences/l07/l07-052/l07-052-01.png  \n",
            "  inflating: /content/sentences/l07/l07-052/l07-052-02.png  \n",
            "  inflating: /content/sentences/l07/l07-052/l07-052-03.png  \n",
            " extracting: /content/sentences/l07/l07-052/l07-052-04.png  \n",
            "   creating: /content/sentences/l07/l07-065/\n",
            "  inflating: /content/sentences/l07/l07-065/l07-065-00.png  \n",
            "  inflating: /content/sentences/l07/l07-065/l07-065-01.png  \n",
            "  inflating: /content/sentences/l07/l07-065/l07-065-02.png  \n",
            "  inflating: /content/sentences/l07/l07-065/l07-065-03.png  \n",
            "  inflating: /content/sentences/l07/l07-065/l07-065-04.png  \n",
            "   creating: /content/sentences/l07/l07-074/\n",
            "  inflating: /content/sentences/l07/l07-074/l07-074-00.png  \n",
            "  inflating: /content/sentences/l07/l07-074/l07-074-01.png  \n",
            "  inflating: /content/sentences/l07/l07-074/l07-074-02.png  \n",
            "  inflating: /content/sentences/l07/l07-074/l07-074-03.png  \n",
            "  inflating: /content/sentences/l07/l07-074/l07-074-04.png  \n",
            " extracting: /content/sentences/l07/l07-074/l07-074-05.png  \n",
            "   creating: /content/sentences/l07/l07-080/\n",
            "  inflating: /content/sentences/l07/l07-080/l07-080-00.png  \n",
            "  inflating: /content/sentences/l07/l07-080/l07-080-01.png  \n",
            "  inflating: /content/sentences/l07/l07-080/l07-080-02.png  \n",
            "  inflating: /content/sentences/l07/l07-080/l07-080-03.png  \n",
            "  inflating: /content/sentences/l07/l07-080/l07-080-04.png  \n",
            "  inflating: /content/sentences/l07/l07-080/l07-080-05.png  \n",
            "  inflating: /content/sentences/l07/l07-080/l07-080-06.png  \n",
            "  inflating: /content/sentences/l07/l07-080/l07-080-07.png  \n",
            "  inflating: /content/sentences/l07/l07-080/l07-080-08.png  \n",
            "  inflating: /content/sentences/l07/l07-080/l07-080-09.png  \n",
            "   creating: /content/sentences/l07/l07-085/\n",
            "  inflating: /content/sentences/l07/l07-085/l07-085-00.png  \n",
            "  inflating: /content/sentences/l07/l07-085/l07-085-01.png  \n",
            "  inflating: /content/sentences/l07/l07-085/l07-085-02.png  \n",
            "  inflating: /content/sentences/l07/l07-085/l07-085-03.png  \n",
            "  inflating: /content/sentences/l07/l07-085/l07-085-04.png  \n",
            "  inflating: /content/sentences/l07/l07-085/l07-085-05.png  \n",
            "  inflating: /content/sentences/l07/l07-085/l07-085-06.png  \n",
            "  inflating: /content/sentences/l07/l07-085/l07-085-07.png  \n",
            " extracting: /content/sentences/l07/l07-085/l07-085-08.png  \n",
            "   creating: /content/sentences/l07/l07-103/\n",
            "  inflating: /content/sentences/l07/l07-103/l07-103-00.png  \n",
            "  inflating: /content/sentences/l07/l07-103/l07-103-01.png  \n",
            "  inflating: /content/sentences/l07/l07-103/l07-103-02.png  \n",
            "  inflating: /content/sentences/l07/l07-103/l07-103-03.png  \n",
            "  inflating: /content/sentences/l07/l07-103/l07-103-04.png  \n",
            "  inflating: /content/sentences/l07/l07-103/l07-103-05.png  \n",
            "  inflating: /content/sentences/l07/l07-103/l07-103-06.png  \n",
            "  inflating: /content/sentences/l07/l07-103/l07-103-07.png  \n",
            "   creating: /content/sentences/l07/l07-111/\n",
            "  inflating: /content/sentences/l07/l07-111/l07-111-00.png  \n",
            "  inflating: /content/sentences/l07/l07-111/l07-111-01.png  \n",
            "  inflating: /content/sentences/l07/l07-111/l07-111-02.png  \n",
            "  inflating: /content/sentences/l07/l07-111/l07-111-03.png  \n",
            "  inflating: /content/sentences/l07/l07-111/l07-111-04.png  \n",
            "  inflating: /content/sentences/l07/l07-111/l07-111-05.png  \n",
            "  inflating: /content/sentences/l07/l07-111/l07-111-06.png  \n",
            "  inflating: /content/sentences/l07/l07-111/l07-111-07.png  \n",
            "  inflating: /content/sentences/l07/l07-111/l07-111-08.png  \n",
            "  inflating: /content/sentences/l07/l07-111/l07-111-09.png  \n",
            "  inflating: /content/sentences/l07/l07-111/l07-111-10.png  \n",
            "  inflating: /content/sentences/l07/l07-111/l07-111-11.png  \n",
            "   creating: /content/sentences/l07/l07-118/\n",
            "  inflating: /content/sentences/l07/l07-118/l07-118-00.png  \n",
            "  inflating: /content/sentences/l07/l07-118/l07-118-01.png  \n",
            "  inflating: /content/sentences/l07/l07-118/l07-118-02.png  \n",
            "  inflating: /content/sentences/l07/l07-118/l07-118-03.png  \n",
            "  inflating: /content/sentences/l07/l07-118/l07-118-04.png  \n",
            "  inflating: /content/sentences/l07/l07-118/l07-118-05.png  \n",
            "  inflating: /content/sentences/l07/l07-118/l07-118-06.png  \n",
            "   creating: /content/sentences/l07/l07-131/\n",
            "  inflating: /content/sentences/l07/l07-131/l07-131-00.png  \n",
            "  inflating: /content/sentences/l07/l07-131/l07-131-01.png  \n",
            "  inflating: /content/sentences/l07/l07-131/l07-131-02.png  \n",
            "  inflating: /content/sentences/l07/l07-131/l07-131-03.png  \n",
            "  inflating: /content/sentences/l07/l07-131/l07-131-04.png  \n",
            "  inflating: /content/sentences/l07/l07-131/l07-131-05.png  \n",
            "  inflating: /content/sentences/l07/l07-131/l07-131-06.png  \n",
            "  inflating: /content/sentences/l07/l07-131/l07-131-07.png  \n",
            "   creating: /content/sentences/l07/l07-135/\n",
            "  inflating: /content/sentences/l07/l07-135/l07-135-00.png  \n",
            "  inflating: /content/sentences/l07/l07-135/l07-135-01.png  \n",
            "  inflating: /content/sentences/l07/l07-135/l07-135-02.png  \n",
            "  inflating: /content/sentences/l07/l07-135/l07-135-03.png  \n",
            "  inflating: /content/sentences/l07/l07-135/l07-135-04.png  \n",
            "  inflating: /content/sentences/l07/l07-135/l07-135-05.png  \n",
            "  inflating: /content/sentences/l07/l07-135/l07-135-06.png  \n",
            "  inflating: /content/sentences/l07/l07-135/l07-135-07.png  \n",
            "  inflating: /content/sentences/l07/l07-135/l07-135-08.png  \n",
            "   creating: /content/sentences/l07/l07-138/\n",
            "  inflating: /content/sentences/l07/l07-138/l07-138-00.png  \n",
            "  inflating: /content/sentences/l07/l07-138/l07-138-01.png  \n",
            "  inflating: /content/sentences/l07/l07-138/l07-138-02.png  \n",
            "  inflating: /content/sentences/l07/l07-138/l07-138-03.png  \n",
            "  inflating: /content/sentences/l07/l07-138/l07-138-04.png  \n",
            "  inflating: /content/sentences/l07/l07-138/l07-138-05.png  \n",
            "  inflating: /content/sentences/l07/l07-138/l07-138-06.png  \n",
            "   creating: /content/sentences/l07/l07-172/\n",
            "  inflating: /content/sentences/l07/l07-172/l07-172-00.png  \n",
            "  inflating: /content/sentences/l07/l07-172/l07-172-01.png  \n",
            "  inflating: /content/sentences/l07/l07-172/l07-172-02.png  \n",
            "  inflating: /content/sentences/l07/l07-172/l07-172-03.png  \n",
            "  inflating: /content/sentences/l07/l07-172/l07-172-04.png  \n",
            "  inflating: /content/sentences/l07/l07-172/l07-172-05.png  \n",
            "  inflating: /content/sentences/l07/l07-172/l07-172-06.png  \n",
            "  inflating: /content/sentences/l07/l07-172/l07-172-07.png  \n",
            "  inflating: /content/sentences/l07/l07-172/l07-172-08.png  \n",
            "  inflating: /content/sentences/l07/l07-172/l07-172-09.png  \n",
            "  inflating: /content/sentences/l07/l07-172/l07-172-10.png  \n",
            "   creating: /content/sentences/l07/l07-176/\n",
            "  inflating: /content/sentences/l07/l07-176/l07-176-00.png  \n",
            "  inflating: /content/sentences/l07/l07-176/l07-176-01.png  \n",
            "  inflating: /content/sentences/l07/l07-176/l07-176-02.png  \n",
            "  inflating: /content/sentences/l07/l07-176/l07-176-03.png  \n",
            "  inflating: /content/sentences/l07/l07-176/l07-176-04.png  \n",
            "  inflating: /content/sentences/l07/l07-176/l07-176-05.png  \n",
            "  inflating: /content/sentences/l07/l07-176/l07-176-06.png  \n",
            "   creating: /content/sentences/l07/l07-181/\n",
            "  inflating: /content/sentences/l07/l07-181/l07-181-00.png  \n",
            "  inflating: /content/sentences/l07/l07-181/l07-181-01.png  \n",
            "  inflating: /content/sentences/l07/l07-181/l07-181-02.png  \n",
            "  inflating: /content/sentences/l07/l07-181/l07-181-03.png  \n",
            "  inflating: /content/sentences/l07/l07-181/l07-181-04.png  \n",
            "  inflating: /content/sentences/l07/l07-181/l07-181-05.png  \n",
            "  inflating: /content/sentences/l07/l07-181/l07-181-06.png  \n",
            "  inflating: /content/sentences/l07/l07-181/l07-181-07.png  \n",
            "  inflating: /content/sentences/l07/l07-181/l07-181-08.png  \n",
            "   creating: /content/sentences/l07/l07-187/\n",
            "  inflating: /content/sentences/l07/l07-187/l07-187-00.png  \n",
            "  inflating: /content/sentences/l07/l07-187/l07-187-01.png  \n",
            "  inflating: /content/sentences/l07/l07-187/l07-187-02.png  \n",
            "  inflating: /content/sentences/l07/l07-187/l07-187-03.png  \n",
            "  inflating: /content/sentences/l07/l07-187/l07-187-04.png  \n",
            "  inflating: /content/sentences/l07/l07-187/l07-187-05.png  \n",
            "  inflating: /content/sentences/l07/l07-187/l07-187-06.png  \n",
            "  inflating: /content/sentences/l07/l07-187/l07-187-07.png  \n",
            "  inflating: /content/sentences/l07/l07-187/l07-187-08.png  \n",
            "   creating: /content/sentences/l07/l07-190/\n",
            "  inflating: /content/sentences/l07/l07-190/l07-190-00.png  \n",
            "  inflating: /content/sentences/l07/l07-190/l07-190-01.png  \n",
            "  inflating: /content/sentences/l07/l07-190/l07-190-02.png  \n",
            "  inflating: /content/sentences/l07/l07-190/l07-190-03.png  \n",
            "  inflating: /content/sentences/l07/l07-190/l07-190-04.png  \n",
            "   creating: /content/sentences/m01/\n",
            "   creating: /content/sentences/m01/m01-000/\n",
            "  inflating: /content/sentences/m01/m01-000/m01-000-00.png  \n",
            "  inflating: /content/sentences/m01/m01-000/m01-000-01.png  \n",
            "  inflating: /content/sentences/m01/m01-000/m01-000-02.png  \n",
            "  inflating: /content/sentences/m01/m01-000/m01-000-03.png  \n",
            "  inflating: /content/sentences/m01/m01-000/m01-000-04.png  \n",
            "  inflating: /content/sentences/m01/m01-000/m01-000-05.png  \n",
            "  inflating: /content/sentences/m01/m01-000/m01-000-06.png  \n",
            "  inflating: /content/sentences/m01/m01-000/m01-000-07.png  \n",
            "   creating: /content/sentences/m01/m01-012/\n",
            "  inflating: /content/sentences/m01/m01-012/m01-012-00.png  \n",
            "  inflating: /content/sentences/m01/m01-012/m01-012-01.png  \n",
            "  inflating: /content/sentences/m01/m01-012/m01-012-02.png  \n",
            "  inflating: /content/sentences/m01/m01-012/m01-012-03.png  \n",
            "  inflating: /content/sentences/m01/m01-012/m01-012-04.png  \n",
            "  inflating: /content/sentences/m01/m01-012/m01-012-05.png  \n",
            "  inflating: /content/sentences/m01/m01-012/m01-012-06.png  \n",
            "  inflating: /content/sentences/m01/m01-012/m01-012-07.png  \n",
            "  inflating: /content/sentences/m01/m01-012/m01-012-08.png  \n",
            "  inflating: /content/sentences/m01/m01-012/m01-012-09.png  \n",
            "  inflating: /content/sentences/m01/m01-012/m01-012-10.png  \n",
            "   creating: /content/sentences/m01/m01-017/\n",
            "  inflating: /content/sentences/m01/m01-017/m01-017-00.png  \n",
            "  inflating: /content/sentences/m01/m01-017/m01-017-01.png  \n",
            "  inflating: /content/sentences/m01/m01-017/m01-017-02.png  \n",
            "  inflating: /content/sentences/m01/m01-017/m01-017-03.png  \n",
            "  inflating: /content/sentences/m01/m01-017/m01-017-04.png  \n",
            "  inflating: /content/sentences/m01/m01-017/m01-017-05.png  \n",
            "  inflating: /content/sentences/m01/m01-017/m01-017-06.png  \n",
            "  inflating: /content/sentences/m01/m01-017/m01-017-07.png  \n",
            "   creating: /content/sentences/m01/m01-022/\n",
            "  inflating: /content/sentences/m01/m01-022/m01-022-00.png  \n",
            "  inflating: /content/sentences/m01/m01-022/m01-022-01.png  \n",
            "  inflating: /content/sentences/m01/m01-022/m01-022-02.png  \n",
            "  inflating: /content/sentences/m01/m01-022/m01-022-03.png  \n",
            "  inflating: /content/sentences/m01/m01-022/m01-022-04.png  \n",
            "  inflating: /content/sentences/m01/m01-022/m01-022-05.png  \n",
            "   creating: /content/sentences/m01/m01-026/\n",
            "  inflating: /content/sentences/m01/m01-026/m01-026-00.png  \n",
            "  inflating: /content/sentences/m01/m01-026/m01-026-01.png  \n",
            "  inflating: /content/sentences/m01/m01-026/m01-026-02.png  \n",
            "  inflating: /content/sentences/m01/m01-026/m01-026-03.png  \n",
            "  inflating: /content/sentences/m01/m01-026/m01-026-04.png  \n",
            "  inflating: /content/sentences/m01/m01-026/m01-026-05.png  \n",
            "  inflating: /content/sentences/m01/m01-026/m01-026-06.png  \n",
            "  inflating: /content/sentences/m01/m01-026/m01-026-07.png  \n",
            "   creating: /content/sentences/m01/m01-032/\n",
            "  inflating: /content/sentences/m01/m01-032/m01-032-00.png  \n",
            "  inflating: /content/sentences/m01/m01-032/m01-032-01.png  \n",
            "  inflating: /content/sentences/m01/m01-032/m01-032-02.png  \n",
            "  inflating: /content/sentences/m01/m01-032/m01-032-03.png  \n",
            "  inflating: /content/sentences/m01/m01-032/m01-032-04.png  \n",
            "  inflating: /content/sentences/m01/m01-032/m01-032-05.png  \n",
            "  inflating: /content/sentences/m01/m01-032/m01-032-06.png  \n",
            "  inflating: /content/sentences/m01/m01-032/m01-032-07.png  \n",
            "  inflating: /content/sentences/m01/m01-032/m01-032-08.png  \n",
            "   creating: /content/sentences/m01/m01-038/\n",
            "  inflating: /content/sentences/m01/m01-038/m01-038-00.png  \n",
            "  inflating: /content/sentences/m01/m01-038/m01-038-01.png  \n",
            "  inflating: /content/sentences/m01/m01-038/m01-038-02.png  \n",
            "  inflating: /content/sentences/m01/m01-038/m01-038-03.png  \n",
            "  inflating: /content/sentences/m01/m01-038/m01-038-04.png  \n",
            "  inflating: /content/sentences/m01/m01-038/m01-038-05.png  \n",
            "  inflating: /content/sentences/m01/m01-038/m01-038-06.png  \n",
            "  inflating: /content/sentences/m01/m01-038/m01-038-07.png  \n",
            "  inflating: /content/sentences/m01/m01-038/m01-038-08.png  \n",
            "  inflating: /content/sentences/m01/m01-038/m01-038-09.png  \n",
            "   creating: /content/sentences/m01/m01-049/\n",
            "  inflating: /content/sentences/m01/m01-049/m01-049-00.png  \n",
            "  inflating: /content/sentences/m01/m01-049/m01-049-01.png  \n",
            "  inflating: /content/sentences/m01/m01-049/m01-049-02.png  \n",
            "  inflating: /content/sentences/m01/m01-049/m01-049-03.png  \n",
            "  inflating: /content/sentences/m01/m01-049/m01-049-04.png  \n",
            "  inflating: /content/sentences/m01/m01-049/m01-049-05.png  \n",
            "  inflating: /content/sentences/m01/m01-049/m01-049-06.png  \n",
            "  inflating: /content/sentences/m01/m01-049/m01-049-07.png  \n",
            "  inflating: /content/sentences/m01/m01-049/m01-049-08.png  \n",
            "  inflating: /content/sentences/m01/m01-049/m01-049-09.png  \n",
            "  inflating: /content/sentences/m01/m01-049/m01-049-10.png  \n",
            "  inflating: /content/sentences/m01/m01-049/m01-049-11.png  \n",
            "   creating: /content/sentences/m01/m01-060/\n",
            "  inflating: /content/sentences/m01/m01-060/m01-060-00.png  \n",
            "  inflating: /content/sentences/m01/m01-060/m01-060-01.png  \n",
            "  inflating: /content/sentences/m01/m01-060/m01-060-02.png  \n",
            "  inflating: /content/sentences/m01/m01-060/m01-060-03.png  \n",
            "  inflating: /content/sentences/m01/m01-060/m01-060-04.png  \n",
            "  inflating: /content/sentences/m01/m01-060/m01-060-05.png  \n",
            "  inflating: /content/sentences/m01/m01-060/m01-060-06.png  \n",
            "  inflating: /content/sentences/m01/m01-060/m01-060-07.png  \n",
            "   creating: /content/sentences/m01/m01-079/\n",
            "  inflating: /content/sentences/m01/m01-079/m01-079-00.png  \n",
            "  inflating: /content/sentences/m01/m01-079/m01-079-01.png  \n",
            "  inflating: /content/sentences/m01/m01-079/m01-079-02.png  \n",
            "  inflating: /content/sentences/m01/m01-079/m01-079-03.png  \n",
            "  inflating: /content/sentences/m01/m01-079/m01-079-04.png  \n",
            "  inflating: /content/sentences/m01/m01-079/m01-079-05.png  \n",
            "  inflating: /content/sentences/m01/m01-079/m01-079-06.png  \n",
            "   creating: /content/sentences/m01/m01-084/\n",
            "  inflating: /content/sentences/m01/m01-084/m01-084-00.png  \n",
            "  inflating: /content/sentences/m01/m01-084/m01-084-01.png  \n",
            "  inflating: /content/sentences/m01/m01-084/m01-084-02.png  \n",
            "  inflating: /content/sentences/m01/m01-084/m01-084-03.png  \n",
            "  inflating: /content/sentences/m01/m01-084/m01-084-04.png  \n",
            "  inflating: /content/sentences/m01/m01-084/m01-084-05.png  \n",
            "  inflating: /content/sentences/m01/m01-084/m01-084-06.png  \n",
            "  inflating: /content/sentences/m01/m01-084/m01-084-07.png  \n",
            "   creating: /content/sentences/m01/m01-090/\n",
            "  inflating: /content/sentences/m01/m01-090/m01-090-00.png  \n",
            "  inflating: /content/sentences/m01/m01-090/m01-090-01.png  \n",
            "  inflating: /content/sentences/m01/m01-090/m01-090-02.png  \n",
            "  inflating: /content/sentences/m01/m01-090/m01-090-03.png  \n",
            "  inflating: /content/sentences/m01/m01-090/m01-090-04.png  \n",
            "  inflating: /content/sentences/m01/m01-090/m01-090-05.png  \n",
            "  inflating: /content/sentences/m01/m01-090/m01-090-06.png  \n",
            "  inflating: /content/sentences/m01/m01-090/m01-090-07.png  \n",
            "   creating: /content/sentences/m01/m01-095/\n",
            "  inflating: /content/sentences/m01/m01-095/m01-095-00.png  \n",
            "  inflating: /content/sentences/m01/m01-095/m01-095-01.png  \n",
            "  inflating: /content/sentences/m01/m01-095/m01-095-02.png  \n",
            "  inflating: /content/sentences/m01/m01-095/m01-095-03.png  \n",
            "  inflating: /content/sentences/m01/m01-095/m01-095-04.png  \n",
            "  inflating: /content/sentences/m01/m01-095/m01-095-05.png  \n",
            "  inflating: /content/sentences/m01/m01-095/m01-095-06.png  \n",
            "  inflating: /content/sentences/m01/m01-095/m01-095-07.png  \n",
            "   creating: /content/sentences/m01/m01-100/\n",
            "  inflating: /content/sentences/m01/m01-100/m01-100-00.png  \n",
            "  inflating: /content/sentences/m01/m01-100/m01-100-01.png  \n",
            "  inflating: /content/sentences/m01/m01-100/m01-100-02.png  \n",
            "  inflating: /content/sentences/m01/m01-100/m01-100-03.png  \n",
            "  inflating: /content/sentences/m01/m01-100/m01-100-04.png  \n",
            "  inflating: /content/sentences/m01/m01-100/m01-100-05.png  \n",
            "  inflating: /content/sentences/m01/m01-100/m01-100-06.png  \n",
            "   creating: /content/sentences/m01/m01-104/\n",
            "  inflating: /content/sentences/m01/m01-104/m01-104-00.png  \n",
            "  inflating: /content/sentences/m01/m01-104/m01-104-01.png  \n",
            "  inflating: /content/sentences/m01/m01-104/m01-104-02.png  \n",
            "  inflating: /content/sentences/m01/m01-104/m01-104-03.png  \n",
            "  inflating: /content/sentences/m01/m01-104/m01-104-04.png  \n",
            "  inflating: /content/sentences/m01/m01-104/m01-104-05.png  \n",
            "  inflating: /content/sentences/m01/m01-104/m01-104-06.png  \n",
            "  inflating: /content/sentences/m01/m01-104/m01-104-07.png  \n",
            "   creating: /content/sentences/m01/m01-110/\n",
            "  inflating: /content/sentences/m01/m01-110/m01-110-00.png  \n",
            "  inflating: /content/sentences/m01/m01-110/m01-110-01.png  \n",
            "  inflating: /content/sentences/m01/m01-110/m01-110-02.png  \n",
            "  inflating: /content/sentences/m01/m01-110/m01-110-03.png  \n",
            "  inflating: /content/sentences/m01/m01-110/m01-110-04.png  \n",
            "  inflating: /content/sentences/m01/m01-110/m01-110-05.png  \n",
            "  inflating: /content/sentences/m01/m01-110/m01-110-06.png  \n",
            "  inflating: /content/sentences/m01/m01-110/m01-110-07.png  \n",
            "  inflating: /content/sentences/m01/m01-110/m01-110-08.png  \n",
            "  inflating: /content/sentences/m01/m01-110/m01-110-09.png  \n",
            "  inflating: /content/sentences/m01/m01-110/m01-110-10.png  \n",
            "  inflating: /content/sentences/m01/m01-110/m01-110-11.png  \n",
            "   creating: /content/sentences/m01/m01-115/\n",
            "  inflating: /content/sentences/m01/m01-115/m01-115-00.png  \n",
            "  inflating: /content/sentences/m01/m01-115/m01-115-01.png  \n",
            "  inflating: /content/sentences/m01/m01-115/m01-115-02.png  \n",
            "  inflating: /content/sentences/m01/m01-115/m01-115-03.png  \n",
            "  inflating: /content/sentences/m01/m01-115/m01-115-04.png  \n",
            "  inflating: /content/sentences/m01/m01-115/m01-115-05.png  \n",
            "  inflating: /content/sentences/m01/m01-115/m01-115-06.png  \n",
            "  inflating: /content/sentences/m01/m01-115/m01-115-07.png  \n",
            "  inflating: /content/sentences/m01/m01-115/m01-115-08.png  \n",
            "   creating: /content/sentences/m01/m01-121/\n",
            "  inflating: /content/sentences/m01/m01-121/m01-121-00.png  \n",
            "  inflating: /content/sentences/m01/m01-121/m01-121-01.png  \n",
            "  inflating: /content/sentences/m01/m01-121/m01-121-02.png  \n",
            "  inflating: /content/sentences/m01/m01-121/m01-121-03.png  \n",
            "  inflating: /content/sentences/m01/m01-121/m01-121-04.png  \n",
            "  inflating: /content/sentences/m01/m01-121/m01-121-05.png  \n",
            "  inflating: /content/sentences/m01/m01-121/m01-121-06.png  \n",
            "  inflating: /content/sentences/m01/m01-121/m01-121-07.png  \n",
            "  inflating: /content/sentences/m01/m01-121/m01-121-08.png  \n",
            "   creating: /content/sentences/m01/m01-125/\n",
            "  inflating: /content/sentences/m01/m01-125/m01-125-00.png  \n",
            "  inflating: /content/sentences/m01/m01-125/m01-125-01.png  \n",
            "  inflating: /content/sentences/m01/m01-125/m01-125-02.png  \n",
            "  inflating: /content/sentences/m01/m01-125/m01-125-03.png  \n",
            "  inflating: /content/sentences/m01/m01-125/m01-125-04.png  \n",
            "  inflating: /content/sentences/m01/m01-125/m01-125-05.png  \n",
            "  inflating: /content/sentences/m01/m01-125/m01-125-06.png  \n",
            "  inflating: /content/sentences/m01/m01-125/m01-125-07.png  \n",
            "  inflating: /content/sentences/m01/m01-125/m01-125-08.png  \n",
            "  inflating: /content/sentences/m01/m01-125/m01-125-09.png  \n",
            "  inflating: /content/sentences/m01/m01-125/m01-125-10.png  \n",
            "   creating: /content/sentences/m01/m01-131/\n",
            "  inflating: /content/sentences/m01/m01-131/m01-131-00.png  \n",
            "  inflating: /content/sentences/m01/m01-131/m01-131-01.png  \n",
            "  inflating: /content/sentences/m01/m01-131/m01-131-02.png  \n",
            "  inflating: /content/sentences/m01/m01-131/m01-131-03.png  \n",
            "  inflating: /content/sentences/m01/m01-131/m01-131-04.png  \n",
            "  inflating: /content/sentences/m01/m01-131/m01-131-05.png  \n",
            "  inflating: /content/sentences/m01/m01-131/m01-131-06.png  \n",
            "   creating: /content/sentences/m01/m01-136/\n",
            "  inflating: /content/sentences/m01/m01-136/m01-136-00.png  \n",
            "  inflating: /content/sentences/m01/m01-136/m01-136-01.png  \n",
            "  inflating: /content/sentences/m01/m01-136/m01-136-02.png  \n",
            "  inflating: /content/sentences/m01/m01-136/m01-136-03.png  \n",
            "  inflating: /content/sentences/m01/m01-136/m01-136-04.png  \n",
            "  inflating: /content/sentences/m01/m01-136/m01-136-05.png  \n",
            "  inflating: /content/sentences/m01/m01-136/m01-136-06.png  \n",
            "  inflating: /content/sentences/m01/m01-136/m01-136-07.png  \n",
            "  inflating: /content/sentences/m01/m01-136/m01-136-08.png  \n",
            "  inflating: /content/sentences/m01/m01-136/m01-136-09.png  \n",
            "  inflating: /content/sentences/m01/m01-136/m01-136-10.png  \n",
            "   creating: /content/sentences/m01/m01-149/\n",
            "  inflating: /content/sentences/m01/m01-149/m01-149-00.png  \n",
            "  inflating: /content/sentences/m01/m01-149/m01-149-01.png  \n",
            "  inflating: /content/sentences/m01/m01-149/m01-149-02.png  \n",
            "  inflating: /content/sentences/m01/m01-149/m01-149-03.png  \n",
            "  inflating: /content/sentences/m01/m01-149/m01-149-04.png  \n",
            "  inflating: /content/sentences/m01/m01-149/m01-149-05.png  \n",
            "  inflating: /content/sentences/m01/m01-149/m01-149-06.png  \n",
            "  inflating: /content/sentences/m01/m01-149/m01-149-07.png  \n",
            "   creating: /content/sentences/m01/m01-160/\n",
            "  inflating: /content/sentences/m01/m01-160/m01-160-00.png  \n",
            "  inflating: /content/sentences/m01/m01-160/m01-160-01.png  \n",
            "  inflating: /content/sentences/m01/m01-160/m01-160-02.png  \n",
            "  inflating: /content/sentences/m01/m01-160/m01-160-03.png  \n",
            "  inflating: /content/sentences/m01/m01-160/m01-160-04.png  \n",
            "  inflating: /content/sentences/m01/m01-160/m01-160-05.png  \n",
            "  inflating: /content/sentences/m01/m01-160/m01-160-06.png  \n",
            "   creating: /content/sentences/m02/\n",
            "   creating: /content/sentences/m02/m02-048/\n",
            "  inflating: /content/sentences/m02/m02-048/m02-048-00.png  \n",
            "  inflating: /content/sentences/m02/m02-048/m02-048-01.png  \n",
            "  inflating: /content/sentences/m02/m02-048/m02-048-02.png  \n",
            "  inflating: /content/sentences/m02/m02-048/m02-048-03.png  \n",
            "  inflating: /content/sentences/m02/m02-048/m02-048-04.png  \n",
            "  inflating: /content/sentences/m02/m02-048/m02-048-05.png  \n",
            "  inflating: /content/sentences/m02/m02-048/m02-048-06.png  \n",
            "  inflating: /content/sentences/m02/m02-048/m02-048-07.png  \n",
            "  inflating: /content/sentences/m02/m02-048/m02-048-08.png  \n",
            "  inflating: /content/sentences/m02/m02-048/m02-048-09.png  \n",
            "  inflating: /content/sentences/m02/m02-048/m02-048-10.png  \n",
            "   creating: /content/sentences/m02/m02-052/\n",
            "  inflating: /content/sentences/m02/m02-052/m02-052-00.png  \n",
            "  inflating: /content/sentences/m02/m02-052/m02-052-01.png  \n",
            "  inflating: /content/sentences/m02/m02-052/m02-052-02.png  \n",
            "  inflating: /content/sentences/m02/m02-052/m02-052-03.png  \n",
            "  inflating: /content/sentences/m02/m02-052/m02-052-04.png  \n",
            "  inflating: /content/sentences/m02/m02-052/m02-052-05.png  \n",
            "  inflating: /content/sentences/m02/m02-052/m02-052-06.png  \n",
            "   creating: /content/sentences/m02/m02-055/\n",
            "  inflating: /content/sentences/m02/m02-055/m02-055-00.png  \n",
            "  inflating: /content/sentences/m02/m02-055/m02-055-01.png  \n",
            "  inflating: /content/sentences/m02/m02-055/m02-055-02.png  \n",
            "  inflating: /content/sentences/m02/m02-055/m02-055-03.png  \n",
            "  inflating: /content/sentences/m02/m02-055/m02-055-04.png  \n",
            "  inflating: /content/sentences/m02/m02-055/m02-055-05.png  \n",
            "  inflating: /content/sentences/m02/m02-055/m02-055-06.png  \n",
            "  inflating: /content/sentences/m02/m02-055/m02-055-07.png  \n",
            "  inflating: /content/sentences/m02/m02-055/m02-055-08.png  \n",
            " extracting: /content/sentences/m02/m02-055/m02-055-09.png  \n",
            "  inflating: /content/sentences/m02/m02-055/m02-055-10.png  \n",
            "   creating: /content/sentences/m02/m02-059/\n",
            "  inflating: /content/sentences/m02/m02-059/m02-059-00.png  \n",
            "  inflating: /content/sentences/m02/m02-059/m02-059-01.png  \n",
            "  inflating: /content/sentences/m02/m02-059/m02-059-02.png  \n",
            "  inflating: /content/sentences/m02/m02-059/m02-059-03.png  \n",
            "  inflating: /content/sentences/m02/m02-059/m02-059-04.png  \n",
            "  inflating: /content/sentences/m02/m02-059/m02-059-05.png  \n",
            "  inflating: /content/sentences/m02/m02-059/m02-059-06.png  \n",
            "   creating: /content/sentences/m02/m02-066/\n",
            "  inflating: /content/sentences/m02/m02-066/m02-066-00.png  \n",
            "  inflating: /content/sentences/m02/m02-066/m02-066-01.png  \n",
            "  inflating: /content/sentences/m02/m02-066/m02-066-02.png  \n",
            "  inflating: /content/sentences/m02/m02-066/m02-066-03.png  \n",
            "  inflating: /content/sentences/m02/m02-066/m02-066-04.png  \n",
            "  inflating: /content/sentences/m02/m02-066/m02-066-05.png  \n",
            "   creating: /content/sentences/m02/m02-069/\n",
            "  inflating: /content/sentences/m02/m02-069/m02-069-00.png  \n",
            "  inflating: /content/sentences/m02/m02-069/m02-069-01.png  \n",
            "  inflating: /content/sentences/m02/m02-069/m02-069-02.png  \n",
            "  inflating: /content/sentences/m02/m02-069/m02-069-03.png  \n",
            "  inflating: /content/sentences/m02/m02-069/m02-069-04.png  \n",
            "  inflating: /content/sentences/m02/m02-069/m02-069-05.png  \n",
            "  inflating: /content/sentences/m02/m02-069/m02-069-06.png  \n",
            "  inflating: /content/sentences/m02/m02-069/m02-069-07.png  \n",
            "  inflating: /content/sentences/m02/m02-069/m02-069-08.png  \n",
            "   creating: /content/sentences/m02/m02-072/\n",
            "  inflating: /content/sentences/m02/m02-072/m02-072-00.png  \n",
            "  inflating: /content/sentences/m02/m02-072/m02-072-01.png  \n",
            "  inflating: /content/sentences/m02/m02-072/m02-072-02.png  \n",
            "  inflating: /content/sentences/m02/m02-072/m02-072-03.png  \n",
            "  inflating: /content/sentences/m02/m02-072/m02-072-04.png  \n",
            "  inflating: /content/sentences/m02/m02-072/m02-072-05.png  \n",
            "  inflating: /content/sentences/m02/m02-072/m02-072-06.png  \n",
            "   creating: /content/sentences/m02/m02-075/\n",
            "  inflating: /content/sentences/m02/m02-075/m02-075-00.png  \n",
            "  inflating: /content/sentences/m02/m02-075/m02-075-01.png  \n",
            "  inflating: /content/sentences/m02/m02-075/m02-075-02.png  \n",
            "  inflating: /content/sentences/m02/m02-075/m02-075-03.png  \n",
            "  inflating: /content/sentences/m02/m02-075/m02-075-04.png  \n",
            "  inflating: /content/sentences/m02/m02-075/m02-075-05.png  \n",
            "  inflating: /content/sentences/m02/m02-075/m02-075-06.png  \n",
            "  inflating: /content/sentences/m02/m02-075/m02-075-07.png  \n",
            "   creating: /content/sentences/m02/m02-080/\n",
            "  inflating: /content/sentences/m02/m02-080/m02-080-00.png  \n",
            "  inflating: /content/sentences/m02/m02-080/m02-080-01.png  \n",
            "  inflating: /content/sentences/m02/m02-080/m02-080-02.png  \n",
            "  inflating: /content/sentences/m02/m02-080/m02-080-03.png  \n",
            "  inflating: /content/sentences/m02/m02-080/m02-080-04.png  \n",
            "  inflating: /content/sentences/m02/m02-080/m02-080-05.png  \n",
            "  inflating: /content/sentences/m02/m02-080/m02-080-06.png  \n",
            "  inflating: /content/sentences/m02/m02-080/m02-080-07.png  \n",
            "  inflating: /content/sentences/m02/m02-080/m02-080-08.png  \n",
            "  inflating: /content/sentences/m02/m02-080/m02-080-09.png  \n",
            "   creating: /content/sentences/m02/m02-083/\n",
            "  inflating: /content/sentences/m02/m02-083/m02-083-00.png  \n",
            "  inflating: /content/sentences/m02/m02-083/m02-083-01.png  \n",
            "  inflating: /content/sentences/m02/m02-083/m02-083-02.png  \n",
            "  inflating: /content/sentences/m02/m02-083/m02-083-03.png  \n",
            "  inflating: /content/sentences/m02/m02-083/m02-083-04.png  \n",
            "  inflating: /content/sentences/m02/m02-083/m02-083-05.png  \n",
            "  inflating: /content/sentences/m02/m02-083/m02-083-06.png  \n",
            "  inflating: /content/sentences/m02/m02-083/m02-083-07.png  \n",
            "  inflating: /content/sentences/m02/m02-083/m02-083-08.png  \n",
            "  inflating: /content/sentences/m02/m02-083/m02-083-09.png  \n",
            "  inflating: /content/sentences/m02/m02-083/m02-083-10.png  \n",
            "  inflating: /content/sentences/m02/m02-083/m02-083-11.png  \n",
            "   creating: /content/sentences/m02/m02-087/\n",
            "  inflating: /content/sentences/m02/m02-087/m02-087-00.png  \n",
            "  inflating: /content/sentences/m02/m02-087/m02-087-01.png  \n",
            "  inflating: /content/sentences/m02/m02-087/m02-087-02.png  \n",
            "  inflating: /content/sentences/m02/m02-087/m02-087-03.png  \n",
            "  inflating: /content/sentences/m02/m02-087/m02-087-04.png  \n",
            "  inflating: /content/sentences/m02/m02-087/m02-087-05.png  \n",
            "  inflating: /content/sentences/m02/m02-087/m02-087-06.png  \n",
            " extracting: /content/sentences/m02/m02-087/m02-087-07.png  \n",
            "   creating: /content/sentences/m02/m02-090/\n",
            "  inflating: /content/sentences/m02/m02-090/m02-090-00.png  \n",
            "  inflating: /content/sentences/m02/m02-090/m02-090-01.png  \n",
            "  inflating: /content/sentences/m02/m02-090/m02-090-02.png  \n",
            "  inflating: /content/sentences/m02/m02-090/m02-090-03.png  \n",
            "  inflating: /content/sentences/m02/m02-090/m02-090-04.png  \n",
            "  inflating: /content/sentences/m02/m02-090/m02-090-05.png  \n",
            "  inflating: /content/sentences/m02/m02-090/m02-090-06.png  \n",
            "  inflating: /content/sentences/m02/m02-090/m02-090-07.png  \n",
            "  inflating: /content/sentences/m02/m02-090/m02-090-08.png  \n",
            "  inflating: /content/sentences/m02/m02-090/m02-090-09.png  \n",
            "  inflating: /content/sentences/m02/m02-090/m02-090-10.png  \n",
            "   creating: /content/sentences/m02/m02-095/\n",
            "  inflating: /content/sentences/m02/m02-095/m02-095-00.png  \n",
            "  inflating: /content/sentences/m02/m02-095/m02-095-01.png  \n",
            "  inflating: /content/sentences/m02/m02-095/m02-095-02.png  \n",
            "  inflating: /content/sentences/m02/m02-095/m02-095-03.png  \n",
            "  inflating: /content/sentences/m02/m02-095/m02-095-04.png  \n",
            "  inflating: /content/sentences/m02/m02-095/m02-095-05.png  \n",
            "  inflating: /content/sentences/m02/m02-095/m02-095-06.png  \n",
            "  inflating: /content/sentences/m02/m02-095/m02-095-07.png  \n",
            "  inflating: /content/sentences/m02/m02-095/m02-095-08.png  \n",
            "  inflating: /content/sentences/m02/m02-095/m02-095-09.png  \n",
            "   creating: /content/sentences/m02/m02-102/\n",
            "  inflating: /content/sentences/m02/m02-102/m02-102-00.png  \n",
            "  inflating: /content/sentences/m02/m02-102/m02-102-01.png  \n",
            "  inflating: /content/sentences/m02/m02-102/m02-102-02.png  \n",
            "  inflating: /content/sentences/m02/m02-102/m02-102-03.png  \n",
            "  inflating: /content/sentences/m02/m02-102/m02-102-04.png  \n",
            "  inflating: /content/sentences/m02/m02-102/m02-102-05.png  \n",
            "  inflating: /content/sentences/m02/m02-102/m02-102-06.png  \n",
            "  inflating: /content/sentences/m02/m02-102/m02-102-07.png  \n",
            "  inflating: /content/sentences/m02/m02-102/m02-102-08.png  \n",
            "  inflating: /content/sentences/m02/m02-102/m02-102-09.png  \n",
            " extracting: /content/sentences/m02/m02-102/m02-102-10.png  \n",
            "   creating: /content/sentences/m02/m02-106/\n",
            "  inflating: /content/sentences/m02/m02-106/m02-106-00.png  \n",
            "  inflating: /content/sentences/m02/m02-106/m02-106-01.png  \n",
            "  inflating: /content/sentences/m02/m02-106/m02-106-02.png  \n",
            "  inflating: /content/sentences/m02/m02-106/m02-106-03.png  \n",
            "  inflating: /content/sentences/m02/m02-106/m02-106-04.png  \n",
            "  inflating: /content/sentences/m02/m02-106/m02-106-05.png  \n",
            "  inflating: /content/sentences/m02/m02-106/m02-106-06.png  \n",
            "  inflating: /content/sentences/m02/m02-106/m02-106-07.png  \n",
            "  inflating: /content/sentences/m02/m02-106/m02-106-08.png  \n",
            "  inflating: /content/sentences/m02/m02-106/m02-106-09.png  \n",
            "   creating: /content/sentences/m02/m02-109/\n",
            "  inflating: /content/sentences/m02/m02-109/m02-109-00.png  \n",
            "  inflating: /content/sentences/m02/m02-109/m02-109-01.png  \n",
            "  inflating: /content/sentences/m02/m02-109/m02-109-02.png  \n",
            "  inflating: /content/sentences/m02/m02-109/m02-109-03.png  \n",
            "  inflating: /content/sentences/m02/m02-109/m02-109-04.png  \n",
            "  inflating: /content/sentences/m02/m02-109/m02-109-05.png  \n",
            "  inflating: /content/sentences/m02/m02-109/m02-109-06.png  \n",
            "  inflating: /content/sentences/m02/m02-109/m02-109-07.png  \n",
            " extracting: /content/sentences/m02/m02-109/m02-109-08.png  \n",
            "   creating: /content/sentences/m02/m02-112/\n",
            "  inflating: /content/sentences/m02/m02-112/m02-112-00.png  \n",
            "  inflating: /content/sentences/m02/m02-112/m02-112-01.png  \n",
            "  inflating: /content/sentences/m02/m02-112/m02-112-02.png  \n",
            "  inflating: /content/sentences/m02/m02-112/m02-112-03.png  \n",
            "  inflating: /content/sentences/m02/m02-112/m02-112-04.png  \n",
            "  inflating: /content/sentences/m02/m02-112/m02-112-05.png  \n",
            "   creating: /content/sentences/m03/\n",
            "   creating: /content/sentences/m03/m03-006/\n",
            "  inflating: /content/sentences/m03/m03-006/m03-006-00.png  \n",
            "  inflating: /content/sentences/m03/m03-006/m03-006-01.png  \n",
            "  inflating: /content/sentences/m03/m03-006/m03-006-02.png  \n",
            "  inflating: /content/sentences/m03/m03-006/m03-006-03.png  \n",
            "  inflating: /content/sentences/m03/m03-006/m03-006-04.png  \n",
            "  inflating: /content/sentences/m03/m03-006/m03-006-05.png  \n",
            "  inflating: /content/sentences/m03/m03-006/m03-006-06.png  \n",
            "  inflating: /content/sentences/m03/m03-006/m03-006-07.png  \n",
            "  inflating: /content/sentences/m03/m03-006/m03-006-08.png  \n",
            "  inflating: /content/sentences/m03/m03-006/m03-006-09.png  \n",
            "   creating: /content/sentences/m03/m03-013/\n",
            "  inflating: /content/sentences/m03/m03-013/m03-013-00.png  \n",
            "  inflating: /content/sentences/m03/m03-013/m03-013-01.png  \n",
            "  inflating: /content/sentences/m03/m03-013/m03-013-02.png  \n",
            "  inflating: /content/sentences/m03/m03-013/m03-013-03.png  \n",
            "  inflating: /content/sentences/m03/m03-013/m03-013-04.png  \n",
            "  inflating: /content/sentences/m03/m03-013/m03-013-05.png  \n",
            " extracting: /content/sentences/m03/m03-013/m03-013-06.png  \n",
            "   creating: /content/sentences/m03/m03-020/\n",
            "  inflating: /content/sentences/m03/m03-020/m03-020-00.png  \n",
            "  inflating: /content/sentences/m03/m03-020/m03-020-01.png  \n",
            "  inflating: /content/sentences/m03/m03-020/m03-020-02.png  \n",
            "  inflating: /content/sentences/m03/m03-020/m03-020-03.png  \n",
            "  inflating: /content/sentences/m03/m03-020/m03-020-04.png  \n",
            "  inflating: /content/sentences/m03/m03-020/m03-020-05.png  \n",
            "   creating: /content/sentences/m03/m03-033/\n",
            "  inflating: /content/sentences/m03/m03-033/m03-033-00.png  \n",
            "  inflating: /content/sentences/m03/m03-033/m03-033-01.png  \n",
            "  inflating: /content/sentences/m03/m03-033/m03-033-02.png  \n",
            "  inflating: /content/sentences/m03/m03-033/m03-033-03.png  \n",
            "  inflating: /content/sentences/m03/m03-033/m03-033-04.png  \n",
            "  inflating: /content/sentences/m03/m03-033/m03-033-05.png  \n",
            "  inflating: /content/sentences/m03/m03-033/m03-033-06.png  \n",
            " extracting: /content/sentences/m03/m03-033/m03-033-07.png  \n",
            "   creating: /content/sentences/m03/m03-062/\n",
            "  inflating: /content/sentences/m03/m03-062/m03-062-00.png  \n",
            "  inflating: /content/sentences/m03/m03-062/m03-062-01.png  \n",
            "  inflating: /content/sentences/m03/m03-062/m03-062-02.png  \n",
            "  inflating: /content/sentences/m03/m03-062/m03-062-03.png  \n",
            "  inflating: /content/sentences/m03/m03-062/m03-062-04.png  \n",
            "  inflating: /content/sentences/m03/m03-062/m03-062-05.png  \n",
            "  inflating: /content/sentences/m03/m03-062/m03-062-06.png  \n",
            "  inflating: /content/sentences/m03/m03-062/m03-062-07.png  \n",
            "  inflating: /content/sentences/m03/m03-062/m03-062-08.png  \n",
            "   creating: /content/sentences/m03/m03-095/\n",
            "  inflating: /content/sentences/m03/m03-095/m03-095-00.png  \n",
            "  inflating: /content/sentences/m03/m03-095/m03-095-01.png  \n",
            "  inflating: /content/sentences/m03/m03-095/m03-095-02.png  \n",
            "  inflating: /content/sentences/m03/m03-095/m03-095-03.png  \n",
            "  inflating: /content/sentences/m03/m03-095/m03-095-04.png  \n",
            "  inflating: /content/sentences/m03/m03-095/m03-095-05.png  \n",
            "  inflating: /content/sentences/m03/m03-095/m03-095-06.png  \n",
            "  inflating: /content/sentences/m03/m03-095/m03-095-07.png  \n",
            "  inflating: /content/sentences/m03/m03-095/m03-095-08.png  \n",
            "   creating: /content/sentences/m03/m03-110/\n",
            "  inflating: /content/sentences/m03/m03-110/m03-110-00.png  \n",
            "  inflating: /content/sentences/m03/m03-110/m03-110-01.png  \n",
            "  inflating: /content/sentences/m03/m03-110/m03-110-02.png  \n",
            "  inflating: /content/sentences/m03/m03-110/m03-110-03.png  \n",
            "  inflating: /content/sentences/m03/m03-110/m03-110-04.png  \n",
            "  inflating: /content/sentences/m03/m03-110/m03-110-05.png  \n",
            "  inflating: /content/sentences/m03/m03-110/m03-110-06.png  \n",
            "  inflating: /content/sentences/m03/m03-110/m03-110-07.png  \n",
            "  inflating: /content/sentences/m03/m03-110/m03-110-08.png  \n",
            "  inflating: /content/sentences/m03/m03-110/m03-110-09.png  \n",
            "   creating: /content/sentences/m03/m03-114/\n",
            "  inflating: /content/sentences/m03/m03-114/m03-114-00.png  \n",
            "  inflating: /content/sentences/m03/m03-114/m03-114-01.png  \n",
            "  inflating: /content/sentences/m03/m03-114/m03-114-02.png  \n",
            "  inflating: /content/sentences/m03/m03-114/m03-114-03.png  \n",
            "  inflating: /content/sentences/m03/m03-114/m03-114-04.png  \n",
            "  inflating: /content/sentences/m03/m03-114/m03-114-05.png  \n",
            "  inflating: /content/sentences/m03/m03-114/m03-114-06.png  \n",
            "  inflating: /content/sentences/m03/m03-114/m03-114-07.png  \n",
            "  inflating: /content/sentences/m03/m03-114/m03-114-08.png  \n",
            "  inflating: /content/sentences/m03/m03-114/m03-114-09.png  \n",
            "   creating: /content/sentences/m03/m03-118/\n",
            "  inflating: /content/sentences/m03/m03-118/m03-118-00.png  \n",
            "  inflating: /content/sentences/m03/m03-118/m03-118-01.png  \n",
            "  inflating: /content/sentences/m03/m03-118/m03-118-02.png  \n",
            "  inflating: /content/sentences/m03/m03-118/m03-118-03.png  \n",
            "  inflating: /content/sentences/m03/m03-118/m03-118-04.png  \n",
            "  inflating: /content/sentences/m03/m03-118/m03-118-05.png  \n",
            "   creating: /content/sentences/m04/\n",
            "   creating: /content/sentences/m04/m04-000/\n",
            "  inflating: /content/sentences/m04/m04-000/m04-000-00.png  \n",
            "  inflating: /content/sentences/m04/m04-000/m04-000-01.png  \n",
            "  inflating: /content/sentences/m04/m04-000/m04-000-02.png  \n",
            "  inflating: /content/sentences/m04/m04-000/m04-000-03.png  \n",
            "  inflating: /content/sentences/m04/m04-000/m04-000-04.png  \n",
            "  inflating: /content/sentences/m04/m04-000/m04-000-05.png  \n",
            "  inflating: /content/sentences/m04/m04-000/m04-000-06.png  \n",
            "  inflating: /content/sentences/m04/m04-000/m04-000-07.png  \n",
            "   creating: /content/sentences/m04/m04-007/\n",
            "  inflating: /content/sentences/m04/m04-007/m04-007-00.png  \n",
            "  inflating: /content/sentences/m04/m04-007/m04-007-01.png  \n",
            "  inflating: /content/sentences/m04/m04-007/m04-007-02.png  \n",
            "  inflating: /content/sentences/m04/m04-007/m04-007-03.png  \n",
            "  inflating: /content/sentences/m04/m04-007/m04-007-04.png  \n",
            "  inflating: /content/sentences/m04/m04-007/m04-007-05.png  \n",
            "  inflating: /content/sentences/m04/m04-007/m04-007-06.png  \n",
            "  inflating: /content/sentences/m04/m04-007/m04-007-07.png  \n",
            "  inflating: /content/sentences/m04/m04-007/m04-007-08.png  \n",
            "  inflating: /content/sentences/m04/m04-007/m04-007-09.png  \n",
            "   creating: /content/sentences/m04/m04-012/\n",
            "  inflating: /content/sentences/m04/m04-012/m04-012-00.png  \n",
            "  inflating: /content/sentences/m04/m04-012/m04-012-01.png  \n",
            "  inflating: /content/sentences/m04/m04-012/m04-012-02.png  \n",
            "  inflating: /content/sentences/m04/m04-012/m04-012-03.png  \n",
            "  inflating: /content/sentences/m04/m04-012/m04-012-04.png  \n",
            "  inflating: /content/sentences/m04/m04-012/m04-012-05.png  \n",
            "  inflating: /content/sentences/m04/m04-012/m04-012-06.png  \n",
            "  inflating: /content/sentences/m04/m04-012/m04-012-07.png  \n",
            "  inflating: /content/sentences/m04/m04-012/m04-012-08.png  \n",
            "  inflating: /content/sentences/m04/m04-012/m04-012-09.png  \n",
            "   creating: /content/sentences/m04/m04-019/\n",
            "  inflating: /content/sentences/m04/m04-019/m04-019-00.png  \n",
            "  inflating: /content/sentences/m04/m04-019/m04-019-01.png  \n",
            "  inflating: /content/sentences/m04/m04-019/m04-019-02.png  \n",
            "  inflating: /content/sentences/m04/m04-019/m04-019-03.png  \n",
            "  inflating: /content/sentences/m04/m04-019/m04-019-04.png  \n",
            "  inflating: /content/sentences/m04/m04-019/m04-019-05.png  \n",
            "  inflating: /content/sentences/m04/m04-019/m04-019-06.png  \n",
            "  inflating: /content/sentences/m04/m04-019/m04-019-07.png  \n",
            "   creating: /content/sentences/m04/m04-024/\n",
            "  inflating: /content/sentences/m04/m04-024/m04-024-00.png  \n",
            "  inflating: /content/sentences/m04/m04-024/m04-024-01.png  \n",
            "  inflating: /content/sentences/m04/m04-024/m04-024-02.png  \n",
            "  inflating: /content/sentences/m04/m04-024/m04-024-03.png  \n",
            "  inflating: /content/sentences/m04/m04-024/m04-024-04.png  \n",
            "  inflating: /content/sentences/m04/m04-024/m04-024-05.png  \n",
            "  inflating: /content/sentences/m04/m04-024/m04-024-06.png  \n",
            "  inflating: /content/sentences/m04/m04-024/m04-024-07.png  \n",
            "   creating: /content/sentences/m04/m04-030/\n",
            "  inflating: /content/sentences/m04/m04-030/m04-030-00.png  \n",
            "  inflating: /content/sentences/m04/m04-030/m04-030-01.png  \n",
            "  inflating: /content/sentences/m04/m04-030/m04-030-02.png  \n",
            "  inflating: /content/sentences/m04/m04-030/m04-030-03.png  \n",
            "  inflating: /content/sentences/m04/m04-030/m04-030-04.png  \n",
            "   creating: /content/sentences/m04/m04-038/\n",
            "  inflating: /content/sentences/m04/m04-038/m04-038-00.png  \n",
            "  inflating: /content/sentences/m04/m04-038/m04-038-01.png  \n",
            "  inflating: /content/sentences/m04/m04-038/m04-038-02.png  \n",
            "  inflating: /content/sentences/m04/m04-038/m04-038-03.png  \n",
            "  inflating: /content/sentences/m04/m04-038/m04-038-04.png  \n",
            "  inflating: /content/sentences/m04/m04-038/m04-038-05.png  \n",
            "   creating: /content/sentences/m04/m04-043/\n",
            "  inflating: /content/sentences/m04/m04-043/m04-043-00.png  \n",
            "  inflating: /content/sentences/m04/m04-043/m04-043-01.png  \n",
            "  inflating: /content/sentences/m04/m04-043/m04-043-02.png  \n",
            "  inflating: /content/sentences/m04/m04-043/m04-043-03.png  \n",
            "  inflating: /content/sentences/m04/m04-043/m04-043-04.png  \n",
            "   creating: /content/sentences/m04/m04-061/\n",
            "  inflating: /content/sentences/m04/m04-061/m04-061-00.png  \n",
            "  inflating: /content/sentences/m04/m04-061/m04-061-01.png  \n",
            "  inflating: /content/sentences/m04/m04-061/m04-061-02.png  \n",
            "  inflating: /content/sentences/m04/m04-061/m04-061-03.png  \n",
            "  inflating: /content/sentences/m04/m04-061/m04-061-04.png  \n",
            "   creating: /content/sentences/m04/m04-072/\n",
            "  inflating: /content/sentences/m04/m04-072/m04-072-00.png  \n",
            "  inflating: /content/sentences/m04/m04-072/m04-072-01.png  \n",
            "  inflating: /content/sentences/m04/m04-072/m04-072-02.png  \n",
            "  inflating: /content/sentences/m04/m04-072/m04-072-03.png  \n",
            "  inflating: /content/sentences/m04/m04-072/m04-072-04.png  \n",
            "  inflating: /content/sentences/m04/m04-072/m04-072-05.png  \n",
            "  inflating: /content/sentences/m04/m04-072/m04-072-06.png  \n",
            "  inflating: /content/sentences/m04/m04-072/m04-072-07.png  \n",
            "  inflating: /content/sentences/m04/m04-072/m04-072-08.png  \n",
            "  inflating: /content/sentences/m04/m04-072/m04-072-09.png  \n",
            "  inflating: /content/sentences/m04/m04-072/m04-072-10.png  \n",
            "   creating: /content/sentences/m04/m04-078/\n",
            "  inflating: /content/sentences/m04/m04-078/m04-078-00.png  \n",
            "  inflating: /content/sentences/m04/m04-078/m04-078-01.png  \n",
            "  inflating: /content/sentences/m04/m04-078/m04-078-02.png  \n",
            "  inflating: /content/sentences/m04/m04-078/m04-078-03.png  \n",
            "  inflating: /content/sentences/m04/m04-078/m04-078-04.png  \n",
            "  inflating: /content/sentences/m04/m04-078/m04-078-05.png  \n",
            "  inflating: /content/sentences/m04/m04-078/m04-078-06.png  \n",
            "  inflating: /content/sentences/m04/m04-078/m04-078-07.png  \n",
            "   creating: /content/sentences/m04/m04-081/\n",
            "  inflating: /content/sentences/m04/m04-081/m04-081-00.png  \n",
            "  inflating: /content/sentences/m04/m04-081/m04-081-01.png  \n",
            "  inflating: /content/sentences/m04/m04-081/m04-081-02.png  \n",
            "  inflating: /content/sentences/m04/m04-081/m04-081-03.png  \n",
            "  inflating: /content/sentences/m04/m04-081/m04-081-04.png  \n",
            "  inflating: /content/sentences/m04/m04-081/m04-081-05.png  \n",
            "  inflating: /content/sentences/m04/m04-081/m04-081-06.png  \n",
            "  inflating: /content/sentences/m04/m04-081/m04-081-07.png  \n",
            "  inflating: /content/sentences/m04/m04-081/m04-081-08.png  \n",
            "  inflating: /content/sentences/m04/m04-081/m04-081-09.png  \n",
            "  inflating: /content/sentences/m04/m04-081/m04-081-10.png  \n",
            "   creating: /content/sentences/m04/m04-093/\n",
            "  inflating: /content/sentences/m04/m04-093/m04-093-00.png  \n",
            "  inflating: /content/sentences/m04/m04-093/m04-093-01.png  \n",
            "  inflating: /content/sentences/m04/m04-093/m04-093-02.png  \n",
            "  inflating: /content/sentences/m04/m04-093/m04-093-03.png  \n",
            "  inflating: /content/sentences/m04/m04-093/m04-093-04.png  \n",
            "  inflating: /content/sentences/m04/m04-093/m04-093-05.png  \n",
            "  inflating: /content/sentences/m04/m04-093/m04-093-06.png  \n",
            "  inflating: /content/sentences/m04/m04-093/m04-093-07.png  \n",
            "  inflating: /content/sentences/m04/m04-093/m04-093-08.png  \n",
            "  inflating: /content/sentences/m04/m04-093/m04-093-09.png  \n",
            "   creating: /content/sentences/m04/m04-100/\n",
            "  inflating: /content/sentences/m04/m04-100/m04-100-00.png  \n",
            "  inflating: /content/sentences/m04/m04-100/m04-100-01.png  \n",
            "  inflating: /content/sentences/m04/m04-100/m04-100-02.png  \n",
            "  inflating: /content/sentences/m04/m04-100/m04-100-03.png  \n",
            "  inflating: /content/sentences/m04/m04-100/m04-100-04.png  \n",
            "  inflating: /content/sentences/m04/m04-100/m04-100-05.png  \n",
            "  inflating: /content/sentences/m04/m04-100/m04-100-06.png  \n",
            "  inflating: /content/sentences/m04/m04-100/m04-100-07.png  \n",
            "   creating: /content/sentences/m04/m04-107/\n",
            "  inflating: /content/sentences/m04/m04-107/m04-107-00.png  \n",
            "  inflating: /content/sentences/m04/m04-107/m04-107-01.png  \n",
            "  inflating: /content/sentences/m04/m04-107/m04-107-02.png  \n",
            "  inflating: /content/sentences/m04/m04-107/m04-107-03.png  \n",
            "  inflating: /content/sentences/m04/m04-107/m04-107-04.png  \n",
            "  inflating: /content/sentences/m04/m04-107/m04-107-05.png  \n",
            "  inflating: /content/sentences/m04/m04-107/m04-107-06.png  \n",
            "  inflating: /content/sentences/m04/m04-107/m04-107-07.png  \n",
            "  inflating: /content/sentences/m04/m04-107/m04-107-08.png  \n",
            "  inflating: /content/sentences/m04/m04-107/m04-107-09.png  \n",
            "  inflating: /content/sentences/m04/m04-107/m04-107-10.png  \n",
            "   creating: /content/sentences/m04/m04-113/\n",
            "  inflating: /content/sentences/m04/m04-113/m04-113-00.png  \n",
            "  inflating: /content/sentences/m04/m04-113/m04-113-01.png  \n",
            "  inflating: /content/sentences/m04/m04-113/m04-113-02.png  \n",
            "  inflating: /content/sentences/m04/m04-113/m04-113-03.png  \n",
            "  inflating: /content/sentences/m04/m04-113/m04-113-04.png  \n",
            "  inflating: /content/sentences/m04/m04-113/m04-113-05.png  \n",
            "  inflating: /content/sentences/m04/m04-113/m04-113-06.png  \n",
            "  inflating: /content/sentences/m04/m04-113/m04-113-07.png  \n",
            "  inflating: /content/sentences/m04/m04-113/m04-113-08.png  \n",
            "  inflating: /content/sentences/m04/m04-113/m04-113-09.png  \n",
            "  inflating: /content/sentences/m04/m04-113/m04-113-10.png  \n",
            "   creating: /content/sentences/m04/m04-123/\n",
            "  inflating: /content/sentences/m04/m04-123/m04-123-00.png  \n",
            "  inflating: /content/sentences/m04/m04-123/m04-123-01.png  \n",
            "  inflating: /content/sentences/m04/m04-123/m04-123-02.png  \n",
            "  inflating: /content/sentences/m04/m04-123/m04-123-03.png  \n",
            "  inflating: /content/sentences/m04/m04-123/m04-123-04.png  \n",
            "  inflating: /content/sentences/m04/m04-123/m04-123-05.png  \n",
            "  inflating: /content/sentences/m04/m04-123/m04-123-06.png  \n",
            "  inflating: /content/sentences/m04/m04-123/m04-123-07.png  \n",
            "  inflating: /content/sentences/m04/m04-123/m04-123-08.png  \n",
            "  inflating: /content/sentences/m04/m04-123/m04-123-09.png  \n",
            "  inflating: /content/sentences/m04/m04-123/m04-123-10.png  \n",
            "   creating: /content/sentences/m04/m04-131/\n",
            "  inflating: /content/sentences/m04/m04-131/m04-131-00.png  \n",
            "  inflating: /content/sentences/m04/m04-131/m04-131-01.png  \n",
            "  inflating: /content/sentences/m04/m04-131/m04-131-02.png  \n",
            "  inflating: /content/sentences/m04/m04-131/m04-131-03.png  \n",
            "  inflating: /content/sentences/m04/m04-131/m04-131-04.png  \n",
            "  inflating: /content/sentences/m04/m04-131/m04-131-05.png  \n",
            "  inflating: /content/sentences/m04/m04-131/m04-131-06.png  \n",
            "  inflating: /content/sentences/m04/m04-131/m04-131-07.png  \n",
            "  inflating: /content/sentences/m04/m04-131/m04-131-08.png  \n",
            "   creating: /content/sentences/m04/m04-138/\n",
            "  inflating: /content/sentences/m04/m04-138/m04-138-00.png  \n",
            "  inflating: /content/sentences/m04/m04-138/m04-138-01.png  \n",
            "  inflating: /content/sentences/m04/m04-138/m04-138-02.png  \n",
            "  inflating: /content/sentences/m04/m04-138/m04-138-03.png  \n",
            "  inflating: /content/sentences/m04/m04-138/m04-138-04.png  \n",
            "  inflating: /content/sentences/m04/m04-138/m04-138-05.png  \n",
            "  inflating: /content/sentences/m04/m04-138/m04-138-06.png  \n",
            "  inflating: /content/sentences/m04/m04-138/m04-138-07.png  \n",
            "  inflating: /content/sentences/m04/m04-138/m04-138-08.png  \n",
            "  inflating: /content/sentences/m04/m04-138/m04-138-09.png  \n",
            "   creating: /content/sentences/m04/m04-145/\n",
            "  inflating: /content/sentences/m04/m04-145/m04-145-00.png  \n",
            "  inflating: /content/sentences/m04/m04-145/m04-145-01.png  \n",
            "  inflating: /content/sentences/m04/m04-145/m04-145-02.png  \n",
            "  inflating: /content/sentences/m04/m04-145/m04-145-03.png  \n",
            "  inflating: /content/sentences/m04/m04-145/m04-145-04.png  \n",
            "  inflating: /content/sentences/m04/m04-145/m04-145-05.png  \n",
            "  inflating: /content/sentences/m04/m04-145/m04-145-06.png  \n",
            "  inflating: /content/sentences/m04/m04-145/m04-145-07.png  \n",
            "   creating: /content/sentences/m04/m04-152/\n",
            "  inflating: /content/sentences/m04/m04-152/m04-152-00.png  \n",
            "  inflating: /content/sentences/m04/m04-152/m04-152-01.png  \n",
            "  inflating: /content/sentences/m04/m04-152/m04-152-02.png  \n",
            "  inflating: /content/sentences/m04/m04-152/m04-152-03.png  \n",
            "  inflating: /content/sentences/m04/m04-152/m04-152-04.png  \n",
            "  inflating: /content/sentences/m04/m04-152/m04-152-05.png  \n",
            "  inflating: /content/sentences/m04/m04-152/m04-152-06.png  \n",
            "  inflating: /content/sentences/m04/m04-152/m04-152-07.png  \n",
            "   creating: /content/sentences/m04/m04-164/\n",
            "  inflating: /content/sentences/m04/m04-164/m04-164-00.png  \n",
            "  inflating: /content/sentences/m04/m04-164/m04-164-01.png  \n",
            "  inflating: /content/sentences/m04/m04-164/m04-164-02.png  \n",
            "  inflating: /content/sentences/m04/m04-164/m04-164-03.png  \n",
            "  inflating: /content/sentences/m04/m04-164/m04-164-04.png  \n",
            "  inflating: /content/sentences/m04/m04-164/m04-164-05.png  \n",
            "  inflating: /content/sentences/m04/m04-164/m04-164-06.png  \n",
            "  inflating: /content/sentences/m04/m04-164/m04-164-07.png  \n",
            "   creating: /content/sentences/m04/m04-180/\n",
            "  inflating: /content/sentences/m04/m04-180/m04-180-00.png  \n",
            "  inflating: /content/sentences/m04/m04-180/m04-180-01.png  \n",
            "  inflating: /content/sentences/m04/m04-180/m04-180-02.png  \n",
            "  inflating: /content/sentences/m04/m04-180/m04-180-03.png  \n",
            "  inflating: /content/sentences/m04/m04-180/m04-180-04.png  \n",
            "  inflating: /content/sentences/m04/m04-180/m04-180-05.png  \n",
            "  inflating: /content/sentences/m04/m04-180/m04-180-06.png  \n",
            "  inflating: /content/sentences/m04/m04-180/m04-180-07.png  \n",
            "   creating: /content/sentences/m04/m04-190/\n",
            "  inflating: /content/sentences/m04/m04-190/m04-190-00.png  \n",
            "  inflating: /content/sentences/m04/m04-190/m04-190-01.png  \n",
            "  inflating: /content/sentences/m04/m04-190/m04-190-02.png  \n",
            "  inflating: /content/sentences/m04/m04-190/m04-190-03.png  \n",
            "  inflating: /content/sentences/m04/m04-190/m04-190-04.png  \n",
            "  inflating: /content/sentences/m04/m04-190/m04-190-05.png  \n",
            "  inflating: /content/sentences/m04/m04-190/m04-190-06.png  \n",
            "  inflating: /content/sentences/m04/m04-190/m04-190-07.png  \n",
            "  inflating: /content/sentences/m04/m04-190/m04-190-08.png  \n",
            "  inflating: /content/sentences/m04/m04-190/m04-190-09.png  \n",
            "   creating: /content/sentences/m04/m04-200/\n",
            "  inflating: /content/sentences/m04/m04-200/m04-200-00.png  \n",
            "  inflating: /content/sentences/m04/m04-200/m04-200-01.png  \n",
            "  inflating: /content/sentences/m04/m04-200/m04-200-02.png  \n",
            "  inflating: /content/sentences/m04/m04-200/m04-200-03.png  \n",
            "  inflating: /content/sentences/m04/m04-200/m04-200-04.png  \n",
            "  inflating: /content/sentences/m04/m04-200/m04-200-05.png  \n",
            "  inflating: /content/sentences/m04/m04-200/m04-200-06.png  \n",
            "  inflating: /content/sentences/m04/m04-200/m04-200-07.png  \n",
            "   creating: /content/sentences/m04/m04-209/\n",
            "  inflating: /content/sentences/m04/m04-209/m04-209-00.png  \n",
            "  inflating: /content/sentences/m04/m04-209/m04-209-01.png  \n",
            "  inflating: /content/sentences/m04/m04-209/m04-209-02.png  \n",
            "  inflating: /content/sentences/m04/m04-209/m04-209-03.png  \n",
            "  inflating: /content/sentences/m04/m04-209/m04-209-04.png  \n",
            "  inflating: /content/sentences/m04/m04-209/m04-209-05.png  \n",
            "  inflating: /content/sentences/m04/m04-209/m04-209-06.png  \n",
            "   creating: /content/sentences/m04/m04-216/\n",
            "  inflating: /content/sentences/m04/m04-216/m04-216-00.png  \n",
            "  inflating: /content/sentences/m04/m04-216/m04-216-01.png  \n",
            "  inflating: /content/sentences/m04/m04-216/m04-216-02.png  \n",
            "  inflating: /content/sentences/m04/m04-216/m04-216-03.png  \n",
            "  inflating: /content/sentences/m04/m04-216/m04-216-04.png  \n",
            "  inflating: /content/sentences/m04/m04-216/m04-216-05.png  \n",
            "  inflating: /content/sentences/m04/m04-216/m04-216-06.png  \n",
            "   creating: /content/sentences/m04/m04-222/\n",
            "  inflating: /content/sentences/m04/m04-222/m04-222-00.png  \n",
            "  inflating: /content/sentences/m04/m04-222/m04-222-01.png  \n",
            "  inflating: /content/sentences/m04/m04-222/m04-222-02.png  \n",
            "  inflating: /content/sentences/m04/m04-222/m04-222-03.png  \n",
            "  inflating: /content/sentences/m04/m04-222/m04-222-04.png  \n",
            "  inflating: /content/sentences/m04/m04-222/m04-222-05.png  \n",
            "  inflating: /content/sentences/m04/m04-222/m04-222-06.png  \n",
            "  inflating: /content/sentences/m04/m04-222/m04-222-07.png  \n",
            "   creating: /content/sentences/m04/m04-231/\n",
            "  inflating: /content/sentences/m04/m04-231/m04-231-00.png  \n",
            "  inflating: /content/sentences/m04/m04-231/m04-231-01.png  \n",
            "  inflating: /content/sentences/m04/m04-231/m04-231-02.png  \n",
            "  inflating: /content/sentences/m04/m04-231/m04-231-03.png  \n",
            "  inflating: /content/sentences/m04/m04-231/m04-231-04.png  \n",
            "  inflating: /content/sentences/m04/m04-231/m04-231-05.png  \n",
            "  inflating: /content/sentences/m04/m04-231/m04-231-06.png  \n",
            "   creating: /content/sentences/m04/m04-238/\n",
            "  inflating: /content/sentences/m04/m04-238/m04-238-00.png  \n",
            "  inflating: /content/sentences/m04/m04-238/m04-238-01.png  \n",
            "  inflating: /content/sentences/m04/m04-238/m04-238-02.png  \n",
            "  inflating: /content/sentences/m04/m04-238/m04-238-03.png  \n",
            "  inflating: /content/sentences/m04/m04-238/m04-238-04.png  \n",
            "  inflating: /content/sentences/m04/m04-238/m04-238-05.png  \n",
            "   creating: /content/sentences/m04/m04-246/\n",
            "  inflating: /content/sentences/m04/m04-246/m04-246-00.png  \n",
            "  inflating: /content/sentences/m04/m04-246/m04-246-01.png  \n",
            "  inflating: /content/sentences/m04/m04-246/m04-246-02.png  \n",
            "  inflating: /content/sentences/m04/m04-246/m04-246-03.png  \n",
            "  inflating: /content/sentences/m04/m04-246/m04-246-04.png  \n",
            "  inflating: /content/sentences/m04/m04-246/m04-246-05.png  \n",
            "  inflating: /content/sentences/m04/m04-246/m04-246-06.png  \n",
            "   creating: /content/sentences/m04/m04-251/\n",
            "  inflating: /content/sentences/m04/m04-251/m04-251-00.png  \n",
            "  inflating: /content/sentences/m04/m04-251/m04-251-01.png  \n",
            " extracting: /content/sentences/m04/m04-251/m04-251-02.png  \n",
            "   creating: /content/sentences/m06/\n",
            "   creating: /content/sentences/m06/m06-019/\n",
            "  inflating: /content/sentences/m06/m06-019/m06-019-00.png  \n",
            "  inflating: /content/sentences/m06/m06-019/m06-019-01.png  \n",
            "  inflating: /content/sentences/m06/m06-019/m06-019-02.png  \n",
            "  inflating: /content/sentences/m06/m06-019/m06-019-03.png  \n",
            "  inflating: /content/sentences/m06/m06-019/m06-019-04.png  \n",
            "  inflating: /content/sentences/m06/m06-019/m06-019-05.png  \n",
            "  inflating: /content/sentences/m06/m06-019/m06-019-06.png  \n",
            "  inflating: /content/sentences/m06/m06-019/m06-019-07.png  \n",
            "   creating: /content/sentences/m06/m06-031/\n",
            "  inflating: /content/sentences/m06/m06-031/m06-031-00.png  \n",
            "  inflating: /content/sentences/m06/m06-031/m06-031-01.png  \n",
            "  inflating: /content/sentences/m06/m06-031/m06-031-02.png  \n",
            "  inflating: /content/sentences/m06/m06-031/m06-031-03.png  \n",
            "  inflating: /content/sentences/m06/m06-031/m06-031-04.png  \n",
            "  inflating: /content/sentences/m06/m06-031/m06-031-05.png  \n",
            "  inflating: /content/sentences/m06/m06-031/m06-031-06.png  \n",
            "   creating: /content/sentences/m06/m06-042/\n",
            "  inflating: /content/sentences/m06/m06-042/m06-042-00.png  \n",
            "  inflating: /content/sentences/m06/m06-042/m06-042-01.png  \n",
            "  inflating: /content/sentences/m06/m06-042/m06-042-02.png  \n",
            "  inflating: /content/sentences/m06/m06-042/m06-042-03.png  \n",
            "  inflating: /content/sentences/m06/m06-042/m06-042-04.png  \n",
            "  inflating: /content/sentences/m06/m06-042/m06-042-05.png  \n",
            "   creating: /content/sentences/m06/m06-048/\n",
            "  inflating: /content/sentences/m06/m06-048/m06-048-00.png  \n",
            "  inflating: /content/sentences/m06/m06-048/m06-048-01.png  \n",
            "  inflating: /content/sentences/m06/m06-048/m06-048-02.png  \n",
            "  inflating: /content/sentences/m06/m06-048/m06-048-03.png  \n",
            "  inflating: /content/sentences/m06/m06-048/m06-048-04.png  \n",
            "  inflating: /content/sentences/m06/m06-048/m06-048-05.png  \n",
            "  inflating: /content/sentences/m06/m06-048/m06-048-06.png  \n",
            "  inflating: /content/sentences/m06/m06-048/m06-048-07.png  \n",
            "   creating: /content/sentences/m06/m06-056/\n",
            "  inflating: /content/sentences/m06/m06-056/m06-056-00.png  \n",
            "  inflating: /content/sentences/m06/m06-056/m06-056-01.png  \n",
            "  inflating: /content/sentences/m06/m06-056/m06-056-02.png  \n",
            "  inflating: /content/sentences/m06/m06-056/m06-056-03.png  \n",
            "  inflating: /content/sentences/m06/m06-056/m06-056-04.png  \n",
            "  inflating: /content/sentences/m06/m06-056/m06-056-05.png  \n",
            "   creating: /content/sentences/m06/m06-067/\n",
            "  inflating: /content/sentences/m06/m06-067/m06-067-00.png  \n",
            "  inflating: /content/sentences/m06/m06-067/m06-067-01.png  \n",
            "  inflating: /content/sentences/m06/m06-067/m06-067-02.png  \n",
            "  inflating: /content/sentences/m06/m06-067/m06-067-03.png  \n",
            "  inflating: /content/sentences/m06/m06-067/m06-067-04.png  \n",
            "  inflating: /content/sentences/m06/m06-067/m06-067-05.png  \n",
            "  inflating: /content/sentences/m06/m06-067/m06-067-06.png  \n",
            "   creating: /content/sentences/m06/m06-076/\n",
            "  inflating: /content/sentences/m06/m06-076/m06-076-00.png  \n",
            "  inflating: /content/sentences/m06/m06-076/m06-076-01.png  \n",
            "  inflating: /content/sentences/m06/m06-076/m06-076-02.png  \n",
            "  inflating: /content/sentences/m06/m06-076/m06-076-03.png  \n",
            "  inflating: /content/sentences/m06/m06-076/m06-076-04.png  \n",
            "  inflating: /content/sentences/m06/m06-076/m06-076-05.png  \n",
            "  inflating: /content/sentences/m06/m06-076/m06-076-06.png  \n",
            "   creating: /content/sentences/m06/m06-083/\n",
            "  inflating: /content/sentences/m06/m06-083/m06-083-00.png  \n",
            "  inflating: /content/sentences/m06/m06-083/m06-083-01.png  \n",
            "  inflating: /content/sentences/m06/m06-083/m06-083-02.png  \n",
            "  inflating: /content/sentences/m06/m06-083/m06-083-03.png  \n",
            "  inflating: /content/sentences/m06/m06-083/m06-083-04.png  \n",
            "  inflating: /content/sentences/m06/m06-083/m06-083-05.png  \n",
            "  inflating: /content/sentences/m06/m06-083/m06-083-06.png  \n",
            " extracting: /content/sentences/m06/m06-083/m06-083-07.png  \n",
            "   creating: /content/sentences/m06/m06-091/\n",
            "  inflating: /content/sentences/m06/m06-091/m06-091-00.png  \n",
            "  inflating: /content/sentences/m06/m06-091/m06-091-01.png  \n",
            "  inflating: /content/sentences/m06/m06-091/m06-091-02.png  \n",
            "  inflating: /content/sentences/m06/m06-091/m06-091-03.png  \n",
            "  inflating: /content/sentences/m06/m06-091/m06-091-04.png  \n",
            "  inflating: /content/sentences/m06/m06-091/m06-091-05.png  \n",
            "  inflating: /content/sentences/m06/m06-091/m06-091-06.png  \n",
            "   creating: /content/sentences/m06/m06-098/\n",
            "  inflating: /content/sentences/m06/m06-098/m06-098-00.png  \n",
            "  inflating: /content/sentences/m06/m06-098/m06-098-01.png  \n",
            "  inflating: /content/sentences/m06/m06-098/m06-098-02.png  \n",
            "  inflating: /content/sentences/m06/m06-098/m06-098-03.png  \n",
            "  inflating: /content/sentences/m06/m06-098/m06-098-04.png  \n",
            "  inflating: /content/sentences/m06/m06-098/m06-098-05.png  \n",
            "  inflating: /content/sentences/m06/m06-098/m06-098-06.png  \n",
            "   creating: /content/sentences/m06/m06-106/\n",
            "  inflating: /content/sentences/m06/m06-106/m06-106-00.png  \n",
            "  inflating: /content/sentences/m06/m06-106/m06-106-01.png  \n",
            "  inflating: /content/sentences/m06/m06-106/m06-106-02.png  \n",
            "  inflating: /content/sentences/m06/m06-106/m06-106-03.png  \n",
            "  inflating: /content/sentences/m06/m06-106/m06-106-04.png  \n",
            "  inflating: /content/sentences/m06/m06-106/m06-106-05.png  \n",
            "  inflating: /content/sentences/m06/m06-106/m06-106-06.png  \n",
            "  inflating: /content/sentences/m06/m06-106/m06-106-07.png  \n",
            "  inflating: /content/sentences/m06/m06-106/m06-106-08.png  \n",
            "  inflating: /content/sentences/m06/m06-106/m06-106-09.png  \n",
            "   creating: /content/sentences/n01/\n",
            "   creating: /content/sentences/n01/n01-000/\n",
            "  inflating: /content/sentences/n01/n01-000/n01-000-00.png  \n",
            "  inflating: /content/sentences/n01/n01-000/n01-000-01.png  \n",
            "  inflating: /content/sentences/n01/n01-000/n01-000-02.png  \n",
            "  inflating: /content/sentences/n01/n01-000/n01-000-03.png  \n",
            "  inflating: /content/sentences/n01/n01-000/n01-000-04.png  \n",
            "  inflating: /content/sentences/n01/n01-000/n01-000-05.png  \n",
            "  inflating: /content/sentences/n01/n01-000/n01-000-06.png  \n",
            "  inflating: /content/sentences/n01/n01-000/n01-000-07.png  \n",
            "   creating: /content/sentences/n01/n01-004/\n",
            "  inflating: /content/sentences/n01/n01-004/n01-004-00.png  \n",
            "  inflating: /content/sentences/n01/n01-004/n01-004-01.png  \n",
            "  inflating: /content/sentences/n01/n01-004/n01-004-02.png  \n",
            "  inflating: /content/sentences/n01/n01-004/n01-004-03.png  \n",
            "  inflating: /content/sentences/n01/n01-004/n01-004-04.png  \n",
            "  inflating: /content/sentences/n01/n01-004/n01-004-05.png  \n",
            "  inflating: /content/sentences/n01/n01-004/n01-004-06.png  \n",
            "   creating: /content/sentences/n01/n01-009/\n",
            "  inflating: /content/sentences/n01/n01-009/n01-009-00.png  \n",
            "  inflating: /content/sentences/n01/n01-009/n01-009-01.png  \n",
            "  inflating: /content/sentences/n01/n01-009/n01-009-02.png  \n",
            "  inflating: /content/sentences/n01/n01-009/n01-009-03.png  \n",
            "  inflating: /content/sentences/n01/n01-009/n01-009-04.png  \n",
            "  inflating: /content/sentences/n01/n01-009/n01-009-05.png  \n",
            "  inflating: /content/sentences/n01/n01-009/n01-009-06.png  \n",
            "  inflating: /content/sentences/n01/n01-009/n01-009-07.png  \n",
            "  inflating: /content/sentences/n01/n01-009/n01-009-08.png  \n",
            "   creating: /content/sentences/n01/n01-020/\n",
            "  inflating: /content/sentences/n01/n01-020/n01-020-00.png  \n",
            "  inflating: /content/sentences/n01/n01-020/n01-020-01.png  \n",
            "  inflating: /content/sentences/n01/n01-020/n01-020-02.png  \n",
            "  inflating: /content/sentences/n01/n01-020/n01-020-03.png  \n",
            "  inflating: /content/sentences/n01/n01-020/n01-020-04.png  \n",
            "  inflating: /content/sentences/n01/n01-020/n01-020-05.png  \n",
            "  inflating: /content/sentences/n01/n01-020/n01-020-06.png  \n",
            "  inflating: /content/sentences/n01/n01-020/n01-020-07.png  \n",
            "  inflating: /content/sentences/n01/n01-020/n01-020-08.png  \n",
            "  inflating: /content/sentences/n01/n01-020/n01-020-09.png  \n",
            "   creating: /content/sentences/n01/n01-031/\n",
            "  inflating: /content/sentences/n01/n01-031/n01-031-00.png  \n",
            "  inflating: /content/sentences/n01/n01-031/n01-031-01.png  \n",
            "  inflating: /content/sentences/n01/n01-031/n01-031-02.png  \n",
            "  inflating: /content/sentences/n01/n01-031/n01-031-03.png  \n",
            "  inflating: /content/sentences/n01/n01-031/n01-031-04.png  \n",
            "  inflating: /content/sentences/n01/n01-031/n01-031-05.png  \n",
            "  inflating: /content/sentences/n01/n01-031/n01-031-06.png  \n",
            "  inflating: /content/sentences/n01/n01-031/n01-031-07.png  \n",
            "  inflating: /content/sentences/n01/n01-031/n01-031-08.png  \n",
            "   creating: /content/sentences/n01/n01-036/\n",
            "  inflating: /content/sentences/n01/n01-036/n01-036-00.png  \n",
            "  inflating: /content/sentences/n01/n01-036/n01-036-01.png  \n",
            "  inflating: /content/sentences/n01/n01-036/n01-036-02.png  \n",
            "  inflating: /content/sentences/n01/n01-036/n01-036-03.png  \n",
            "  inflating: /content/sentences/n01/n01-036/n01-036-04.png  \n",
            "  inflating: /content/sentences/n01/n01-036/n01-036-05.png  \n",
            "   creating: /content/sentences/n01/n01-045/\n",
            "  inflating: /content/sentences/n01/n01-045/n01-045-00.png  \n",
            "  inflating: /content/sentences/n01/n01-045/n01-045-01.png  \n",
            "  inflating: /content/sentences/n01/n01-045/n01-045-02.png  \n",
            "  inflating: /content/sentences/n01/n01-045/n01-045-03.png  \n",
            "  inflating: /content/sentences/n01/n01-045/n01-045-04.png  \n",
            "  inflating: /content/sentences/n01/n01-045/n01-045-05.png  \n",
            "  inflating: /content/sentences/n01/n01-045/n01-045-06.png  \n",
            "  inflating: /content/sentences/n01/n01-045/n01-045-07.png  \n",
            "  inflating: /content/sentences/n01/n01-045/n01-045-08.png  \n",
            "  inflating: /content/sentences/n01/n01-045/n01-045-09.png  \n",
            "   creating: /content/sentences/n01/n01-052/\n",
            "  inflating: /content/sentences/n01/n01-052/n01-052-00.png  \n",
            "  inflating: /content/sentences/n01/n01-052/n01-052-01.png  \n",
            "  inflating: /content/sentences/n01/n01-052/n01-052-02.png  \n",
            "  inflating: /content/sentences/n01/n01-052/n01-052-03.png  \n",
            "  inflating: /content/sentences/n01/n01-052/n01-052-04.png  \n",
            "  inflating: /content/sentences/n01/n01-052/n01-052-05.png  \n",
            "  inflating: /content/sentences/n01/n01-052/n01-052-06.png  \n",
            "  inflating: /content/sentences/n01/n01-052/n01-052-07.png  \n",
            "  inflating: /content/sentences/n01/n01-052/n01-052-08.png  \n",
            "  inflating: /content/sentences/n01/n01-052/n01-052-09.png  \n",
            "  inflating: /content/sentences/n01/n01-052/n01-052-10.png  \n",
            "  inflating: /content/sentences/n01/n01-052/n01-052-11.png  \n",
            "  inflating: /content/sentences/n01/n01-052/n01-052-12.png  \n",
            "   creating: /content/sentences/n01/n01-057/\n",
            "  inflating: /content/sentences/n01/n01-057/n01-057-00.png  \n",
            "  inflating: /content/sentences/n01/n01-057/n01-057-01.png  \n",
            "  inflating: /content/sentences/n01/n01-057/n01-057-02.png  \n",
            "  inflating: /content/sentences/n01/n01-057/n01-057-03.png  \n",
            "  inflating: /content/sentences/n01/n01-057/n01-057-04.png  \n",
            "  inflating: /content/sentences/n01/n01-057/n01-057-05.png  \n",
            "  inflating: /content/sentences/n01/n01-057/n01-057-06.png  \n",
            "  inflating: /content/sentences/n01/n01-057/n01-057-07.png  \n",
            "  inflating: /content/sentences/n01/n01-057/n01-057-08.png  \n",
            "  inflating: /content/sentences/n01/n01-057/n01-057-09.png  \n",
            "   creating: /content/sentences/n02/\n",
            "   creating: /content/sentences/n02/n02-000/\n",
            "  inflating: /content/sentences/n02/n02-000/n02-000-00.png  \n",
            "  inflating: /content/sentences/n02/n02-000/n02-000-01.png  \n",
            "  inflating: /content/sentences/n02/n02-000/n02-000-02.png  \n",
            "  inflating: /content/sentences/n02/n02-000/n02-000-03.png  \n",
            "  inflating: /content/sentences/n02/n02-000/n02-000-04.png  \n",
            "  inflating: /content/sentences/n02/n02-000/n02-000-05.png  \n",
            "  inflating: /content/sentences/n02/n02-000/n02-000-06.png  \n",
            "  inflating: /content/sentences/n02/n02-000/n02-000-07.png  \n",
            "   creating: /content/sentences/n02/n02-004/\n",
            "  inflating: /content/sentences/n02/n02-004/n02-004-00.png  \n",
            "  inflating: /content/sentences/n02/n02-004/n02-004-01.png  \n",
            "  inflating: /content/sentences/n02/n02-004/n02-004-02.png  \n",
            "  inflating: /content/sentences/n02/n02-004/n02-004-03.png  \n",
            "  inflating: /content/sentences/n02/n02-004/n02-004-04.png  \n",
            "  inflating: /content/sentences/n02/n02-004/n02-004-05.png  \n",
            "  inflating: /content/sentences/n02/n02-004/n02-004-06.png  \n",
            "  inflating: /content/sentences/n02/n02-004/n02-004-07.png  \n",
            "  inflating: /content/sentences/n02/n02-004/n02-004-08.png  \n",
            "   creating: /content/sentences/n02/n02-009/\n",
            "  inflating: /content/sentences/n02/n02-009/n02-009-00.png  \n",
            "  inflating: /content/sentences/n02/n02-009/n02-009-01.png  \n",
            "  inflating: /content/sentences/n02/n02-009/n02-009-02.png  \n",
            "  inflating: /content/sentences/n02/n02-009/n02-009-03.png  \n",
            "  inflating: /content/sentences/n02/n02-009/n02-009-04.png  \n",
            "  inflating: /content/sentences/n02/n02-009/n02-009-05.png  \n",
            "  inflating: /content/sentences/n02/n02-009/n02-009-06.png  \n",
            "   creating: /content/sentences/n02/n02-016/\n",
            "  inflating: /content/sentences/n02/n02-016/n02-016-00.png  \n",
            "  inflating: /content/sentences/n02/n02-016/n02-016-01.png  \n",
            "  inflating: /content/sentences/n02/n02-016/n02-016-02.png  \n",
            "  inflating: /content/sentences/n02/n02-016/n02-016-03.png  \n",
            "  inflating: /content/sentences/n02/n02-016/n02-016-04.png  \n",
            "  inflating: /content/sentences/n02/n02-016/n02-016-05.png  \n",
            "  inflating: /content/sentences/n02/n02-016/n02-016-06.png  \n",
            "  inflating: /content/sentences/n02/n02-016/n02-016-07.png  \n",
            "   creating: /content/sentences/n02/n02-028/\n",
            "  inflating: /content/sentences/n02/n02-028/n02-028-00.png  \n",
            "  inflating: /content/sentences/n02/n02-028/n02-028-01.png  \n",
            "  inflating: /content/sentences/n02/n02-028/n02-028-02.png  \n",
            "  inflating: /content/sentences/n02/n02-028/n02-028-03.png  \n",
            "  inflating: /content/sentences/n02/n02-028/n02-028-04.png  \n",
            "  inflating: /content/sentences/n02/n02-028/n02-028-05.png  \n",
            "  inflating: /content/sentences/n02/n02-028/n02-028-06.png  \n",
            "  inflating: /content/sentences/n02/n02-028/n02-028-07.png  \n",
            "  inflating: /content/sentences/n02/n02-028/n02-028-08.png  \n",
            "  inflating: /content/sentences/n02/n02-028/n02-028-09.png  \n",
            "   creating: /content/sentences/n02/n02-033/\n",
            "  inflating: /content/sentences/n02/n02-033/n02-033-00.png  \n",
            "  inflating: /content/sentences/n02/n02-033/n02-033-01.png  \n",
            "  inflating: /content/sentences/n02/n02-033/n02-033-02.png  \n",
            "  inflating: /content/sentences/n02/n02-033/n02-033-03.png  \n",
            "  inflating: /content/sentences/n02/n02-033/n02-033-04.png  \n",
            "  inflating: /content/sentences/n02/n02-033/n02-033-05.png  \n",
            "  inflating: /content/sentences/n02/n02-033/n02-033-06.png  \n",
            "  inflating: /content/sentences/n02/n02-033/n02-033-07.png  \n",
            "  inflating: /content/sentences/n02/n02-033/n02-033-08.png  \n",
            "  inflating: /content/sentences/n02/n02-033/n02-033-09.png  \n",
            "   creating: /content/sentences/n02/n02-037/\n",
            "  inflating: /content/sentences/n02/n02-037/n02-037-00.png  \n",
            "  inflating: /content/sentences/n02/n02-037/n02-037-01.png  \n",
            "  inflating: /content/sentences/n02/n02-037/n02-037-02.png  \n",
            "  inflating: /content/sentences/n02/n02-037/n02-037-03.png  \n",
            "  inflating: /content/sentences/n02/n02-037/n02-037-04.png  \n",
            "  inflating: /content/sentences/n02/n02-037/n02-037-05.png  \n",
            "  inflating: /content/sentences/n02/n02-037/n02-037-06.png  \n",
            "  inflating: /content/sentences/n02/n02-037/n02-037-07.png  \n",
            "  inflating: /content/sentences/n02/n02-037/n02-037-08.png  \n",
            "   creating: /content/sentences/n02/n02-040/\n",
            "  inflating: /content/sentences/n02/n02-040/n02-040-00.png  \n",
            "  inflating: /content/sentences/n02/n02-040/n02-040-01.png  \n",
            "  inflating: /content/sentences/n02/n02-040/n02-040-02.png  \n",
            "  inflating: /content/sentences/n02/n02-040/n02-040-03.png  \n",
            "  inflating: /content/sentences/n02/n02-040/n02-040-04.png  \n",
            "  inflating: /content/sentences/n02/n02-040/n02-040-05.png  \n",
            "  inflating: /content/sentences/n02/n02-040/n02-040-06.png  \n",
            "  inflating: /content/sentences/n02/n02-040/n02-040-07.png  \n",
            "   creating: /content/sentences/n02/n02-045/\n",
            "  inflating: /content/sentences/n02/n02-045/n02-045-00.png  \n",
            "  inflating: /content/sentences/n02/n02-045/n02-045-01.png  \n",
            "  inflating: /content/sentences/n02/n02-045/n02-045-02.png  \n",
            "  inflating: /content/sentences/n02/n02-045/n02-045-03.png  \n",
            "  inflating: /content/sentences/n02/n02-045/n02-045-04.png  \n",
            "  inflating: /content/sentences/n02/n02-045/n02-045-05.png  \n",
            "  inflating: /content/sentences/n02/n02-045/n02-045-06.png  \n",
            "  inflating: /content/sentences/n02/n02-045/n02-045-07.png  \n",
            "  inflating: /content/sentences/n02/n02-045/n02-045-08.png  \n",
            "   creating: /content/sentences/n02/n02-049/\n",
            "  inflating: /content/sentences/n02/n02-049/n02-049-00.png  \n",
            "  inflating: /content/sentences/n02/n02-049/n02-049-01.png  \n",
            "  inflating: /content/sentences/n02/n02-049/n02-049-02.png  \n",
            "  inflating: /content/sentences/n02/n02-049/n02-049-03.png  \n",
            "  inflating: /content/sentences/n02/n02-049/n02-049-04.png  \n",
            "  inflating: /content/sentences/n02/n02-049/n02-049-05.png  \n",
            "   creating: /content/sentences/n02/n02-054/\n",
            "  inflating: /content/sentences/n02/n02-054/n02-054-00.png  \n",
            "  inflating: /content/sentences/n02/n02-054/n02-054-01.png  \n",
            "  inflating: /content/sentences/n02/n02-054/n02-054-02.png  \n",
            "  inflating: /content/sentences/n02/n02-054/n02-054-03.png  \n",
            "  inflating: /content/sentences/n02/n02-054/n02-054-04.png  \n",
            "  inflating: /content/sentences/n02/n02-054/n02-054-05.png  \n",
            "  inflating: /content/sentences/n02/n02-054/n02-054-06.png  \n",
            "  inflating: /content/sentences/n02/n02-054/n02-054-07.png  \n",
            "  inflating: /content/sentences/n02/n02-054/n02-054-08.png  \n",
            "  inflating: /content/sentences/n02/n02-054/n02-054-09.png  \n",
            "   creating: /content/sentences/n02/n02-062/\n",
            "  inflating: /content/sentences/n02/n02-062/n02-062-00.png  \n",
            "  inflating: /content/sentences/n02/n02-062/n02-062-01.png  \n",
            "  inflating: /content/sentences/n02/n02-062/n02-062-02.png  \n",
            "  inflating: /content/sentences/n02/n02-062/n02-062-03.png  \n",
            "  inflating: /content/sentences/n02/n02-062/n02-062-04.png  \n",
            "  inflating: /content/sentences/n02/n02-062/n02-062-05.png  \n",
            "  inflating: /content/sentences/n02/n02-062/n02-062-06.png  \n",
            "  inflating: /content/sentences/n02/n02-062/n02-062-07.png  \n",
            "   creating: /content/sentences/n02/n02-082a/\n",
            "  inflating: /content/sentences/n02/n02-082a/n02-082a-00.png  \n",
            "  inflating: /content/sentences/n02/n02-082a/n02-082a-01.png  \n",
            "  inflating: /content/sentences/n02/n02-082a/n02-082a-02.png  \n",
            "  inflating: /content/sentences/n02/n02-082a/n02-082a-03.png  \n",
            "  inflating: /content/sentences/n02/n02-082a/n02-082a-04.png  \n",
            "  inflating: /content/sentences/n02/n02-082a/n02-082a-05.png  \n",
            "  inflating: /content/sentences/n02/n02-082a/n02-082a-06.png  \n",
            "   creating: /content/sentences/n02/n02-098/\n",
            "  inflating: /content/sentences/n02/n02-098/n02-098-00.png  \n",
            "  inflating: /content/sentences/n02/n02-098/n02-098-01.png  \n",
            "  inflating: /content/sentences/n02/n02-098/n02-098-02.png  \n",
            "  inflating: /content/sentences/n02/n02-098/n02-098-03.png  \n",
            "  inflating: /content/sentences/n02/n02-098/n02-098-04.png  \n",
            "  inflating: /content/sentences/n02/n02-098/n02-098-05.png  \n",
            "  inflating: /content/sentences/n02/n02-098/n02-098-06.png  \n",
            "  inflating: /content/sentences/n02/n02-098/n02-098-07.png  \n",
            "   creating: /content/sentences/n02/n02-104/\n",
            "  inflating: /content/sentences/n02/n02-104/n02-104-00.png  \n",
            "  inflating: /content/sentences/n02/n02-104/n02-104-01.png  \n",
            "  inflating: /content/sentences/n02/n02-104/n02-104-02.png  \n",
            "  inflating: /content/sentences/n02/n02-104/n02-104-03.png  \n",
            "  inflating: /content/sentences/n02/n02-104/n02-104-04.png  \n",
            "  inflating: /content/sentences/n02/n02-104/n02-104-05.png  \n",
            "  inflating: /content/sentences/n02/n02-104/n02-104-06.png  \n",
            "  inflating: /content/sentences/n02/n02-104/n02-104-07.png  \n",
            "   creating: /content/sentences/n02/n02-109/\n",
            "  inflating: /content/sentences/n02/n02-109/n02-109-00.png  \n",
            "  inflating: /content/sentences/n02/n02-109/n02-109-01.png  \n",
            "  inflating: /content/sentences/n02/n02-109/n02-109-02.png  \n",
            "  inflating: /content/sentences/n02/n02-109/n02-109-03.png  \n",
            "  inflating: /content/sentences/n02/n02-109/n02-109-04.png  \n",
            "  inflating: /content/sentences/n02/n02-109/n02-109-05.png  \n",
            "  inflating: /content/sentences/n02/n02-109/n02-109-06.png  \n",
            "  inflating: /content/sentences/n02/n02-109/n02-109-07.png  \n",
            "   creating: /content/sentences/n02/n02-114/\n",
            "  inflating: /content/sentences/n02/n02-114/n02-114-00.png  \n",
            "  inflating: /content/sentences/n02/n02-114/n02-114-01.png  \n",
            "  inflating: /content/sentences/n02/n02-114/n02-114-02.png  \n",
            "  inflating: /content/sentences/n02/n02-114/n02-114-03.png  \n",
            "  inflating: /content/sentences/n02/n02-114/n02-114-04.png  \n",
            "  inflating: /content/sentences/n02/n02-114/n02-114-05.png  \n",
            "  inflating: /content/sentences/n02/n02-114/n02-114-06.png  \n",
            "  inflating: /content/sentences/n02/n02-114/n02-114-07.png  \n",
            "  inflating: /content/sentences/n02/n02-114/n02-114-08.png  \n",
            " extracting: /content/sentences/n02/n02-114/n02-114-09.png  \n",
            "   creating: /content/sentences/n02/n02-120/\n",
            "  inflating: /content/sentences/n02/n02-120/n02-120-00.png  \n",
            "  inflating: /content/sentences/n02/n02-120/n02-120-01.png  \n",
            "  inflating: /content/sentences/n02/n02-120/n02-120-02.png  \n",
            "  inflating: /content/sentences/n02/n02-120/n02-120-03.png  \n",
            "  inflating: /content/sentences/n02/n02-120/n02-120-04.png  \n",
            "  inflating: /content/sentences/n02/n02-120/n02-120-05.png  \n",
            "  inflating: /content/sentences/n02/n02-120/n02-120-06.png  \n",
            "  inflating: /content/sentences/n02/n02-120/n02-120-07.png  \n",
            "   creating: /content/sentences/n02/n02-127/\n",
            "  inflating: /content/sentences/n02/n02-127/n02-127-00.png  \n",
            "  inflating: /content/sentences/n02/n02-127/n02-127-01.png  \n",
            "  inflating: /content/sentences/n02/n02-127/n02-127-02.png  \n",
            "  inflating: /content/sentences/n02/n02-127/n02-127-03.png  \n",
            "  inflating: /content/sentences/n02/n02-127/n02-127-04.png  \n",
            "  inflating: /content/sentences/n02/n02-127/n02-127-05.png  \n",
            "  inflating: /content/sentences/n02/n02-127/n02-127-06.png  \n",
            "  inflating: /content/sentences/n02/n02-127/n02-127-07.png  \n",
            "   creating: /content/sentences/n02/n02-146/\n",
            "  inflating: /content/sentences/n02/n02-146/n02-146-00.png  \n",
            "  inflating: /content/sentences/n02/n02-146/n02-146-01.png  \n",
            "  inflating: /content/sentences/n02/n02-146/n02-146-02.png  \n",
            "  inflating: /content/sentences/n02/n02-146/n02-146-03.png  \n",
            "  inflating: /content/sentences/n02/n02-146/n02-146-04.png  \n",
            "  inflating: /content/sentences/n02/n02-146/n02-146-05.png  \n",
            "  inflating: /content/sentences/n02/n02-146/n02-146-06.png  \n",
            "   creating: /content/sentences/n02/n02-151/\n",
            "  inflating: /content/sentences/n02/n02-151/n02-151-00.png  \n",
            "  inflating: /content/sentences/n02/n02-151/n02-151-01.png  \n",
            "  inflating: /content/sentences/n02/n02-151/n02-151-02.png  \n",
            "  inflating: /content/sentences/n02/n02-151/n02-151-03.png  \n",
            "  inflating: /content/sentences/n02/n02-151/n02-151-04.png  \n",
            "  inflating: /content/sentences/n02/n02-151/n02-151-05.png  \n",
            "  inflating: /content/sentences/n02/n02-151/n02-151-06.png  \n",
            "  inflating: /content/sentences/n02/n02-151/n02-151-07.png  \n",
            "  inflating: /content/sentences/n02/n02-151/n02-151-08.png  \n",
            "  inflating: /content/sentences/n02/n02-151/n02-151-09.png  \n",
            "  inflating: /content/sentences/n02/n02-151/n02-151-10.png  \n",
            "   creating: /content/sentences/n02/n02-154/\n",
            "  inflating: /content/sentences/n02/n02-154/n02-154-00.png  \n",
            "  inflating: /content/sentences/n02/n02-154/n02-154-01.png  \n",
            "  inflating: /content/sentences/n02/n02-154/n02-154-02.png  \n",
            "  inflating: /content/sentences/n02/n02-154/n02-154-03.png  \n",
            "  inflating: /content/sentences/n02/n02-154/n02-154-04.png  \n",
            "  inflating: /content/sentences/n02/n02-154/n02-154-05.png  \n",
            "  inflating: /content/sentences/n02/n02-154/n02-154-06.png  \n",
            "   creating: /content/sentences/n02/n02-157/\n",
            "  inflating: /content/sentences/n02/n02-157/n02-157-00.png  \n",
            "  inflating: /content/sentences/n02/n02-157/n02-157-01.png  \n",
            "  inflating: /content/sentences/n02/n02-157/n02-157-02.png  \n",
            "  inflating: /content/sentences/n02/n02-157/n02-157-03.png  \n",
            "  inflating: /content/sentences/n02/n02-157/n02-157-04.png  \n",
            "  inflating: /content/sentences/n02/n02-157/n02-157-05.png  \n",
            "  inflating: /content/sentences/n02/n02-157/n02-157-06.png  \n",
            "  inflating: /content/sentences/n02/n02-157/n02-157-07.png  \n",
            "  inflating: /content/sentences/n02/n02-157/n02-157-08.png  \n",
            "   creating: /content/sentences/n03/\n",
            "   creating: /content/sentences/n03/n03-038/\n",
            "  inflating: /content/sentences/n03/n03-038/n03-038-00.png  \n",
            "  inflating: /content/sentences/n03/n03-038/n03-038-01.png  \n",
            "  inflating: /content/sentences/n03/n03-038/n03-038-02.png  \n",
            "  inflating: /content/sentences/n03/n03-038/n03-038-03.png  \n",
            "  inflating: /content/sentences/n03/n03-038/n03-038-04.png  \n",
            "  inflating: /content/sentences/n03/n03-038/n03-038-05.png  \n",
            " extracting: /content/sentences/n03/n03-038/n03-038-06.png  \n",
            "   creating: /content/sentences/n03/n03-064/\n",
            "  inflating: /content/sentences/n03/n03-064/n03-064-00.png  \n",
            "  inflating: /content/sentences/n03/n03-064/n03-064-01.png  \n",
            "  inflating: /content/sentences/n03/n03-064/n03-064-02.png  \n",
            "  inflating: /content/sentences/n03/n03-064/n03-064-03.png  \n",
            "  inflating: /content/sentences/n03/n03-064/n03-064-04.png  \n",
            "  inflating: /content/sentences/n03/n03-064/n03-064-05.png  \n",
            "   creating: /content/sentences/n03/n03-066/\n",
            "  inflating: /content/sentences/n03/n03-066/n03-066-00.png  \n",
            "  inflating: /content/sentences/n03/n03-066/n03-066-01.png  \n",
            "  inflating: /content/sentences/n03/n03-066/n03-066-02.png  \n",
            "  inflating: /content/sentences/n03/n03-066/n03-066-03.png  \n",
            "  inflating: /content/sentences/n03/n03-066/n03-066-04.png  \n",
            "  inflating: /content/sentences/n03/n03-066/n03-066-05.png  \n",
            "  inflating: /content/sentences/n03/n03-066/n03-066-06.png  \n",
            "  inflating: /content/sentences/n03/n03-066/n03-066-07.png  \n",
            "   creating: /content/sentences/n03/n03-079/\n",
            "  inflating: /content/sentences/n03/n03-079/n03-079-00.png  \n",
            "  inflating: /content/sentences/n03/n03-079/n03-079-01.png  \n",
            "  inflating: /content/sentences/n03/n03-079/n03-079-02.png  \n",
            "  inflating: /content/sentences/n03/n03-079/n03-079-03.png  \n",
            "  inflating: /content/sentences/n03/n03-079/n03-079-04.png  \n",
            "  inflating: /content/sentences/n03/n03-079/n03-079-05.png  \n",
            "  inflating: /content/sentences/n03/n03-079/n03-079-06.png  \n",
            "   creating: /content/sentences/n03/n03-082/\n",
            "  inflating: /content/sentences/n03/n03-082/n03-082-00.png  \n",
            "  inflating: /content/sentences/n03/n03-082/n03-082-01.png  \n",
            "  inflating: /content/sentences/n03/n03-082/n03-082-02.png  \n",
            "  inflating: /content/sentences/n03/n03-082/n03-082-03.png  \n",
            "  inflating: /content/sentences/n03/n03-082/n03-082-04.png  \n",
            "  inflating: /content/sentences/n03/n03-082/n03-082-05.png  \n",
            "  inflating: /content/sentences/n03/n03-082/n03-082-06.png  \n",
            "  inflating: /content/sentences/n03/n03-082/n03-082-07.png  \n",
            "   creating: /content/sentences/n03/n03-091/\n",
            "  inflating: /content/sentences/n03/n03-091/n03-091-00.png  \n",
            "  inflating: /content/sentences/n03/n03-091/n03-091-01.png  \n",
            "  inflating: /content/sentences/n03/n03-091/n03-091-02.png  \n",
            "  inflating: /content/sentences/n03/n03-091/n03-091-03.png  \n",
            "  inflating: /content/sentences/n03/n03-091/n03-091-04.png  \n",
            "  inflating: /content/sentences/n03/n03-091/n03-091-05.png  \n",
            "  inflating: /content/sentences/n03/n03-091/n03-091-06.png  \n",
            "  inflating: /content/sentences/n03/n03-091/n03-091-07.png  \n",
            "  inflating: /content/sentences/n03/n03-091/n03-091-08.png  \n",
            "   creating: /content/sentences/n03/n03-097/\n",
            "  inflating: /content/sentences/n03/n03-097/n03-097-00.png  \n",
            "  inflating: /content/sentences/n03/n03-097/n03-097-01.png  \n",
            "  inflating: /content/sentences/n03/n03-097/n03-097-02.png  \n",
            "  inflating: /content/sentences/n03/n03-097/n03-097-03.png  \n",
            "  inflating: /content/sentences/n03/n03-097/n03-097-04.png  \n",
            "  inflating: /content/sentences/n03/n03-097/n03-097-05.png  \n",
            "  inflating: /content/sentences/n03/n03-097/n03-097-06.png  \n",
            "  inflating: /content/sentences/n03/n03-097/n03-097-07.png  \n",
            "  inflating: /content/sentences/n03/n03-097/n03-097-08.png  \n",
            "   creating: /content/sentences/n03/n03-103/\n",
            "  inflating: /content/sentences/n03/n03-103/n03-103-00.png  \n",
            "  inflating: /content/sentences/n03/n03-103/n03-103-01.png  \n",
            "  inflating: /content/sentences/n03/n03-103/n03-103-02.png  \n",
            "  inflating: /content/sentences/n03/n03-103/n03-103-03.png  \n",
            "  inflating: /content/sentences/n03/n03-103/n03-103-04.png  \n",
            "  inflating: /content/sentences/n03/n03-103/n03-103-05.png  \n",
            "  inflating: /content/sentences/n03/n03-103/n03-103-06.png  \n",
            "  inflating: /content/sentences/n03/n03-103/n03-103-07.png  \n",
            "  inflating: /content/sentences/n03/n03-103/n03-103-08.png  \n",
            "  inflating: /content/sentences/n03/n03-103/n03-103-09.png  \n",
            "   creating: /content/sentences/n03/n03-106/\n",
            "  inflating: /content/sentences/n03/n03-106/n03-106-00.png  \n",
            "  inflating: /content/sentences/n03/n03-106/n03-106-01.png  \n",
            "  inflating: /content/sentences/n03/n03-106/n03-106-02.png  \n",
            "  inflating: /content/sentences/n03/n03-106/n03-106-03.png  \n",
            "  inflating: /content/sentences/n03/n03-106/n03-106-04.png  \n",
            "  inflating: /content/sentences/n03/n03-106/n03-106-05.png  \n",
            "  inflating: /content/sentences/n03/n03-106/n03-106-06.png  \n",
            "  inflating: /content/sentences/n03/n03-106/n03-106-07.png  \n",
            "  inflating: /content/sentences/n03/n03-106/n03-106-08.png  \n",
            "  inflating: /content/sentences/n03/n03-106/n03-106-09.png  \n",
            "  inflating: /content/sentences/n03/n03-106/n03-106-10.png  \n",
            "  inflating: /content/sentences/n03/n03-106/n03-106-11.png  \n",
            "   creating: /content/sentences/n03/n03-113/\n",
            "  inflating: /content/sentences/n03/n03-113/n03-113-00.png  \n",
            "  inflating: /content/sentences/n03/n03-113/n03-113-01.png  \n",
            "  inflating: /content/sentences/n03/n03-113/n03-113-02.png  \n",
            "  inflating: /content/sentences/n03/n03-113/n03-113-03.png  \n",
            "  inflating: /content/sentences/n03/n03-113/n03-113-04.png  \n",
            "  inflating: /content/sentences/n03/n03-113/n03-113-05.png  \n",
            "  inflating: /content/sentences/n03/n03-113/n03-113-06.png  \n",
            "  inflating: /content/sentences/n03/n03-113/n03-113-07.png  \n",
            "  inflating: /content/sentences/n03/n03-113/n03-113-08.png  \n",
            "  inflating: /content/sentences/n03/n03-113/n03-113-09.png  \n",
            "   creating: /content/sentences/n03/n03-120/\n",
            "  inflating: /content/sentences/n03/n03-120/n03-120-00.png  \n",
            "  inflating: /content/sentences/n03/n03-120/n03-120-01.png  \n",
            "  inflating: /content/sentences/n03/n03-120/n03-120-02.png  \n",
            "  inflating: /content/sentences/n03/n03-120/n03-120-03.png  \n",
            "  inflating: /content/sentences/n03/n03-120/n03-120-04.png  \n",
            "  inflating: /content/sentences/n03/n03-120/n03-120-05.png  \n",
            "  inflating: /content/sentences/n03/n03-120/n03-120-06.png  \n",
            "  inflating: /content/sentences/n03/n03-120/n03-120-07.png  \n",
            "  inflating: /content/sentences/n03/n03-120/n03-120-08.png  \n",
            "  inflating: /content/sentences/n03/n03-120/n03-120-09.png  \n",
            "   creating: /content/sentences/n03/n03-126/\n",
            "  inflating: /content/sentences/n03/n03-126/n03-126-00.png  \n",
            "  inflating: /content/sentences/n03/n03-126/n03-126-01.png  \n",
            "  inflating: /content/sentences/n03/n03-126/n03-126-02.png  \n",
            "  inflating: /content/sentences/n03/n03-126/n03-126-03.png  \n",
            "  inflating: /content/sentences/n03/n03-126/n03-126-04.png  \n",
            "   creating: /content/sentences/n04/\n",
            "   creating: /content/sentences/n04/n04-000/\n",
            "  inflating: /content/sentences/n04/n04-000/n04-000-00.png  \n",
            "  inflating: /content/sentences/n04/n04-000/n04-000-01.png  \n",
            "  inflating: /content/sentences/n04/n04-000/n04-000-02.png  \n",
            "  inflating: /content/sentences/n04/n04-000/n04-000-03.png  \n",
            "  inflating: /content/sentences/n04/n04-000/n04-000-04.png  \n",
            "  inflating: /content/sentences/n04/n04-000/n04-000-05.png  \n",
            "   creating: /content/sentences/n04/n04-009/\n",
            "  inflating: /content/sentences/n04/n04-009/n04-009-00.png  \n",
            "  inflating: /content/sentences/n04/n04-009/n04-009-01.png  \n",
            "  inflating: /content/sentences/n04/n04-009/n04-009-02.png  \n",
            "  inflating: /content/sentences/n04/n04-009/n04-009-03.png  \n",
            "  inflating: /content/sentences/n04/n04-009/n04-009-04.png  \n",
            "  inflating: /content/sentences/n04/n04-009/n04-009-05.png  \n",
            "  inflating: /content/sentences/n04/n04-009/n04-009-06.png  \n",
            "   creating: /content/sentences/n04/n04-015/\n",
            "  inflating: /content/sentences/n04/n04-015/n04-015-00.png  \n",
            "  inflating: /content/sentences/n04/n04-015/n04-015-01.png  \n",
            "  inflating: /content/sentences/n04/n04-015/n04-015-02.png  \n",
            "  inflating: /content/sentences/n04/n04-015/n04-015-03.png  \n",
            "  inflating: /content/sentences/n04/n04-015/n04-015-04.png  \n",
            "  inflating: /content/sentences/n04/n04-015/n04-015-05.png  \n",
            "  inflating: /content/sentences/n04/n04-015/n04-015-06.png  \n",
            "  inflating: /content/sentences/n04/n04-015/n04-015-07.png  \n",
            "   creating: /content/sentences/n04/n04-022/\n",
            "  inflating: /content/sentences/n04/n04-022/n04-022-00.png  \n",
            "  inflating: /content/sentences/n04/n04-022/n04-022-01.png  \n",
            "  inflating: /content/sentences/n04/n04-022/n04-022-02.png  \n",
            "  inflating: /content/sentences/n04/n04-022/n04-022-03.png  \n",
            "  inflating: /content/sentences/n04/n04-022/n04-022-04.png  \n",
            "  inflating: /content/sentences/n04/n04-022/n04-022-05.png  \n",
            "  inflating: /content/sentences/n04/n04-022/n04-022-06.png  \n",
            "  inflating: /content/sentences/n04/n04-022/n04-022-07.png  \n",
            "   creating: /content/sentences/n04/n04-031/\n",
            "  inflating: /content/sentences/n04/n04-031/n04-031-00.png  \n",
            "  inflating: /content/sentences/n04/n04-031/n04-031-01.png  \n",
            "  inflating: /content/sentences/n04/n04-031/n04-031-02.png  \n",
            "  inflating: /content/sentences/n04/n04-031/n04-031-03.png  \n",
            "  inflating: /content/sentences/n04/n04-031/n04-031-04.png  \n",
            "  inflating: /content/sentences/n04/n04-031/n04-031-05.png  \n",
            "  inflating: /content/sentences/n04/n04-031/n04-031-06.png  \n",
            "  inflating: /content/sentences/n04/n04-031/n04-031-07.png  \n",
            "   creating: /content/sentences/n04/n04-039/\n",
            "  inflating: /content/sentences/n04/n04-039/n04-039-00.png  \n",
            "  inflating: /content/sentences/n04/n04-039/n04-039-01.png  \n",
            "  inflating: /content/sentences/n04/n04-039/n04-039-02.png  \n",
            "  inflating: /content/sentences/n04/n04-039/n04-039-03.png  \n",
            "  inflating: /content/sentences/n04/n04-039/n04-039-04.png  \n",
            "  inflating: /content/sentences/n04/n04-039/n04-039-05.png  \n",
            "   creating: /content/sentences/n04/n04-044/\n",
            "  inflating: /content/sentences/n04/n04-044/n04-044-00.png  \n",
            "  inflating: /content/sentences/n04/n04-044/n04-044-01.png  \n",
            "  inflating: /content/sentences/n04/n04-044/n04-044-02.png  \n",
            "  inflating: /content/sentences/n04/n04-044/n04-044-03.png  \n",
            "  inflating: /content/sentences/n04/n04-044/n04-044-04.png  \n",
            "  inflating: /content/sentences/n04/n04-044/n04-044-05.png  \n",
            "  inflating: /content/sentences/n04/n04-044/n04-044-06.png  \n",
            "  inflating: /content/sentences/n04/n04-044/n04-044-07.png  \n",
            "  inflating: /content/sentences/n04/n04-044/n04-044-08.png  \n",
            "  inflating: /content/sentences/n04/n04-044/n04-044-09.png  \n",
            "  inflating: /content/sentences/n04/n04-044/n04-044-10.png  \n",
            "   creating: /content/sentences/n04/n04-048/\n",
            "  inflating: /content/sentences/n04/n04-048/n04-048-00.png  \n",
            "  inflating: /content/sentences/n04/n04-048/n04-048-01.png  \n",
            "  inflating: /content/sentences/n04/n04-048/n04-048-02.png  \n",
            "  inflating: /content/sentences/n04/n04-048/n04-048-03.png  \n",
            "  inflating: /content/sentences/n04/n04-048/n04-048-04.png  \n",
            "  inflating: /content/sentences/n04/n04-048/n04-048-05.png  \n",
            "  inflating: /content/sentences/n04/n04-048/n04-048-06.png  \n",
            "  inflating: /content/sentences/n04/n04-048/n04-048-07.png  \n",
            "  inflating: /content/sentences/n04/n04-048/n04-048-08.png  \n",
            "  inflating: /content/sentences/n04/n04-048/n04-048-09.png  \n",
            "   creating: /content/sentences/n04/n04-052/\n",
            "  inflating: /content/sentences/n04/n04-052/n04-052-00.png  \n",
            "  inflating: /content/sentences/n04/n04-052/n04-052-01.png  \n",
            "  inflating: /content/sentences/n04/n04-052/n04-052-02.png  \n",
            "  inflating: /content/sentences/n04/n04-052/n04-052-03.png  \n",
            "  inflating: /content/sentences/n04/n04-052/n04-052-04.png  \n",
            "  inflating: /content/sentences/n04/n04-052/n04-052-05.png  \n",
            "  inflating: /content/sentences/n04/n04-052/n04-052-06.png  \n",
            "  inflating: /content/sentences/n04/n04-052/n04-052-07.png  \n",
            "  inflating: /content/sentences/n04/n04-052/n04-052-08.png  \n",
            "   creating: /content/sentences/n04/n04-060/\n",
            "  inflating: /content/sentences/n04/n04-060/n04-060-00.png  \n",
            "  inflating: /content/sentences/n04/n04-060/n04-060-01.png  \n",
            "  inflating: /content/sentences/n04/n04-060/n04-060-02.png  \n",
            "  inflating: /content/sentences/n04/n04-060/n04-060-03.png  \n",
            "  inflating: /content/sentences/n04/n04-060/n04-060-04.png  \n",
            "  inflating: /content/sentences/n04/n04-060/n04-060-05.png  \n",
            "  inflating: /content/sentences/n04/n04-060/n04-060-06.png  \n",
            "   creating: /content/sentences/n04/n04-068/\n",
            "  inflating: /content/sentences/n04/n04-068/n04-068-00.png  \n",
            "  inflating: /content/sentences/n04/n04-068/n04-068-01.png  \n",
            "  inflating: /content/sentences/n04/n04-068/n04-068-02.png  \n",
            "  inflating: /content/sentences/n04/n04-068/n04-068-03.png  \n",
            "  inflating: /content/sentences/n04/n04-068/n04-068-04.png  \n",
            "  inflating: /content/sentences/n04/n04-068/n04-068-05.png  \n",
            "  inflating: /content/sentences/n04/n04-068/n04-068-06.png  \n",
            "  inflating: /content/sentences/n04/n04-068/n04-068-07.png  \n",
            "   creating: /content/sentences/n04/n04-075/\n",
            "  inflating: /content/sentences/n04/n04-075/n04-075-00.png  \n",
            "  inflating: /content/sentences/n04/n04-075/n04-075-01.png  \n",
            "  inflating: /content/sentences/n04/n04-075/n04-075-02.png  \n",
            "  inflating: /content/sentences/n04/n04-075/n04-075-03.png  \n",
            "  inflating: /content/sentences/n04/n04-075/n04-075-04.png  \n",
            "  inflating: /content/sentences/n04/n04-075/n04-075-05.png  \n",
            "  inflating: /content/sentences/n04/n04-075/n04-075-06.png  \n",
            "  inflating: /content/sentences/n04/n04-075/n04-075-07.png  \n",
            "   creating: /content/sentences/n04/n04-084/\n",
            "  inflating: /content/sentences/n04/n04-084/n04-084-00.png  \n",
            "  inflating: /content/sentences/n04/n04-084/n04-084-01.png  \n",
            "  inflating: /content/sentences/n04/n04-084/n04-084-02.png  \n",
            "  inflating: /content/sentences/n04/n04-084/n04-084-03.png  \n",
            "  inflating: /content/sentences/n04/n04-084/n04-084-04.png  \n",
            "  inflating: /content/sentences/n04/n04-084/n04-084-05.png  \n",
            "  inflating: /content/sentences/n04/n04-084/n04-084-06.png  \n",
            "   creating: /content/sentences/n04/n04-092/\n",
            "  inflating: /content/sentences/n04/n04-092/n04-092-00.png  \n",
            "  inflating: /content/sentences/n04/n04-092/n04-092-01.png  \n",
            "  inflating: /content/sentences/n04/n04-092/n04-092-02.png  \n",
            "  inflating: /content/sentences/n04/n04-092/n04-092-03.png  \n",
            "  inflating: /content/sentences/n04/n04-092/n04-092-04.png  \n",
            "  inflating: /content/sentences/n04/n04-092/n04-092-05.png  \n",
            "  inflating: /content/sentences/n04/n04-092/n04-092-06.png  \n",
            "  inflating: /content/sentences/n04/n04-092/n04-092-07.png  \n",
            "  inflating: /content/sentences/n04/n04-092/n04-092-08.png  \n",
            "   creating: /content/sentences/n04/n04-100/\n",
            "  inflating: /content/sentences/n04/n04-100/n04-100-00.png  \n",
            "  inflating: /content/sentences/n04/n04-100/n04-100-01.png  \n",
            "  inflating: /content/sentences/n04/n04-100/n04-100-02.png  \n",
            "  inflating: /content/sentences/n04/n04-100/n04-100-03.png  \n",
            "  inflating: /content/sentences/n04/n04-100/n04-100-04.png  \n",
            "  inflating: /content/sentences/n04/n04-100/n04-100-05.png  \n",
            "  inflating: /content/sentences/n04/n04-100/n04-100-06.png  \n",
            "  inflating: /content/sentences/n04/n04-100/n04-100-07.png  \n",
            "   creating: /content/sentences/n04/n04-107/\n",
            "  inflating: /content/sentences/n04/n04-107/n04-107-00.png  \n",
            "  inflating: /content/sentences/n04/n04-107/n04-107-01.png  \n",
            "  inflating: /content/sentences/n04/n04-107/n04-107-02.png  \n",
            "  inflating: /content/sentences/n04/n04-107/n04-107-03.png  \n",
            "  inflating: /content/sentences/n04/n04-107/n04-107-04.png  \n",
            "  inflating: /content/sentences/n04/n04-107/n04-107-05.png  \n",
            "  inflating: /content/sentences/n04/n04-107/n04-107-06.png  \n",
            "  inflating: /content/sentences/n04/n04-107/n04-107-07.png  \n",
            "  inflating: /content/sentences/n04/n04-107/n04-107-08.png  \n",
            "   creating: /content/sentences/n04/n04-114/\n",
            "  inflating: /content/sentences/n04/n04-114/n04-114-00.png  \n",
            "  inflating: /content/sentences/n04/n04-114/n04-114-01.png  \n",
            "  inflating: /content/sentences/n04/n04-114/n04-114-02.png  \n",
            "  inflating: /content/sentences/n04/n04-114/n04-114-03.png  \n",
            "  inflating: /content/sentences/n04/n04-114/n04-114-04.png  \n",
            "  inflating: /content/sentences/n04/n04-114/n04-114-05.png  \n",
            "  inflating: /content/sentences/n04/n04-114/n04-114-06.png  \n",
            "  inflating: /content/sentences/n04/n04-114/n04-114-07.png  \n",
            "  inflating: /content/sentences/n04/n04-114/n04-114-08.png  \n",
            "   creating: /content/sentences/n04/n04-130/\n",
            "  inflating: /content/sentences/n04/n04-130/n04-130-00.png  \n",
            "  inflating: /content/sentences/n04/n04-130/n04-130-01.png  \n",
            "  inflating: /content/sentences/n04/n04-130/n04-130-02.png  \n",
            "  inflating: /content/sentences/n04/n04-130/n04-130-03.png  \n",
            "  inflating: /content/sentences/n04/n04-130/n04-130-04.png  \n",
            "  inflating: /content/sentences/n04/n04-130/n04-130-05.png  \n",
            "   creating: /content/sentences/n04/n04-139/\n",
            "  inflating: /content/sentences/n04/n04-139/n04-139-00.png  \n",
            "  inflating: /content/sentences/n04/n04-139/n04-139-01.png  \n",
            "  inflating: /content/sentences/n04/n04-139/n04-139-02.png  \n",
            "  inflating: /content/sentences/n04/n04-139/n04-139-03.png  \n",
            "  inflating: /content/sentences/n04/n04-139/n04-139-04.png  \n",
            "  inflating: /content/sentences/n04/n04-139/n04-139-05.png  \n",
            "  inflating: /content/sentences/n04/n04-139/n04-139-06.png  \n",
            "  inflating: /content/sentences/n04/n04-139/n04-139-07.png  \n",
            "  inflating: /content/sentences/n04/n04-139/n04-139-08.png  \n",
            "   creating: /content/sentences/n04/n04-149/\n",
            "  inflating: /content/sentences/n04/n04-149/n04-149-00.png  \n",
            "  inflating: /content/sentences/n04/n04-149/n04-149-01.png  \n",
            "  inflating: /content/sentences/n04/n04-149/n04-149-02.png  \n",
            "  inflating: /content/sentences/n04/n04-149/n04-149-03.png  \n",
            "  inflating: /content/sentences/n04/n04-149/n04-149-04.png  \n",
            "  inflating: /content/sentences/n04/n04-149/n04-149-05.png  \n",
            "  inflating: /content/sentences/n04/n04-149/n04-149-06.png  \n",
            "  inflating: /content/sentences/n04/n04-149/n04-149-07.png  \n",
            "   creating: /content/sentences/n04/n04-156/\n",
            "  inflating: /content/sentences/n04/n04-156/n04-156-00.png  \n",
            "  inflating: /content/sentences/n04/n04-156/n04-156-01.png  \n",
            "  inflating: /content/sentences/n04/n04-156/n04-156-02.png  \n",
            "  inflating: /content/sentences/n04/n04-156/n04-156-03.png  \n",
            "  inflating: /content/sentences/n04/n04-156/n04-156-04.png  \n",
            "  inflating: /content/sentences/n04/n04-156/n04-156-05.png  \n",
            "  inflating: /content/sentences/n04/n04-156/n04-156-06.png  \n",
            "  inflating: /content/sentences/n04/n04-156/n04-156-07.png  \n",
            "   creating: /content/sentences/n04/n04-163/\n",
            "  inflating: /content/sentences/n04/n04-163/n04-163-00.png  \n",
            "  inflating: /content/sentences/n04/n04-163/n04-163-01.png  \n",
            "  inflating: /content/sentences/n04/n04-163/n04-163-02.png  \n",
            "  inflating: /content/sentences/n04/n04-163/n04-163-03.png  \n",
            "  inflating: /content/sentences/n04/n04-163/n04-163-04.png  \n",
            "  inflating: /content/sentences/n04/n04-163/n04-163-05.png  \n",
            "  inflating: /content/sentences/n04/n04-163/n04-163-06.png  \n",
            "  inflating: /content/sentences/n04/n04-163/n04-163-07.png  \n",
            "  inflating: /content/sentences/n04/n04-163/n04-163-08.png  \n",
            "   creating: /content/sentences/n04/n04-171/\n",
            "  inflating: /content/sentences/n04/n04-171/n04-171-00.png  \n",
            "  inflating: /content/sentences/n04/n04-171/n04-171-01.png  \n",
            "  inflating: /content/sentences/n04/n04-171/n04-171-02.png  \n",
            "  inflating: /content/sentences/n04/n04-171/n04-171-03.png  \n",
            "  inflating: /content/sentences/n04/n04-171/n04-171-04.png  \n",
            "  inflating: /content/sentences/n04/n04-171/n04-171-05.png  \n",
            "  inflating: /content/sentences/n04/n04-171/n04-171-06.png  \n",
            "   creating: /content/sentences/n04/n04-183/\n",
            "  inflating: /content/sentences/n04/n04-183/n04-183-00.png  \n",
            "  inflating: /content/sentences/n04/n04-183/n04-183-01.png  \n",
            "  inflating: /content/sentences/n04/n04-183/n04-183-02.png  \n",
            "  inflating: /content/sentences/n04/n04-183/n04-183-03.png  \n",
            "  inflating: /content/sentences/n04/n04-183/n04-183-04.png  \n",
            "  inflating: /content/sentences/n04/n04-183/n04-183-05.png  \n",
            "  inflating: /content/sentences/n04/n04-183/n04-183-06.png  \n",
            "   creating: /content/sentences/n04/n04-190/\n",
            "  inflating: /content/sentences/n04/n04-190/n04-190-00.png  \n",
            "  inflating: /content/sentences/n04/n04-190/n04-190-01.png  \n",
            "  inflating: /content/sentences/n04/n04-190/n04-190-02.png  \n",
            "  inflating: /content/sentences/n04/n04-190/n04-190-03.png  \n",
            "  inflating: /content/sentences/n04/n04-190/n04-190-04.png  \n",
            "  inflating: /content/sentences/n04/n04-190/n04-190-05.png  \n",
            "  inflating: /content/sentences/n04/n04-190/n04-190-06.png  \n",
            "   creating: /content/sentences/n04/n04-195/\n",
            "  inflating: /content/sentences/n04/n04-195/n04-195-00.png  \n",
            "  inflating: /content/sentences/n04/n04-195/n04-195-01.png  \n",
            "  inflating: /content/sentences/n04/n04-195/n04-195-02.png  \n",
            "  inflating: /content/sentences/n04/n04-195/n04-195-03.png  \n",
            "  inflating: /content/sentences/n04/n04-195/n04-195-04.png  \n",
            "  inflating: /content/sentences/n04/n04-195/n04-195-05.png  \n",
            "   creating: /content/sentences/n04/n04-202/\n",
            "  inflating: /content/sentences/n04/n04-202/n04-202-00.png  \n",
            "  inflating: /content/sentences/n04/n04-202/n04-202-01.png  \n",
            "  inflating: /content/sentences/n04/n04-202/n04-202-02.png  \n",
            "  inflating: /content/sentences/n04/n04-202/n04-202-03.png  \n",
            "  inflating: /content/sentences/n04/n04-202/n04-202-04.png  \n",
            "  inflating: /content/sentences/n04/n04-202/n04-202-05.png  \n",
            "  inflating: /content/sentences/n04/n04-202/n04-202-06.png  \n",
            "  inflating: /content/sentences/n04/n04-202/n04-202-07.png  \n",
            "  inflating: /content/sentences/n04/n04-202/n04-202-08.png  \n",
            "   creating: /content/sentences/n04/n04-209/\n",
            "  inflating: /content/sentences/n04/n04-209/n04-209-00.png  \n",
            "  inflating: /content/sentences/n04/n04-209/n04-209-01.png  \n",
            "  inflating: /content/sentences/n04/n04-209/n04-209-02.png  \n",
            "  inflating: /content/sentences/n04/n04-209/n04-209-03.png  \n",
            "  inflating: /content/sentences/n04/n04-209/n04-209-04.png  \n",
            "  inflating: /content/sentences/n04/n04-209/n04-209-05.png  \n",
            "  inflating: /content/sentences/n04/n04-209/n04-209-06.png  \n",
            " extracting: /content/sentences/n04/n04-209/n04-209-07.png  \n",
            "   creating: /content/sentences/n04/n04-213/\n",
            "  inflating: /content/sentences/n04/n04-213/n04-213-00.png  \n",
            "  inflating: /content/sentences/n04/n04-213/n04-213-01.png  \n",
            "  inflating: /content/sentences/n04/n04-213/n04-213-02.png  \n",
            "  inflating: /content/sentences/n04/n04-213/n04-213-03.png  \n",
            "  inflating: /content/sentences/n04/n04-213/n04-213-04.png  \n",
            "  inflating: /content/sentences/n04/n04-213/n04-213-05.png  \n",
            "  inflating: /content/sentences/n04/n04-213/n04-213-06.png  \n",
            "  inflating: /content/sentences/n04/n04-213/n04-213-07.png  \n",
            "   creating: /content/sentences/n04/n04-218/\n",
            "  inflating: /content/sentences/n04/n04-218/n04-218-00.png  \n",
            "  inflating: /content/sentences/n04/n04-218/n04-218-01.png  \n",
            "  inflating: /content/sentences/n04/n04-218/n04-218-02.png  \n",
            "  inflating: /content/sentences/n04/n04-218/n04-218-03.png  \n",
            "  inflating: /content/sentences/n04/n04-218/n04-218-04.png  \n",
            "  inflating: /content/sentences/n04/n04-218/n04-218-05.png  \n",
            "  inflating: /content/sentences/n04/n04-218/n04-218-06.png  \n",
            "  inflating: /content/sentences/n04/n04-218/n04-218-07.png  \n",
            "  inflating: /content/sentences/n04/n04-218/n04-218-08.png  \n",
            "  inflating: /content/sentences/n04/n04-218/n04-218-09.png  \n",
            "   creating: /content/sentences/n06/\n",
            "   creating: /content/sentences/n06/n06-074/\n",
            "  inflating: /content/sentences/n06/n06-074/n06-074-00.png  \n",
            "  inflating: /content/sentences/n06/n06-074/n06-074-01.png  \n",
            "  inflating: /content/sentences/n06/n06-074/n06-074-02.png  \n",
            "  inflating: /content/sentences/n06/n06-074/n06-074-03.png  \n",
            "  inflating: /content/sentences/n06/n06-074/n06-074-04.png  \n",
            "  inflating: /content/sentences/n06/n06-074/n06-074-05.png  \n",
            "  inflating: /content/sentences/n06/n06-074/n06-074-06.png  \n",
            "   creating: /content/sentences/n06/n06-082/\n",
            "  inflating: /content/sentences/n06/n06-082/n06-082-00.png  \n",
            "  inflating: /content/sentences/n06/n06-082/n06-082-01.png  \n",
            "  inflating: /content/sentences/n06/n06-082/n06-082-02.png  \n",
            "  inflating: /content/sentences/n06/n06-082/n06-082-03.png  \n",
            "  inflating: /content/sentences/n06/n06-082/n06-082-04.png  \n",
            "  inflating: /content/sentences/n06/n06-082/n06-082-05.png  \n",
            "  inflating: /content/sentences/n06/n06-082/n06-082-06.png  \n",
            " extracting: /content/sentences/n06/n06-082/n06-082-07.png  \n",
            "   creating: /content/sentences/n06/n06-092/\n",
            "  inflating: /content/sentences/n06/n06-092/n06-092-00.png  \n",
            "  inflating: /content/sentences/n06/n06-092/n06-092-01.png  \n",
            "  inflating: /content/sentences/n06/n06-092/n06-092-02.png  \n",
            "  inflating: /content/sentences/n06/n06-092/n06-092-03.png  \n",
            "  inflating: /content/sentences/n06/n06-092/n06-092-04.png  \n",
            "  inflating: /content/sentences/n06/n06-092/n06-092-05.png  \n",
            "  inflating: /content/sentences/n06/n06-092/n06-092-06.png  \n",
            "  inflating: /content/sentences/n06/n06-092/n06-092-07.png  \n",
            "  inflating: /content/sentences/n06/n06-092/n06-092-08.png  \n",
            "   creating: /content/sentences/n06/n06-100/\n",
            "  inflating: /content/sentences/n06/n06-100/n06-100-00.png  \n",
            "  inflating: /content/sentences/n06/n06-100/n06-100-01.png  \n",
            "  inflating: /content/sentences/n06/n06-100/n06-100-02.png  \n",
            "  inflating: /content/sentences/n06/n06-100/n06-100-03.png  \n",
            "  inflating: /content/sentences/n06/n06-100/n06-100-04.png  \n",
            "  inflating: /content/sentences/n06/n06-100/n06-100-05.png  \n",
            "  inflating: /content/sentences/n06/n06-100/n06-100-06.png  \n",
            "  inflating: /content/sentences/n06/n06-100/n06-100-07.png  \n",
            "  inflating: /content/sentences/n06/n06-100/n06-100-08.png  \n",
            "  inflating: /content/sentences/n06/n06-100/n06-100-09.png  \n",
            "   creating: /content/sentences/n06/n06-111/\n",
            "  inflating: /content/sentences/n06/n06-111/n06-111-00.png  \n",
            "  inflating: /content/sentences/n06/n06-111/n06-111-01.png  \n",
            "  inflating: /content/sentences/n06/n06-111/n06-111-02.png  \n",
            "  inflating: /content/sentences/n06/n06-111/n06-111-03.png  \n",
            "  inflating: /content/sentences/n06/n06-111/n06-111-04.png  \n",
            "  inflating: /content/sentences/n06/n06-111/n06-111-05.png  \n",
            "  inflating: /content/sentences/n06/n06-111/n06-111-06.png  \n",
            "  inflating: /content/sentences/n06/n06-111/n06-111-07.png  \n",
            "   creating: /content/sentences/n06/n06-119/\n",
            "  inflating: /content/sentences/n06/n06-119/n06-119-00.png  \n",
            "  inflating: /content/sentences/n06/n06-119/n06-119-01.png  \n",
            "  inflating: /content/sentences/n06/n06-119/n06-119-02.png  \n",
            "  inflating: /content/sentences/n06/n06-119/n06-119-03.png  \n",
            "  inflating: /content/sentences/n06/n06-119/n06-119-04.png  \n",
            "  inflating: /content/sentences/n06/n06-119/n06-119-05.png  \n",
            " extracting: /content/sentences/n06/n06-119/n06-119-06.png  \n",
            "   creating: /content/sentences/n06/n06-123/\n",
            "  inflating: /content/sentences/n06/n06-123/n06-123-00.png  \n",
            "  inflating: /content/sentences/n06/n06-123/n06-123-01.png  \n",
            "  inflating: /content/sentences/n06/n06-123/n06-123-02.png  \n",
            "  inflating: /content/sentences/n06/n06-123/n06-123-03.png  \n",
            "  inflating: /content/sentences/n06/n06-123/n06-123-04.png  \n",
            "  inflating: /content/sentences/n06/n06-123/n06-123-05.png  \n",
            "  inflating: /content/sentences/n06/n06-123/n06-123-06.png  \n",
            "  inflating: /content/sentences/n06/n06-123/n06-123-07.png  \n",
            "  inflating: /content/sentences/n06/n06-123/n06-123-08.png  \n",
            "  inflating: /content/sentences/n06/n06-123/n06-123-09.png  \n",
            " extracting: /content/sentences/n06/n06-123/n06-123-10.png  \n",
            "   creating: /content/sentences/n06/n06-128/\n",
            "  inflating: /content/sentences/n06/n06-128/n06-128-00.png  \n",
            "  inflating: /content/sentences/n06/n06-128/n06-128-01.png  \n",
            "  inflating: /content/sentences/n06/n06-128/n06-128-02.png  \n",
            "  inflating: /content/sentences/n06/n06-128/n06-128-03.png  \n",
            "  inflating: /content/sentences/n06/n06-128/n06-128-04.png  \n",
            "  inflating: /content/sentences/n06/n06-128/n06-128-05.png  \n",
            "  inflating: /content/sentences/n06/n06-128/n06-128-06.png  \n",
            "  inflating: /content/sentences/n06/n06-128/n06-128-07.png  \n",
            " extracting: /content/sentences/n06/n06-128/n06-128-08.png  \n",
            "   creating: /content/sentences/n06/n06-133/\n",
            "  inflating: /content/sentences/n06/n06-133/n06-133-00.png  \n",
            "  inflating: /content/sentences/n06/n06-133/n06-133-01.png  \n",
            "  inflating: /content/sentences/n06/n06-133/n06-133-02.png  \n",
            "  inflating: /content/sentences/n06/n06-133/n06-133-03.png  \n",
            "  inflating: /content/sentences/n06/n06-133/n06-133-04.png  \n",
            "  inflating: /content/sentences/n06/n06-133/n06-133-05.png  \n",
            "  inflating: /content/sentences/n06/n06-133/n06-133-06.png  \n",
            "  inflating: /content/sentences/n06/n06-133/n06-133-07.png  \n",
            "  inflating: /content/sentences/n06/n06-133/n06-133-08.png  \n",
            "   creating: /content/sentences/n06/n06-140/\n",
            "  inflating: /content/sentences/n06/n06-140/n06-140-00.png  \n",
            "  inflating: /content/sentences/n06/n06-140/n06-140-01.png  \n",
            "  inflating: /content/sentences/n06/n06-140/n06-140-02.png  \n",
            "  inflating: /content/sentences/n06/n06-140/n06-140-03.png  \n",
            "  inflating: /content/sentences/n06/n06-140/n06-140-04.png  \n",
            "  inflating: /content/sentences/n06/n06-140/n06-140-05.png  \n",
            "  inflating: /content/sentences/n06/n06-140/n06-140-06.png  \n",
            "  inflating: /content/sentences/n06/n06-140/n06-140-07.png  \n",
            "   creating: /content/sentences/n06/n06-148/\n",
            "  inflating: /content/sentences/n06/n06-148/n06-148-00.png  \n",
            "  inflating: /content/sentences/n06/n06-148/n06-148-01.png  \n",
            "  inflating: /content/sentences/n06/n06-148/n06-148-02.png  \n",
            "  inflating: /content/sentences/n06/n06-148/n06-148-03.png  \n",
            "  inflating: /content/sentences/n06/n06-148/n06-148-04.png  \n",
            "  inflating: /content/sentences/n06/n06-148/n06-148-05.png  \n",
            "  inflating: /content/sentences/n06/n06-148/n06-148-06.png  \n",
            "  inflating: /content/sentences/n06/n06-148/n06-148-07.png  \n",
            "  inflating: /content/sentences/n06/n06-148/n06-148-08.png  \n",
            "   creating: /content/sentences/n06/n06-156/\n",
            "  inflating: /content/sentences/n06/n06-156/n06-156-00.png  \n",
            "  inflating: /content/sentences/n06/n06-156/n06-156-01.png  \n",
            "  inflating: /content/sentences/n06/n06-156/n06-156-02.png  \n",
            "  inflating: /content/sentences/n06/n06-156/n06-156-03.png  \n",
            "  inflating: /content/sentences/n06/n06-156/n06-156-04.png  \n",
            "  inflating: /content/sentences/n06/n06-156/n06-156-05.png  \n",
            "  inflating: /content/sentences/n06/n06-156/n06-156-06.png  \n",
            "  inflating: /content/sentences/n06/n06-156/n06-156-07.png  \n",
            "   creating: /content/sentences/n06/n06-163/\n",
            "  inflating: /content/sentences/n06/n06-163/n06-163-00.png  \n",
            "  inflating: /content/sentences/n06/n06-163/n06-163-01.png  \n",
            "  inflating: /content/sentences/n06/n06-163/n06-163-02.png  \n",
            "  inflating: /content/sentences/n06/n06-163/n06-163-03.png  \n",
            "  inflating: /content/sentences/n06/n06-163/n06-163-04.png  \n",
            "  inflating: /content/sentences/n06/n06-163/n06-163-05.png  \n",
            "  inflating: /content/sentences/n06/n06-163/n06-163-06.png  \n",
            "  inflating: /content/sentences/n06/n06-163/n06-163-07.png  \n",
            "  inflating: /content/sentences/n06/n06-163/n06-163-08.png  \n",
            "  inflating: /content/sentences/n06/n06-163/n06-163-09.png  \n",
            "   creating: /content/sentences/n06/n06-169/\n",
            "  inflating: /content/sentences/n06/n06-169/n06-169-00.png  \n",
            "  inflating: /content/sentences/n06/n06-169/n06-169-01.png  \n",
            "  inflating: /content/sentences/n06/n06-169/n06-169-02.png  \n",
            "  inflating: /content/sentences/n06/n06-169/n06-169-03.png  \n",
            "  inflating: /content/sentences/n06/n06-169/n06-169-04.png  \n",
            "  inflating: /content/sentences/n06/n06-169/n06-169-05.png  \n",
            "  inflating: /content/sentences/n06/n06-169/n06-169-06.png  \n",
            "  inflating: /content/sentences/n06/n06-169/n06-169-07.png  \n",
            " extracting: /content/sentences/n06/n06-169/n06-169-08.png  \n",
            "   creating: /content/sentences/n06/n06-175/\n",
            "  inflating: /content/sentences/n06/n06-175/n06-175-00.png  \n",
            "  inflating: /content/sentences/n06/n06-175/n06-175-01.png  \n",
            "  inflating: /content/sentences/n06/n06-175/n06-175-02.png  \n",
            "  inflating: /content/sentences/n06/n06-175/n06-175-03.png  \n",
            "  inflating: /content/sentences/n06/n06-175/n06-175-04.png  \n",
            "  inflating: /content/sentences/n06/n06-175/n06-175-05.png  \n",
            "  inflating: /content/sentences/n06/n06-175/n06-175-06.png  \n",
            "  inflating: /content/sentences/n06/n06-175/n06-175-07.png  \n",
            "  inflating: /content/sentences/n06/n06-175/n06-175-08.png  \n",
            " extracting: /content/sentences/n06/n06-175/n06-175-09.png  \n",
            "   creating: /content/sentences/n06/n06-182/\n",
            "  inflating: /content/sentences/n06/n06-182/n06-182-00.png  \n",
            "  inflating: /content/sentences/n06/n06-182/n06-182-01.png  \n",
            "  inflating: /content/sentences/n06/n06-182/n06-182-02.png  \n",
            "  inflating: /content/sentences/n06/n06-182/n06-182-03.png  \n",
            "  inflating: /content/sentences/n06/n06-182/n06-182-04.png  \n",
            "  inflating: /content/sentences/n06/n06-182/n06-182-05.png  \n",
            "  inflating: /content/sentences/n06/n06-182/n06-182-06.png  \n",
            "  inflating: /content/sentences/n06/n06-182/n06-182-07.png  \n",
            "   creating: /content/sentences/n06/n06-186/\n",
            "  inflating: /content/sentences/n06/n06-186/n06-186-00.png  \n",
            "  inflating: /content/sentences/n06/n06-186/n06-186-01.png  \n",
            "  inflating: /content/sentences/n06/n06-186/n06-186-02.png  \n",
            "  inflating: /content/sentences/n06/n06-186/n06-186-03.png  \n",
            "  inflating: /content/sentences/n06/n06-186/n06-186-04.png  \n",
            "  inflating: /content/sentences/n06/n06-186/n06-186-05.png  \n",
            "  inflating: /content/sentences/n06/n06-186/n06-186-06.png  \n",
            "  inflating: /content/sentences/n06/n06-186/n06-186-07.png  \n",
            "   creating: /content/sentences/n06/n06-194/\n",
            "  inflating: /content/sentences/n06/n06-194/n06-194-00.png  \n",
            "  inflating: /content/sentences/n06/n06-194/n06-194-01.png  \n",
            "  inflating: /content/sentences/n06/n06-194/n06-194-02.png  \n",
            "  inflating: /content/sentences/n06/n06-194/n06-194-03.png  \n",
            "  inflating: /content/sentences/n06/n06-194/n06-194-04.png  \n",
            "  inflating: /content/sentences/n06/n06-194/n06-194-05.png  \n",
            "  inflating: /content/sentences/n06/n06-194/n06-194-06.png  \n",
            "  inflating: /content/sentences/n06/n06-194/n06-194-07.png  \n",
            "   creating: /content/sentences/n06/n06-201/\n",
            "  inflating: /content/sentences/n06/n06-201/n06-201-00.png  \n",
            "  inflating: /content/sentences/n06/n06-201/n06-201-01.png  \n",
            "  inflating: /content/sentences/n06/n06-201/n06-201-02.png  \n",
            "  inflating: /content/sentences/n06/n06-201/n06-201-03.png  \n",
            "  inflating: /content/sentences/n06/n06-201/n06-201-04.png  \n",
            "  inflating: /content/sentences/n06/n06-201/n06-201-05.png  \n",
            "  inflating: /content/sentences/n06/n06-201/n06-201-06.png  \n",
            "  inflating: /content/sentences/n06/n06-201/n06-201-07.png  \n",
            "   creating: /content/sentences/p01/\n",
            "   creating: /content/sentences/p01/p01-147/\n",
            "  inflating: /content/sentences/p01/p01-147/p01-147-00.png  \n",
            "  inflating: /content/sentences/p01/p01-147/p01-147-01.png  \n",
            "  inflating: /content/sentences/p01/p01-147/p01-147-02.png  \n",
            "  inflating: /content/sentences/p01/p01-147/p01-147-03.png  \n",
            "  inflating: /content/sentences/p01/p01-147/p01-147-04.png  \n",
            "  inflating: /content/sentences/p01/p01-147/p01-147-05.png  \n",
            "  inflating: /content/sentences/p01/p01-147/p01-147-06.png  \n",
            "  inflating: /content/sentences/p01/p01-147/p01-147-07.png  \n",
            "  inflating: /content/sentences/p01/p01-147/p01-147-08.png  \n",
            "  inflating: /content/sentences/p01/p01-147/p01-147-09.png  \n",
            "  inflating: /content/sentences/p01/p01-147/p01-147-10.png  \n",
            "  inflating: /content/sentences/p01/p01-147/p01-147-11.png  \n",
            "   creating: /content/sentences/p01/p01-155/\n",
            "  inflating: /content/sentences/p01/p01-155/p01-155-00.png  \n",
            "  inflating: /content/sentences/p01/p01-155/p01-155-01.png  \n",
            "  inflating: /content/sentences/p01/p01-155/p01-155-02.png  \n",
            "  inflating: /content/sentences/p01/p01-155/p01-155-03.png  \n",
            "  inflating: /content/sentences/p01/p01-155/p01-155-04.png  \n",
            "  inflating: /content/sentences/p01/p01-155/p01-155-05.png  \n",
            "  inflating: /content/sentences/p01/p01-155/p01-155-06.png  \n",
            "  inflating: /content/sentences/p01/p01-155/p01-155-07.png  \n",
            "  inflating: /content/sentences/p01/p01-155/p01-155-08.png  \n",
            "  inflating: /content/sentences/p01/p01-155/p01-155-09.png  \n",
            "   creating: /content/sentences/p01/p01-168/\n",
            "  inflating: /content/sentences/p01/p01-168/p01-168-00.png  \n",
            "  inflating: /content/sentences/p01/p01-168/p01-168-01.png  \n",
            "  inflating: /content/sentences/p01/p01-168/p01-168-02.png  \n",
            "  inflating: /content/sentences/p01/p01-168/p01-168-03.png  \n",
            "  inflating: /content/sentences/p01/p01-168/p01-168-04.png  \n",
            "  inflating: /content/sentences/p01/p01-168/p01-168-05.png  \n",
            "  inflating: /content/sentences/p01/p01-168/p01-168-06.png  \n",
            "  inflating: /content/sentences/p01/p01-168/p01-168-07.png  \n",
            "   creating: /content/sentences/p01/p01-174/\n",
            "  inflating: /content/sentences/p01/p01-174/p01-174-00.png  \n",
            "  inflating: /content/sentences/p01/p01-174/p01-174-01.png  \n",
            "  inflating: /content/sentences/p01/p01-174/p01-174-02.png  \n",
            "  inflating: /content/sentences/p01/p01-174/p01-174-03.png  \n",
            "  inflating: /content/sentences/p01/p01-174/p01-174-04.png  \n",
            "  inflating: /content/sentences/p01/p01-174/p01-174-05.png  \n",
            "  inflating: /content/sentences/p01/p01-174/p01-174-06.png  \n",
            "  inflating: /content/sentences/p01/p01-174/p01-174-07.png  \n",
            "  inflating: /content/sentences/p01/p01-174/p01-174-08.png  \n",
            "   creating: /content/sentences/p02/\n",
            "   creating: /content/sentences/p02/p02-000/\n",
            "  inflating: /content/sentences/p02/p02-000/p02-000-00.png  \n",
            "  inflating: /content/sentences/p02/p02-000/p02-000-01.png  \n",
            "  inflating: /content/sentences/p02/p02-000/p02-000-02.png  \n",
            "  inflating: /content/sentences/p02/p02-000/p02-000-03.png  \n",
            "  inflating: /content/sentences/p02/p02-000/p02-000-04.png  \n",
            "  inflating: /content/sentences/p02/p02-000/p02-000-05.png  \n",
            " extracting: /content/sentences/p02/p02-000/p02-000-06.png  \n",
            "   creating: /content/sentences/p02/p02-008/\n",
            "  inflating: /content/sentences/p02/p02-008/p02-008-00.png  \n",
            "  inflating: /content/sentences/p02/p02-008/p02-008-01.png  \n",
            "  inflating: /content/sentences/p02/p02-008/p02-008-02.png  \n",
            "  inflating: /content/sentences/p02/p02-008/p02-008-03.png  \n",
            "  inflating: /content/sentences/p02/p02-008/p02-008-04.png  \n",
            "  inflating: /content/sentences/p02/p02-008/p02-008-05.png  \n",
            "  inflating: /content/sentences/p02/p02-008/p02-008-06.png  \n",
            "  inflating: /content/sentences/p02/p02-008/p02-008-07.png  \n",
            "  inflating: /content/sentences/p02/p02-008/p02-008-08.png  \n",
            "  inflating: /content/sentences/p02/p02-008/p02-008-09.png  \n",
            "  inflating: /content/sentences/p02/p02-008/p02-008-10.png  \n",
            "   creating: /content/sentences/p02/p02-017/\n",
            "  inflating: /content/sentences/p02/p02-017/p02-017-00.png  \n",
            "  inflating: /content/sentences/p02/p02-017/p02-017-01.png  \n",
            "  inflating: /content/sentences/p02/p02-017/p02-017-02.png  \n",
            "  inflating: /content/sentences/p02/p02-017/p02-017-03.png  \n",
            "  inflating: /content/sentences/p02/p02-017/p02-017-04.png  \n",
            "  inflating: /content/sentences/p02/p02-017/p02-017-05.png  \n",
            "  inflating: /content/sentences/p02/p02-017/p02-017-06.png  \n",
            "  inflating: /content/sentences/p02/p02-017/p02-017-07.png  \n",
            "   creating: /content/sentences/p02/p02-022/\n",
            "  inflating: /content/sentences/p02/p02-022/p02-022-00.png  \n",
            "  inflating: /content/sentences/p02/p02-022/p02-022-01.png  \n",
            "  inflating: /content/sentences/p02/p02-022/p02-022-02.png  \n",
            "  inflating: /content/sentences/p02/p02-022/p02-022-03.png  \n",
            "  inflating: /content/sentences/p02/p02-022/p02-022-04.png  \n",
            "  inflating: /content/sentences/p02/p02-022/p02-022-05.png  \n",
            "  inflating: /content/sentences/p02/p02-022/p02-022-06.png  \n",
            "  inflating: /content/sentences/p02/p02-022/p02-022-07.png  \n",
            "  inflating: /content/sentences/p02/p02-022/p02-022-08.png  \n",
            "   creating: /content/sentences/p02/p02-027/\n",
            "  inflating: /content/sentences/p02/p02-027/p02-027-00.png  \n",
            "  inflating: /content/sentences/p02/p02-027/p02-027-01.png  \n",
            "  inflating: /content/sentences/p02/p02-027/p02-027-02.png  \n",
            "  inflating: /content/sentences/p02/p02-027/p02-027-03.png  \n",
            "  inflating: /content/sentences/p02/p02-027/p02-027-04.png  \n",
            "   creating: /content/sentences/p02/p02-069/\n",
            "  inflating: /content/sentences/p02/p02-069/p02-069-00.png  \n",
            "  inflating: /content/sentences/p02/p02-069/p02-069-01.png  \n",
            "  inflating: /content/sentences/p02/p02-069/p02-069-02.png  \n",
            "  inflating: /content/sentences/p02/p02-069/p02-069-03.png  \n",
            "  inflating: /content/sentences/p02/p02-069/p02-069-04.png  \n",
            "  inflating: /content/sentences/p02/p02-069/p02-069-05.png  \n",
            "  inflating: /content/sentences/p02/p02-069/p02-069-06.png  \n",
            "  inflating: /content/sentences/p02/p02-069/p02-069-07.png  \n",
            "  inflating: /content/sentences/p02/p02-069/p02-069-08.png  \n",
            "  inflating: /content/sentences/p02/p02-069/p02-069-09.png  \n",
            "   creating: /content/sentences/p02/p02-076/\n",
            "  inflating: /content/sentences/p02/p02-076/p02-076-00.png  \n",
            "  inflating: /content/sentences/p02/p02-076/p02-076-01.png  \n",
            "  inflating: /content/sentences/p02/p02-076/p02-076-02.png  \n",
            "  inflating: /content/sentences/p02/p02-076/p02-076-03.png  \n",
            "  inflating: /content/sentences/p02/p02-076/p02-076-04.png  \n",
            "  inflating: /content/sentences/p02/p02-076/p02-076-05.png  \n",
            "  inflating: /content/sentences/p02/p02-076/p02-076-06.png  \n",
            "  inflating: /content/sentences/p02/p02-076/p02-076-07.png  \n",
            "  inflating: /content/sentences/p02/p02-076/p02-076-08.png  \n",
            "  inflating: /content/sentences/p02/p02-076/p02-076-09.png  \n",
            "  inflating: /content/sentences/p02/p02-076/p02-076-10.png  \n",
            "   creating: /content/sentences/p02/p02-081/\n",
            "  inflating: /content/sentences/p02/p02-081/p02-081-00.png  \n",
            "  inflating: /content/sentences/p02/p02-081/p02-081-01.png  \n",
            "  inflating: /content/sentences/p02/p02-081/p02-081-02.png  \n",
            "  inflating: /content/sentences/p02/p02-081/p02-081-03.png  \n",
            "  inflating: /content/sentences/p02/p02-081/p02-081-04.png  \n",
            "  inflating: /content/sentences/p02/p02-081/p02-081-05.png  \n",
            "  inflating: /content/sentences/p02/p02-081/p02-081-06.png  \n",
            "  inflating: /content/sentences/p02/p02-081/p02-081-07.png  \n",
            "  inflating: /content/sentences/p02/p02-081/p02-081-08.png  \n",
            "  inflating: /content/sentences/p02/p02-081/p02-081-09.png  \n",
            "   creating: /content/sentences/p02/p02-090/\n",
            "  inflating: /content/sentences/p02/p02-090/p02-090-00.png  \n",
            "  inflating: /content/sentences/p02/p02-090/p02-090-01.png  \n",
            "  inflating: /content/sentences/p02/p02-090/p02-090-02.png  \n",
            "  inflating: /content/sentences/p02/p02-090/p02-090-03.png  \n",
            "  inflating: /content/sentences/p02/p02-090/p02-090-04.png  \n",
            "  inflating: /content/sentences/p02/p02-090/p02-090-05.png  \n",
            "  inflating: /content/sentences/p02/p02-090/p02-090-06.png  \n",
            "  inflating: /content/sentences/p02/p02-090/p02-090-07.png  \n",
            "  inflating: /content/sentences/p02/p02-090/p02-090-08.png  \n",
            "   creating: /content/sentences/p02/p02-101/\n",
            "  inflating: /content/sentences/p02/p02-101/p02-101-00.png  \n",
            "  inflating: /content/sentences/p02/p02-101/p02-101-01.png  \n",
            "  inflating: /content/sentences/p02/p02-101/p02-101-02.png  \n",
            "  inflating: /content/sentences/p02/p02-101/p02-101-03.png  \n",
            "  inflating: /content/sentences/p02/p02-101/p02-101-04.png  \n",
            "  inflating: /content/sentences/p02/p02-101/p02-101-05.png  \n",
            "  inflating: /content/sentences/p02/p02-101/p02-101-06.png  \n",
            "  inflating: /content/sentences/p02/p02-101/p02-101-07.png  \n",
            "   creating: /content/sentences/p02/p02-105/\n",
            "  inflating: /content/sentences/p02/p02-105/p02-105-00.png  \n",
            "  inflating: /content/sentences/p02/p02-105/p02-105-01.png  \n",
            "  inflating: /content/sentences/p02/p02-105/p02-105-02.png  \n",
            "  inflating: /content/sentences/p02/p02-105/p02-105-03.png  \n",
            "  inflating: /content/sentences/p02/p02-105/p02-105-04.png  \n",
            "  inflating: /content/sentences/p02/p02-105/p02-105-05.png  \n",
            "  inflating: /content/sentences/p02/p02-105/p02-105-06.png  \n",
            "  inflating: /content/sentences/p02/p02-105/p02-105-07.png  \n",
            "   creating: /content/sentences/p02/p02-109/\n",
            "  inflating: /content/sentences/p02/p02-109/p02-109-00.png  \n",
            " extracting: /content/sentences/p02/p02-109/p02-109-01.png  \n",
            "  inflating: /content/sentences/p02/p02-109/p02-109-02.png  \n",
            "  inflating: /content/sentences/p02/p02-109/p02-109-03.png  \n",
            "  inflating: /content/sentences/p02/p02-109/p02-109-04.png  \n",
            "  inflating: /content/sentences/p02/p02-109/p02-109-05.png  \n",
            "  inflating: /content/sentences/p02/p02-109/p02-109-06.png  \n",
            "  inflating: /content/sentences/p02/p02-109/p02-109-07.png  \n",
            "  inflating: /content/sentences/p02/p02-109/p02-109-08.png  \n",
            "   creating: /content/sentences/p02/p02-115/\n",
            "  inflating: /content/sentences/p02/p02-115/p02-115-00.png  \n",
            "  inflating: /content/sentences/p02/p02-115/p02-115-01.png  \n",
            "  inflating: /content/sentences/p02/p02-115/p02-115-02.png  \n",
            "  inflating: /content/sentences/p02/p02-115/p02-115-03.png  \n",
            "  inflating: /content/sentences/p02/p02-115/p02-115-04.png  \n",
            "  inflating: /content/sentences/p02/p02-115/p02-115-05.png  \n",
            "  inflating: /content/sentences/p02/p02-115/p02-115-06.png  \n",
            "  inflating: /content/sentences/p02/p02-115/p02-115-07.png  \n",
            "  inflating: /content/sentences/p02/p02-115/p02-115-08.png  \n",
            "   creating: /content/sentences/p02/p02-121/\n",
            "  inflating: /content/sentences/p02/p02-121/p02-121-00.png  \n",
            "  inflating: /content/sentences/p02/p02-121/p02-121-01.png  \n",
            "  inflating: /content/sentences/p02/p02-121/p02-121-02.png  \n",
            "  inflating: /content/sentences/p02/p02-121/p02-121-03.png  \n",
            "  inflating: /content/sentences/p02/p02-121/p02-121-04.png  \n",
            "  inflating: /content/sentences/p02/p02-121/p02-121-05.png  \n",
            "   creating: /content/sentences/p02/p02-127/\n",
            "  inflating: /content/sentences/p02/p02-127/p02-127-00.png  \n",
            "  inflating: /content/sentences/p02/p02-127/p02-127-01.png  \n",
            "  inflating: /content/sentences/p02/p02-127/p02-127-02.png  \n",
            "  inflating: /content/sentences/p02/p02-127/p02-127-03.png  \n",
            "  inflating: /content/sentences/p02/p02-127/p02-127-04.png  \n",
            "  inflating: /content/sentences/p02/p02-127/p02-127-05.png  \n",
            "  inflating: /content/sentences/p02/p02-127/p02-127-06.png  \n",
            "   creating: /content/sentences/p02/p02-131/\n",
            "  inflating: /content/sentences/p02/p02-131/p02-131-00.png  \n",
            "  inflating: /content/sentences/p02/p02-131/p02-131-01.png  \n",
            "  inflating: /content/sentences/p02/p02-131/p02-131-02.png  \n",
            "  inflating: /content/sentences/p02/p02-131/p02-131-03.png  \n",
            "  inflating: /content/sentences/p02/p02-131/p02-131-04.png  \n",
            "  inflating: /content/sentences/p02/p02-131/p02-131-05.png  \n",
            "  inflating: /content/sentences/p02/p02-131/p02-131-06.png  \n",
            "  inflating: /content/sentences/p02/p02-131/p02-131-07.png  \n",
            "   creating: /content/sentences/p02/p02-135/\n",
            "  inflating: /content/sentences/p02/p02-135/p02-135-00.png  \n",
            "  inflating: /content/sentences/p02/p02-135/p02-135-01.png  \n",
            "  inflating: /content/sentences/p02/p02-135/p02-135-02.png  \n",
            "  inflating: /content/sentences/p02/p02-135/p02-135-03.png  \n",
            "  inflating: /content/sentences/p02/p02-135/p02-135-04.png  \n",
            "  inflating: /content/sentences/p02/p02-135/p02-135-05.png  \n",
            "  inflating: /content/sentences/p02/p02-135/p02-135-06.png  \n",
            "  inflating: /content/sentences/p02/p02-135/p02-135-07.png  \n",
            "  inflating: /content/sentences/p02/p02-135/p02-135-08.png  \n",
            "   creating: /content/sentences/p02/p02-139/\n",
            "  inflating: /content/sentences/p02/p02-139/p02-139-00.png  \n",
            "  inflating: /content/sentences/p02/p02-139/p02-139-01.png  \n",
            "  inflating: /content/sentences/p02/p02-139/p02-139-02.png  \n",
            "  inflating: /content/sentences/p02/p02-139/p02-139-03.png  \n",
            "  inflating: /content/sentences/p02/p02-139/p02-139-04.png  \n",
            " extracting: /content/sentences/p02/p02-139/p02-139-05.png  \n",
            "   creating: /content/sentences/p02/p02-144/\n",
            "  inflating: /content/sentences/p02/p02-144/p02-144-00.png  \n",
            "  inflating: /content/sentences/p02/p02-144/p02-144-01.png  \n",
            "  inflating: /content/sentences/p02/p02-144/p02-144-02.png  \n",
            "  inflating: /content/sentences/p02/p02-144/p02-144-03.png  \n",
            "  inflating: /content/sentences/p02/p02-144/p02-144-04.png  \n",
            "  inflating: /content/sentences/p02/p02-144/p02-144-05.png  \n",
            "  inflating: /content/sentences/p02/p02-144/p02-144-06.png  \n",
            "  inflating: /content/sentences/p02/p02-144/p02-144-07.png  \n",
            "  inflating: /content/sentences/p02/p02-144/p02-144-08.png  \n",
            "  inflating: /content/sentences/p02/p02-144/p02-144-09.png  \n",
            "  inflating: /content/sentences/p02/p02-144/p02-144-10.png  \n",
            " extracting: /content/sentences/p02/p02-144/p02-144-11.png  \n",
            "   creating: /content/sentences/p02/p02-150/\n",
            "  inflating: /content/sentences/p02/p02-150/p02-150-00.png  \n",
            "  inflating: /content/sentences/p02/p02-150/p02-150-01.png  \n",
            "  inflating: /content/sentences/p02/p02-150/p02-150-02.png  \n",
            "  inflating: /content/sentences/p02/p02-150/p02-150-03.png  \n",
            "  inflating: /content/sentences/p02/p02-150/p02-150-04.png  \n",
            "  inflating: /content/sentences/p02/p02-150/p02-150-05.png  \n",
            "  inflating: /content/sentences/p02/p02-150/p02-150-06.png  \n",
            "  inflating: /content/sentences/p02/p02-150/p02-150-07.png  \n",
            "  inflating: /content/sentences/p02/p02-150/p02-150-08.png  \n",
            "   creating: /content/sentences/p02/p02-155/\n",
            "  inflating: /content/sentences/p02/p02-155/p02-155-00.png  \n",
            " extracting: /content/sentences/p02/p02-155/p02-155-01.png  \n",
            "   creating: /content/sentences/p03/\n",
            "   creating: /content/sentences/p03/p03-004/\n",
            "  inflating: /content/sentences/p03/p03-004/p03-004-00.png  \n",
            "  inflating: /content/sentences/p03/p03-004/p03-004-01.png  \n",
            "  inflating: /content/sentences/p03/p03-004/p03-004-02.png  \n",
            "  inflating: /content/sentences/p03/p03-004/p03-004-03.png  \n",
            "  inflating: /content/sentences/p03/p03-004/p03-004-04.png  \n",
            "  inflating: /content/sentences/p03/p03-004/p03-004-05.png  \n",
            "  inflating: /content/sentences/p03/p03-004/p03-004-06.png  \n",
            "  inflating: /content/sentences/p03/p03-004/p03-004-07.png  \n",
            "  inflating: /content/sentences/p03/p03-004/p03-004-08.png  \n",
            "  inflating: /content/sentences/p03/p03-004/p03-004-09.png  \n",
            "  inflating: /content/sentences/p03/p03-004/p03-004-10.png  \n",
            "  inflating: /content/sentences/p03/p03-004/p03-004-11.png  \n",
            "   creating: /content/sentences/p03/p03-009/\n",
            "  inflating: /content/sentences/p03/p03-009/p03-009-00.png  \n",
            "  inflating: /content/sentences/p03/p03-009/p03-009-01.png  \n",
            "  inflating: /content/sentences/p03/p03-009/p03-009-02.png  \n",
            "  inflating: /content/sentences/p03/p03-009/p03-009-03.png  \n",
            "  inflating: /content/sentences/p03/p03-009/p03-009-04.png  \n",
            "  inflating: /content/sentences/p03/p03-009/p03-009-05.png  \n",
            "  inflating: /content/sentences/p03/p03-009/p03-009-06.png  \n",
            "   creating: /content/sentences/p03/p03-012/\n",
            "  inflating: /content/sentences/p03/p03-012/p03-012-00.png  \n",
            "  inflating: /content/sentences/p03/p03-012/p03-012-01.png  \n",
            "  inflating: /content/sentences/p03/p03-012/p03-012-02.png  \n",
            "  inflating: /content/sentences/p03/p03-012/p03-012-03.png  \n",
            "  inflating: /content/sentences/p03/p03-012/p03-012-04.png  \n",
            "  inflating: /content/sentences/p03/p03-012/p03-012-05.png  \n",
            "  inflating: /content/sentences/p03/p03-012/p03-012-06.png  \n",
            "  inflating: /content/sentences/p03/p03-012/p03-012-07.png  \n",
            "  inflating: /content/sentences/p03/p03-012/p03-012-08.png  \n",
            "  inflating: /content/sentences/p03/p03-012/p03-012-09.png  \n",
            "   creating: /content/sentences/p03/p03-023/\n",
            "  inflating: /content/sentences/p03/p03-023/p03-023-00.png  \n",
            "  inflating: /content/sentences/p03/p03-023/p03-023-01.png  \n",
            "  inflating: /content/sentences/p03/p03-023/p03-023-02.png  \n",
            "  inflating: /content/sentences/p03/p03-023/p03-023-03.png  \n",
            "  inflating: /content/sentences/p03/p03-023/p03-023-04.png  \n",
            "  inflating: /content/sentences/p03/p03-023/p03-023-05.png  \n",
            "   creating: /content/sentences/p03/p03-027/\n",
            "  inflating: /content/sentences/p03/p03-027/p03-027-00.png  \n",
            "  inflating: /content/sentences/p03/p03-027/p03-027-01.png  \n",
            "  inflating: /content/sentences/p03/p03-027/p03-027-02.png  \n",
            "  inflating: /content/sentences/p03/p03-027/p03-027-03.png  \n",
            "  inflating: /content/sentences/p03/p03-027/p03-027-04.png  \n",
            "  inflating: /content/sentences/p03/p03-027/p03-027-05.png  \n",
            "  inflating: /content/sentences/p03/p03-027/p03-027-06.png  \n",
            " extracting: /content/sentences/p03/p03-027/p03-027-07.png  \n",
            "   creating: /content/sentences/p03/p03-029/\n",
            "  inflating: /content/sentences/p03/p03-029/p03-029-00.png  \n",
            "  inflating: /content/sentences/p03/p03-029/p03-029-01.png  \n",
            "  inflating: /content/sentences/p03/p03-029/p03-029-02.png  \n",
            "  inflating: /content/sentences/p03/p03-029/p03-029-03.png  \n",
            "  inflating: /content/sentences/p03/p03-029/p03-029-04.png  \n",
            "  inflating: /content/sentences/p03/p03-029/p03-029-05.png  \n",
            "  inflating: /content/sentences/p03/p03-029/p03-029-06.png  \n",
            "  inflating: /content/sentences/p03/p03-029/p03-029-07.png  \n",
            "  inflating: /content/sentences/p03/p03-029/p03-029-08.png  \n",
            "  inflating: /content/sentences/p03/p03-029/p03-029-09.png  \n",
            "   creating: /content/sentences/p03/p03-033/\n",
            "  inflating: /content/sentences/p03/p03-033/p03-033-00.png  \n",
            "  inflating: /content/sentences/p03/p03-033/p03-033-01.png  \n",
            "  inflating: /content/sentences/p03/p03-033/p03-033-02.png  \n",
            "  inflating: /content/sentences/p03/p03-033/p03-033-03.png  \n",
            "  inflating: /content/sentences/p03/p03-033/p03-033-04.png  \n",
            " extracting: /content/sentences/p03/p03-033/p03-033-05.png  \n",
            "   creating: /content/sentences/p03/p03-040/\n",
            "  inflating: /content/sentences/p03/p03-040/p03-040-00.png  \n",
            "  inflating: /content/sentences/p03/p03-040/p03-040-01.png  \n",
            "  inflating: /content/sentences/p03/p03-040/p03-040-02.png  \n",
            "  inflating: /content/sentences/p03/p03-040/p03-040-03.png  \n",
            "  inflating: /content/sentences/p03/p03-040/p03-040-04.png  \n",
            "  inflating: /content/sentences/p03/p03-040/p03-040-05.png  \n",
            "  inflating: /content/sentences/p03/p03-040/p03-040-06.png  \n",
            "  inflating: /content/sentences/p03/p03-040/p03-040-07.png  \n",
            " extracting: /content/sentences/p03/p03-040/p03-040-08.png  \n",
            "   creating: /content/sentences/p03/p03-047/\n",
            "  inflating: /content/sentences/p03/p03-047/p03-047-00.png  \n",
            "  inflating: /content/sentences/p03/p03-047/p03-047-01.png  \n",
            "  inflating: /content/sentences/p03/p03-047/p03-047-02.png  \n",
            "  inflating: /content/sentences/p03/p03-047/p03-047-03.png  \n",
            "  inflating: /content/sentences/p03/p03-047/p03-047-04.png  \n",
            "  inflating: /content/sentences/p03/p03-047/p03-047-05.png  \n",
            "  inflating: /content/sentences/p03/p03-047/p03-047-06.png  \n",
            "  inflating: /content/sentences/p03/p03-047/p03-047-07.png  \n",
            "  inflating: /content/sentences/p03/p03-047/p03-047-08.png  \n",
            "  inflating: /content/sentences/p03/p03-047/p03-047-09.png  \n",
            "   creating: /content/sentences/p03/p03-057/\n",
            "  inflating: /content/sentences/p03/p03-057/p03-057-00.png  \n",
            "  inflating: /content/sentences/p03/p03-057/p03-057-01.png  \n",
            "  inflating: /content/sentences/p03/p03-057/p03-057-02.png  \n",
            "  inflating: /content/sentences/p03/p03-057/p03-057-03.png  \n",
            "  inflating: /content/sentences/p03/p03-057/p03-057-04.png  \n",
            "  inflating: /content/sentences/p03/p03-057/p03-057-05.png  \n",
            "  inflating: /content/sentences/p03/p03-057/p03-057-06.png  \n",
            "  inflating: /content/sentences/p03/p03-057/p03-057-07.png  \n",
            "  inflating: /content/sentences/p03/p03-057/p03-057-08.png  \n",
            " extracting: /content/sentences/p03/p03-057/p03-057-09.png  \n",
            "   creating: /content/sentences/p03/p03-069/\n",
            "  inflating: /content/sentences/p03/p03-069/p03-069-00.png  \n",
            "  inflating: /content/sentences/p03/p03-069/p03-069-01.png  \n",
            "  inflating: /content/sentences/p03/p03-069/p03-069-02.png  \n",
            "  inflating: /content/sentences/p03/p03-069/p03-069-03.png  \n",
            "  inflating: /content/sentences/p03/p03-069/p03-069-04.png  \n",
            "  inflating: /content/sentences/p03/p03-069/p03-069-05.png  \n",
            "  inflating: /content/sentences/p03/p03-069/p03-069-06.png  \n",
            "   creating: /content/sentences/p03/p03-072/\n",
            "  inflating: /content/sentences/p03/p03-072/p03-072-00.png  \n",
            "  inflating: /content/sentences/p03/p03-072/p03-072-01.png  \n",
            "  inflating: /content/sentences/p03/p03-072/p03-072-02.png  \n",
            "  inflating: /content/sentences/p03/p03-072/p03-072-03.png  \n",
            "  inflating: /content/sentences/p03/p03-072/p03-072-04.png  \n",
            "  inflating: /content/sentences/p03/p03-072/p03-072-05.png  \n",
            "  inflating: /content/sentences/p03/p03-072/p03-072-06.png  \n",
            " extracting: /content/sentences/p03/p03-072/p03-072-07.png  \n",
            "   creating: /content/sentences/p03/p03-080/\n",
            "  inflating: /content/sentences/p03/p03-080/p03-080-00.png  \n",
            "  inflating: /content/sentences/p03/p03-080/p03-080-01.png  \n",
            " extracting: /content/sentences/p03/p03-080/p03-080-02.png  \n",
            "  inflating: /content/sentences/p03/p03-080/p03-080-03.png  \n",
            "  inflating: /content/sentences/p03/p03-080/p03-080-04.png  \n",
            "  inflating: /content/sentences/p03/p03-080/p03-080-05.png  \n",
            "  inflating: /content/sentences/p03/p03-080/p03-080-06.png  \n",
            "   creating: /content/sentences/p03/p03-087/\n",
            "  inflating: /content/sentences/p03/p03-087/p03-087-00.png  \n",
            "  inflating: /content/sentences/p03/p03-087/p03-087-01.png  \n",
            "  inflating: /content/sentences/p03/p03-087/p03-087-02.png  \n",
            "  inflating: /content/sentences/p03/p03-087/p03-087-03.png  \n",
            "  inflating: /content/sentences/p03/p03-087/p03-087-04.png  \n",
            "  inflating: /content/sentences/p03/p03-087/p03-087-05.png  \n",
            "  inflating: /content/sentences/p03/p03-087/p03-087-06.png  \n",
            "  inflating: /content/sentences/p03/p03-087/p03-087-07.png  \n",
            "  inflating: /content/sentences/p03/p03-087/p03-087-08.png  \n",
            "  inflating: /content/sentences/p03/p03-087/p03-087-09.png  \n",
            "  inflating: /content/sentences/p03/p03-087/p03-087-10.png  \n",
            "   creating: /content/sentences/p03/p03-096/\n",
            "  inflating: /content/sentences/p03/p03-096/p03-096-00.png  \n",
            "  inflating: /content/sentences/p03/p03-096/p03-096-01.png  \n",
            "  inflating: /content/sentences/p03/p03-096/p03-096-02.png  \n",
            "  inflating: /content/sentences/p03/p03-096/p03-096-03.png  \n",
            "  inflating: /content/sentences/p03/p03-096/p03-096-04.png  \n",
            "  inflating: /content/sentences/p03/p03-096/p03-096-05.png  \n",
            "  inflating: /content/sentences/p03/p03-096/p03-096-06.png  \n",
            "  inflating: /content/sentences/p03/p03-096/p03-096-07.png  \n",
            "  inflating: /content/sentences/p03/p03-096/p03-096-08.png  \n",
            "  inflating: /content/sentences/p03/p03-096/p03-096-09.png  \n",
            "   creating: /content/sentences/p03/p03-103/\n",
            "  inflating: /content/sentences/p03/p03-103/p03-103-00.png  \n",
            "  inflating: /content/sentences/p03/p03-103/p03-103-01.png  \n",
            "  inflating: /content/sentences/p03/p03-103/p03-103-02.png  \n",
            "  inflating: /content/sentences/p03/p03-103/p03-103-03.png  \n",
            "  inflating: /content/sentences/p03/p03-103/p03-103-04.png  \n",
            "  inflating: /content/sentences/p03/p03-103/p03-103-05.png  \n",
            "  inflating: /content/sentences/p03/p03-103/p03-103-06.png  \n",
            "  inflating: /content/sentences/p03/p03-103/p03-103-07.png  \n",
            "   creating: /content/sentences/p03/p03-112/\n",
            "  inflating: /content/sentences/p03/p03-112/p03-112-00.png  \n",
            "  inflating: /content/sentences/p03/p03-112/p03-112-01.png  \n",
            "  inflating: /content/sentences/p03/p03-112/p03-112-02.png  \n",
            "  inflating: /content/sentences/p03/p03-112/p03-112-03.png  \n",
            "  inflating: /content/sentences/p03/p03-112/p03-112-04.png  \n",
            "  inflating: /content/sentences/p03/p03-112/p03-112-05.png  \n",
            "  inflating: /content/sentences/p03/p03-112/p03-112-06.png  \n",
            "  inflating: /content/sentences/p03/p03-112/p03-112-07.png  \n",
            "  inflating: /content/sentences/p03/p03-112/p03-112-08.png  \n",
            "  inflating: /content/sentences/p03/p03-112/p03-112-09.png  \n",
            "   creating: /content/sentences/p03/p03-121/\n",
            "  inflating: /content/sentences/p03/p03-121/p03-121-00.png  \n",
            "  inflating: /content/sentences/p03/p03-121/p03-121-01.png  \n",
            "  inflating: /content/sentences/p03/p03-121/p03-121-02.png  \n",
            "  inflating: /content/sentences/p03/p03-121/p03-121-03.png  \n",
            "  inflating: /content/sentences/p03/p03-121/p03-121-04.png  \n",
            "  inflating: /content/sentences/p03/p03-121/p03-121-05.png  \n",
            "  inflating: /content/sentences/p03/p03-121/p03-121-06.png  \n",
            "   creating: /content/sentences/p03/p03-135/\n",
            "  inflating: /content/sentences/p03/p03-135/p03-135-00.png  \n",
            "  inflating: /content/sentences/p03/p03-135/p03-135-01.png  \n",
            "  inflating: /content/sentences/p03/p03-135/p03-135-02.png  \n",
            "  inflating: /content/sentences/p03/p03-135/p03-135-03.png  \n",
            "  inflating: /content/sentences/p03/p03-135/p03-135-04.png  \n",
            "  inflating: /content/sentences/p03/p03-135/p03-135-05.png  \n",
            " extracting: /content/sentences/p03/p03-135/p03-135-06.png  \n",
            "   creating: /content/sentences/p03/p03-142/\n",
            "  inflating: /content/sentences/p03/p03-142/p03-142-00.png  \n",
            "  inflating: /content/sentences/p03/p03-142/p03-142-01.png  \n",
            "  inflating: /content/sentences/p03/p03-142/p03-142-02.png  \n",
            "  inflating: /content/sentences/p03/p03-142/p03-142-03.png  \n",
            "  inflating: /content/sentences/p03/p03-142/p03-142-04.png  \n",
            "  inflating: /content/sentences/p03/p03-142/p03-142-05.png  \n",
            "  inflating: /content/sentences/p03/p03-142/p03-142-06.png  \n",
            "   creating: /content/sentences/p03/p03-151/\n",
            "  inflating: /content/sentences/p03/p03-151/p03-151-00.png  \n",
            "  inflating: /content/sentences/p03/p03-151/p03-151-01.png  \n",
            "  inflating: /content/sentences/p03/p03-151/p03-151-02.png  \n",
            "  inflating: /content/sentences/p03/p03-151/p03-151-03.png  \n",
            "  inflating: /content/sentences/p03/p03-151/p03-151-04.png  \n",
            "  inflating: /content/sentences/p03/p03-151/p03-151-05.png  \n",
            "  inflating: /content/sentences/p03/p03-151/p03-151-06.png  \n",
            "  inflating: /content/sentences/p03/p03-151/p03-151-07.png  \n",
            "   creating: /content/sentences/p03/p03-158/\n",
            "  inflating: /content/sentences/p03/p03-158/p03-158-00.png  \n",
            "  inflating: /content/sentences/p03/p03-158/p03-158-01.png  \n",
            "  inflating: /content/sentences/p03/p03-158/p03-158-02.png  \n",
            "  inflating: /content/sentences/p03/p03-158/p03-158-03.png  \n",
            "  inflating: /content/sentences/p03/p03-158/p03-158-04.png  \n",
            "  inflating: /content/sentences/p03/p03-158/p03-158-05.png  \n",
            "  inflating: /content/sentences/p03/p03-158/p03-158-06.png  \n",
            " extracting: /content/sentences/p03/p03-158/p03-158-07.png  \n",
            "   creating: /content/sentences/p03/p03-163/\n",
            "  inflating: /content/sentences/p03/p03-163/p03-163-00.png  \n",
            "  inflating: /content/sentences/p03/p03-163/p03-163-01.png  \n",
            "  inflating: /content/sentences/p03/p03-163/p03-163-02.png  \n",
            "  inflating: /content/sentences/p03/p03-163/p03-163-03.png  \n",
            "  inflating: /content/sentences/p03/p03-163/p03-163-04.png  \n",
            "  inflating: /content/sentences/p03/p03-163/p03-163-05.png  \n",
            "  inflating: /content/sentences/p03/p03-163/p03-163-06.png  \n",
            "  inflating: /content/sentences/p03/p03-163/p03-163-07.png  \n",
            "   creating: /content/sentences/p03/p03-173/\n",
            "  inflating: /content/sentences/p03/p03-173/p03-173-00.png  \n",
            "  inflating: /content/sentences/p03/p03-173/p03-173-01.png  \n",
            "  inflating: /content/sentences/p03/p03-173/p03-173-02.png  \n",
            "  inflating: /content/sentences/p03/p03-173/p03-173-03.png  \n",
            "  inflating: /content/sentences/p03/p03-173/p03-173-04.png  \n",
            "  inflating: /content/sentences/p03/p03-173/p03-173-05.png  \n",
            "  inflating: /content/sentences/p03/p03-173/p03-173-06.png  \n",
            "  inflating: /content/sentences/p03/p03-173/p03-173-07.png  \n",
            "  inflating: /content/sentences/p03/p03-173/p03-173-08.png  \n",
            "   creating: /content/sentences/p03/p03-181/\n",
            "  inflating: /content/sentences/p03/p03-181/p03-181-00.png  \n",
            "  inflating: /content/sentences/p03/p03-181/p03-181-01.png  \n",
            "  inflating: /content/sentences/p03/p03-181/p03-181-02.png  \n",
            "  inflating: /content/sentences/p03/p03-181/p03-181-03.png  \n",
            "  inflating: /content/sentences/p03/p03-181/p03-181-04.png  \n",
            "  inflating: /content/sentences/p03/p03-181/p03-181-05.png  \n",
            "  inflating: /content/sentences/p03/p03-181/p03-181-06.png  \n",
            "  inflating: /content/sentences/p03/p03-181/p03-181-07.png  \n",
            "  inflating: /content/sentences/p03/p03-181/p03-181-08.png  \n",
            "  inflating: /content/sentences/p03/p03-181/p03-181-09.png  \n",
            "   creating: /content/sentences/p03/p03-185/\n",
            "  inflating: /content/sentences/p03/p03-185/p03-185-00.png  \n",
            "  inflating: /content/sentences/p03/p03-185/p03-185-01.png  \n",
            "  inflating: /content/sentences/p03/p03-185/p03-185-02.png  \n",
            "  inflating: /content/sentences/p03/p03-185/p03-185-03.png  \n",
            "  inflating: /content/sentences/p03/p03-185/p03-185-04.png  \n",
            "  inflating: /content/sentences/p03/p03-185/p03-185-05.png  \n",
            "  inflating: /content/sentences/p03/p03-185/p03-185-06.png  \n",
            "  inflating: /content/sentences/p03/p03-185/p03-185-07.png  \n",
            " extracting: /content/sentences/p03/p03-185/p03-185-08.png  \n",
            "   creating: /content/sentences/p03/p03-189/\n",
            "  inflating: /content/sentences/p03/p03-189/p03-189-00.png  \n",
            "  inflating: /content/sentences/p03/p03-189/p03-189-01.png  \n",
            "  inflating: /content/sentences/p03/p03-189/p03-189-02.png  \n",
            "  inflating: /content/sentences/p03/p03-189/p03-189-03.png  \n",
            " extracting: /content/sentences/p03/p03-189/p03-189-04.png  \n",
            "   creating: /content/sentences/p06/\n",
            "   creating: /content/sentences/p06/p06-030/\n",
            "  inflating: /content/sentences/p06/p06-030/p06-030-00.png  \n",
            "  inflating: /content/sentences/p06/p06-030/p06-030-01.png  \n",
            "  inflating: /content/sentences/p06/p06-030/p06-030-02.png  \n",
            "  inflating: /content/sentences/p06/p06-030/p06-030-03.png  \n",
            "  inflating: /content/sentences/p06/p06-030/p06-030-04.png  \n",
            "  inflating: /content/sentences/p06/p06-030/p06-030-05.png  \n",
            "  inflating: /content/sentences/p06/p06-030/p06-030-06.png  \n",
            "  inflating: /content/sentences/p06/p06-030/p06-030-07.png  \n",
            "  inflating: /content/sentences/p06/p06-030/p06-030-08.png  \n",
            "   creating: /content/sentences/p06/p06-042/\n",
            "  inflating: /content/sentences/p06/p06-042/p06-042-00.png  \n",
            "  inflating: /content/sentences/p06/p06-042/p06-042-01.png  \n",
            "  inflating: /content/sentences/p06/p06-042/p06-042-02.png  \n",
            "  inflating: /content/sentences/p06/p06-042/p06-042-03.png  \n",
            "  inflating: /content/sentences/p06/p06-042/p06-042-04.png  \n",
            "  inflating: /content/sentences/p06/p06-042/p06-042-05.png  \n",
            "  inflating: /content/sentences/p06/p06-042/p06-042-06.png  \n",
            "  inflating: /content/sentences/p06/p06-042/p06-042-07.png  \n",
            "  inflating: /content/sentences/p06/p06-042/p06-042-08.png  \n",
            "  inflating: /content/sentences/p06/p06-042/p06-042-09.png  \n",
            "  inflating: /content/sentences/p06/p06-042/p06-042-10.png  \n",
            "   creating: /content/sentences/p06/p06-047/\n",
            "  inflating: /content/sentences/p06/p06-047/p06-047-00.png  \n",
            "  inflating: /content/sentences/p06/p06-047/p06-047-01.png  \n",
            "  inflating: /content/sentences/p06/p06-047/p06-047-02.png  \n",
            "  inflating: /content/sentences/p06/p06-047/p06-047-03.png  \n",
            "  inflating: /content/sentences/p06/p06-047/p06-047-04.png  \n",
            "  inflating: /content/sentences/p06/p06-047/p06-047-05.png  \n",
            "  inflating: /content/sentences/p06/p06-047/p06-047-06.png  \n",
            "  inflating: /content/sentences/p06/p06-047/p06-047-07.png  \n",
            "  inflating: /content/sentences/p06/p06-047/p06-047-08.png  \n",
            "  inflating: /content/sentences/p06/p06-047/p06-047-09.png  \n",
            "  inflating: /content/sentences/p06/p06-047/p06-047-10.png  \n",
            "   creating: /content/sentences/p06/p06-052/\n",
            "  inflating: /content/sentences/p06/p06-052/p06-052-00.png  \n",
            "  inflating: /content/sentences/p06/p06-052/p06-052-01.png  \n",
            "  inflating: /content/sentences/p06/p06-052/p06-052-02.png  \n",
            "  inflating: /content/sentences/p06/p06-052/p06-052-03.png  \n",
            "  inflating: /content/sentences/p06/p06-052/p06-052-04.png  \n",
            "  inflating: /content/sentences/p06/p06-052/p06-052-05.png  \n",
            "  inflating: /content/sentences/p06/p06-052/p06-052-06.png  \n",
            "  inflating: /content/sentences/p06/p06-052/p06-052-07.png  \n",
            "  inflating: /content/sentences/p06/p06-052/p06-052-08.png  \n",
            "   creating: /content/sentences/p06/p06-058/\n",
            "  inflating: /content/sentences/p06/p06-058/p06-058-00.png  \n",
            "  inflating: /content/sentences/p06/p06-058/p06-058-01.png  \n",
            "  inflating: /content/sentences/p06/p06-058/p06-058-02.png  \n",
            "  inflating: /content/sentences/p06/p06-058/p06-058-03.png  \n",
            "  inflating: /content/sentences/p06/p06-058/p06-058-04.png  \n",
            "  inflating: /content/sentences/p06/p06-058/p06-058-05.png  \n",
            "  inflating: /content/sentences/p06/p06-058/p06-058-06.png  \n",
            "  inflating: /content/sentences/p06/p06-058/p06-058-07.png  \n",
            "  inflating: /content/sentences/p06/p06-058/p06-058-08.png  \n",
            "  inflating: /content/sentences/p06/p06-058/p06-058-09.png  \n",
            "  inflating: /content/sentences/p06/p06-058/p06-058-10.png  \n",
            "   creating: /content/sentences/p06/p06-069/\n",
            "  inflating: /content/sentences/p06/p06-069/p06-069-00.png  \n",
            "  inflating: /content/sentences/p06/p06-069/p06-069-01.png  \n",
            "  inflating: /content/sentences/p06/p06-069/p06-069-02.png  \n",
            "  inflating: /content/sentences/p06/p06-069/p06-069-03.png  \n",
            "  inflating: /content/sentences/p06/p06-069/p06-069-04.png  \n",
            "  inflating: /content/sentences/p06/p06-069/p06-069-05.png  \n",
            "  inflating: /content/sentences/p06/p06-069/p06-069-06.png  \n",
            "  inflating: /content/sentences/p06/p06-069/p06-069-07.png  \n",
            "  inflating: /content/sentences/p06/p06-069/p06-069-08.png  \n",
            "  inflating: /content/sentences/p06/p06-069/p06-069-09.png  \n",
            "  inflating: /content/sentences/p06/p06-069/p06-069-10.png  \n",
            "   creating: /content/sentences/p06/p06-088/\n",
            "  inflating: /content/sentences/p06/p06-088/p06-088-00.png  \n",
            "  inflating: /content/sentences/p06/p06-088/p06-088-01.png  \n",
            "  inflating: /content/sentences/p06/p06-088/p06-088-02.png  \n",
            "  inflating: /content/sentences/p06/p06-088/p06-088-03.png  \n",
            "  inflating: /content/sentences/p06/p06-088/p06-088-04.png  \n",
            "  inflating: /content/sentences/p06/p06-088/p06-088-05.png  \n",
            "  inflating: /content/sentences/p06/p06-088/p06-088-06.png  \n",
            "  inflating: /content/sentences/p06/p06-088/p06-088-07.png  \n",
            "  inflating: /content/sentences/p06/p06-088/p06-088-08.png  \n",
            "  inflating: /content/sentences/p06/p06-088/p06-088-09.png  \n",
            "   creating: /content/sentences/p06/p06-096/\n",
            "  inflating: /content/sentences/p06/p06-096/p06-096-00.png  \n",
            "  inflating: /content/sentences/p06/p06-096/p06-096-01.png  \n",
            "  inflating: /content/sentences/p06/p06-096/p06-096-02.png  \n",
            "  inflating: /content/sentences/p06/p06-096/p06-096-03.png  \n",
            "  inflating: /content/sentences/p06/p06-096/p06-096-04.png  \n",
            "  inflating: /content/sentences/p06/p06-096/p06-096-05.png  \n",
            "  inflating: /content/sentences/p06/p06-096/p06-096-06.png  \n",
            "  inflating: /content/sentences/p06/p06-096/p06-096-07.png  \n",
            "  inflating: /content/sentences/p06/p06-096/p06-096-08.png  \n",
            "  inflating: /content/sentences/p06/p06-096/p06-096-09.png  \n",
            "  inflating: /content/sentences/p06/p06-096/p06-096-10.png  \n",
            "   creating: /content/sentences/p06/p06-104/\n",
            "  inflating: /content/sentences/p06/p06-104/p06-104-00.png  \n",
            "  inflating: /content/sentences/p06/p06-104/p06-104-01.png  \n",
            "  inflating: /content/sentences/p06/p06-104/p06-104-02.png  \n",
            "  inflating: /content/sentences/p06/p06-104/p06-104-03.png  \n",
            "  inflating: /content/sentences/p06/p06-104/p06-104-04.png  \n",
            "  inflating: /content/sentences/p06/p06-104/p06-104-05.png  \n",
            "  inflating: /content/sentences/p06/p06-104/p06-104-06.png  \n",
            "  inflating: /content/sentences/p06/p06-104/p06-104-07.png  \n",
            "  inflating: /content/sentences/p06/p06-104/p06-104-08.png  \n",
            "  inflating: /content/sentences/p06/p06-104/p06-104-09.png  \n",
            "   creating: /content/sentences/p06/p06-242/\n",
            "  inflating: /content/sentences/p06/p06-242/p06-242-00.png  \n",
            "  inflating: /content/sentences/p06/p06-242/p06-242-01.png  \n",
            "  inflating: /content/sentences/p06/p06-242/p06-242-02.png  \n",
            "  inflating: /content/sentences/p06/p06-242/p06-242-03.png  \n",
            "  inflating: /content/sentences/p06/p06-242/p06-242-04.png  \n",
            "  inflating: /content/sentences/p06/p06-242/p06-242-05.png  \n",
            "  inflating: /content/sentences/p06/p06-242/p06-242-06.png  \n",
            "  inflating: /content/sentences/p06/p06-242/p06-242-07.png  \n",
            "   creating: /content/sentences/p06/p06-248/\n",
            "  inflating: /content/sentences/p06/p06-248/p06-248-00.png  \n",
            "  inflating: /content/sentences/p06/p06-248/p06-248-01.png  \n",
            "  inflating: /content/sentences/p06/p06-248/p06-248-02.png  \n",
            "  inflating: /content/sentences/p06/p06-248/p06-248-03.png  \n",
            "  inflating: /content/sentences/p06/p06-248/p06-248-04.png  \n",
            "   creating: /content/sentences/r02/\n",
            "   creating: /content/sentences/r02/r02-000/\n",
            "  inflating: /content/sentences/r02/r02-000/r02-000-00.png  \n",
            "  inflating: /content/sentences/r02/r02-000/r02-000-01.png  \n",
            "  inflating: /content/sentences/r02/r02-000/r02-000-02.png  \n",
            "  inflating: /content/sentences/r02/r02-000/r02-000-03.png  \n",
            "  inflating: /content/sentences/r02/r02-000/r02-000-04.png  \n",
            "  inflating: /content/sentences/r02/r02-000/r02-000-05.png  \n",
            "  inflating: /content/sentences/r02/r02-000/r02-000-06.png  \n",
            "  inflating: /content/sentences/r02/r02-000/r02-000-07.png  \n",
            "   creating: /content/sentences/r02/r02-003/\n",
            "  inflating: /content/sentences/r02/r02-003/r02-003-00.png  \n",
            "  inflating: /content/sentences/r02/r02-003/r02-003-01.png  \n",
            "  inflating: /content/sentences/r02/r02-003/r02-003-02.png  \n",
            "  inflating: /content/sentences/r02/r02-003/r02-003-03.png  \n",
            "  inflating: /content/sentences/r02/r02-003/r02-003-04.png  \n",
            "  inflating: /content/sentences/r02/r02-003/r02-003-05.png  \n",
            "   creating: /content/sentences/r02/r02-006/\n",
            "  inflating: /content/sentences/r02/r02-006/r02-006-00.png  \n",
            "  inflating: /content/sentences/r02/r02-006/r02-006-01.png  \n",
            "  inflating: /content/sentences/r02/r02-006/r02-006-02.png  \n",
            "  inflating: /content/sentences/r02/r02-006/r02-006-03.png  \n",
            "  inflating: /content/sentences/r02/r02-006/r02-006-04.png  \n",
            "  inflating: /content/sentences/r02/r02-006/r02-006-05.png  \n",
            "  inflating: /content/sentences/r02/r02-006/r02-006-06.png  \n",
            "  inflating: /content/sentences/r02/r02-006/r02-006-07.png  \n",
            "  inflating: /content/sentences/r02/r02-006/r02-006-08.png  \n",
            "  inflating: /content/sentences/r02/r02-006/r02-006-09.png  \n",
            "   creating: /content/sentences/r02/r02-010/\n",
            "  inflating: /content/sentences/r02/r02-010/r02-010-00.png  \n",
            "  inflating: /content/sentences/r02/r02-010/r02-010-01.png  \n",
            "  inflating: /content/sentences/r02/r02-010/r02-010-02.png  \n",
            "  inflating: /content/sentences/r02/r02-010/r02-010-03.png  \n",
            "  inflating: /content/sentences/r02/r02-010/r02-010-04.png  \n",
            "  inflating: /content/sentences/r02/r02-010/r02-010-05.png  \n",
            "  inflating: /content/sentences/r02/r02-010/r02-010-06.png  \n",
            "  inflating: /content/sentences/r02/r02-010/r02-010-07.png  \n",
            "   creating: /content/sentences/r02/r02-013/\n",
            "  inflating: /content/sentences/r02/r02-013/r02-013-00.png  \n",
            "  inflating: /content/sentences/r02/r02-013/r02-013-01.png  \n",
            "  inflating: /content/sentences/r02/r02-013/r02-013-02.png  \n",
            "  inflating: /content/sentences/r02/r02-013/r02-013-03.png  \n",
            "  inflating: /content/sentences/r02/r02-013/r02-013-04.png  \n",
            "  inflating: /content/sentences/r02/r02-013/r02-013-05.png  \n",
            "  inflating: /content/sentences/r02/r02-013/r02-013-06.png  \n",
            "  inflating: /content/sentences/r02/r02-013/r02-013-07.png  \n",
            "  inflating: /content/sentences/r02/r02-013/r02-013-08.png  \n",
            "  inflating: /content/sentences/r02/r02-013/r02-013-09.png  \n",
            "  inflating: /content/sentences/r02/r02-013/r02-013-10.png  \n",
            "  inflating: /content/sentences/r02/r02-013/r02-013-11.png  \n",
            "   creating: /content/sentences/r02/r02-038/\n",
            "  inflating: /content/sentences/r02/r02-038/r02-038-00.png  \n",
            "  inflating: /content/sentences/r02/r02-038/r02-038-01.png  \n",
            "  inflating: /content/sentences/r02/r02-038/r02-038-02.png  \n",
            "  inflating: /content/sentences/r02/r02-038/r02-038-03.png  \n",
            "  inflating: /content/sentences/r02/r02-038/r02-038-04.png  \n",
            "  inflating: /content/sentences/r02/r02-038/r02-038-05.png  \n",
            "  inflating: /content/sentences/r02/r02-038/r02-038-06.png  \n",
            "   creating: /content/sentences/r02/r02-054/\n",
            "  inflating: /content/sentences/r02/r02-054/r02-054-00.png  \n",
            "  inflating: /content/sentences/r02/r02-054/r02-054-01.png  \n",
            "  inflating: /content/sentences/r02/r02-054/r02-054-02.png  \n",
            "  inflating: /content/sentences/r02/r02-054/r02-054-03.png  \n",
            "  inflating: /content/sentences/r02/r02-054/r02-054-04.png  \n",
            "  inflating: /content/sentences/r02/r02-054/r02-054-05.png  \n",
            "  inflating: /content/sentences/r02/r02-054/r02-054-06.png  \n",
            "   creating: /content/sentences/r02/r02-060/\n",
            "  inflating: /content/sentences/r02/r02-060/r02-060-00.png  \n",
            "  inflating: /content/sentences/r02/r02-060/r02-060-01.png  \n",
            "  inflating: /content/sentences/r02/r02-060/r02-060-02.png  \n",
            "  inflating: /content/sentences/r02/r02-060/r02-060-03.png  \n",
            "  inflating: /content/sentences/r02/r02-060/r02-060-04.png  \n",
            "  inflating: /content/sentences/r02/r02-060/r02-060-05.png  \n",
            "  inflating: /content/sentences/r02/r02-060/r02-060-06.png  \n",
            "  inflating: /content/sentences/r02/r02-060/r02-060-07.png  \n",
            "  inflating: /content/sentences/r02/r02-060/r02-060-08.png  \n",
            "  inflating: /content/sentences/r02/r02-060/r02-060-09.png  \n",
            "  inflating: /content/sentences/r02/r02-060/r02-060-10.png  \n",
            "   creating: /content/sentences/r02/r02-065/\n",
            "  inflating: /content/sentences/r02/r02-065/r02-065-00.png  \n",
            "  inflating: /content/sentences/r02/r02-065/r02-065-01.png  \n",
            "  inflating: /content/sentences/r02/r02-065/r02-065-02.png  \n",
            "  inflating: /content/sentences/r02/r02-065/r02-065-03.png  \n",
            "  inflating: /content/sentences/r02/r02-065/r02-065-04.png  \n",
            "  inflating: /content/sentences/r02/r02-065/r02-065-05.png  \n",
            "  inflating: /content/sentences/r02/r02-065/r02-065-06.png  \n",
            "  inflating: /content/sentences/r02/r02-065/r02-065-07.png  \n",
            "   creating: /content/sentences/r02/r02-070/\n",
            "  inflating: /content/sentences/r02/r02-070/r02-070-00.png  \n",
            "  inflating: /content/sentences/r02/r02-070/r02-070-01.png  \n",
            "  inflating: /content/sentences/r02/r02-070/r02-070-02.png  \n",
            "  inflating: /content/sentences/r02/r02-070/r02-070-03.png  \n",
            "  inflating: /content/sentences/r02/r02-070/r02-070-04.png  \n",
            "  inflating: /content/sentences/r02/r02-070/r02-070-05.png  \n",
            "  inflating: /content/sentences/r02/r02-070/r02-070-06.png  \n",
            "   creating: /content/sentences/r02/r02-078/\n",
            "  inflating: /content/sentences/r02/r02-078/r02-078-00.png  \n",
            "  inflating: /content/sentences/r02/r02-078/r02-078-01.png  \n",
            "  inflating: /content/sentences/r02/r02-078/r02-078-02.png  \n",
            "  inflating: /content/sentences/r02/r02-078/r02-078-03.png  \n",
            "  inflating: /content/sentences/r02/r02-078/r02-078-04.png  \n",
            "  inflating: /content/sentences/r02/r02-078/r02-078-05.png  \n",
            "  inflating: /content/sentences/r02/r02-078/r02-078-06.png  \n",
            "  inflating: /content/sentences/r02/r02-078/r02-078-07.png  \n",
            "   creating: /content/sentences/r02/r02-081/\n",
            "  inflating: /content/sentences/r02/r02-081/r02-081-00.png  \n",
            "  inflating: /content/sentences/r02/r02-081/r02-081-01.png  \n",
            "  inflating: /content/sentences/r02/r02-081/r02-081-02.png  \n",
            "  inflating: /content/sentences/r02/r02-081/r02-081-03.png  \n",
            "  inflating: /content/sentences/r02/r02-081/r02-081-04.png  \n",
            "  inflating: /content/sentences/r02/r02-081/r02-081-05.png  \n",
            "  inflating: /content/sentences/r02/r02-081/r02-081-06.png  \n",
            "  inflating: /content/sentences/r02/r02-081/r02-081-07.png  \n",
            "   creating: /content/sentences/r02/r02-089/\n",
            "  inflating: /content/sentences/r02/r02-089/r02-089-00.png  \n",
            "  inflating: /content/sentences/r02/r02-089/r02-089-01.png  \n",
            "  inflating: /content/sentences/r02/r02-089/r02-089-02.png  \n",
            "  inflating: /content/sentences/r02/r02-089/r02-089-03.png  \n",
            "  inflating: /content/sentences/r02/r02-089/r02-089-04.png  \n",
            "  inflating: /content/sentences/r02/r02-089/r02-089-05.png  \n",
            "  inflating: /content/sentences/r02/r02-089/r02-089-06.png  \n",
            "  inflating: /content/sentences/r02/r02-089/r02-089-07.png  \n",
            "  inflating: /content/sentences/r02/r02-089/r02-089-08.png  \n",
            "  inflating: /content/sentences/r02/r02-089/r02-089-09.png  \n",
            "  inflating: /content/sentences/r02/r02-089/r02-089-10.png  \n",
            "   creating: /content/sentences/r02/r02-109/\n",
            "  inflating: /content/sentences/r02/r02-109/r02-109-00.png  \n",
            "  inflating: /content/sentences/r02/r02-109/r02-109-01.png  \n",
            "  inflating: /content/sentences/r02/r02-109/r02-109-02.png  \n",
            "  inflating: /content/sentences/r02/r02-109/r02-109-03.png  \n",
            "  inflating: /content/sentences/r02/r02-109/r02-109-04.png  \n",
            "  inflating: /content/sentences/r02/r02-109/r02-109-05.png  \n",
            "  inflating: /content/sentences/r02/r02-109/r02-109-06.png  \n",
            "  inflating: /content/sentences/r02/r02-109/r02-109-07.png  \n",
            "  inflating: /content/sentences/r02/r02-109/r02-109-08.png  \n",
            "  inflating: /content/sentences/r02/r02-109/r02-109-09.png  \n",
            "   creating: /content/sentences/r02/r02-117/\n",
            "  inflating: /content/sentences/r02/r02-117/r02-117-00.png  \n",
            "  inflating: /content/sentences/r02/r02-117/r02-117-01.png  \n",
            "  inflating: /content/sentences/r02/r02-117/r02-117-02.png  \n",
            "  inflating: /content/sentences/r02/r02-117/r02-117-03.png  \n",
            "  inflating: /content/sentences/r02/r02-117/r02-117-04.png  \n",
            "  inflating: /content/sentences/r02/r02-117/r02-117-05.png  \n",
            "  inflating: /content/sentences/r02/r02-117/r02-117-06.png  \n",
            " extracting: /content/sentences/r02/r02-117/r02-117-07.png  \n",
            "   creating: /content/sentences/r02/r02-127/\n",
            "  inflating: /content/sentences/r02/r02-127/r02-127-00.png  \n",
            "  inflating: /content/sentences/r02/r02-127/r02-127-01.png  \n",
            "  inflating: /content/sentences/r02/r02-127/r02-127-02.png  \n",
            "  inflating: /content/sentences/r02/r02-127/r02-127-03.png  \n",
            "  inflating: /content/sentences/r02/r02-127/r02-127-04.png  \n",
            "  inflating: /content/sentences/r02/r02-127/r02-127-05.png  \n",
            "   creating: /content/sentences/r02/r02-131/\n",
            "  inflating: /content/sentences/r02/r02-131/r02-131-00.png  \n",
            "  inflating: /content/sentences/r02/r02-131/r02-131-01.png  \n",
            "  inflating: /content/sentences/r02/r02-131/r02-131-02.png  \n",
            "  inflating: /content/sentences/r02/r02-131/r02-131-03.png  \n",
            "  inflating: /content/sentences/r02/r02-131/r02-131-04.png  \n",
            "  inflating: /content/sentences/r02/r02-131/r02-131-05.png  \n",
            "   creating: /content/sentences/r02/r02-137/\n",
            "  inflating: /content/sentences/r02/r02-137/r02-137-00.png  \n",
            "  inflating: /content/sentences/r02/r02-137/r02-137-01.png  \n",
            "  inflating: /content/sentences/r02/r02-137/r02-137-02.png  \n",
            "  inflating: /content/sentences/r02/r02-137/r02-137-03.png  \n",
            "  inflating: /content/sentences/r02/r02-137/r02-137-04.png  \n",
            "  inflating: /content/sentences/r02/r02-137/r02-137-05.png  \n",
            "  inflating: /content/sentences/r02/r02-137/r02-137-06.png  \n",
            "  inflating: /content/sentences/r02/r02-137/r02-137-07.png  \n",
            "  inflating: /content/sentences/r02/r02-137/r02-137-08.png  \n",
            "   creating: /content/sentences/r02/r02-146/\n",
            "  inflating: /content/sentences/r02/r02-146/r02-146-00.png  \n",
            "  inflating: /content/sentences/r02/r02-146/r02-146-01.png  \n",
            "  inflating: /content/sentences/r02/r02-146/r02-146-02.png  \n",
            "  inflating: /content/sentences/r02/r02-146/r02-146-03.png  \n",
            "  inflating: /content/sentences/r02/r02-146/r02-146-04.png  \n",
            "  inflating: /content/sentences/r02/r02-146/r02-146-05.png  \n",
            "   creating: /content/sentences/r03/\n",
            "   creating: /content/sentences/r03/r03-002/\n",
            "  inflating: /content/sentences/r03/r03-002/r03-002-00.png  \n",
            "  inflating: /content/sentences/r03/r03-002/r03-002-01.png  \n",
            "  inflating: /content/sentences/r03/r03-002/r03-002-02.png  \n",
            "  inflating: /content/sentences/r03/r03-002/r03-002-03.png  \n",
            "  inflating: /content/sentences/r03/r03-002/r03-002-04.png  \n",
            "  inflating: /content/sentences/r03/r03-002/r03-002-05.png  \n",
            "  inflating: /content/sentences/r03/r03-002/r03-002-06.png  \n",
            "  inflating: /content/sentences/r03/r03-002/r03-002-07.png  \n",
            "  inflating: /content/sentences/r03/r03-002/r03-002-08.png  \n",
            "  inflating: /content/sentences/r03/r03-002/r03-002-09.png  \n",
            "   creating: /content/sentences/r03/r03-007/\n",
            "  inflating: /content/sentences/r03/r03-007/r03-007-00.png  \n",
            "  inflating: /content/sentences/r03/r03-007/r03-007-01.png  \n",
            "  inflating: /content/sentences/r03/r03-007/r03-007-02.png  \n",
            "  inflating: /content/sentences/r03/r03-007/r03-007-03.png  \n",
            "  inflating: /content/sentences/r03/r03-007/r03-007-04.png  \n",
            "  inflating: /content/sentences/r03/r03-007/r03-007-05.png  \n",
            "  inflating: /content/sentences/r03/r03-007/r03-007-06.png  \n",
            "  inflating: /content/sentences/r03/r03-007/r03-007-07.png  \n",
            " extracting: /content/sentences/r03/r03-007/r03-007-08.png  \n",
            "   creating: /content/sentences/r03/r03-026/\n",
            "  inflating: /content/sentences/r03/r03-026/r03-026-00.png  \n",
            "  inflating: /content/sentences/r03/r03-026/r03-026-01.png  \n",
            "  inflating: /content/sentences/r03/r03-026/r03-026-02.png  \n",
            "  inflating: /content/sentences/r03/r03-026/r03-026-03.png  \n",
            "  inflating: /content/sentences/r03/r03-026/r03-026-04.png  \n",
            "  inflating: /content/sentences/r03/r03-026/r03-026-05.png  \n",
            "  inflating: /content/sentences/r03/r03-026/r03-026-06.png  \n",
            "  inflating: /content/sentences/r03/r03-026/r03-026-07.png  \n",
            "  inflating: /content/sentences/r03/r03-026/r03-026-08.png  \n",
            "  inflating: /content/sentences/r03/r03-026/r03-026-09.png  \n",
            "  inflating: /content/sentences/r03/r03-026/r03-026-10.png  \n",
            "   creating: /content/sentences/r03/r03-030/\n",
            "  inflating: /content/sentences/r03/r03-030/r03-030-00.png  \n",
            "  inflating: /content/sentences/r03/r03-030/r03-030-01.png  \n",
            "  inflating: /content/sentences/r03/r03-030/r03-030-02.png  \n",
            "  inflating: /content/sentences/r03/r03-030/r03-030-03.png  \n",
            "  inflating: /content/sentences/r03/r03-030/r03-030-04.png  \n",
            "  inflating: /content/sentences/r03/r03-030/r03-030-05.png  \n",
            "  inflating: /content/sentences/r03/r03-030/r03-030-06.png  \n",
            "   creating: /content/sentences/r03/r03-035/\n",
            "  inflating: /content/sentences/r03/r03-035/r03-035-00.png  \n",
            "  inflating: /content/sentences/r03/r03-035/r03-035-01.png  \n",
            "  inflating: /content/sentences/r03/r03-035/r03-035-02.png  \n",
            "  inflating: /content/sentences/r03/r03-035/r03-035-03.png  \n",
            "  inflating: /content/sentences/r03/r03-035/r03-035-04.png  \n",
            "  inflating: /content/sentences/r03/r03-035/r03-035-05.png  \n",
            "  inflating: /content/sentences/r03/r03-035/r03-035-06.png  \n",
            "  inflating: /content/sentences/r03/r03-035/r03-035-07.png  \n",
            "  inflating: /content/sentences/r03/r03-035/r03-035-08.png  \n",
            "   creating: /content/sentences/r03/r03-050/\n",
            "  inflating: /content/sentences/r03/r03-050/r03-050-00.png  \n",
            "  inflating: /content/sentences/r03/r03-050/r03-050-01.png  \n",
            "  inflating: /content/sentences/r03/r03-050/r03-050-02.png  \n",
            "  inflating: /content/sentences/r03/r03-050/r03-050-03.png  \n",
            "  inflating: /content/sentences/r03/r03-050/r03-050-04.png  \n",
            "  inflating: /content/sentences/r03/r03-050/r03-050-05.png  \n",
            "  inflating: /content/sentences/r03/r03-050/r03-050-06.png  \n",
            "   creating: /content/sentences/r03/r03-053/\n",
            "  inflating: /content/sentences/r03/r03-053/r03-053-00.png  \n",
            "  inflating: /content/sentences/r03/r03-053/r03-053-01.png  \n",
            "  inflating: /content/sentences/r03/r03-053/r03-053-02.png  \n",
            "  inflating: /content/sentences/r03/r03-053/r03-053-03.png  \n",
            "  inflating: /content/sentences/r03/r03-053/r03-053-04.png  \n",
            "  inflating: /content/sentences/r03/r03-053/r03-053-05.png  \n",
            "  inflating: /content/sentences/r03/r03-053/r03-053-06.png  \n",
            "  inflating: /content/sentences/r03/r03-053/r03-053-07.png  \n",
            "  inflating: /content/sentences/r03/r03-053/r03-053-08.png  \n",
            "   creating: /content/sentences/r03/r03-056/\n",
            "  inflating: /content/sentences/r03/r03-056/r03-056-00.png  \n",
            "  inflating: /content/sentences/r03/r03-056/r03-056-01.png  \n",
            "  inflating: /content/sentences/r03/r03-056/r03-056-02.png  \n",
            "  inflating: /content/sentences/r03/r03-056/r03-056-03.png  \n",
            "  inflating: /content/sentences/r03/r03-056/r03-056-04.png  \n",
            "  inflating: /content/sentences/r03/r03-056/r03-056-05.png  \n",
            "  inflating: /content/sentences/r03/r03-056/r03-056-06.png  \n",
            "  inflating: /content/sentences/r03/r03-056/r03-056-07.png  \n",
            "   creating: /content/sentences/r03/r03-065/\n",
            "  inflating: /content/sentences/r03/r03-065/r03-065-00.png  \n",
            "  inflating: /content/sentences/r03/r03-065/r03-065-01.png  \n",
            "  inflating: /content/sentences/r03/r03-065/r03-065-02.png  \n",
            "  inflating: /content/sentences/r03/r03-065/r03-065-03.png  \n",
            "  inflating: /content/sentences/r03/r03-065/r03-065-04.png  \n",
            "  inflating: /content/sentences/r03/r03-065/r03-065-05.png  \n",
            "  inflating: /content/sentences/r03/r03-065/r03-065-06.png  \n",
            " extracting: /content/sentences/r03/r03-065/r03-065-07.png  \n",
            "   creating: /content/sentences/r03/r03-084/\n",
            "  inflating: /content/sentences/r03/r03-084/r03-084-00.png  \n",
            "  inflating: /content/sentences/r03/r03-084/r03-084-01.png  \n",
            "  inflating: /content/sentences/r03/r03-084/r03-084-02.png  \n",
            "  inflating: /content/sentences/r03/r03-084/r03-084-03.png  \n",
            "  inflating: /content/sentences/r03/r03-084/r03-084-04.png  \n",
            "  inflating: /content/sentences/r03/r03-084/r03-084-05.png  \n",
            "  inflating: /content/sentences/r03/r03-084/r03-084-06.png  \n",
            "  inflating: /content/sentences/r03/r03-084/r03-084-07.png  \n",
            "  inflating: /content/sentences/r03/r03-084/r03-084-08.png  \n",
            "  inflating: /content/sentences/r03/r03-084/r03-084-09.png  \n",
            "   creating: /content/sentences/r03/r03-090/\n",
            "  inflating: /content/sentences/r03/r03-090/r03-090-00.png  \n",
            "  inflating: /content/sentences/r03/r03-090/r03-090-01.png  \n",
            "  inflating: /content/sentences/r03/r03-090/r03-090-02.png  \n",
            "  inflating: /content/sentences/r03/r03-090/r03-090-03.png  \n",
            "  inflating: /content/sentences/r03/r03-090/r03-090-04.png  \n",
            "  inflating: /content/sentences/r03/r03-090/r03-090-05.png  \n",
            "  inflating: /content/sentences/r03/r03-090/r03-090-06.png  \n",
            "   creating: /content/sentences/r03/r03-096/\n",
            "  inflating: /content/sentences/r03/r03-096/r03-096-00.png  \n",
            "  inflating: /content/sentences/r03/r03-096/r03-096-01.png  \n",
            "  inflating: /content/sentences/r03/r03-096/r03-096-02.png  \n",
            "  inflating: /content/sentences/r03/r03-096/r03-096-03.png  \n",
            "  inflating: /content/sentences/r03/r03-096/r03-096-04.png  \n",
            "  inflating: /content/sentences/r03/r03-096/r03-096-05.png  \n",
            "  inflating: /content/sentences/r03/r03-096/r03-096-06.png  \n",
            "   creating: /content/sentences/r03/r03-110/\n",
            "  inflating: /content/sentences/r03/r03-110/r03-110-00.png  \n",
            "  inflating: /content/sentences/r03/r03-110/r03-110-01.png  \n",
            "  inflating: /content/sentences/r03/r03-110/r03-110-02.png  \n",
            "  inflating: /content/sentences/r03/r03-110/r03-110-03.png  \n",
            "  inflating: /content/sentences/r03/r03-110/r03-110-04.png  \n",
            "  inflating: /content/sentences/r03/r03-110/r03-110-05.png  \n",
            "  inflating: /content/sentences/r03/r03-110/r03-110-06.png  \n",
            "  inflating: /content/sentences/r03/r03-110/r03-110-07.png  \n",
            "  inflating: /content/sentences/r03/r03-110/r03-110-08.png  \n",
            "  inflating: /content/sentences/r03/r03-110/r03-110-09.png  \n",
            "   creating: /content/sentences/r03/r03-115/\n",
            "  inflating: /content/sentences/r03/r03-115/r03-115-00.png  \n",
            "  inflating: /content/sentences/r03/r03-115/r03-115-01.png  \n",
            "  inflating: /content/sentences/r03/r03-115/r03-115-02.png  \n",
            "  inflating: /content/sentences/r03/r03-115/r03-115-03.png  \n",
            "   creating: /content/sentences/r06/\n",
            "   creating: /content/sentences/r06/r06-000/\n",
            "  inflating: /content/sentences/r06/r06-000/r06-000-00.png  \n",
            "  inflating: /content/sentences/r06/r06-000/r06-000-01.png  \n",
            "  inflating: /content/sentences/r06/r06-000/r06-000-02.png  \n",
            "  inflating: /content/sentences/r06/r06-000/r06-000-03.png  \n",
            "  inflating: /content/sentences/r06/r06-000/r06-000-04.png  \n",
            "  inflating: /content/sentences/r06/r06-000/r06-000-05.png  \n",
            "   creating: /content/sentences/r06/r06-003/\n",
            "  inflating: /content/sentences/r06/r06-003/r06-003-00.png  \n",
            "  inflating: /content/sentences/r06/r06-003/r06-003-01.png  \n",
            "  inflating: /content/sentences/r06/r06-003/r06-003-02.png  \n",
            "  inflating: /content/sentences/r06/r06-003/r06-003-03.png  \n",
            "  inflating: /content/sentences/r06/r06-003/r06-003-04.png  \n",
            "  inflating: /content/sentences/r06/r06-003/r06-003-05.png  \n",
            "  inflating: /content/sentences/r06/r06-003/r06-003-06.png  \n",
            "  inflating: /content/sentences/r06/r06-003/r06-003-07.png  \n",
            "   creating: /content/sentences/r06/r06-007/\n",
            "  inflating: /content/sentences/r06/r06-007/r06-007-00.png  \n",
            "  inflating: /content/sentences/r06/r06-007/r06-007-01.png  \n",
            "  inflating: /content/sentences/r06/r06-007/r06-007-02.png  \n",
            "  inflating: /content/sentences/r06/r06-007/r06-007-03.png  \n",
            "  inflating: /content/sentences/r06/r06-007/r06-007-04.png  \n",
            "  inflating: /content/sentences/r06/r06-007/r06-007-05.png  \n",
            "  inflating: /content/sentences/r06/r06-007/r06-007-06.png  \n",
            "  inflating: /content/sentences/r06/r06-007/r06-007-07.png  \n",
            "   creating: /content/sentences/r06/r06-011/\n",
            "  inflating: /content/sentences/r06/r06-011/r06-011-00.png  \n",
            "  inflating: /content/sentences/r06/r06-011/r06-011-01.png  \n",
            "  inflating: /content/sentences/r06/r06-011/r06-011-02.png  \n",
            "  inflating: /content/sentences/r06/r06-011/r06-011-03.png  \n",
            "  inflating: /content/sentences/r06/r06-011/r06-011-04.png  \n",
            "  inflating: /content/sentences/r06/r06-011/r06-011-05.png  \n",
            "   creating: /content/sentences/r06/r06-018/\n",
            "  inflating: /content/sentences/r06/r06-018/r06-018-00.png  \n",
            "  inflating: /content/sentences/r06/r06-018/r06-018-01.png  \n",
            "  inflating: /content/sentences/r06/r06-018/r06-018-02.png  \n",
            "  inflating: /content/sentences/r06/r06-018/r06-018-03.png  \n",
            "  inflating: /content/sentences/r06/r06-018/r06-018-04.png  \n",
            "  inflating: /content/sentences/r06/r06-018/r06-018-05.png  \n",
            "  inflating: /content/sentences/r06/r06-018/r06-018-06.png  \n",
            "   creating: /content/sentences/r06/r06-022/\n",
            "  inflating: /content/sentences/r06/r06-022/r06-022-00.png  \n",
            "  inflating: /content/sentences/r06/r06-022/r06-022-01.png  \n",
            "  inflating: /content/sentences/r06/r06-022/r06-022-02.png  \n",
            "  inflating: /content/sentences/r06/r06-022/r06-022-03.png  \n",
            "  inflating: /content/sentences/r06/r06-022/r06-022-04.png  \n",
            "  inflating: /content/sentences/r06/r06-022/r06-022-05.png  \n",
            "  inflating: /content/sentences/r06/r06-022/r06-022-06.png  \n",
            " extracting: /content/sentences/r06/r06-022/r06-022-07.png  \n",
            "   creating: /content/sentences/r06/r06-027/\n",
            "  inflating: /content/sentences/r06/r06-027/r06-027-00.png  \n",
            "  inflating: /content/sentences/r06/r06-027/r06-027-01.png  \n",
            "  inflating: /content/sentences/r06/r06-027/r06-027-02.png  \n",
            "  inflating: /content/sentences/r06/r06-027/r06-027-03.png  \n",
            "  inflating: /content/sentences/r06/r06-027/r06-027-04.png  \n",
            "  inflating: /content/sentences/r06/r06-027/r06-027-05.png  \n",
            "  inflating: /content/sentences/r06/r06-027/r06-027-06.png  \n",
            "  inflating: /content/sentences/r06/r06-027/r06-027-07.png  \n",
            "   creating: /content/sentences/r06/r06-035/\n",
            "  inflating: /content/sentences/r06/r06-035/r06-035-00.png  \n",
            "  inflating: /content/sentences/r06/r06-035/r06-035-01.png  \n",
            "  inflating: /content/sentences/r06/r06-035/r06-035-02.png  \n",
            "  inflating: /content/sentences/r06/r06-035/r06-035-03.png  \n",
            "  inflating: /content/sentences/r06/r06-035/r06-035-04.png  \n",
            "  inflating: /content/sentences/r06/r06-035/r06-035-05.png  \n",
            "  inflating: /content/sentences/r06/r06-035/r06-035-06.png  \n",
            "   creating: /content/sentences/r06/r06-041/\n",
            "  inflating: /content/sentences/r06/r06-041/r06-041-00.png  \n",
            "  inflating: /content/sentences/r06/r06-041/r06-041-01.png  \n",
            "  inflating: /content/sentences/r06/r06-041/r06-041-02.png  \n",
            "  inflating: /content/sentences/r06/r06-041/r06-041-03.png  \n",
            "  inflating: /content/sentences/r06/r06-041/r06-041-04.png  \n",
            "  inflating: /content/sentences/r06/r06-041/r06-041-05.png  \n",
            "  inflating: /content/sentences/r06/r06-041/r06-041-06.png  \n",
            "  inflating: /content/sentences/r06/r06-041/r06-041-07.png  \n",
            "  inflating: /content/sentences/r06/r06-041/r06-041-08.png  \n",
            "   creating: /content/sentences/r06/r06-044/\n",
            "  inflating: /content/sentences/r06/r06-044/r06-044-00.png  \n",
            "  inflating: /content/sentences/r06/r06-044/r06-044-01.png  \n",
            "  inflating: /content/sentences/r06/r06-044/r06-044-02.png  \n",
            "  inflating: /content/sentences/r06/r06-044/r06-044-03.png  \n",
            "  inflating: /content/sentences/r06/r06-044/r06-044-04.png  \n",
            "  inflating: /content/sentences/r06/r06-044/r06-044-05.png  \n",
            "  inflating: /content/sentences/r06/r06-044/r06-044-06.png  \n",
            "  inflating: /content/sentences/r06/r06-044/r06-044-07.png  \n",
            "  inflating: /content/sentences/r06/r06-044/r06-044-08.png  \n",
            "  inflating: /content/sentences/r06/r06-044/r06-044-09.png  \n",
            "  inflating: /content/sentences/r06/r06-044/r06-044-10.png  \n",
            "   creating: /content/sentences/r06/r06-049/\n",
            "  inflating: /content/sentences/r06/r06-049/r06-049-00.png  \n",
            "  inflating: /content/sentences/r06/r06-049/r06-049-01.png  \n",
            "  inflating: /content/sentences/r06/r06-049/r06-049-02.png  \n",
            "  inflating: /content/sentences/r06/r06-049/r06-049-03.png  \n",
            "  inflating: /content/sentences/r06/r06-049/r06-049-04.png  \n",
            "  inflating: /content/sentences/r06/r06-049/r06-049-05.png  \n",
            "  inflating: /content/sentences/r06/r06-049/r06-049-06.png  \n",
            "  inflating: /content/sentences/r06/r06-049/r06-049-07.png  \n",
            "  inflating: /content/sentences/r06/r06-049/r06-049-08.png  \n",
            "  inflating: /content/sentences/r06/r06-049/r06-049-09.png  \n",
            "  inflating: /content/sentences/r06/r06-049/r06-049-10.png  \n",
            "   creating: /content/sentences/r06/r06-053/\n",
            "  inflating: /content/sentences/r06/r06-053/r06-053-00.png  \n",
            "  inflating: /content/sentences/r06/r06-053/r06-053-01.png  \n",
            "  inflating: /content/sentences/r06/r06-053/r06-053-02.png  \n",
            "  inflating: /content/sentences/r06/r06-053/r06-053-03.png  \n",
            "  inflating: /content/sentences/r06/r06-053/r06-053-04.png  \n",
            "  inflating: /content/sentences/r06/r06-053/r06-053-05.png  \n",
            "  inflating: /content/sentences/r06/r06-053/r06-053-06.png  \n",
            "  inflating: /content/sentences/r06/r06-053/r06-053-07.png  \n",
            "  inflating: /content/sentences/r06/r06-053/r06-053-08.png  \n",
            "  inflating: /content/sentences/r06/r06-053/r06-053-09.png  \n",
            "   creating: /content/sentences/r06/r06-057/\n",
            "  inflating: /content/sentences/r06/r06-057/r06-057-00.png  \n",
            "  inflating: /content/sentences/r06/r06-057/r06-057-01.png  \n",
            "  inflating: /content/sentences/r06/r06-057/r06-057-02.png  \n",
            "  inflating: /content/sentences/r06/r06-057/r06-057-03.png  \n",
            "  inflating: /content/sentences/r06/r06-057/r06-057-04.png  \n",
            "  inflating: /content/sentences/r06/r06-057/r06-057-05.png  \n",
            "  inflating: /content/sentences/r06/r06-057/r06-057-06.png  \n",
            "  inflating: /content/sentences/r06/r06-057/r06-057-07.png  \n",
            "  inflating: /content/sentences/r06/r06-057/r06-057-08.png  \n",
            "   creating: /content/sentences/r06/r06-062/\n",
            "  inflating: /content/sentences/r06/r06-062/r06-062-00.png  \n",
            "  inflating: /content/sentences/r06/r06-062/r06-062-01.png  \n",
            "  inflating: /content/sentences/r06/r06-062/r06-062-02.png  \n",
            "  inflating: /content/sentences/r06/r06-062/r06-062-03.png  \n",
            "  inflating: /content/sentences/r06/r06-062/r06-062-04.png  \n",
            "  inflating: /content/sentences/r06/r06-062/r06-062-05.png  \n",
            "  inflating: /content/sentences/r06/r06-062/r06-062-06.png  \n",
            "  inflating: /content/sentences/r06/r06-062/r06-062-07.png  \n",
            "  inflating: /content/sentences/r06/r06-062/r06-062-08.png  \n",
            "  inflating: /content/sentences/r06/r06-062/r06-062-09.png  \n",
            "   creating: /content/sentences/r06/r06-066/\n",
            "  inflating: /content/sentences/r06/r06-066/r06-066-00.png  \n",
            "  inflating: /content/sentences/r06/r06-066/r06-066-01.png  \n",
            "  inflating: /content/sentences/r06/r06-066/r06-066-02.png  \n",
            "  inflating: /content/sentences/r06/r06-066/r06-066-03.png  \n",
            "  inflating: /content/sentences/r06/r06-066/r06-066-04.png  \n",
            "  inflating: /content/sentences/r06/r06-066/r06-066-05.png  \n",
            "  inflating: /content/sentences/r06/r06-066/r06-066-06.png  \n",
            "  inflating: /content/sentences/r06/r06-066/r06-066-07.png  \n",
            "  inflating: /content/sentences/r06/r06-066/r06-066-08.png  \n",
            "  inflating: /content/sentences/r06/r06-066/r06-066-09.png  \n",
            "   creating: /content/sentences/r06/r06-070/\n",
            "  inflating: /content/sentences/r06/r06-070/r06-070-00.png  \n",
            "  inflating: /content/sentences/r06/r06-070/r06-070-01.png  \n",
            "  inflating: /content/sentences/r06/r06-070/r06-070-02.png  \n",
            "  inflating: /content/sentences/r06/r06-070/r06-070-03.png  \n",
            "  inflating: /content/sentences/r06/r06-070/r06-070-04.png  \n",
            "  inflating: /content/sentences/r06/r06-070/r06-070-05.png  \n",
            "  inflating: /content/sentences/r06/r06-070/r06-070-06.png  \n",
            "  inflating: /content/sentences/r06/r06-070/r06-070-07.png  \n",
            "  inflating: /content/sentences/r06/r06-070/r06-070-08.png  \n",
            "  inflating: /content/sentences/r06/r06-070/r06-070-09.png  \n",
            "   creating: /content/sentences/r06/r06-076/\n",
            "  inflating: /content/sentences/r06/r06-076/r06-076-00.png  \n",
            "  inflating: /content/sentences/r06/r06-076/r06-076-01.png  \n",
            "  inflating: /content/sentences/r06/r06-076/r06-076-02.png  \n",
            "  inflating: /content/sentences/r06/r06-076/r06-076-03.png  \n",
            "  inflating: /content/sentences/r06/r06-076/r06-076-04.png  \n",
            "  inflating: /content/sentences/r06/r06-076/r06-076-05.png  \n",
            "  inflating: /content/sentences/r06/r06-076/r06-076-06.png  \n",
            "  inflating: /content/sentences/r06/r06-076/r06-076-07.png  \n",
            "  inflating: /content/sentences/r06/r06-076/r06-076-08.png  \n",
            "   creating: /content/sentences/r06/r06-090/\n",
            "  inflating: /content/sentences/r06/r06-090/r06-090-00.png  \n",
            "  inflating: /content/sentences/r06/r06-090/r06-090-01.png  \n",
            "  inflating: /content/sentences/r06/r06-090/r06-090-02.png  \n",
            "  inflating: /content/sentences/r06/r06-090/r06-090-03.png  \n",
            "  inflating: /content/sentences/r06/r06-090/r06-090-04.png  \n",
            "  inflating: /content/sentences/r06/r06-090/r06-090-05.png  \n",
            "  inflating: /content/sentences/r06/r06-090/r06-090-06.png  \n",
            "  inflating: /content/sentences/r06/r06-090/r06-090-07.png  \n",
            "  inflating: /content/sentences/r06/r06-090/r06-090-08.png  \n",
            "  inflating: /content/sentences/r06/r06-090/r06-090-09.png  \n",
            "  inflating: /content/sentences/r06/r06-090/r06-090-10.png  \n",
            "   creating: /content/sentences/r06/r06-097/\n",
            "  inflating: /content/sentences/r06/r06-097/r06-097-00.png  \n",
            "  inflating: /content/sentences/r06/r06-097/r06-097-01.png  \n",
            "  inflating: /content/sentences/r06/r06-097/r06-097-02.png  \n",
            "  inflating: /content/sentences/r06/r06-097/r06-097-03.png  \n",
            "  inflating: /content/sentences/r06/r06-097/r06-097-04.png  \n",
            "  inflating: /content/sentences/r06/r06-097/r06-097-05.png  \n",
            "  inflating: /content/sentences/r06/r06-097/r06-097-06.png  \n",
            "  inflating: /content/sentences/r06/r06-097/r06-097-07.png  \n",
            "  inflating: /content/sentences/r06/r06-097/r06-097-08.png  \n",
            "  inflating: /content/sentences/r06/r06-097/r06-097-09.png  \n",
            "  inflating: /content/sentences/r06/r06-097/r06-097-10.png  \n",
            "   creating: /content/sentences/r06/r06-103/\n",
            "  inflating: /content/sentences/r06/r06-103/r06-103-00.png  \n",
            "  inflating: /content/sentences/r06/r06-103/r06-103-01.png  \n",
            "  inflating: /content/sentences/r06/r06-103/r06-103-02.png  \n",
            "  inflating: /content/sentences/r06/r06-103/r06-103-03.png  \n",
            "  inflating: /content/sentences/r06/r06-103/r06-103-04.png  \n",
            "  inflating: /content/sentences/r06/r06-103/r06-103-05.png  \n",
            "  inflating: /content/sentences/r06/r06-103/r06-103-06.png  \n",
            "  inflating: /content/sentences/r06/r06-103/r06-103-07.png  \n",
            "   creating: /content/sentences/r06/r06-106/\n",
            "  inflating: /content/sentences/r06/r06-106/r06-106-00.png  \n",
            "  inflating: /content/sentences/r06/r06-106/r06-106-01.png  \n",
            "  inflating: /content/sentences/r06/r06-106/r06-106-02.png  \n",
            "  inflating: /content/sentences/r06/r06-106/r06-106-03.png  \n",
            "  inflating: /content/sentences/r06/r06-106/r06-106-04.png  \n",
            "  inflating: /content/sentences/r06/r06-106/r06-106-05.png  \n",
            "  inflating: /content/sentences/r06/r06-106/r06-106-06.png  \n",
            "  inflating: /content/sentences/r06/r06-106/r06-106-07.png  \n",
            "  inflating: /content/sentences/r06/r06-106/r06-106-08.png  \n",
            " extracting: /content/sentences/r06/r06-106/r06-106-09.png  \n",
            "   creating: /content/sentences/r06/r06-111/\n",
            "  inflating: /content/sentences/r06/r06-111/r06-111-00.png  \n",
            "  inflating: /content/sentences/r06/r06-111/r06-111-01.png  \n",
            "  inflating: /content/sentences/r06/r06-111/r06-111-02.png  \n",
            "  inflating: /content/sentences/r06/r06-111/r06-111-03.png  \n",
            "  inflating: /content/sentences/r06/r06-111/r06-111-04.png  \n",
            "  inflating: /content/sentences/r06/r06-111/r06-111-05.png  \n",
            "  inflating: /content/sentences/r06/r06-111/r06-111-06.png  \n",
            "  inflating: /content/sentences/r06/r06-111/r06-111-07.png  \n",
            "  inflating: /content/sentences/r06/r06-111/r06-111-08.png  \n",
            "   creating: /content/sentences/r06/r06-115/\n",
            "  inflating: /content/sentences/r06/r06-115/r06-115-00.png  \n",
            "  inflating: /content/sentences/r06/r06-115/r06-115-01.png  \n",
            "  inflating: /content/sentences/r06/r06-115/r06-115-02.png  \n",
            "  inflating: /content/sentences/r06/r06-115/r06-115-03.png  \n",
            "  inflating: /content/sentences/r06/r06-115/r06-115-04.png  \n",
            "  inflating: /content/sentences/r06/r06-115/r06-115-05.png  \n",
            "  inflating: /content/sentences/r06/r06-115/r06-115-06.png  \n",
            "  inflating: /content/sentences/r06/r06-115/r06-115-07.png  \n",
            "  inflating: /content/sentences/r06/r06-115/r06-115-08.png  \n",
            "  inflating: /content/sentences/r06/r06-115/r06-115-09.png  \n",
            "  inflating: /content/sentences/r06/r06-115/r06-115-10.png  \n",
            "   creating: /content/sentences/r06/r06-121/\n",
            "  inflating: /content/sentences/r06/r06-121/r06-121-00.png  \n",
            "  inflating: /content/sentences/r06/r06-121/r06-121-01.png  \n",
            "  inflating: /content/sentences/r06/r06-121/r06-121-02.png  \n",
            "  inflating: /content/sentences/r06/r06-121/r06-121-03.png  \n",
            "  inflating: /content/sentences/r06/r06-121/r06-121-04.png  \n",
            "  inflating: /content/sentences/r06/r06-121/r06-121-05.png  \n",
            "  inflating: /content/sentences/r06/r06-121/r06-121-06.png  \n",
            "  inflating: /content/sentences/r06/r06-121/r06-121-07.png  \n",
            "  inflating: /content/sentences/r06/r06-121/r06-121-08.png  \n",
            "  inflating: /content/sentences/r06/r06-121/r06-121-09.png  \n",
            "  inflating: /content/sentences/r06/r06-121/r06-121-10.png  \n",
            "   creating: /content/sentences/r06/r06-126/\n",
            "  inflating: /content/sentences/r06/r06-126/r06-126-00.png  \n",
            "  inflating: /content/sentences/r06/r06-126/r06-126-01.png  \n",
            "  inflating: /content/sentences/r06/r06-126/r06-126-02.png  \n",
            "  inflating: /content/sentences/r06/r06-126/r06-126-03.png  \n",
            "  inflating: /content/sentences/r06/r06-126/r06-126-04.png  \n",
            "  inflating: /content/sentences/r06/r06-126/r06-126-05.png  \n",
            "  inflating: /content/sentences/r06/r06-126/r06-126-06.png  \n",
            "  inflating: /content/sentences/r06/r06-126/r06-126-07.png  \n",
            "  inflating: /content/sentences/r06/r06-126/r06-126-08.png  \n",
            "  inflating: /content/sentences/r06/r06-126/r06-126-09.png  \n",
            " extracting: /content/sentences/r06/r06-126/r06-126-10.png  \n",
            "   creating: /content/sentences/r06/r06-130/\n",
            "  inflating: /content/sentences/r06/r06-130/r06-130-00.png  \n",
            "  inflating: /content/sentences/r06/r06-130/r06-130-01.png  \n",
            "  inflating: /content/sentences/r06/r06-130/r06-130-02.png  \n",
            "  inflating: /content/sentences/r06/r06-130/r06-130-03.png  \n",
            "  inflating: /content/sentences/r06/r06-130/r06-130-04.png  \n",
            "  inflating: /content/sentences/r06/r06-130/r06-130-05.png  \n",
            "  inflating: /content/sentences/r06/r06-130/r06-130-06.png  \n",
            "  inflating: /content/sentences/r06/r06-130/r06-130-07.png  \n",
            "  inflating: /content/sentences/r06/r06-130/r06-130-08.png  \n",
            "  inflating: /content/sentences/r06/r06-130/r06-130-09.png  \n",
            "   creating: /content/sentences/r06/r06-137/\n",
            "  inflating: /content/sentences/r06/r06-137/r06-137-00.png  \n",
            "  inflating: /content/sentences/r06/r06-137/r06-137-01.png  \n",
            "  inflating: /content/sentences/r06/r06-137/r06-137-02.png  \n",
            "  inflating: /content/sentences/r06/r06-137/r06-137-03.png  \n",
            "  inflating: /content/sentences/r06/r06-137/r06-137-04.png  \n",
            "  inflating: /content/sentences/r06/r06-137/r06-137-05.png  \n",
            "  inflating: /content/sentences/r06/r06-137/r06-137-06.png  \n",
            "  inflating: /content/sentences/r06/r06-137/r06-137-07.png  \n",
            "  inflating: /content/sentences/r06/r06-137/r06-137-08.png  \n",
            "  inflating: /content/sentences/r06/r06-137/r06-137-09.png  \n",
            " extracting: /content/sentences/r06/r06-137/r06-137-10.png  \n",
            "   creating: /content/sentences/r06/r06-143/\n",
            "  inflating: /content/sentences/r06/r06-143/r06-143-00.png  \n",
            "  inflating: /content/sentences/r06/r06-143/r06-143-01.png  \n",
            "  inflating: /content/sentences/r06/r06-143/r06-143-02.png  \n",
            "  inflating: /content/sentences/r06/r06-143/r06-143-03.png  \n",
            "  inflating: /content/sentences/r06/r06-143/r06-143-04.png  \n"
          ]
        }
      ],
      "source": [
        "# %cd drive/MyDrive/HSR\\ -\\ Chocosy\n",
        "!ls\n",
        "!unzip \"/content/drive/MyDrive/AIT301 - HSR/data/sentences.zip\" -d \"/content\""
      ]
    },
    {
      "cell_type": "code",
      "execution_count": 6,
      "metadata": {
        "id": "1svNpvSAp0Cj"
      },
      "outputs": [],
      "source": [
        "# %cd\n",
        "data_label_path = \"/content/drive/MyDrive/AIT301 - HSR/data/lines.txt\"\n",
        "data_folder_path = \"/content/sentences\""
      ]
    },
    {
      "cell_type": "code",
      "execution_count": 7,
      "metadata": {
        "colab": {
          "base_uri": "https://localhost:8080/"
        },
        "id": "-KbruZTMp0Cl",
        "outputId": "98cb6900-a0a2-4a15-9b16-7b303cbcd9e5"
      },
      "outputs": [
        {
          "name": "stderr",
          "output_type": "stream",
          "text": [
            "100%|██████████| 13376/13376 [00:00<00:00, 82188.73it/s]\n"
          ]
        }
      ],
      "source": [
        "dataset, vocab, max_len = [], set(), 0\n",
        "words = open(data_label_path, \"r\").readlines()\n",
        "\n",
        "for line in tqdm(words):\n",
        "    # if len(dataset) == 2000:\n",
        "    #   break\n",
        "\n",
        "    if line.startswith('#'):\n",
        "        continue\n",
        "\n",
        "    line_split = line.split(\" \")\n",
        "\n",
        "    #remember to calculate the number of err lines to compare with the total numbers of sentences in the dataset\n",
        "    if line_split[2] == 'err':\n",
        "        continue\n",
        "\n",
        "    folder1 = line_split[0][:3]\n",
        "    folder2 = '-'.join(line_split[0].split(\"-\")[:2])\n",
        "    file_name = line_split[0] + \".png\"\n",
        "    label = line_split[-1].rstrip('\\n')\n",
        "\n",
        "    label = label.replace('|', \" \")\n",
        "\n",
        "    relative_path = os.path.join(data_folder_path, folder1, folder2, file_name)\n",
        "\n",
        "    if not os.path.exists(relative_path):\n",
        "        print(f\"File not found: {relative_path}\")\n",
        "        continue\n",
        "\n",
        "    dataset.append([relative_path, label])\n",
        "\n",
        "    # vocab.update(list(label))\n",
        "    # max_len = max(max_len, len(label))"
      ]
    },
    {
      "cell_type": "code",
      "execution_count": 21,
      "metadata": {
        "colab": {
          "base_uri": "https://localhost:8080/"
        },
        "id": "kyEiCJlKuS1n",
        "outputId": "db6e805a-5b58-40c6-a2f4-7d7f283ff014"
      },
      "outputs": [
        {
          "name": "stdout",
          "output_type": "stream",
          "text": [
            "2500\n",
            "77\n"
          ]
        }
      ],
      "source": [
        "import random\n",
        "\n",
        "# random.seed(0) #make sure every shuffle of dataset is the same\n",
        "# dataset = random.sample(dataset, len(dataset))[:2500] #decrease the size of dataset\n",
        "dataset = dataset[:2500]\n",
        "for path, label in dataset:\n",
        "    vocab.update(list(label))\n",
        "    max_len = max(max_len, len(label))\n",
        "print(len(dataset))\n",
        "print(len(vocab))"
      ]
    },
    {
      "cell_type": "code",
      "execution_count": 9,
      "metadata": {
        "id": "1gjt0UUGp0Cn"
      },
      "outputs": [],
      "source": [
        "import os\n",
        "from datetime import datetime\n",
        "\n",
        "from mltu.configs import BaseModelConfigs\n",
        "\n",
        "class MyModelConfigurations(BaseModelConfigs):\n",
        "    def __init__(self):\n",
        "        super().__init__()\n",
        "\n",
        "        self.model_path = os.path.join(\"Models/Sentence_recognition\", datetime.strftime(datetime.now(), \"%Y%m%d%H%M\"))\n",
        "        self.vocab = \"\"\n",
        "        self.height = 96\n",
        "        self.width = 1408\n",
        "        self.max_text_length = 0\n",
        "        self.batch_size = 32\n",
        "        self.learning_rate = 0.0005\n",
        "        self.train_epochs = 100\n",
        "        self.train_workers = 20"
      ]
    },
    {
      "cell_type": "code",
      "execution_count": 26,
      "metadata": {
        "colab": {
          "base_uri": "https://localhost:8080/"
        },
        "id": "GCpvLrAep0Co",
        "outputId": "d8418864-96f1-443e-c1c2-b220c45aa5e5"
      },
      "outputs": [
        {
          "name": "stdout",
          "output_type": "stream",
          "text": [
            "77\n",
            "77\n",
            "74\n"
          ]
        }
      ],
      "source": [
        "configs = MyModelConfigurations()\n",
        "\n",
        "# tmp = \"E/R9Cd?3F#vMhz*rISVOs0n1o7f(mwLe-QPt,:pDuH4G\\\"g!WZ5jNy8kxYJqX\\'lcU)A;2.bTKB6 ai\"\n",
        "# print(len(tmp))\n",
        "# print(len(vocab))\n",
        "print(max_len)\n",
        "\n",
        "configs.vocab = \"\".join(tmp)\n",
        "configs.max_text_length = max_len\n",
        "configs.save()"
      ]
    },
    {
      "cell_type": "code",
      "execution_count": 27,
      "metadata": {
        "id": "Wa62ohD2p0Cp"
      },
      "outputs": [],
      "source": [
        "data_provider = DataProvider(\n",
        "    dataset = dataset,\n",
        "    skip_validation = True,\n",
        "    batch_size = configs.batch_size,\n",
        "    data_preprocessors = [ImageReader(CVImage)],\n",
        "    transformers = [\n",
        "        ImageResizer(configs.width, configs.height, keep_aspect_ratio = True),\n",
        "        LabelIndexer(configs.vocab),\n",
        "        LabelPadding(max_word_length = configs.max_text_length, padding_value = len(configs.vocab))\n",
        "    ]\n",
        ")\n",
        "\n",
        "train_data_provider, validate_data_provider = data_provider.split(split = 0.9)\n",
        "train_data_provider.augmentors = [\n",
        "    RandomBrightness(),\n",
        "    RandomErodeDilate(),\n",
        "    RandomSharpen()\n",
        "]"
      ]
    },
    {
      "cell_type": "code",
      "execution_count": 1,
      "metadata": {
        "id": "54Tj-KB0p0Cq"
      },
      "outputs": [
        {
          "ename": "ModuleNotFoundError",
          "evalue": "No module named 'keras'",
          "output_type": "error",
          "traceback": [
            "\u001b[1;31m---------------------------------------------------------------------------\u001b[0m",
            "\u001b[1;31mModuleNotFoundError\u001b[0m                       Traceback (most recent call last)",
            "Cell \u001b[1;32mIn[1], line 1\u001b[0m\n\u001b[1;32m----> 1\u001b[0m \u001b[39mfrom\u001b[39;00m \u001b[39mkeras\u001b[39;00m \u001b[39mimport\u001b[39;00m layers\n\u001b[0;32m      2\u001b[0m \u001b[39mfrom\u001b[39;00m \u001b[39mkeras\u001b[39;00m\u001b[39m.\u001b[39;00m\u001b[39mmodels\u001b[39;00m \u001b[39mimport\u001b[39;00m Model\n\u001b[0;32m      4\u001b[0m \u001b[39mfrom\u001b[39;00m \u001b[39mmltu\u001b[39;00m\u001b[39m.\u001b[39;00m\u001b[39mtensorflow\u001b[39;00m\u001b[39m.\u001b[39;00m\u001b[39mmodel_utils\u001b[39;00m \u001b[39mimport\u001b[39;00m residual_block\n",
            "\u001b[1;31mModuleNotFoundError\u001b[0m: No module named 'keras'"
          ]
        }
      ],
      "source": [
        "from keras import layers\n",
        "from keras.models import Model\n",
        "\n",
        "from mltu.tensorflow.model_utils import residual_block\n",
        "\n",
        "\n",
        "def train_model(input_dim, output_dim, activation=\"leaky_relu\", dropout=0.2):\n",
        "\n",
        "    inputs = layers.Input(shape=input_dim, name=\"input\")\n",
        "\n",
        "    # normalize images here instead in preprocessing step\n",
        "    input = layers.Lambda(lambda x: x / 255)(inputs)\n",
        "\n",
        "    x1 = residual_block(input, 32, activation=activation, skip_conv=True, strides=1, dropout=dropout)\n",
        "\n",
        "    x2 = residual_block(x1, 32, activation=activation, skip_conv=True, strides=2, dropout=dropout)\n",
        "    x3 = residual_block(x2, 32, activation=activation, skip_conv=False, strides=1, dropout=dropout)\n",
        "\n",
        "    x4 = residual_block(x3, 64, activation=activation, skip_conv=True, strides=2, dropout=dropout)\n",
        "    x5 = residual_block(x4, 64, activation=activation, skip_conv=False, strides=1, dropout=dropout)\n",
        "\n",
        "    x6 = residual_block(x5, 128, activation=activation, skip_conv=True, strides=2, dropout=dropout)\n",
        "    x7 = residual_block(x6, 128, activation=activation, skip_conv=True, strides=1, dropout=dropout)\n",
        "\n",
        "    x8 = residual_block(x7, 128, activation=activation, skip_conv=True, strides=2, dropout=dropout)\n",
        "    x9 = residual_block(x8, 128, activation=activation, skip_conv=False, strides=1, dropout=dropout)\n",
        "\n",
        "    squeezed = layers.Reshape((x9.shape[-3] * x9.shape[-2], x9.shape[-1]))(x9)\n",
        "\n",
        "    blstm = layers.Bidirectional(layers.LSTM(256, return_sequences=True))(squeezed)\n",
        "    blstm = layers.Dropout(dropout)(blstm)\n",
        "\n",
        "    # blstm = layers.Bidirectional(layers.LSTM(128, return_sequences=True))(squeezed)\n",
        "    # blstm = layers.Dropout(dropout)(blstm)\n",
        "\n",
        "    blstm = layers.Bidirectional(layers.LSTM(64, return_sequences=True))(blstm)\n",
        "    blstm = layers.Dropout(dropout)(blstm)\n",
        "\n",
        "    output = layers.Dense(output_dim + 1, activation=\"softmax\", name=\"output\")(blstm)\n",
        "\n",
        "    model = Model(inputs=inputs, outputs=output)\n",
        "    return model"
      ]
    },
    {
      "cell_type": "code",
      "execution_count": 29,
      "metadata": {
        "colab": {
          "base_uri": "https://localhost:8080/"
        },
        "id": "OyEvArQTp0Cr",
        "outputId": "79551651-abd3-48b8-be17-a8a9850db382"
      },
      "outputs": [
        {
          "name": "stdout",
          "output_type": "stream",
          "text": [
            "Model: \"model_1\"\n",
            "__________________________________________________________________________________________________\n",
            " Layer (type)                   Output Shape         Param #     Connected to                     \n",
            "==================================================================================================\n",
            " input (InputLayer)             [(None, 96, 1408, 3  0           []                               \n",
            "                                )]                                                                \n",
            "                                                                                                  \n",
            " lambda_1 (Lambda)              (None, 96, 1408, 3)  0           ['input[0][0]']                  \n",
            "                                                                                                  \n",
            " conv2d_24 (Conv2D)             (None, 96, 1408, 32  896         ['lambda_1[0][0]']               \n",
            "                                )                                                                 \n",
            "                                                                                                  \n",
            " batch_normalization_18 (BatchN  (None, 96, 1408, 32  128        ['conv2d_24[0][0]']              \n",
            " ormalization)                  )                                                                 \n",
            "                                                                                                  \n",
            " leaky_re_lu_18 (LeakyReLU)     (None, 96, 1408, 32  0           ['batch_normalization_18[0][0]'] \n",
            "                                )                                                                 \n",
            "                                                                                                  \n",
            " conv2d_25 (Conv2D)             (None, 96, 1408, 32  9248        ['leaky_re_lu_18[0][0]']         \n",
            "                                )                                                                 \n",
            "                                                                                                  \n",
            " batch_normalization_19 (BatchN  (None, 96, 1408, 32  128        ['conv2d_25[0][0]']              \n",
            " ormalization)                  )                                                                 \n",
            "                                                                                                  \n",
            " conv2d_26 (Conv2D)             (None, 96, 1408, 32  128         ['lambda_1[0][0]']               \n",
            "                                )                                                                 \n",
            "                                                                                                  \n",
            " add_9 (Add)                    (None, 96, 1408, 32  0           ['batch_normalization_19[0][0]', \n",
            "                                )                                 'conv2d_26[0][0]']              \n",
            "                                                                                                  \n",
            " leaky_re_lu_19 (LeakyReLU)     (None, 96, 1408, 32  0           ['add_9[0][0]']                  \n",
            "                                )                                                                 \n",
            "                                                                                                  \n",
            " dropout_11 (Dropout)           (None, 96, 1408, 32  0           ['leaky_re_lu_19[0][0]']         \n",
            "                                )                                                                 \n",
            "                                                                                                  \n",
            " conv2d_27 (Conv2D)             (None, 48, 704, 32)  9248        ['dropout_11[0][0]']             \n",
            "                                                                                                  \n",
            " batch_normalization_20 (BatchN  (None, 48, 704, 32)  128        ['conv2d_27[0][0]']              \n",
            " ormalization)                                                                                    \n",
            "                                                                                                  \n",
            " leaky_re_lu_20 (LeakyReLU)     (None, 48, 704, 32)  0           ['batch_normalization_20[0][0]'] \n",
            "                                                                                                  \n",
            " conv2d_28 (Conv2D)             (None, 48, 704, 32)  9248        ['leaky_re_lu_20[0][0]']         \n",
            "                                                                                                  \n",
            " batch_normalization_21 (BatchN  (None, 48, 704, 32)  128        ['conv2d_28[0][0]']              \n",
            " ormalization)                                                                                    \n",
            "                                                                                                  \n",
            " conv2d_29 (Conv2D)             (None, 48, 704, 32)  1056        ['dropout_11[0][0]']             \n",
            "                                                                                                  \n",
            " add_10 (Add)                   (None, 48, 704, 32)  0           ['batch_normalization_21[0][0]', \n",
            "                                                                  'conv2d_29[0][0]']              \n",
            "                                                                                                  \n",
            " leaky_re_lu_21 (LeakyReLU)     (None, 48, 704, 32)  0           ['add_10[0][0]']                 \n",
            "                                                                                                  \n",
            " dropout_12 (Dropout)           (None, 48, 704, 32)  0           ['leaky_re_lu_21[0][0]']         \n",
            "                                                                                                  \n",
            " conv2d_30 (Conv2D)             (None, 48, 704, 32)  9248        ['dropout_12[0][0]']             \n",
            "                                                                                                  \n",
            " batch_normalization_22 (BatchN  (None, 48, 704, 32)  128        ['conv2d_30[0][0]']              \n",
            " ormalization)                                                                                    \n",
            "                                                                                                  \n",
            " leaky_re_lu_22 (LeakyReLU)     (None, 48, 704, 32)  0           ['batch_normalization_22[0][0]'] \n",
            "                                                                                                  \n",
            " conv2d_31 (Conv2D)             (None, 48, 704, 32)  9248        ['leaky_re_lu_22[0][0]']         \n",
            "                                                                                                  \n",
            " batch_normalization_23 (BatchN  (None, 48, 704, 32)  128        ['conv2d_31[0][0]']              \n",
            " ormalization)                                                                                    \n",
            "                                                                                                  \n",
            " add_11 (Add)                   (None, 48, 704, 32)  0           ['batch_normalization_23[0][0]', \n",
            "                                                                  'dropout_12[0][0]']             \n",
            "                                                                                                  \n",
            " leaky_re_lu_23 (LeakyReLU)     (None, 48, 704, 32)  0           ['add_11[0][0]']                 \n",
            "                                                                                                  \n",
            " dropout_13 (Dropout)           (None, 48, 704, 32)  0           ['leaky_re_lu_23[0][0]']         \n",
            "                                                                                                  \n",
            " conv2d_32 (Conv2D)             (None, 24, 352, 64)  18496       ['dropout_13[0][0]']             \n",
            "                                                                                                  \n",
            " batch_normalization_24 (BatchN  (None, 24, 352, 64)  256        ['conv2d_32[0][0]']              \n",
            " ormalization)                                                                                    \n",
            "                                                                                                  \n",
            " leaky_re_lu_24 (LeakyReLU)     (None, 24, 352, 64)  0           ['batch_normalization_24[0][0]'] \n",
            "                                                                                                  \n",
            " conv2d_33 (Conv2D)             (None, 24, 352, 64)  36928       ['leaky_re_lu_24[0][0]']         \n",
            "                                                                                                  \n",
            " batch_normalization_25 (BatchN  (None, 24, 352, 64)  256        ['conv2d_33[0][0]']              \n",
            " ormalization)                                                                                    \n",
            "                                                                                                  \n",
            " conv2d_34 (Conv2D)             (None, 24, 352, 64)  2112        ['dropout_13[0][0]']             \n",
            "                                                                                                  \n",
            " add_12 (Add)                   (None, 24, 352, 64)  0           ['batch_normalization_25[0][0]', \n",
            "                                                                  'conv2d_34[0][0]']              \n",
            "                                                                                                  \n",
            " leaky_re_lu_25 (LeakyReLU)     (None, 24, 352, 64)  0           ['add_12[0][0]']                 \n",
            "                                                                                                  \n",
            " dropout_14 (Dropout)           (None, 24, 352, 64)  0           ['leaky_re_lu_25[0][0]']         \n",
            "                                                                                                  \n",
            " conv2d_35 (Conv2D)             (None, 24, 352, 64)  36928       ['dropout_14[0][0]']             \n",
            "                                                                                                  \n",
            " batch_normalization_26 (BatchN  (None, 24, 352, 64)  256        ['conv2d_35[0][0]']              \n",
            " ormalization)                                                                                    \n",
            "                                                                                                  \n",
            " leaky_re_lu_26 (LeakyReLU)     (None, 24, 352, 64)  0           ['batch_normalization_26[0][0]'] \n",
            "                                                                                                  \n",
            " conv2d_36 (Conv2D)             (None, 24, 352, 64)  36928       ['leaky_re_lu_26[0][0]']         \n",
            "                                                                                                  \n",
            " batch_normalization_27 (BatchN  (None, 24, 352, 64)  256        ['conv2d_36[0][0]']              \n",
            " ormalization)                                                                                    \n",
            "                                                                                                  \n",
            " add_13 (Add)                   (None, 24, 352, 64)  0           ['batch_normalization_27[0][0]', \n",
            "                                                                  'dropout_14[0][0]']             \n",
            "                                                                                                  \n",
            " leaky_re_lu_27 (LeakyReLU)     (None, 24, 352, 64)  0           ['add_13[0][0]']                 \n",
            "                                                                                                  \n",
            " dropout_15 (Dropout)           (None, 24, 352, 64)  0           ['leaky_re_lu_27[0][0]']         \n",
            "                                                                                                  \n",
            " conv2d_37 (Conv2D)             (None, 12, 176, 128  73856       ['dropout_15[0][0]']             \n",
            "                                )                                                                 \n",
            "                                                                                                  \n",
            " batch_normalization_28 (BatchN  (None, 12, 176, 128  512        ['conv2d_37[0][0]']              \n",
            " ormalization)                  )                                                                 \n",
            "                                                                                                  \n",
            " leaky_re_lu_28 (LeakyReLU)     (None, 12, 176, 128  0           ['batch_normalization_28[0][0]'] \n",
            "                                )                                                                 \n",
            "                                                                                                  \n",
            " conv2d_38 (Conv2D)             (None, 12, 176, 128  147584      ['leaky_re_lu_28[0][0]']         \n",
            "                                )                                                                 \n",
            "                                                                                                  \n",
            " batch_normalization_29 (BatchN  (None, 12, 176, 128  512        ['conv2d_38[0][0]']              \n",
            " ormalization)                  )                                                                 \n",
            "                                                                                                  \n",
            " conv2d_39 (Conv2D)             (None, 12, 176, 128  8320        ['dropout_15[0][0]']             \n",
            "                                )                                                                 \n",
            "                                                                                                  \n",
            " add_14 (Add)                   (None, 12, 176, 128  0           ['batch_normalization_29[0][0]', \n",
            "                                )                                 'conv2d_39[0][0]']              \n",
            "                                                                                                  \n",
            " leaky_re_lu_29 (LeakyReLU)     (None, 12, 176, 128  0           ['add_14[0][0]']                 \n",
            "                                )                                                                 \n",
            "                                                                                                  \n",
            " dropout_16 (Dropout)           (None, 12, 176, 128  0           ['leaky_re_lu_29[0][0]']         \n",
            "                                )                                                                 \n",
            "                                                                                                  \n",
            " conv2d_40 (Conv2D)             (None, 12, 176, 128  147584      ['dropout_16[0][0]']             \n",
            "                                )                                                                 \n",
            "                                                                                                  \n",
            " batch_normalization_30 (BatchN  (None, 12, 176, 128  512        ['conv2d_40[0][0]']              \n",
            " ormalization)                  )                                                                 \n",
            "                                                                                                  \n",
            " leaky_re_lu_30 (LeakyReLU)     (None, 12, 176, 128  0           ['batch_normalization_30[0][0]'] \n",
            "                                )                                                                 \n",
            "                                                                                                  \n",
            " conv2d_41 (Conv2D)             (None, 12, 176, 128  147584      ['leaky_re_lu_30[0][0]']         \n",
            "                                )                                                                 \n",
            "                                                                                                  \n",
            " batch_normalization_31 (BatchN  (None, 12, 176, 128  512        ['conv2d_41[0][0]']              \n",
            " ormalization)                  )                                                                 \n",
            "                                                                                                  \n",
            " conv2d_42 (Conv2D)             (None, 12, 176, 128  16512       ['dropout_16[0][0]']             \n",
            "                                )                                                                 \n",
            "                                                                                                  \n",
            " add_15 (Add)                   (None, 12, 176, 128  0           ['batch_normalization_31[0][0]', \n",
            "                                )                                 'conv2d_42[0][0]']              \n",
            "                                                                                                  \n",
            " leaky_re_lu_31 (LeakyReLU)     (None, 12, 176, 128  0           ['add_15[0][0]']                 \n",
            "                                )                                                                 \n",
            "                                                                                                  \n",
            " dropout_17 (Dropout)           (None, 12, 176, 128  0           ['leaky_re_lu_31[0][0]']         \n",
            "                                )                                                                 \n",
            "                                                                                                  \n",
            " conv2d_43 (Conv2D)             (None, 6, 88, 128)   147584      ['dropout_17[0][0]']             \n",
            "                                                                                                  \n",
            " batch_normalization_32 (BatchN  (None, 6, 88, 128)  512         ['conv2d_43[0][0]']              \n",
            " ormalization)                                                                                    \n",
            "                                                                                                  \n",
            " leaky_re_lu_32 (LeakyReLU)     (None, 6, 88, 128)   0           ['batch_normalization_32[0][0]'] \n",
            "                                                                                                  \n",
            " conv2d_44 (Conv2D)             (None, 6, 88, 128)   147584      ['leaky_re_lu_32[0][0]']         \n",
            "                                                                                                  \n",
            " batch_normalization_33 (BatchN  (None, 6, 88, 128)  512         ['conv2d_44[0][0]']              \n",
            " ormalization)                                                                                    \n",
            "                                                                                                  \n",
            " conv2d_45 (Conv2D)             (None, 6, 88, 128)   16512       ['dropout_17[0][0]']             \n",
            "                                                                                                  \n",
            " add_16 (Add)                   (None, 6, 88, 128)   0           ['batch_normalization_33[0][0]', \n",
            "                                                                  'conv2d_45[0][0]']              \n",
            "                                                                                                  \n",
            " leaky_re_lu_33 (LeakyReLU)     (None, 6, 88, 128)   0           ['add_16[0][0]']                 \n",
            "                                                                                                  \n",
            " dropout_18 (Dropout)           (None, 6, 88, 128)   0           ['leaky_re_lu_33[0][0]']         \n",
            "                                                                                                  \n",
            " conv2d_46 (Conv2D)             (None, 6, 88, 128)   147584      ['dropout_18[0][0]']             \n",
            "                                                                                                  \n",
            " batch_normalization_34 (BatchN  (None, 6, 88, 128)  512         ['conv2d_46[0][0]']              \n",
            " ormalization)                                                                                    \n",
            "                                                                                                  \n",
            " leaky_re_lu_34 (LeakyReLU)     (None, 6, 88, 128)   0           ['batch_normalization_34[0][0]'] \n",
            "                                                                                                  \n",
            " conv2d_47 (Conv2D)             (None, 6, 88, 128)   147584      ['leaky_re_lu_34[0][0]']         \n",
            "                                                                                                  \n",
            " batch_normalization_35 (BatchN  (None, 6, 88, 128)  512         ['conv2d_47[0][0]']              \n",
            " ormalization)                                                                                    \n",
            "                                                                                                  \n",
            " add_17 (Add)                   (None, 6, 88, 128)   0           ['batch_normalization_35[0][0]', \n",
            "                                                                  'dropout_18[0][0]']             \n",
            "                                                                                                  \n",
            " leaky_re_lu_35 (LeakyReLU)     (None, 6, 88, 128)   0           ['add_17[0][0]']                 \n",
            "                                                                                                  \n",
            " dropout_19 (Dropout)           (None, 6, 88, 128)   0           ['leaky_re_lu_35[0][0]']         \n",
            "                                                                                                  \n",
            " reshape_1 (Reshape)            (None, 528, 128)     0           ['dropout_19[0][0]']             \n",
            "                                                                                                  \n",
            " bidirectional_2 (Bidirectional  (None, 528, 512)    788480      ['reshape_1[0][0]']              \n",
            " )                                                                                                \n",
            "                                                                                                  \n",
            " dropout_20 (Dropout)           (None, 528, 512)     0           ['bidirectional_2[0][0]']        \n",
            "                                                                                                  \n",
            " bidirectional_3 (Bidirectional  (None, 528, 128)    295424      ['dropout_20[0][0]']             \n",
            " )                                                                                                \n",
            "                                                                                                  \n",
            " dropout_21 (Dropout)           (None, 528, 128)     0           ['bidirectional_3[0][0]']        \n",
            "                                                                                                  \n",
            " output (Dense)                 (None, 528, 78)      10062       ['dropout_21[0][0]']             \n",
            "                                                                                                  \n",
            "==================================================================================================\n",
            "Total params: 2,427,854\n",
            "Trainable params: 2,424,910\n",
            "Non-trainable params: 2,944\n",
            "__________________________________________________________________________________________________\n"
          ]
        }
      ],
      "source": [
        "model = train_model(input_dim = (configs.height, configs.width, 3),\n",
        "                    output_dim = len(configs.vocab))\n",
        "\n",
        "model.compile(\n",
        "    optimizer = tf.keras.optimizers.Adam(learning_rate = configs.learning_rate),\n",
        "    loss = CTCloss(),\n",
        "    metrics = [\n",
        "        CERMetric(vocabulary = configs.vocab),\n",
        "        WERMetric(vocabulary = configs.vocab)\n",
        "    ],\n",
        "    run_eagerly = False)\n",
        "\n",
        "model.summary()"
      ]
    },
    {
      "cell_type": "code",
      "execution_count": 30,
      "metadata": {
        "id": "vNfzut-zp0Cs"
      },
      "outputs": [],
      "source": [
        "callbacks = [\n",
        "    # EarlyStopping(monitor = \"val_CER\", patience = 20, verbose = 1, mode = \"min\"),\n",
        "    ModelCheckpoint(f\"{configs.model_path}/model.h5\", monitor = \"val_CER\", verbose = 1, save_best_only = True, mode = \"min\"),\n",
        "    TrainLogger(configs.model_path),\n",
        "    TensorBoard(f\"{configs.model_path}/logs\", update_freq = 1),\n",
        "    ReduceLROnPlateau(monitor = \"val_CER\", factor = 0.9, min_delta = 1e-10, patience = 5, verbose = 1, mode = \"auto\"),\n",
        "    Model2onnx(f\"{configs.model_path}/model.h5\")\n",
        "]"
      ]
    },
    {
      "cell_type": "code",
      "execution_count": null,
      "metadata": {
        "id": "dg0IIbm_p0Cu"
      },
      "outputs": [],
      "source": [
        "model.fit(\n",
        "    train_data_provider,\n",
        "    validation_data = validate_data_provider,\n",
        "    epochs = 180,\n",
        "    callbacks = callbacks,\n",
        "    workers = configs.train_workers\n",
        ")\n",
        "\n",
        "train_data_provider.to_csv(os.path.join(configs.model_path, \"train.csv\"))\n",
        "validate_data_provider.to_csv(os.path.join(configs.model_path, \"validate.csv\"))"
      ]
    },
    {
      "cell_type": "code",
      "execution_count": 31,
      "metadata": {
        "id": "OejDV8O4p0Cu"
      },
      "outputs": [],
      "source": [
        "model.load_weights(\"/content/model.h5\")"
      ]
    },
    {
      "cell_type": "code",
      "execution_count": 32,
      "metadata": {
        "colab": {
          "base_uri": "https://localhost:8080/"
        },
        "id": "_FraLZ9m2a2y",
        "outputId": "fc79c85b-7a62-4603-cf93-ff1d887e3f5b"
      },
      "outputs": [
        {
          "name": "stderr",
          "output_type": "stream",
          "text": [
            "\r  0%|          | 0/250 [00:00<?, ?it/s]"
          ]
        },
        {
          "name": "stdout",
          "output_type": "stream",
          "text": [
            "/content/sentences/a01/a01-132/a01-132-05.png claimed was underpinning - not\n",
            "1/1 [==============================] - 2s 2s/step\n"
          ]
        },
        {
          "name": "stderr",
          "output_type": "stream",
          "text": [
            "\r  0%|          | 1/250 [00:01<07:37,  1.84s/it]"
          ]
        },
        {
          "name": "stdout",
          "output_type": "stream",
          "text": [
            "Image:  /content/sentences/a01/a01-132/a01-132-05.png\n",
            "Label: claimed was underpinning - not\n",
            "Prediction:  chainned awas undupinming - not\n",
            "CER: 0.23333333333333334; WER: 0.6\n",
            "chainned awas undupinming - not claimed was underpinning - not\n",
            "/content/sentences/a01/a01-077u/a01-077u-06.png He said he was waiting for his senior\n",
            "1/1 [==============================] - 0s 65ms/step\n"
          ]
        },
        {
          "name": "stderr",
          "output_type": "stream",
          "text": [
            "\r  1%|          | 2/250 [00:01<03:25,  1.20it/s]"
          ]
        },
        {
          "name": "stdout",
          "output_type": "stream",
          "text": [
            "Image:  /content/sentences/a01/a01-077u/a01-077u-06.png\n",
            "Label: He said he was waiting for his senior\n",
            "Prediction:  He said he was waiting for his senior\n",
            "CER: 0.0; WER: 0.0\n",
            "He said he was waiting for his senior He said he was waiting for his senior\n",
            "/content/sentences/a02/a02-106/a02-106-07.png rest of the country . A Government report has\n",
            "1/1 [==============================] - 0s 65ms/step\n"
          ]
        },
        {
          "name": "stderr",
          "output_type": "stream",
          "text": [
            "\r  1%|          | 3/250 [00:02<02:05,  1.98it/s]"
          ]
        },
        {
          "name": "stdout",
          "output_type": "stream",
          "text": [
            "Image:  /content/sentences/a02/a02-106/a02-106-07.png\n",
            "Label: rest of the country . A Government report has\n",
            "Prediction:  rest of the country . A Government repor has\n",
            "CER: 0.022222222222222223; WER: 0.1111111111111111\n",
            "rest of the country . A Government repor has rest of the country . A Government report has\n",
            "/content/sentences/a04/a04-035/a04-035-09.png to surround their President on the tarmac for\n",
            "1/1 [==============================] - 0s 65ms/step\n"
          ]
        },
        {
          "name": "stderr",
          "output_type": "stream",
          "text": [
            "\r  2%|▏         | 4/250 [00:02<01:27,  2.82it/s]"
          ]
        },
        {
          "name": "stdout",
          "output_type": "stream",
          "text": [
            "Image:  /content/sentences/a04/a04-035/a04-035-09.png\n",
            "Label: to surround their President on the tarmac for\n",
            "Prediction:  to surround their President on the tarmac for\n",
            "CER: 0.0; WER: 0.0\n",
            "to surround their President on the tarmac for to surround their President on the tarmac for\n",
            "/content/sentences/a01/a01-063/a01-063-07.png payment of a 210million debt to America .\n",
            "1/1 [==============================] - 0s 63ms/step\n"
          ]
        },
        {
          "name": "stderr",
          "output_type": "stream",
          "text": [
            "\r  2%|▏         | 5/250 [00:02<01:05,  3.73it/s]"
          ]
        },
        {
          "name": "stdout",
          "output_type": "stream",
          "text": [
            "Image:  /content/sentences/a01/a01-063/a01-063-07.png\n",
            "Label: payment of a 210million debt to America .\n",
            "Prediction:  payment of a E1Emillin dept to hmerita .\n",
            "CER: 0.14634146341463414; WER: 0.375\n",
            "payment of a E1Emillin dept to hmerita . payment of a 210million debt to America .\n",
            "/content/sentences/a05/a05-062/a05-062-04.png of Lords last night , gave a warning\n",
            "1/1 [==============================] - 0s 62ms/step\n"
          ]
        },
        {
          "name": "stderr",
          "output_type": "stream",
          "text": [
            "\r  2%|▏         | 6/250 [00:02<00:52,  4.66it/s]"
          ]
        },
        {
          "name": "stdout",
          "output_type": "stream",
          "text": [
            "Image:  /content/sentences/a05/a05-062/a05-062-04.png\n",
            "Label: of Lords last night , gave a warning\n",
            "Prediction:  s ionss taos risw , saure a maring\n",
            "CER: 0.4722222222222222; WER: 0.75\n",
            "s ionss taos risw , saure a maring of Lords last night , gave a warning\n",
            "/content/sentences/a01/a01-026x/a01-026x-07.png of Sir Roy Welensky , Prime Minister of the\n",
            "1/1 [==============================] - 0s 63ms/step\n"
          ]
        },
        {
          "name": "stderr",
          "output_type": "stream",
          "text": [
            "\r  3%|▎         | 7/250 [00:02<00:44,  5.45it/s]"
          ]
        },
        {
          "name": "stdout",
          "output_type": "stream",
          "text": [
            "Image:  /content/sentences/a01/a01-026x/a01-026x-07.png\n",
            "Label: of Sir Roy Welensky , Prime Minister of the\n",
            "Prediction:  Af Sir Roy Delenstry ,Prime Misnistes of the\n",
            "CER: 0.16279069767441862; WER: 0.5555555555555556\n",
            "Af Sir Roy Delenstry ,Prime Misnistes of the of Sir Roy Welensky , Prime Minister of the\n",
            "/content/sentences/a01/a01-030x/a01-030x-05.png the Federal Government . Mr. James Callaghan ,\n",
            "1/1 [==============================] - 0s 63ms/step\n"
          ]
        },
        {
          "name": "stderr",
          "output_type": "stream",
          "text": [
            "\r  3%|▎         | 8/250 [00:02<00:39,  6.17it/s]"
          ]
        },
        {
          "name": "stdout",
          "output_type": "stream",
          "text": [
            "Image:  /content/sentences/a01/a01-030x/a01-030x-05.png\n",
            "Label: the Federal Government . Mr. James Callaghan ,\n",
            "Prediction:  the Federal Governement . Mr. tames Calaghan ,\n",
            "CER: 0.06521739130434782; WER: 0.375\n",
            "the Federal Governement . Mr. tames Calaghan , the Federal Government . Mr. James Callaghan ,\n",
            "/content/sentences/a06/a06-090/a06-090-05.png raised by Tory critics . Mr. Anthony Fell ,\n",
            "1/1 [==============================] - 0s 62ms/step\n"
          ]
        },
        {
          "name": "stderr",
          "output_type": "stream",
          "text": [
            "\r  4%|▎         | 9/250 [00:02<00:35,  6.75it/s]"
          ]
        },
        {
          "name": "stdout",
          "output_type": "stream",
          "text": [
            "Image:  /content/sentences/a06/a06-090/a06-090-05.png\n",
            "Label: raised by Tory critics . Mr. Anthony Fell ,\n",
            "Prediction:  Paised by toy onetias . Me. Anthong Fell ,\n",
            "CER: 0.20930232558139536; WER: 0.5555555555555556\n",
            "Paised by toy onetias . Me. Anthong Fell , raised by Tory critics . Mr. Anthony Fell ,\n",
            "/content/sentences/a05/a05-048/a05-048-04.png In most constituencies it may go down as\n",
            "1/1 [==============================] - 0s 61ms/step\n"
          ]
        },
        {
          "name": "stderr",
          "output_type": "stream",
          "text": [
            "\r  4%|▍         | 10/250 [00:02<00:33,  7.25it/s]"
          ]
        },
        {
          "name": "stdout",
          "output_type": "stream",
          "text": [
            "Image:  /content/sentences/a05/a05-048/a05-048-04.png\n",
            "Label: In most constituencies it may go down as\n",
            "Prediction:  h most castitencies it may go down as\n",
            "CER: 0.125; WER: 0.25\n",
            "h most castitencies it may go down as In most constituencies it may go down as\n",
            "/content/sentences/a04/a04-003/a04-003-06.png laid down to meet the Commonwealth\n",
            "1/1 [==============================] - 0s 63ms/step\n"
          ]
        },
        {
          "name": "stderr",
          "output_type": "stream",
          "text": [
            "\r  4%|▍         | 11/250 [00:03<00:32,  7.46it/s]"
          ]
        },
        {
          "name": "stdout",
          "output_type": "stream",
          "text": [
            "Image:  /content/sentences/a04/a04-003/a04-003-06.png\n",
            "Label: laid down to meet the Commonwealth\n",
            "Prediction:  laid down to meet the Commmonweabth\n",
            "CER: 0.058823529411764705; WER: 0.16666666666666666\n",
            "laid down to meet the Commmonweabth laid down to meet the Commonwealth\n",
            "/content/sentences/a03/a03-073/a03-073-06.png putting a heavy satellite into outer space .\n",
            "1/1 [==============================] - 0s 65ms/step\n"
          ]
        },
        {
          "name": "stderr",
          "output_type": "stream",
          "text": [
            "\r  5%|▍         | 12/250 [00:03<00:31,  7.55it/s]"
          ]
        },
        {
          "name": "stdout",
          "output_type": "stream",
          "text": [
            "Image:  /content/sentences/a03/a03-073/a03-073-06.png\n",
            "Label: putting a heavy satellite into outer space .\n",
            "Prediction:  puthing a heavy satelite nto outer spac .\n",
            "CER: 0.09090909090909091; WER: 0.5\n",
            "puthing a heavy satelite nto outer spac . putting a heavy satellite into outer space .\n",
            "/content/sentences/a03/a03-020/a03-020-09.png Haksat Party , also to the officers\n",
            "1/1 [==============================] - 0s 69ms/step\n"
          ]
        },
        {
          "name": "stderr",
          "output_type": "stream",
          "text": [
            "\r  5%|▌         | 13/250 [00:03<00:31,  7.53it/s]"
          ]
        },
        {
          "name": "stdout",
          "output_type": "stream",
          "text": [
            "Image:  /content/sentences/a03/a03-020/a03-020-09.png\n",
            "Label: Haksat Party , also to the officers\n",
            "Prediction:  Htaksat Parry , aso to the offiorn\n",
            "CER: 0.17142857142857143; WER: 0.5714285714285714\n",
            "Htaksat Parry , aso to the offiorn Haksat Party , also to the officers\n",
            "/content/sentences/a01/a01-007u/a01-007u-04.png Labour has to have an adequate number\n",
            "1/1 [==============================] - 0s 68ms/step\n"
          ]
        },
        {
          "name": "stderr",
          "output_type": "stream",
          "text": [
            "\r  6%|▌         | 14/250 [00:03<00:30,  7.80it/s]"
          ]
        },
        {
          "name": "stdout",
          "output_type": "stream",
          "text": [
            "Image:  /content/sentences/a01/a01-007u/a01-007u-04.png\n",
            "Label: Labour has to have an adequate number\n",
            "Prediction:  labour has to have on adequate nuber\n",
            "CER: 0.08108108108108109; WER: 0.42857142857142855\n",
            "labour has to have on adequate nuber Labour has to have an adequate number\n",
            "/content/sentences/a03/a03-080/a03-080-06.png to German participation is the absence of\n",
            "1/1 [==============================] - 0s 63ms/step\n"
          ]
        },
        {
          "name": "stderr",
          "output_type": "stream",
          "text": [
            "\r  6%|▌         | 15/250 [00:03<00:28,  8.12it/s]"
          ]
        },
        {
          "name": "stdout",
          "output_type": "stream",
          "text": [
            "Image:  /content/sentences/a03/a03-080/a03-080-06.png\n",
            "Label: to German participation is the absence of\n",
            "Prediction:  to German participation is the bence of\n",
            "CER: 0.04878048780487805; WER: 0.14285714285714285\n",
            "to German participation is the bence of to German participation is the absence of\n",
            "/content/sentences/b04/b04-034/b04-034-05.png personal failure . \"\n",
            "1/1 [==============================] - 0s 64ms/step\n"
          ]
        },
        {
          "name": "stderr",
          "output_type": "stream",
          "text": [
            "\r  6%|▋         | 16/250 [00:03<00:28,  8.27it/s]"
          ]
        },
        {
          "name": "stdout",
          "output_type": "stream",
          "text": [
            "Image:  /content/sentences/b04/b04-034/b04-034-05.png\n",
            "Label: personal failure . \"\n",
            "Prediction:  persomal failure . \"\n",
            "CER: 0.05; WER: 0.25\n",
            "persomal failure . \" personal failure . \"\n",
            "/content/sentences/b04/b04-004/b04-004-01.png has done more than most to stir up\n",
            "1/1 [==============================] - 0s 63ms/step\n"
          ]
        },
        {
          "name": "stderr",
          "output_type": "stream",
          "text": [
            "\r  7%|▋         | 17/250 [00:03<00:27,  8.37it/s]"
          ]
        },
        {
          "name": "stdout",
          "output_type": "stream",
          "text": [
            "Image:  /content/sentences/b04/b04-004/b04-004-01.png\n",
            "Label: has done more than most to stir up\n",
            "Prediction:  har dome more than most to stir op\n",
            "CER: 0.08823529411764706; WER: 0.375\n",
            "har dome more than most to stir op has done more than most to stir up\n",
            "/content/sentences/a01/a01-003/a01-003-09.png which would appear to \" prop up \" an out-dated\n",
            "1/1 [==============================] - 0s 69ms/step\n"
          ]
        },
        {
          "name": "stderr",
          "output_type": "stream",
          "text": [
            "\r  7%|▋         | 18/250 [00:03<00:27,  8.38it/s]"
          ]
        },
        {
          "name": "stdout",
          "output_type": "stream",
          "text": [
            "Image:  /content/sentences/a01/a01-003/a01-003-09.png\n",
            "Label: which would appear to \" prop up \" an out-dated\n",
            "Prediction:  which would appear to prop up \" an out-dakd\n",
            "CER: 0.08695652173913043; WER: 0.2\n",
            "which would appear to prop up \" an out-dakd which would appear to \" prop up \" an out-dated\n",
            "/content/sentences/a01/a01-053u/a01-053u-07.png in his post . Senator Robertson's committee\n",
            "1/1 [==============================] - 0s 67ms/step\n"
          ]
        },
        {
          "name": "stderr",
          "output_type": "stream",
          "text": [
            "\r  8%|▊         | 19/250 [00:03<00:27,  8.39it/s]"
          ]
        },
        {
          "name": "stdout",
          "output_type": "stream",
          "text": [
            "Image:  /content/sentences/a01/a01-053u/a01-053u-07.png\n",
            "Label: in his post . Senator Robertson's committee\n",
            "Prediction:  in his post . Senator Robetson's committee\n",
            "CER: 0.023255813953488372; WER: 0.14285714285714285\n",
            "in his post . Senator Robetson's committee in his post . Senator Robertson's committee\n",
            "/content/sentences/a01/a01-102/a01-102-00.png \" After a lifetime of helping others and\n",
            "1/1 [==============================] - 0s 65ms/step\n"
          ]
        },
        {
          "name": "stderr",
          "output_type": "stream",
          "text": [
            "\r  8%|▊         | 20/250 [00:04<00:27,  8.34it/s]"
          ]
        },
        {
          "name": "stdout",
          "output_type": "stream",
          "text": [
            "Image:  /content/sentences/a01/a01-102/a01-102-00.png\n",
            "Label: \" After a lifetime of helping others and\n",
            "Prediction:   Ater a lifetime of helping thos and\n",
            "CER: 0.125; WER: 0.375\n",
            " Ater a lifetime of helping thos and \" After a lifetime of helping others and\n",
            "/content/sentences/a01/a01-026x/a01-026x-08.png Central African Federation , went to Chequers\n",
            "1/1 [==============================] - 0s 65ms/step\n"
          ]
        },
        {
          "name": "stderr",
          "output_type": "stream",
          "text": [
            "\r  8%|▊         | 21/250 [00:04<00:27,  8.45it/s]"
          ]
        },
        {
          "name": "stdout",
          "output_type": "stream",
          "text": [
            "Image:  /content/sentences/a01/a01-026x/a01-026x-08.png\n",
            "Label: Central African Federation , went to Chequers\n",
            "Prediction:  Kentral African Federation , went to Ehegmens\n",
            "CER: 0.1111111111111111; WER: 0.2857142857142857\n",
            "Kentral African Federation , went to Ehegmens Central African Federation , went to Chequers\n",
            "/content/sentences/b01/b01-004/b01-004-05.png do the strongest arguments lie ? THE Archbishop\n",
            "1/1 [==============================] - 0s 63ms/step\n"
          ]
        },
        {
          "name": "stderr",
          "output_type": "stream",
          "text": [
            "\r  9%|▉         | 22/250 [00:04<00:26,  8.44it/s]"
          ]
        },
        {
          "name": "stdout",
          "output_type": "stream",
          "text": [
            "Image:  /content/sentences/b01/b01-004/b01-004-05.png\n",
            "Label: do the strongest arguments lie ? THE Archbishop\n",
            "Prediction:  do the strongest arguments hie ? THE trchbishoy\n",
            "CER: 0.06382978723404255; WER: 0.25\n",
            "do the strongest arguments hie ? THE trchbishoy do the strongest arguments lie ? THE Archbishop\n",
            "/content/sentences/a04/a04-096/a04-096-03.png impossible for the British authorities to\n",
            "1/1 [==============================] - 0s 62ms/step\n"
          ]
        },
        {
          "name": "stderr",
          "output_type": "stream",
          "text": [
            "\r  9%|▉         | 23/250 [00:04<00:26,  8.56it/s]"
          ]
        },
        {
          "name": "stdout",
          "output_type": "stream",
          "text": [
            "Image:  /content/sentences/a04/a04-096/a04-096-03.png\n",
            "Label: impossible for the British authorities to\n",
            "Prediction:  impossible for the British authorities to\n",
            "CER: 0.0; WER: 0.0\n",
            "impossible for the British authorities to impossible for the British authorities to\n",
            "/content/sentences/b04/b04-181/b04-181-07.png it .\n",
            "1/1 [==============================] - 0s 63ms/step\n"
          ]
        },
        {
          "name": "stderr",
          "output_type": "stream",
          "text": [
            "\r 10%|▉         | 24/250 [00:04<00:25,  8.78it/s]"
          ]
        },
        {
          "name": "stdout",
          "output_type": "stream",
          "text": [
            "Image:  /content/sentences/b04/b04-181/b04-181-07.png\n",
            "Label: it .\n",
            "Prediction:  oof .\n",
            "CER: 0.75; WER: 0.5\n",
            "oof . it .\n",
            "/content/sentences/b01/b01-118/b01-118-02.png water in the white areas of South Africa , without rights\n",
            "1/1 [==============================] - 0s 61ms/step\n"
          ]
        },
        {
          "name": "stderr",
          "output_type": "stream",
          "text": [
            "\r 10%|█         | 25/250 [00:04<00:25,  8.86it/s]"
          ]
        },
        {
          "name": "stdout",
          "output_type": "stream",
          "text": [
            "Image:  /content/sentences/b01/b01-118/b01-118-02.png\n",
            "Label: water in the white areas of South Africa , without rights\n",
            "Prediction:  ater in the whate arar of touth Africa , without righ\n",
            "CER: 0.12280701754385964; WER: 0.45454545454545453\n",
            "ater in the whate arar of touth Africa , without righ water in the white areas of South Africa , without rights\n",
            "/content/sentences/a03/a03-043/a03-043-00.png However , a separate poll revealed that Mr.\n",
            "1/1 [==============================] - 0s 61ms/step\n"
          ]
        },
        {
          "name": "stderr",
          "output_type": "stream",
          "text": [
            "\r 10%|█         | 26/250 [00:04<00:24,  9.03it/s]"
          ]
        },
        {
          "name": "stdout",
          "output_type": "stream",
          "text": [
            "Image:  /content/sentences/a03/a03-043/a03-043-00.png\n",
            "Label: However , a separate poll revealed that Mr.\n",
            "Prediction:  However , a separate pll revealed that Mr.\n",
            "CER: 0.023255813953488372; WER: 0.125\n",
            "However , a separate pll revealed that Mr. However , a separate poll revealed that Mr.\n",
            "/content/sentences/a03/a03-034/a03-034-03.png of the party since it came to office three and\n",
            "1/1 [==============================] - 0s 62ms/step\n"
          ]
        },
        {
          "name": "stderr",
          "output_type": "stream",
          "text": [
            "\r 11%|█         | 27/250 [00:04<00:24,  9.08it/s]"
          ]
        },
        {
          "name": "stdout",
          "output_type": "stream",
          "text": [
            "Image:  /content/sentences/a03/a03-034/a03-034-03.png\n",
            "Label: of the party since it came to office three and\n",
            "Prediction:  of the party stnce if came to office thoee and\n",
            "CER: 0.06521739130434782; WER: 0.3\n",
            "of the party stnce if came to office thoee and of the party since it came to office three and\n",
            "/content/sentences/b04/b04-202/b04-202-07.png first journey into Space .\n",
            "1/1 [==============================] - 0s 63ms/step\n"
          ]
        },
        {
          "name": "stderr",
          "output_type": "stream",
          "text": [
            "\r 11%|█         | 28/250 [00:04<00:24,  9.09it/s]"
          ]
        },
        {
          "name": "stdout",
          "output_type": "stream",
          "text": [
            "Image:  /content/sentences/b04/b04-202/b04-202-07.png\n",
            "Label: first journey into Space .\n",
            "Prediction:  fist gouney ints fare .\n",
            "CER: 0.2692307692307692; WER: 0.8\n",
            "fist gouney ints fare . first journey into Space .\n",
            "/content/sentences/a01/a01-049/a01-049-10.png complaints about Weaver's loyalty .\n",
            "1/1 [==============================] - 0s 62ms/step\n"
          ]
        },
        {
          "name": "stderr",
          "output_type": "stream",
          "text": [
            "\r 12%|█▏        | 29/250 [00:05<00:24,  8.95it/s]"
          ]
        },
        {
          "name": "stdout",
          "output_type": "stream",
          "text": [
            "Image:  /content/sentences/a01/a01-049/a01-049-10.png\n",
            "Label: complaints about Weaver's loyalty .\n",
            "Prediction:  camplaint abut Weaer'? Tongaltet .\n",
            "CER: 0.2857142857142857; WER: 0.8\n",
            "camplaint abut Weaer'? Tongaltet . complaints about Weaver's loyalty .\n",
            "/content/sentences/a03/a03-080/a03-080-09.png under which funds could be appropriated .\n",
            "1/1 [==============================] - 0s 64ms/step\n"
          ]
        },
        {
          "name": "stderr",
          "output_type": "stream",
          "text": [
            "\r 12%|█▏        | 30/250 [00:05<00:24,  8.94it/s]"
          ]
        },
        {
          "name": "stdout",
          "output_type": "stream",
          "text": [
            "Image:  /content/sentences/a03/a03-080/a03-080-09.png\n",
            "Label: under which funds could be appropriated .\n",
            "Prediction:  nder whiom fands could be appropriated .\n",
            "CER: 0.0975609756097561; WER: 0.42857142857142855\n",
            "nder whiom fands could be appropriated . under which funds could be appropriated .\n",
            "/content/sentences/b01/b01-023/b01-023-03.png solution would be for the Commonwealth to draft\n",
            "1/1 [==============================] - 0s 61ms/step\n"
          ]
        },
        {
          "name": "stderr",
          "output_type": "stream",
          "text": [
            "\r 12%|█▏        | 31/250 [00:05<00:24,  9.04it/s]"
          ]
        },
        {
          "name": "stdout",
          "output_type": "stream",
          "text": [
            "Image:  /content/sentences/b01/b01-023/b01-023-03.png\n",
            "Label: solution would be for the Commonwealth to draft\n",
            "Prediction:  solution would be for the Commonwealth to craft\n",
            "CER: 0.02127659574468085; WER: 0.125\n",
            "solution would be for the Commonwealth to craft solution would be for the Commonwealth to draft\n",
            "/content/sentences/a01/a01-107u/a01-107u-03.png sick people , is good and attainable .\n",
            "1/1 [==============================] - 0s 66ms/step\n"
          ]
        },
        {
          "name": "stderr",
          "output_type": "stream",
          "text": [
            "\r 13%|█▎        | 32/250 [00:05<00:24,  8.98it/s]"
          ]
        },
        {
          "name": "stdout",
          "output_type": "stream",
          "text": [
            "Image:  /content/sentences/a01/a01-107u/a01-107u-03.png\n",
            "Label: sick people , is good and attainable .\n",
            "Prediction:  sich people , is good and attainable .\n",
            "CER: 0.02631578947368421; WER: 0.125\n",
            "sich people , is good and attainable . sick people , is good and attainable .\n",
            "/content/sentences/b03/b03-114/b03-114-06.png roped in . The only result was\n",
            "1/1 [==============================] - 0s 64ms/step\n"
          ]
        },
        {
          "name": "stderr",
          "output_type": "stream",
          "text": [
            "\r 13%|█▎        | 33/250 [00:05<00:24,  8.97it/s]"
          ]
        },
        {
          "name": "stdout",
          "output_type": "stream",
          "text": [
            "Image:  /content/sentences/b03/b03-114/b03-114-06.png\n",
            "Label: roped in . The only result was\n",
            "Prediction:  roped in . The only rerull was\n",
            "CER: 0.06666666666666667; WER: 0.14285714285714285\n",
            "roped in . The only rerull was roped in . The only result was\n",
            "/content/sentences/a01/a01-020/a01-020-02.png blown up . He has now revealed his full plans\n",
            "1/1 [==============================] - 0s 63ms/step\n"
          ]
        },
        {
          "name": "stderr",
          "output_type": "stream",
          "text": [
            "\r 14%|█▎        | 34/250 [00:05<00:24,  8.96it/s]"
          ]
        },
        {
          "name": "stdout",
          "output_type": "stream",
          "text": [
            "Image:  /content/sentences/a01/a01-020/a01-020-02.png\n",
            "Label: blown up . He has now revealed his full plans\n",
            "Prediction:  blown up . He has now revealed his full plarts\n",
            "CER: 0.044444444444444446; WER: 0.1\n",
            "blown up . He has now revealed his full plarts blown up . He has now revealed his full plans\n",
            "/content/sentences/a03/a03-050/a03-050-05.png correct that image . The bow tie has\n",
            "1/1 [==============================] - 0s 63ms/step\n"
          ]
        },
        {
          "name": "stderr",
          "output_type": "stream",
          "text": [
            "\r 14%|█▍        | 35/250 [00:05<00:23,  9.00it/s]"
          ]
        },
        {
          "name": "stdout",
          "output_type": "stream",
          "text": [
            "Image:  /content/sentences/a03/a03-050/a03-050-05.png\n",
            "Label: correct that image . The bow tie has\n",
            "Prediction:  corred that image . The sow tie has\n",
            "CER: 0.08333333333333333; WER: 0.25\n",
            "corred that image . The sow tie has correct that image . The bow tie has\n",
            "/content/sentences/b01/b01-027/b01-027-05.png success . The Queen has won a triumph . It\n",
            "1/1 [==============================] - 0s 63ms/step\n"
          ]
        },
        {
          "name": "stderr",
          "output_type": "stream",
          "text": [
            "\r 14%|█▍        | 36/250 [00:05<00:23,  9.04it/s]"
          ]
        },
        {
          "name": "stdout",
          "output_type": "stream",
          "text": [
            "Image:  /content/sentences/b01/b01-027/b01-027-05.png\n",
            "Label: success . The Queen has won a triumph . It\n",
            "Prediction:  succsess . The Oueen has won a triumph . It\n",
            "CER: 0.047619047619047616; WER: 0.2\n",
            "succsess . The Oueen has won a triumph . It success . The Queen has won a triumph . It\n",
            "/content/sentences/a02/a02-004/a02-004-05.png France , to back Mr. Edward Heath , Lord\n",
            "1/1 [==============================] - 0s 62ms/step\n"
          ]
        },
        {
          "name": "stderr",
          "output_type": "stream",
          "text": [
            "\r 15%|█▍        | 37/250 [00:05<00:23,  9.01it/s]"
          ]
        },
        {
          "name": "stdout",
          "output_type": "stream",
          "text": [
            "Image:  /content/sentences/a02/a02-004/a02-004-05.png\n",
            "Label: France , to back Mr. Edward Heath , Lord\n",
            "Prediction:  tramee , taback Mr. Ed wad eath , lod\n",
            "CER: 0.25; WER: 0.7777777777777778\n",
            "tramee , taback Mr. Ed wad eath , lod France , to back Mr. Edward Heath , Lord\n",
            "/content/sentences/b03/b03-025/b03-025-04.png and it is an achievement - is to make religious con-\n",
            "1/1 [==============================] - 0s 65ms/step\n"
          ]
        },
        {
          "name": "stderr",
          "output_type": "stream",
          "text": [
            "\r 15%|█▌        | 38/250 [00:06<00:23,  8.88it/s]"
          ]
        },
        {
          "name": "stdout",
          "output_type": "stream",
          "text": [
            "Image:  /content/sentences/b03/b03-025/b03-025-04.png\n",
            "Label: and it is an achievement - is to make religious con-\n",
            "Prediction:  and it is ain alievement -is to make reigiow con-\n",
            "CER: 0.1346153846153846; WER: 0.45454545454545453\n",
            "and it is ain alievement -is to make reigiow con- and it is an achievement - is to make religious con-\n",
            "/content/sentences/a02/a02-098/a02-098-04.png African nationalists . Mr. Macleod has ample evidence\n",
            "1/1 [==============================] - 0s 64ms/step\n"
          ]
        },
        {
          "name": "stderr",
          "output_type": "stream",
          "text": [
            "\r 16%|█▌        | 39/250 [00:06<00:23,  8.85it/s]"
          ]
        },
        {
          "name": "stdout",
          "output_type": "stream",
          "text": [
            "Image:  /content/sentences/a02/a02-098/a02-098-04.png\n",
            "Label: African nationalists . Mr. Macleod has ample evidence\n",
            "Prediction:  African nationcist . Mr.Raeleod has ample evidence\n",
            "CER: 0.11320754716981132; WER: 0.375\n",
            "African nationcist . Mr.Raeleod has ample evidence African nationalists . Mr. Macleod has ample evidence\n",
            "/content/sentences/a01/a01-058u/a01-058u-02.png America's balance of payments position . He\n",
            "1/1 [==============================] - 0s 62ms/step\n"
          ]
        },
        {
          "name": "stderr",
          "output_type": "stream",
          "text": [
            "\r 16%|█▌        | 40/250 [00:06<00:23,  8.87it/s]"
          ]
        },
        {
          "name": "stdout",
          "output_type": "stream",
          "text": [
            "Image:  /content/sentences/a01/a01-058u/a01-058u-02.png\n",
            "Label: America's balance of payments position . He\n",
            "Prediction:  America's balase of payments position . He\n",
            "CER: 0.046511627906976744; WER: 0.14285714285714285\n",
            "America's balase of payments position . He America's balance of payments position . He\n",
            "/content/sentences/a04/a04-019/a04-019-02.png which should lead to progress toward a Laos agreement at the\n",
            "1/1 [==============================] - 0s 62ms/step\n"
          ]
        },
        {
          "name": "stderr",
          "output_type": "stream",
          "text": [
            "\r 16%|█▋        | 41/250 [00:06<00:23,  8.95it/s]"
          ]
        },
        {
          "name": "stdout",
          "output_type": "stream",
          "text": [
            "Image:  /content/sentences/a04/a04-019/a04-019-02.png\n",
            "Label: which should lead to progress toward a Laos agreement at the\n",
            "Prediction:  whichshould lead to progres towaid alas egrement at the\n",
            "CER: 0.13333333333333333; WER: 0.6363636363636364\n",
            "whichshould lead to progres towaid alas egrement at the which should lead to progress toward a Laos agreement at the\n",
            "/content/sentences/a01/a01-053u/a01-053u-00.png He said these concerned Mr. Weaver's\n",
            "1/1 [==============================] - 0s 63ms/step\n"
          ]
        },
        {
          "name": "stderr",
          "output_type": "stream",
          "text": [
            "\r 17%|█▋        | 42/250 [00:06<00:22,  9.05it/s]"
          ]
        },
        {
          "name": "stdout",
          "output_type": "stream",
          "text": [
            "Image:  /content/sentences/a01/a01-053u/a01-053u-00.png\n",
            "Label: He said these concerned Mr. Weaver's\n",
            "Prediction:  He said these concerned Mr. Weaver's\n",
            "CER: 0.0; WER: 0.0\n",
            "He said these concerned Mr. Weaver's He said these concerned Mr. Weaver's\n",
            "/content/sentences/a04/a04-006/a04-006-08.png Bundy , the President's special assistant for\n",
            "1/1 [==============================] - 0s 63ms/step\n"
          ]
        },
        {
          "name": "stderr",
          "output_type": "stream",
          "text": [
            "\r 17%|█▋        | 43/250 [00:06<00:22,  9.07it/s]"
          ]
        },
        {
          "name": "stdout",
          "output_type": "stream",
          "text": [
            "Image:  /content/sentences/a04/a04-006/a04-006-08.png\n",
            "Label: Bundy , the President's special assistant for\n",
            "Prediction:  Bundy , the President's special assistaut for\n",
            "CER: 0.022222222222222223; WER: 0.14285714285714285\n",
            "Bundy , the President's special assistaut for Bundy , the President's special assistant for\n",
            "/content/sentences/b01/b01-122/b01-122-04.png Capetown , Dr. Joost de Blank , has pleaded that\n",
            "1/1 [==============================] - 0s 61ms/step\n"
          ]
        },
        {
          "name": "stderr",
          "output_type": "stream",
          "text": [
            "\r 18%|█▊        | 44/250 [00:06<00:22,  9.01it/s]"
          ]
        },
        {
          "name": "stdout",
          "output_type": "stream",
          "text": [
            "Image:  /content/sentences/b01/b01-122/b01-122-04.png\n",
            "Label: Capetown , Dr. Joost de Blank , has pleaded that\n",
            "Prediction:  lapelon , Pr. fort de Blast , tas pleaded that\n",
            "CER: 0.20833333333333334; WER: 0.5\n",
            "lapelon , Pr. fort de Blast , tas pleaded that Capetown , Dr. Joost de Blank , has pleaded that\n",
            "/content/sentences/a01/a01-128/a01-128-07.png service to the Exchequer will have increased over\n",
            "1/1 [==============================] - 0s 65ms/step\n"
          ]
        },
        {
          "name": "stderr",
          "output_type": "stream",
          "text": [
            "\r 18%|█▊        | 45/250 [00:06<00:22,  8.97it/s]"
          ]
        },
        {
          "name": "stdout",
          "output_type": "stream",
          "text": [
            "Image:  /content/sentences/a01/a01-128/a01-128-07.png\n",
            "Label: service to the Exchequer will have increased over\n",
            "Prediction:  Serice to the Erchequer willhave increased over\n",
            "CER: 0.08163265306122448; WER: 0.5\n",
            "Serice to the Erchequer willhave increased over service to the Exchequer will have increased over\n",
            "/content/sentences/a04/a04-050/a04-050-03.png and refuse proposals with which they did not\n",
            "1/1 [==============================] - 0s 62ms/step\n"
          ]
        },
        {
          "name": "stderr",
          "output_type": "stream",
          "text": [
            "\r 18%|█▊        | 46/250 [00:07<00:22,  8.98it/s]"
          ]
        },
        {
          "name": "stdout",
          "output_type": "stream",
          "text": [
            "Image:  /content/sentences/a04/a04-050/a04-050-03.png\n",
            "Label: and refuse proposals with which they did not\n",
            "Prediction:  and srefuve propsels with which hey did not\n",
            "CER: 0.11363636363636363; WER: 0.375\n",
            "and srefuve propsels with which hey did not and refuse proposals with which they did not\n",
            "/content/sentences/a04/a04-099/a04-099-08.png while , on the contrary , they impose upon\n",
            "1/1 [==============================] - 0s 64ms/step\n"
          ]
        },
        {
          "name": "stderr",
          "output_type": "stream",
          "text": [
            "\r 19%|█▉        | 47/250 [00:07<00:23,  8.72it/s]"
          ]
        },
        {
          "name": "stdout",
          "output_type": "stream",
          "text": [
            "Image:  /content/sentences/a04/a04-099/a04-099-08.png\n",
            "Label: while , on the contrary , they impose upon\n",
            "Prediction:  while , onthe contrary , they impose upon\n",
            "CER: 0.023809523809523808; WER: 0.2222222222222222\n",
            "while , onthe contrary , they impose upon while , on the contrary , they impose upon\n",
            "/content/sentences/a06/a06-152/a06-152-01.png determination is the intention to impose\n",
            "1/1 [==============================] - 0s 63ms/step\n"
          ]
        },
        {
          "name": "stderr",
          "output_type": "stream",
          "text": [
            "\r 19%|█▉        | 48/250 [00:07<00:23,  8.69it/s]"
          ]
        },
        {
          "name": "stdout",
          "output_type": "stream",
          "text": [
            "Image:  /content/sentences/a06/a06-152/a06-152-01.png\n",
            "Label: determination is the intention to impose\n",
            "Prediction:  delermination is the intenton to uinpose\n",
            "CER: 0.1; WER: 0.5\n",
            "delermination is the intenton to uinpose determination is the intention to impose\n",
            "/content/sentences/b01/b01-084/b01-084-02.png 3,000 men , who must take about a fortnight to arrive .\n",
            "1/1 [==============================] - 0s 62ms/step\n"
          ]
        },
        {
          "name": "stderr",
          "output_type": "stream",
          "text": [
            "\r 20%|█▉        | 49/250 [00:07<00:22,  8.75it/s]"
          ]
        },
        {
          "name": "stdout",
          "output_type": "stream",
          "text": [
            "Image:  /content/sentences/b01/b01-084/b01-084-02.png\n",
            "Label: 3,000 men , who must take about a fortnight to arrive .\n",
            "Prediction:  S,00men , who must take dbout a fortuipht to arive .\n",
            "CER: 0.12727272727272726; WER: 0.4166666666666667\n",
            "S,00men , who must take dbout a fortuipht to arive . 3,000 men , who must take about a fortnight to arrive .\n",
            "/content/sentences/b05/b05-042/b05-042-10.png to a different industry if he just gives in and\n",
            "1/1 [==============================] - 0s 61ms/step\n"
          ]
        },
        {
          "name": "stderr",
          "output_type": "stream",
          "text": [
            "\r 20%|██        | 50/250 [00:07<00:22,  8.91it/s]"
          ]
        },
        {
          "name": "stdout",
          "output_type": "stream",
          "text": [
            "Image:  /content/sentences/b05/b05-042/b05-042-10.png\n",
            "Label: to a different industry if he just gives in and\n",
            "Prediction:  to a ditterent industru if he iust cives in ant\n",
            "CER: 0.1276595744680851; WER: 0.5\n",
            "to a ditterent industru if he iust cives in ant to a different industry if he just gives in and\n",
            "/content/sentences/a06/a06-020/a06-020-00.png He was announcing his executive's rejection of the ultimatum to the\n",
            "1/1 [==============================] - 0s 63ms/step\n"
          ]
        },
        {
          "name": "stderr",
          "output_type": "stream",
          "text": [
            "\r 20%|██        | 51/250 [00:07<00:22,  8.91it/s]"
          ]
        },
        {
          "name": "stdout",
          "output_type": "stream",
          "text": [
            "Image:  /content/sentences/a06/a06-020/a06-020-00.png\n",
            "Label: He was announcing his executive's rejection of the ultimatum to the\n",
            "Prediction:  he was anmoundinghis ereantrveis regection of the affinston to the\n",
            "CER: 0.2537313432835821; WER: 0.5454545454545454\n",
            "he was anmoundinghis ereantrveis regection of the affinston to the He was announcing his executive's rejection of the ultimatum to the\n",
            "/content/sentences/a01/a01-122u/a01-122u-00.png \" Mr. Powell finds it easier to take it out\n",
            "1/1 [==============================] - 0s 63ms/step\n"
          ]
        },
        {
          "name": "stderr",
          "output_type": "stream",
          "text": [
            "\r 21%|██        | 52/250 [00:07<00:22,  8.85it/s]"
          ]
        },
        {
          "name": "stdout",
          "output_type": "stream",
          "text": [
            "Image:  /content/sentences/a01/a01-122u/a01-122u-00.png\n",
            "Label: \" Mr. Powell finds it easier to take it out\n",
            "Prediction:  \" Mr. Powell finds it easier to take it out\n",
            "CER: 0.0; WER: 0.0\n",
            "\" Mr. Powell finds it easier to take it out \" Mr. Powell finds it easier to take it out\n",
            "/content/sentences/a02/a02-012/a02-012-00.png The team is composed of experienced\n",
            "1/1 [==============================] - 0s 63ms/step\n"
          ]
        },
        {
          "name": "stderr",
          "output_type": "stream",
          "text": [
            "\r 21%|██        | 53/250 [00:07<00:22,  8.61it/s]"
          ]
        },
        {
          "name": "stdout",
          "output_type": "stream",
          "text": [
            "Image:  /content/sentences/a02/a02-012/a02-012-00.png\n",
            "Label: The team is composed of experienced\n",
            "Prediction:  The thamn is composed of experienced\n",
            "CER: 0.05714285714285714; WER: 0.16666666666666666\n",
            "The thamn is composed of experienced The team is composed of experienced\n",
            "/content/sentences/b01/b01-094/b01-094-01.png they must go . The best news for the Congo\n",
            "1/1 [==============================] - 0s 61ms/step\n"
          ]
        },
        {
          "name": "stderr",
          "output_type": "stream",
          "text": [
            "\r 22%|██▏       | 54/250 [00:07<00:22,  8.77it/s]"
          ]
        },
        {
          "name": "stdout",
          "output_type": "stream",
          "text": [
            "Image:  /content/sentences/b01/b01-094/b01-094-01.png\n",
            "Label: they must go . The best news for the Congo\n",
            "Prediction:  thy must go . The best news for the Lango\n",
            "CER: 0.07142857142857142; WER: 0.2\n",
            "thy must go . The best news for the Lango they must go . The best news for the Congo\n",
            "/content/sentences/b01/b01-004/b01-004-02.png wait until South Africa actually becomes a\n",
            "1/1 [==============================] - 0s 64ms/step\n"
          ]
        },
        {
          "name": "stderr",
          "output_type": "stream",
          "text": [
            "\r 22%|██▏       | 55/250 [00:08<00:23,  8.43it/s]"
          ]
        },
        {
          "name": "stdout",
          "output_type": "stream",
          "text": [
            "Image:  /content/sentences/b01/b01-004/b01-004-02.png\n",
            "Label: wait until South Africa actually becomes a\n",
            "Prediction:  wait untit South Africa actually becomes a\n",
            "CER: 0.023809523809523808; WER: 0.14285714285714285\n",
            "wait untit South Africa actually becomes a wait until South Africa actually becomes a\n",
            "/content/sentences/a06/a06-008/a06-008-02.png legislation . \" Why don't you make proposals to legislate\n",
            "1/1 [==============================] - 0s 63ms/step\n"
          ]
        },
        {
          "name": "stderr",
          "output_type": "stream",
          "text": [
            "\r 22%|██▏       | 56/250 [00:08<00:22,  8.55it/s]"
          ]
        },
        {
          "name": "stdout",
          "output_type": "stream",
          "text": [
            "Image:  /content/sentences/a06/a06-008/a06-008-02.png\n",
            "Label: legislation . \" Why don't you make proposals to legislate\n",
            "Prediction:  egislation . Why donit you male proposals to legishk\n",
            "CER: 0.15789473684210525; WER: 0.5\n",
            "egislation . Why donit you male proposals to legishk legislation . \" Why don't you make proposals to legislate\n",
            "/content/sentences/a05/a05-073/a05-073-01.png Berlin . He deplored the possibility of\n",
            "1/1 [==============================] - 0s 64ms/step\n"
          ]
        },
        {
          "name": "stderr",
          "output_type": "stream",
          "text": [
            "\r 23%|██▎       | 57/250 [00:08<00:22,  8.73it/s]"
          ]
        },
        {
          "name": "stdout",
          "output_type": "stream",
          "text": [
            "Image:  /content/sentences/a05/a05-073/a05-073-01.png\n",
            "Label: Berlin . He deplored the possibility of\n",
            "Prediction:  Bertin . He deplored the possibility of\n",
            "CER: 0.02564102564102564; WER: 0.14285714285714285\n",
            "Bertin . He deplored the possibility of Berlin . He deplored the possibility of\n",
            "/content/sentences/a04/a04-010/a04-010-08.png talks with Mr. Krushchov this evening .\n",
            "1/1 [==============================] - 0s 64ms/step\n"
          ]
        },
        {
          "name": "stderr",
          "output_type": "stream",
          "text": [
            "\r 23%|██▎       | 58/250 [00:08<00:21,  8.79it/s]"
          ]
        },
        {
          "name": "stdout",
          "output_type": "stream",
          "text": [
            "Image:  /content/sentences/a04/a04-010/a04-010-08.png\n",
            "Label: talks with Mr. Krushchov this evening .\n",
            "Prediction:  toles with Mr. Krushchor this evening .\n",
            "CER: 0.07692307692307693; WER: 0.2857142857142857\n",
            "toles with Mr. Krushchor this evening . talks with Mr. Krushchov this evening .\n",
            "/content/sentences/a04/a04-092/a04-092-03.png first of these reasons is the importance of pre-\n",
            "1/1 [==============================] - 0s 60ms/step\n"
          ]
        },
        {
          "name": "stderr",
          "output_type": "stream",
          "text": [
            "\r 24%|██▎       | 59/250 [00:08<00:21,  8.80it/s]"
          ]
        },
        {
          "name": "stdout",
          "output_type": "stream",
          "text": [
            "Image:  /content/sentences/a04/a04-092/a04-092-03.png\n",
            "Label: first of these reasons is the importance of pre-\n",
            "Prediction:  First of these rensons is the importance of pre-\n",
            "CER: 0.041666666666666664; WER: 0.2222222222222222\n",
            "First of these rensons is the importance of pre- first of these reasons is the importance of pre-\n",
            "/content/sentences/a03/a03-011/a03-011-07.png of the talks in Belgrade - and on both the two\n",
            "1/1 [==============================] - 0s 61ms/step\n"
          ]
        },
        {
          "name": "stderr",
          "output_type": "stream",
          "text": [
            "\r 24%|██▍       | 60/250 [00:08<00:21,  8.90it/s]"
          ]
        },
        {
          "name": "stdout",
          "output_type": "stream",
          "text": [
            "Image:  /content/sentences/a03/a03-011/a03-011-07.png\n",
            "Label: of the talks in Belgrade - and on both the two\n",
            "Prediction:  of the talks in Belgrade -and on both the two\n",
            "CER: 0.021739130434782608; WER: 0.18181818181818182\n",
            "of the talks in Belgrade -and on both the two of the talks in Belgrade - and on both the two\n",
            "/content/sentences/a03/a03-023/a03-023-09.png communists' former base 60 miles\n",
            "1/1 [==============================] - 0s 61ms/step\n"
          ]
        },
        {
          "name": "stderr",
          "output_type": "stream",
          "text": [
            "\r 24%|██▍       | 61/250 [00:08<00:20,  9.02it/s]"
          ]
        },
        {
          "name": "stdout",
          "output_type": "stream",
          "text": [
            "Image:  /content/sentences/a03/a03-023/a03-023-09.png\n",
            "Label: communists' former base 60 miles\n",
            "Prediction:  communists former base Go miles\n",
            "CER: 0.09375; WER: 0.4\n",
            "communists former base Go miles communists' former base 60 miles\n",
            "/content/sentences/b05/b05-042/b05-042-00.png What happens is that the unskilled worker\n",
            "1/1 [==============================] - 0s 63ms/step\n"
          ]
        },
        {
          "name": "stderr",
          "output_type": "stream",
          "text": [
            "\r 25%|██▍       | 62/250 [00:08<00:20,  8.96it/s]"
          ]
        },
        {
          "name": "stdout",
          "output_type": "stream",
          "text": [
            "Image:  /content/sentences/b05/b05-042/b05-042-00.png\n",
            "Label: What happens is that the unskilled worker\n",
            "Prediction:  What happens is that the unsrciled woncer\n",
            "CER: 0.12195121951219512; WER: 0.2857142857142857\n",
            "What happens is that the unsrciled woncer What happens is that the unskilled worker\n",
            "/content/sentences/b03/b03-109/b03-109-00.png Can it be shown that the one scale is demon-\n",
            "1/1 [==============================] - 0s 63ms/step\n"
          ]
        },
        {
          "name": "stderr",
          "output_type": "stream",
          "text": [
            "\r 25%|██▌       | 63/250 [00:08<00:20,  8.94it/s]"
          ]
        },
        {
          "name": "stdout",
          "output_type": "stream",
          "text": [
            "Image:  /content/sentences/b03/b03-109/b03-109-00.png\n",
            "Label: Can it be shown that the one scale is demon-\n",
            "Prediction:  can it be shown that the one tcals s demon-\n",
            "CER: 0.09090909090909091; WER: 0.3\n",
            "can it be shown that the one tcals s demon- Can it be shown that the one scale is demon-\n",
            "/content/sentences/a01/a01-043/a01-043-03.png his Housing Minister . It has aroused\n",
            "1/1 [==============================] - 0s 61ms/step\n"
          ]
        },
        {
          "name": "stderr",
          "output_type": "stream",
          "text": [
            "\r 26%|██▌       | 64/250 [00:09<00:21,  8.82it/s]"
          ]
        },
        {
          "name": "stdout",
          "output_type": "stream",
          "text": [
            "Image:  /content/sentences/a01/a01-043/a01-043-03.png\n",
            "Label: his Housing Minister . It has aroused\n",
            "Prediction:  hin Bouing Miniter . I has aroused\n",
            "CER: 0.13513513513513514; WER: 0.5714285714285714\n",
            "hin Bouing Miniter . I has aroused his Housing Minister . It has aroused\n",
            "/content/sentences/a04/a04-031/a04-031-08.png to people of goodwill who hate the cold war ,\n",
            "1/1 [==============================] - 0s 63ms/step\n"
          ]
        },
        {
          "name": "stderr",
          "output_type": "stream",
          "text": [
            "\r 26%|██▌       | 65/250 [00:09<00:21,  8.64it/s]"
          ]
        },
        {
          "name": "stdout",
          "output_type": "stream",
          "text": [
            "Image:  /content/sentences/a04/a04-031/a04-031-08.png\n",
            "Label: to people of goodwill who hate the cold war ,\n",
            "Prediction:  to people of goodwlee who hate the colde war ,\n",
            "CER: 0.08888888888888889; WER: 0.2\n",
            "to people of goodwlee who hate the colde war , to people of goodwill who hate the cold war ,\n",
            "/content/sentences/b01/b01-057/b01-057-07.png waiting for the millenium , however , most of us\n",
            "1/1 [==============================] - 0s 63ms/step\n"
          ]
        },
        {
          "name": "stderr",
          "output_type": "stream",
          "text": [
            "\r 26%|██▋       | 66/250 [00:09<00:21,  8.76it/s]"
          ]
        },
        {
          "name": "stdout",
          "output_type": "stream",
          "text": [
            "Image:  /content/sentences/b01/b01-057/b01-057-07.png\n",
            "Label: waiting for the millenium , however , most of us\n",
            "Prediction:  waiting far the mtlleninm , howewer ,most of uo\n",
            "CER: 0.125; WER: 0.6\n",
            "waiting far the mtlleninm , howewer ,most of uo waiting for the millenium , however , most of us\n",
            "/content/sentences/a01/a01-113u/a01-113u-10.png strain of the Korean war .\n",
            "1/1 [==============================] - 0s 62ms/step\n"
          ]
        },
        {
          "name": "stderr",
          "output_type": "stream",
          "text": [
            "\r 27%|██▋       | 67/250 [00:09<00:20,  8.89it/s]"
          ]
        },
        {
          "name": "stdout",
          "output_type": "stream",
          "text": [
            "Image:  /content/sentences/a01/a01-113u/a01-113u-10.png\n",
            "Label: strain of the Korean war .\n",
            "Prediction:  shain of the Horean war.\n",
            "CER: 0.15384615384615385; WER: 0.6666666666666666\n",
            "shain of the Horean war. strain of the Korean war .\n",
            "/content/sentences/a01/a01-132/a01-132-01.png development being limited or an\n",
            "1/1 [==============================] - 0s 63ms/step\n"
          ]
        },
        {
          "name": "stderr",
          "output_type": "stream",
          "text": [
            "\r 27%|██▋       | 68/250 [00:09<00:20,  8.99it/s]"
          ]
        },
        {
          "name": "stdout",
          "output_type": "stream",
          "text": [
            "Image:  /content/sentences/a01/a01-132/a01-132-01.png\n",
            "Label: development being limited or an\n",
            "Prediction:  development being limmited o an\n",
            "CER: 0.06451612903225806; WER: 0.4\n",
            "development being limmited o an development being limited or an\n",
            "/content/sentences/b01/b01-062/b01-062-02.png be wrong to refuse all political advertisements with\n",
            "1/1 [==============================] - 0s 64ms/step\n"
          ]
        },
        {
          "name": "stderr",
          "output_type": "stream",
          "text": [
            "\r 28%|██▊       | 69/250 [00:09<00:20,  8.86it/s]"
          ]
        },
        {
          "name": "stdout",
          "output_type": "stream",
          "text": [
            "Image:  /content/sentences/b01/b01-062/b01-062-02.png\n",
            "Label: be wrong to refuse all political advertisements with\n",
            "Prediction:  be wrong to refure all political advertisements with\n",
            "CER: 0.019230769230769232; WER: 0.125\n",
            "be wrong to refure all political advertisements with be wrong to refuse all political advertisements with\n",
            "/content/sentences/a03/a03-059/a03-059-08.png Canada to the problems of the Atlantic\n",
            "1/1 [==============================] - 0s 63ms/step\n"
          ]
        },
        {
          "name": "stderr",
          "output_type": "stream",
          "text": [
            "\r 28%|██▊       | 70/250 [00:09<00:20,  8.89it/s]"
          ]
        },
        {
          "name": "stdout",
          "output_type": "stream",
          "text": [
            "Image:  /content/sentences/a03/a03-059/a03-059-08.png\n",
            "Label: Canada to the problems of the Atlantic\n",
            "Prediction:  Conada toth problems of the Alantie\n",
            "CER: 0.13157894736842105; WER: 0.5714285714285714\n",
            "Conada toth problems of the Alantie Canada to the problems of the Atlantic\n",
            "/content/sentences/a04/a04-059/a04-059-02.png city with two million people . It should be sited\n",
            "1/1 [==============================] - 0s 67ms/step\n"
          ]
        },
        {
          "name": "stderr",
          "output_type": "stream",
          "text": [
            "\r 28%|██▊       | 71/250 [00:09<00:20,  8.84it/s]"
          ]
        },
        {
          "name": "stdout",
          "output_type": "stream",
          "text": [
            "Image:  /content/sentences/a04/a04-059/a04-059-02.png\n",
            "Label: city with two million people . It should be sited\n",
            "Prediction:  aty with two mlhlon prople . It chould be soted\n",
            "CER: 0.16326530612244897; WER: 0.5\n",
            "aty with two mlhlon prople . It chould be soted city with two million people . It should be sited\n",
            "/content/sentences/a06/a06-128/a06-128-08.png the West on Berlin . And he repeats\n",
            "1/1 [==============================] - 0s 61ms/step\n"
          ]
        },
        {
          "name": "stderr",
          "output_type": "stream",
          "text": [
            "\r 29%|██▉       | 72/250 [00:09<00:20,  8.84it/s]"
          ]
        },
        {
          "name": "stdout",
          "output_type": "stream",
          "text": [
            "Image:  /content/sentences/a06/a06-128/a06-128-08.png\n",
            "Label: the West on Berlin . And he repeats\n",
            "Prediction:  the West onBerlin . Aud he repeats\n",
            "CER: 0.05714285714285714; WER: 0.375\n",
            "the West onBerlin . Aud he repeats the West on Berlin . And he repeats\n",
            "/content/sentences/a03/a03-059/a03-059-09.png provinces . However , be this election\n",
            "1/1 [==============================] - 0s 63ms/step\n"
          ]
        },
        {
          "name": "stderr",
          "output_type": "stream",
          "text": [
            "\r 29%|██▉       | 73/250 [00:10<00:20,  8.76it/s]"
          ]
        },
        {
          "name": "stdout",
          "output_type": "stream",
          "text": [
            "Image:  /content/sentences/a03/a03-059/a03-059-09.png\n",
            "Label: provinces . However , be this election\n",
            "Prediction:  provices . However , be this election\n",
            "CER: 0.02631578947368421; WER: 0.14285714285714285\n",
            "provices . However , be this election provinces . However , be this election\n",
            "/content/sentences/a01/a01-026/a01-026-05.png the United Federal Party and the Dominion Party .\n",
            "1/1 [==============================] - 0s 67ms/step\n"
          ]
        },
        {
          "name": "stderr",
          "output_type": "stream",
          "text": [
            "\r 30%|██▉       | 74/250 [00:10<00:20,  8.64it/s]"
          ]
        },
        {
          "name": "stdout",
          "output_type": "stream",
          "text": [
            "Image:  /content/sentences/a01/a01-026/a01-026-05.png\n",
            "Label: the United Federal Party and the Dominion Party .\n",
            "Prediction:  the United Federal Prty and the Gorinion Party .\n",
            "CER: 0.061224489795918366; WER: 0.2222222222222222\n",
            "the United Federal Prty and the Gorinion Party . the United Federal Party and the Dominion Party .\n",
            "/content/sentences/a04/a04-050/a04-050-05.png he said , they were out of date and vulnerable and\n",
            "1/1 [==============================] - 0s 62ms/step\n"
          ]
        },
        {
          "name": "stderr",
          "output_type": "stream",
          "text": [
            "\r 30%|███       | 75/250 [00:10<00:19,  8.76it/s]"
          ]
        },
        {
          "name": "stdout",
          "output_type": "stream",
          "text": [
            "Image:  /content/sentences/a04/a04-050/a04-050-05.png\n",
            "Label: he said , they were out of date and vulnerable and\n",
            "Prediction:  he said , they were ont of dete and mlnenceble and\n",
            "CER: 0.14; WER: 0.2727272727272727\n",
            "he said , they were ont of dete and mlnenceble and he said , they were out of date and vulnerable and\n",
            "/content/sentences/a01/a01-007x/a01-007x-02.png would still favour the abolition of the House\n",
            "1/1 [==============================] - 0s 61ms/step\n"
          ]
        },
        {
          "name": "stderr",
          "output_type": "stream",
          "text": [
            "\r 30%|███       | 76/250 [00:10<00:19,  8.86it/s]"
          ]
        },
        {
          "name": "stdout",
          "output_type": "stream",
          "text": [
            "Image:  /content/sentences/a01/a01-007x/a01-007x-02.png\n",
            "Label: would still favour the abolition of the House\n",
            "Prediction:  would still favour the abolition of the House\n",
            "CER: 0.0; WER: 0.0\n",
            "would still favour the abolition of the House would still favour the abolition of the House\n",
            "/content/sentences/a04/a04-066/a04-066-05.png disarmament to shift the emphasis of\n",
            "1/1 [==============================] - 0s 61ms/step\n"
          ]
        },
        {
          "name": "stderr",
          "output_type": "stream",
          "text": [
            "\r 31%|███       | 77/250 [00:10<00:19,  8.96it/s]"
          ]
        },
        {
          "name": "stdout",
          "output_type": "stream",
          "text": [
            "Image:  /content/sentences/a04/a04-066/a04-066-05.png\n",
            "Label: disarmament to shift the emphasis of\n",
            "Prediction:  dsermament to shot the emphosis of\n",
            "CER: 0.1388888888888889; WER: 0.5\n",
            "dsermament to shot the emphosis of disarmament to shift the emphasis of\n",
            "/content/sentences/a04/a04-069/a04-069-06.png talks with the Soviet Union , for the establishment\n",
            "1/1 [==============================] - 0s 61ms/step\n"
          ]
        },
        {
          "name": "stderr",
          "output_type": "stream",
          "text": [
            "\r 31%|███       | 78/250 [00:10<00:19,  9.00it/s]"
          ]
        },
        {
          "name": "stdout",
          "output_type": "stream",
          "text": [
            "Image:  /content/sentences/a04/a04-069/a04-069-06.png\n",
            "Label: talks with the Soviet Union , for the establishment\n",
            "Prediction:  Ehs witt the soviet Unson for the Aolshnment\n",
            "CER: 0.3137254901960784; WER: 0.6666666666666666\n",
            "Ehs witt the soviet Unson for the Aolshnment talks with the Soviet Union , for the establishment\n",
            "/content/sentences/a01/a01-082u/a01-082u-00.png This surprising statement was a sharp about-\n",
            "1/1 [==============================] - 0s 61ms/step\n"
          ]
        },
        {
          "name": "stderr",
          "output_type": "stream",
          "text": [
            "\r 32%|███▏      | 79/250 [00:10<00:19,  8.90it/s]"
          ]
        },
        {
          "name": "stdout",
          "output_type": "stream",
          "text": [
            "Image:  /content/sentences/a01/a01-082u/a01-082u-00.png\n",
            "Label: This surprising statement was a sharp about-\n",
            "Prediction:  This surprice ofatement was a sharp about-\n",
            "CER: 0.13636363636363635; WER: 0.2857142857142857\n",
            "This surprice ofatement was a sharp about- This surprising statement was a sharp about-\n",
            "/content/sentences/a01/a01-030x/a01-030x-07.png no right to delay progress in the talks by\n",
            "1/1 [==============================] - 0s 63ms/step\n"
          ]
        },
        {
          "name": "stderr",
          "output_type": "stream",
          "text": [
            "\r 32%|███▏      | 80/250 [00:10<00:19,  8.92it/s]"
          ]
        },
        {
          "name": "stdout",
          "output_type": "stream",
          "text": [
            "Image:  /content/sentences/a01/a01-030x/a01-030x-07.png\n",
            "Label: no right to delay progress in the talks by\n",
            "Prediction:  ho right to delay progress in the tolker by\n",
            "CER: 0.09523809523809523; WER: 0.2222222222222222\n",
            "ho right to delay progress in the tolker by no right to delay progress in the talks by\n",
            "/content/sentences/a01/a01-038x/a01-038x-08.png interference by Sir Roy's Federal Government in the talks .\n",
            "1/1 [==============================] - 0s 63ms/step\n"
          ]
        },
        {
          "name": "stderr",
          "output_type": "stream",
          "text": [
            "\r 32%|███▏      | 81/250 [00:10<00:18,  8.91it/s]"
          ]
        },
        {
          "name": "stdout",
          "output_type": "stream",
          "text": [
            "Image:  /content/sentences/a01/a01-038x/a01-038x-08.png\n",
            "Label: interference by Sir Roy's Federal Government in the talks .\n",
            "Prediction:  itefeace by Sit Roy's Fekaral bonnend ithetals\n",
            "CER: 0.3389830508474576; WER: 0.8\n",
            "itefeace by Sit Roy's Fekaral bonnend ithetals interference by Sir Roy's Federal Government in the talks .\n",
            "/content/sentences/a01/a01-020/a01-020-07.png will meet to discuss the function of a\n",
            "1/1 [==============================] - 0s 62ms/step\n"
          ]
        },
        {
          "name": "stderr",
          "output_type": "stream",
          "text": [
            "\r 33%|███▎      | 82/250 [00:11<00:19,  8.78it/s]"
          ]
        },
        {
          "name": "stdout",
          "output_type": "stream",
          "text": [
            "Image:  /content/sentences/a01/a01-020/a01-020-07.png\n",
            "Label: will meet to discuss the function of a\n",
            "Prediction:  wil meet to discuss the fenction of a\n",
            "CER: 0.05263157894736842; WER: 0.25\n",
            "wil meet to discuss the fenction of a will meet to discuss the function of a\n",
            "/content/sentences/a01/a01-132x/a01-132x-04.png underpinning - not undermining - the service .\n",
            "1/1 [==============================] - 0s 64ms/step\n"
          ]
        },
        {
          "name": "stderr",
          "output_type": "stream",
          "text": [
            "\r 33%|███▎      | 83/250 [00:11<00:19,  8.78it/s]"
          ]
        },
        {
          "name": "stdout",
          "output_type": "stream",
          "text": [
            "Image:  /content/sentences/a01/a01-132x/a01-132x-04.png\n",
            "Label: underpinning - not undermining - the service .\n",
            "Prediction:  uderpinming - nof undemining - the services\n",
            "CER: 0.13043478260869565; WER: 0.625\n",
            "uderpinming - nof undemining - the services underpinning - not undermining - the service .\n",
            "/content/sentences/a05/a05-080/a05-080-04.png necessary to bring the British Army of the Rhine\n",
            "1/1 [==============================] - 0s 61ms/step\n"
          ]
        },
        {
          "name": "stderr",
          "output_type": "stream",
          "text": [
            "\r 34%|███▎      | 84/250 [00:11<00:19,  8.58it/s]"
          ]
        },
        {
          "name": "stdout",
          "output_type": "stream",
          "text": [
            "Image:  /content/sentences/a05/a05-080/a05-080-04.png\n",
            "Label: necessary to bring the British Army of the Rhine\n",
            "Prediction:  recessary to bing British Army of the Rhime\n",
            "CER: 0.14583333333333334; WER: 0.4444444444444444\n",
            "recessary to bing British Army of the Rhime necessary to bring the British Army of the Rhine\n",
            "/content/sentences/a06/a06-152/a06-152-02.png on East Germany the regime existing in\n",
            "1/1 [==============================] - 0s 62ms/step\n"
          ]
        },
        {
          "name": "stderr",
          "output_type": "stream",
          "text": [
            "\r 34%|███▍      | 85/250 [00:11<00:18,  8.70it/s]"
          ]
        },
        {
          "name": "stdout",
          "output_type": "stream",
          "text": [
            "Image:  /content/sentences/a06/a06-152/a06-152-02.png\n",
            "Label: on East Germany the regime existing in\n",
            "Prediction:  on East Grmany the regime exiteng in\n",
            "CER: 0.07894736842105263; WER: 0.2857142857142857\n",
            "on East Grmany the regime exiteng in on East Germany the regime existing in\n",
            "/content/sentences/a04/a04-096/a04-096-00.png The second reason is concerned with doubts\n",
            "1/1 [==============================] - 0s 64ms/step\n"
          ]
        },
        {
          "name": "stderr",
          "output_type": "stream",
          "text": [
            "\r 34%|███▍      | 86/250 [00:11<00:18,  8.75it/s]"
          ]
        },
        {
          "name": "stdout",
          "output_type": "stream",
          "text": [
            "Image:  /content/sentences/a04/a04-096/a04-096-00.png\n",
            "Label: The second reason is concerned with doubts\n",
            "Prediction:  The second reuson is concerned with doubts\n",
            "CER: 0.023809523809523808; WER: 0.14285714285714285\n",
            "The second reuson is concerned with doubts The second reason is concerned with doubts\n",
            "/content/sentences/b01/b01-009/b01-009-04.png South Africa , weakening the whites who are\n",
            "1/1 [==============================] - 0s 62ms/step\n"
          ]
        },
        {
          "name": "stderr",
          "output_type": "stream",
          "text": [
            "\r 35%|███▍      | 87/250 [00:11<00:18,  8.88it/s]"
          ]
        },
        {
          "name": "stdout",
          "output_type": "stream",
          "text": [
            "Image:  /content/sentences/b01/b01-009/b01-009-04.png\n",
            "Label: South Africa , weakening the whites who are\n",
            "Prediction:  South Africa , weakeming the whites who are\n",
            "CER: 0.023255813953488372; WER: 0.125\n",
            "South Africa , weakeming the whites who are South Africa , weakening the whites who are\n",
            "/content/sentences/a05/a05-080/a05-080-07.png sirable atmosphere of panic . He thought\n",
            "1/1 [==============================] - 0s 60ms/step\n"
          ]
        },
        {
          "name": "stderr",
          "output_type": "stream",
          "text": [
            "\r 35%|███▌      | 88/250 [00:11<00:18,  8.90it/s]"
          ]
        },
        {
          "name": "stdout",
          "output_type": "stream",
          "text": [
            "Image:  /content/sentences/a05/a05-080/a05-080-07.png\n",
            "Label: sirable atmosphere of panic . He thought\n",
            "Prediction:  sissble atuosphere of panic . He thaught\n",
            "CER: 0.1; WER: 0.42857142857142855\n",
            "sissble atuosphere of panic . He thaught sirable atmosphere of panic . He thought\n",
            "/content/sentences/b04/b04-116/b04-116-07.png difficulties from African politicians greedy for power .\n",
            "1/1 [==============================] - 0s 61ms/step\n"
          ]
        },
        {
          "name": "stderr",
          "output_type": "stream",
          "text": [
            "\r 36%|███▌      | 89/250 [00:11<00:17,  9.02it/s]"
          ]
        },
        {
          "name": "stdout",
          "output_type": "stream",
          "text": [
            "Image:  /content/sentences/b04/b04-116/b04-116-07.png\n",
            "Label: difficulties from African politicians greedy for power .\n",
            "Prediction:  dificaulties from African politicians gueedy for power .\n",
            "CER: 0.05357142857142857; WER: 0.25\n",
            "dificaulties from African politicians gueedy for power . difficulties from African politicians greedy for power .\n",
            "/content/sentences/a06/a06-064/a06-064-05.png support . \" There were no other attacks\n",
            "1/1 [==============================] - 0s 61ms/step\n"
          ]
        },
        {
          "name": "stderr",
          "output_type": "stream",
          "text": [
            "\r 36%|███▌      | 90/250 [00:11<00:17,  8.94it/s]"
          ]
        },
        {
          "name": "stdout",
          "output_type": "stream",
          "text": [
            "Image:  /content/sentences/a06/a06-064/a06-064-05.png\n",
            "Label: support . \" There were no other attacks\n",
            "Prediction:  suppurt . \" Thene were wo other attactes\n",
            "CER: 0.1282051282051282; WER: 0.5\n",
            "suppurt . \" Thene were wo other attactes support . \" There were no other attacks\n",
            "/content/sentences/a01/a01-003/a01-003-00.png Though they may gather some Left-wing support , a\n",
            "1/1 [==============================] - 0s 63ms/step\n"
          ]
        },
        {
          "name": "stderr",
          "output_type": "stream",
          "text": [
            "\r 36%|███▋      | 91/250 [00:12<00:17,  8.91it/s]"
          ]
        },
        {
          "name": "stdout",
          "output_type": "stream",
          "text": [
            "Image:  /content/sentences/a01/a01-003/a01-003-00.png\n",
            "Label: Though they may gather some Left-wing support , a\n",
            "Prediction:  Brugh thy may gater some lft-wing support , a\n",
            "CER: 0.14285714285714285; WER: 0.4444444444444444\n",
            "Brugh thy may gater some lft-wing support , a Though they may gather some Left-wing support , a\n",
            "/content/sentences/a06/a06-036/a06-036-05.png 20 years they will have free food , housing , light ,\n",
            "1/1 [==============================] - 0s 63ms/step\n"
          ]
        },
        {
          "name": "stderr",
          "output_type": "stream",
          "text": [
            "\r 37%|███▋      | 92/250 [00:12<00:17,  8.95it/s]"
          ]
        },
        {
          "name": "stdout",
          "output_type": "stream",
          "text": [
            "Image:  /content/sentences/a06/a06-036/a06-036-05.png\n",
            "Label: 20 years they will have free food , housing , light ,\n",
            "Prediction:  Eo years they wil hare tree fod , honing , light ,\n",
            "CER: 0.1509433962264151; WER: 0.5\n",
            "Eo years they wil hare tree fod , honing , light , 20 years they will have free food , housing , light ,\n",
            "/content/sentences/a02/a02-042/a02-042-07.png Accra ?\n",
            "1/1 [==============================] - 0s 63ms/step\n"
          ]
        },
        {
          "name": "stderr",
          "output_type": "stream",
          "text": [
            "\r 37%|███▋      | 93/250 [00:12<00:17,  8.94it/s]"
          ]
        },
        {
          "name": "stdout",
          "output_type": "stream",
          "text": [
            "Image:  /content/sentences/a02/a02-042/a02-042-07.png\n",
            "Label: Accra ?\n",
            "Prediction:  fecre ? .\n",
            "CER: 0.7142857142857143; WER: 1.0\n",
            "fecre ? . Accra ?\n",
            "/content/sentences/a01/a01-102/a01-102-09.png from the real problems to fiddling about\n",
            "1/1 [==============================] - 0s 62ms/step\n"
          ]
        },
        {
          "name": "stderr",
          "output_type": "stream",
          "text": [
            "\r 38%|███▊      | 94/250 [00:12<00:17,  9.03it/s]"
          ]
        },
        {
          "name": "stdout",
          "output_type": "stream",
          "text": [
            "Image:  /content/sentences/a01/a01-102/a01-102-09.png\n",
            "Label: from the real problems to fiddling about\n",
            "Prediction:  from the real problems to fidling about\n",
            "CER: 0.025; WER: 0.14285714285714285\n",
            "from the real problems to fidling about from the real problems to fiddling about\n",
            "/content/sentences/a05/a05-029/a05-029-02.png September , was delayed because of the\n",
            "1/1 [==============================] - 0s 66ms/step\n"
          ]
        },
        {
          "name": "stderr",
          "output_type": "stream",
          "text": [
            "\r 38%|███▊      | 95/250 [00:12<00:17,  8.92it/s]"
          ]
        },
        {
          "name": "stdout",
          "output_type": "stream",
          "text": [
            "Image:  /content/sentences/a05/a05-029/a05-029-02.png\n",
            "Label: September , was delayed because of the\n",
            "Prediction:  Septenber , was delayed because of the\n",
            "CER: 0.02631578947368421; WER: 0.14285714285714285\n",
            "Septenber , was delayed because of the September , was delayed because of the\n",
            "/content/sentences/b01/b01-094/b01-094-09.png can recognise .\n",
            "1/1 [==============================] - 0s 62ms/step\n"
          ]
        },
        {
          "name": "stderr",
          "output_type": "stream",
          "text": [
            "\r 38%|███▊      | 96/250 [00:12<00:17,  8.72it/s]"
          ]
        },
        {
          "name": "stdout",
          "output_type": "stream",
          "text": [
            "Image:  /content/sentences/b01/b01-094/b01-094-09.png\n",
            "Label: can recognise .\n",
            "Prediction:  can recqise .\n",
            "CER: 0.2; WER: 0.3333333333333333\n",
            "can recqise . can recognise .\n",
            "/content/sentences/a06/a06-134/a06-134-02.png tell : The U.S. - It is false to say the absence of a peace\n",
            "1/1 [==============================] - 0s 62ms/step\n"
          ]
        },
        {
          "name": "stderr",
          "output_type": "stream",
          "text": [
            "\r 39%|███▉      | 97/250 [00:12<00:17,  8.82it/s]"
          ]
        },
        {
          "name": "stdout",
          "output_type": "stream",
          "text": [
            "Image:  /content/sentences/a06/a06-134/a06-134-02.png\n",
            "Label: tell : The U.S. - It is false to say the absence of a peace\n",
            "Prediction:  ll : the U.S.- It is falce to cay the abovence of a prace\n",
            "CER: 0.15254237288135594; WER: 0.5333333333333333\n",
            "ll : the U.S.- It is falce to cay the abovence of a prace tell : The U.S. - It is false to say the absence of a peace\n",
            "/content/sentences/a05/a05-009/a05-009-06.png of Staff , a process that may take four\n",
            "1/1 [==============================] - 0s 64ms/step\n"
          ]
        },
        {
          "name": "stderr",
          "output_type": "stream",
          "text": [
            "\r 39%|███▉      | 98/250 [00:12<00:17,  8.77it/s]"
          ]
        },
        {
          "name": "stdout",
          "output_type": "stream",
          "text": [
            "Image:  /content/sentences/a05/a05-009/a05-009-06.png\n",
            "Label: of Staff , a process that may take four\n",
            "Prediction:  of Staff , a process that may take four\n",
            "CER: 0.0; WER: 0.0\n",
            "of Staff , a process that may take four of Staff , a process that may take four\n",
            "/content/sentences/b04/b04-020/b04-020-03.png splendid variety of goods to choose from .\n",
            "1/1 [==============================] - 0s 64ms/step\n"
          ]
        },
        {
          "name": "stderr",
          "output_type": "stream",
          "text": [
            "\r 40%|███▉      | 99/250 [00:13<00:17,  8.69it/s]"
          ]
        },
        {
          "name": "stdout",
          "output_type": "stream",
          "text": [
            "Image:  /content/sentences/b04/b04-020/b04-020-03.png\n",
            "Label: splendid variety of goods to choose from .\n",
            "Prediction:  splensid variety of poods to choose from .\n",
            "CER: 0.047619047619047616; WER: 0.25\n",
            "splensid variety of poods to choose from . splendid variety of goods to choose from .\n",
            "/content/sentences/a02/a02-024/a02-024-06.png demonstrated outside the British-owned Kingsway\n",
            "1/1 [==============================] - 0s 65ms/step\n"
          ]
        },
        {
          "name": "stderr",
          "output_type": "stream",
          "text": [
            "\r 40%|████      | 100/250 [00:13<00:17,  8.70it/s]"
          ]
        },
        {
          "name": "stdout",
          "output_type": "stream",
          "text": [
            "Image:  /content/sentences/a02/a02-024/a02-024-06.png\n",
            "Label: demonstrated outside the British-owned Kingsway\n",
            "Prediction:  demanstrated ontside the Butish -ovked Kingsway\n",
            "CER: 0.14893617021276595; WER: 0.8\n",
            "demanstrated ontside the Butish -ovked Kingsway demonstrated outside the British-owned Kingsway\n",
            "/content/sentences/a03/a03-023/a03-023-05.png tactically useful Plain of Jars , however ,\n",
            "1/1 [==============================] - 0s 63ms/step\n"
          ]
        },
        {
          "name": "stderr",
          "output_type": "stream",
          "text": [
            "\r 40%|████      | 101/250 [00:13<00:17,  8.71it/s]"
          ]
        },
        {
          "name": "stdout",
          "output_type": "stream",
          "text": [
            "Image:  /content/sentences/a03/a03-023/a03-023-05.png\n",
            "Label: tactically useful Plain of Jars , however ,\n",
            "Prediction:  tactically usefal Mlain of Sars , however ,\n",
            "CER: 0.06976744186046512; WER: 0.375\n",
            "tactically usefal Mlain of Sars , however , tactically useful Plain of Jars , however ,\n",
            "/content/sentences/a05/a05-094/a05-094-06.png metaphorical braces were visible in the\n",
            "1/1 [==============================] - 0s 61ms/step\n"
          ]
        },
        {
          "name": "stderr",
          "output_type": "stream",
          "text": [
            "\r 41%|████      | 102/250 [00:13<00:16,  8.81it/s]"
          ]
        },
        {
          "name": "stdout",
          "output_type": "stream",
          "text": [
            "Image:  /content/sentences/a05/a05-094/a05-094-06.png\n",
            "Label: metaphorical braces were visible in the\n",
            "Prediction:  netafhorical braces were visible in the\n",
            "CER: 0.05128205128205128; WER: 0.16666666666666666\n",
            "netafhorical braces were visible in the metaphorical braces were visible in the\n",
            "/content/sentences/a01/a01-122u/a01-122u-05.png the pharmaceutical industry . \" The health\n",
            "1/1 [==============================] - 0s 63ms/step\n"
          ]
        },
        {
          "name": "stderr",
          "output_type": "stream",
          "text": [
            "\r 41%|████      | 103/250 [00:13<00:16,  8.95it/s]"
          ]
        },
        {
          "name": "stdout",
          "output_type": "stream",
          "text": [
            "Image:  /content/sentences/a01/a01-122u/a01-122u-05.png\n",
            "Label: the pharmaceutical industry . \" The health\n",
            "Prediction:  the pnarmacentical industry . \" The health\n",
            "CER: 0.047619047619047616; WER: 0.14285714285714285\n",
            "the pnarmacentical industry . \" The health the pharmaceutical industry . \" The health\n",
            "/content/sentences/a01/a01-122/a01-122-01.png children and sick people than to take on this vast\n",
            "1/1 [==============================] - 0s 63ms/step\n"
          ]
        },
        {
          "name": "stderr",
          "output_type": "stream",
          "text": [
            "\r 42%|████▏     | 104/250 [00:13<00:16,  8.91it/s]"
          ]
        },
        {
          "name": "stdout",
          "output_type": "stream",
          "text": [
            "Image:  /content/sentences/a01/a01-122/a01-122-01.png\n",
            "Label: children and sick people than to take on this vast\n",
            "Prediction:  childrens and sick people thanta take onthis vast\n",
            "CER: 0.08; WER: 0.5\n",
            "childrens and sick people thanta take onthis vast children and sick people than to take on this vast\n",
            "/content/sentences/b04/b04-181/b04-181-00.png There is no doubt what the Danes understand\n",
            "1/1 [==============================] - 0s 62ms/step\n"
          ]
        },
        {
          "name": "stderr",
          "output_type": "stream",
          "text": [
            "\r 42%|████▏     | 105/250 [00:13<00:16,  8.90it/s]"
          ]
        },
        {
          "name": "stdout",
          "output_type": "stream",
          "text": [
            "Image:  /content/sentences/b04/b04-181/b04-181-00.png\n",
            "Label: There is no doubt what the Danes understand\n",
            "Prediction:  there is no doubt what the SDames understand\n",
            "CER: 0.06976744186046512; WER: 0.25\n",
            "there is no doubt what the SDames understand There is no doubt what the Danes understand\n",
            "/content/sentences/a03/a03-073/a03-073-03.png only rocket and launcher in Europe to\n",
            "1/1 [==============================] - 0s 61ms/step\n"
          ]
        },
        {
          "name": "stderr",
          "output_type": "stream",
          "text": [
            "\r 42%|████▏     | 106/250 [00:13<00:16,  8.91it/s]"
          ]
        },
        {
          "name": "stdout",
          "output_type": "stream",
          "text": [
            "Image:  /content/sentences/a03/a03-073/a03-073-03.png\n",
            "Label: only rocket and launcher in Europe to\n",
            "Prediction:  anly rochet and lancher in Ewore to\n",
            "CER: 0.16216216216216217; WER: 0.5714285714285714\n",
            "anly rochet and lancher in Ewore to only rocket and launcher in Europe to\n",
            "/content/sentences/b01/b01-038/b01-038-06.png their balances , will gain some immediate help .\n",
            "1/1 [==============================] - 0s 63ms/step\n"
          ]
        },
        {
          "name": "stderr",
          "output_type": "stream",
          "text": [
            "\r 43%|████▎     | 107/250 [00:13<00:15,  8.94it/s]"
          ]
        },
        {
          "name": "stdout",
          "output_type": "stream",
          "text": [
            "Image:  /content/sentences/b01/b01-038/b01-038-06.png\n",
            "Label: their balances , will gain some immediate help .\n",
            "Prediction:  their balances , will gain come immediate help .\n",
            "CER: 0.020833333333333332; WER: 0.1111111111111111\n",
            "their balances , will gain come immediate help . their balances , will gain some immediate help .\n",
            "/content/sentences/a05/a05-089/a05-089-07.png obscure on Berlin , damaging and obscure\n",
            "1/1 [==============================] - 0s 64ms/step\n"
          ]
        },
        {
          "name": "stderr",
          "output_type": "stream",
          "text": [
            "\r 43%|████▎     | 108/250 [00:14<00:16,  8.75it/s]"
          ]
        },
        {
          "name": "stdout",
          "output_type": "stream",
          "text": [
            "Image:  /content/sentences/a05/a05-089/a05-089-07.png\n",
            "Label: obscure on Berlin , damaging and obscure\n",
            "Prediction:  abscwe on Berlin , domaging and obacme\n",
            "CER: 0.175; WER: 0.42857142857142855\n",
            "abscwe on Berlin , domaging and obacme obscure on Berlin , damaging and obscure\n",
            "/content/sentences/b05/b05-042/b05-042-04.png skilled , obedient craftsman in no time at all .\n",
            "1/1 [==============================] - 0s 62ms/step\n"
          ]
        },
        {
          "name": "stderr",
          "output_type": "stream",
          "text": [
            "\r 44%|████▎     | 109/250 [00:14<00:16,  8.74it/s]"
          ]
        },
        {
          "name": "stdout",
          "output_type": "stream",
          "text": [
            "Image:  /content/sentences/b05/b05-042/b05-042-04.png\n",
            "Label: skilled , obedient craftsman in no time at all .\n",
            "Prediction:  srilled , obedient croftsman in no time oft all .\n",
            "CER: 0.08333333333333333; WER: 0.3\n",
            "srilled , obedient croftsman in no time oft all . skilled , obedient craftsman in no time at all .\n",
            "/content/sentences/a05/a05-039/a05-039-03.png appearance of the Progressive party from\n",
            "1/1 [==============================] - 0s 63ms/step\n"
          ]
        },
        {
          "name": "stderr",
          "output_type": "stream",
          "text": [
            "\r 44%|████▍     | 110/250 [00:14<00:16,  8.52it/s]"
          ]
        },
        {
          "name": "stdout",
          "output_type": "stream",
          "text": [
            "Image:  /content/sentences/a05/a05-039/a05-039-03.png\n",
            "Label: appearance of the Progressive party from\n",
            "Prediction:  appearance of the Progressive party from\n",
            "CER: 0.0; WER: 0.0\n",
            "appearance of the Progressive party from appearance of the Progressive party from\n",
            "/content/sentences/a06/a06-119/a06-119-08.png Now look at the other side of all\n",
            "1/1 [==============================] - 0s 65ms/step\n"
          ]
        },
        {
          "name": "stderr",
          "output_type": "stream",
          "text": [
            "\r 44%|████▍     | 111/250 [00:14<00:16,  8.59it/s]"
          ]
        },
        {
          "name": "stdout",
          "output_type": "stream",
          "text": [
            "Image:  /content/sentences/a06/a06-119/a06-119-08.png\n",
            "Label: Now look at the other side of all\n",
            "Prediction:  Now lool at the other Side of all\n",
            "CER: 0.06060606060606061; WER: 0.25\n",
            "Now lool at the other Side of all Now look at the other side of all\n",
            "/content/sentences/b04/b04-128/b04-128-05.png up on 1960 . Britain's business men are right to back\n",
            "1/1 [==============================] - 0s 71ms/step\n"
          ]
        },
        {
          "name": "stderr",
          "output_type": "stream",
          "text": [
            "\r 45%|████▍     | 112/250 [00:14<00:16,  8.39it/s]"
          ]
        },
        {
          "name": "stdout",
          "output_type": "stream",
          "text": [
            "Image:  /content/sentences/b04/b04-128/b04-128-05.png\n",
            "Label: up on 1960 . Britain's business men are right to back\n",
            "Prediction:  up on 1R0 . Bitain's businers men ane ruight to backe\n",
            "CER: 0.1320754716981132; WER: 0.5454545454545454\n",
            "up on 1R0 . Bitain's businers men ane ruight to backe up on 1960 . Britain's business men are right to back\n",
            "/content/sentences/a04/a04-085/a04-085-02.png show \" compared with some countries , he\n",
            "1/1 [==============================] - 0s 62ms/step\n"
          ]
        },
        {
          "name": "stderr",
          "output_type": "stream",
          "text": [
            "\r 45%|████▌     | 113/250 [00:14<00:16,  8.36it/s]"
          ]
        },
        {
          "name": "stdout",
          "output_type": "stream",
          "text": [
            "Image:  /content/sentences/a04/a04-085/a04-085-02.png\n",
            "Label: show \" compared with some countries , he\n",
            "Prediction:  show \" compaved with some countries , he\n",
            "CER: 0.025; WER: 0.125\n",
            "show \" compaved with some countries , he show \" compared with some countries , he\n",
            "/content/sentences/a01/a01-043/a01-043-05.png senators of the Deep South . The negro\n",
            "1/1 [==============================] - 0s 61ms/step\n"
          ]
        },
        {
          "name": "stderr",
          "output_type": "stream",
          "text": [
            "\r 46%|████▌     | 114/250 [00:14<00:15,  8.51it/s]"
          ]
        },
        {
          "name": "stdout",
          "output_type": "stream",
          "text": [
            "Image:  /content/sentences/a01/a01-043/a01-043-05.png\n",
            "Label: senators of the Deep South . The negro\n",
            "Prediction:  senaton of the cdep South . The negro\n",
            "CER: 0.10526315789473684; WER: 0.25\n",
            "senaton of the cdep South . The negro senators of the Deep South . The negro\n",
            "/content/sentences/a01/a01-117/a01-117-04.png Then Mr. Brown swung his attack directly to the\n",
            "1/1 [==============================] - 0s 62ms/step\n"
          ]
        },
        {
          "name": "stderr",
          "output_type": "stream",
          "text": [
            "\r 46%|████▌     | 115/250 [00:14<00:15,  8.45it/s]"
          ]
        },
        {
          "name": "stdout",
          "output_type": "stream",
          "text": [
            "Image:  /content/sentences/a01/a01-117/a01-117-04.png\n",
            "Label: Then Mr. Brown swung his attack directly to the\n",
            "Prediction:  Then Mr. Brown swung his altacke directly tothe\n",
            "CER: 0.06382978723404255; WER: 0.3333333333333333\n",
            "Then Mr. Brown swung his altacke directly tothe Then Mr. Brown swung his attack directly to the\n",
            "/content/sentences/a02/a02-111/a02-111-02.png Then their views will be transmitted back .\n",
            "1/1 [==============================] - 0s 62ms/step\n"
          ]
        },
        {
          "name": "stderr",
          "output_type": "stream",
          "text": [
            "\r 46%|████▋     | 116/250 [00:14<00:15,  8.43it/s]"
          ]
        },
        {
          "name": "stdout",
          "output_type": "stream",
          "text": [
            "Image:  /content/sentences/a02/a02-111/a02-111-02.png\n",
            "Label: Then their views will be transmitted back .\n",
            "Prediction:  Then their views will be transmithed back .\n",
            "CER: 0.023255813953488372; WER: 0.125\n",
            "Then their views will be transmithed back . Then their views will be transmitted back .\n",
            "/content/sentences/a01/a01-132/a01-132-11.png grants .\n",
            "1/1 [==============================] - 0s 66ms/step\n"
          ]
        },
        {
          "name": "stderr",
          "output_type": "stream",
          "text": [
            "\r 47%|████▋     | 117/250 [00:15<00:15,  8.32it/s]"
          ]
        },
        {
          "name": "stdout",
          "output_type": "stream",
          "text": [
            "Image:  /content/sentences/a01/a01-132/a01-132-11.png\n",
            "Label: grants .\n",
            "Prediction:  aonnts . .\n",
            "CER: 0.625; WER: 1.0\n",
            "aonnts . . grants .\n",
            "/content/sentences/a03/a03-027/a03-027-05.png 160 speeches in 80 constituencies in 10 days , the Liberal\n",
            "1/1 [==============================] - 0s 66ms/step\n"
          ]
        },
        {
          "name": "stderr",
          "output_type": "stream",
          "text": [
            "\r 47%|████▋     | 118/250 [00:15<00:16,  8.24it/s]"
          ]
        },
        {
          "name": "stdout",
          "output_type": "stream",
          "text": [
            "Image:  /content/sentences/a03/a03-027/a03-027-05.png\n",
            "Label: 160 speeches in 80 constituencies in 10 days , the Liberal\n",
            "Prediction:  No speekes in to outinencver n todayt the lberal\n",
            "CER: 0.39655172413793105; WER: 0.8181818181818182\n",
            "No speekes in to outinencver n todayt the lberal 160 speeches in 80 constituencies in 10 days , the Liberal\n",
            "/content/sentences/a01/a01-107/a01-107-00.png We believe that a comprehensive medical service , free to the patient\n",
            "1/1 [==============================] - 0s 62ms/step\n"
          ]
        },
        {
          "name": "stderr",
          "output_type": "stream",
          "text": [
            "\r 48%|████▊     | 119/250 [00:15<00:15,  8.33it/s]"
          ]
        },
        {
          "name": "stdout",
          "output_type": "stream",
          "text": [
            "Image:  /content/sentences/a01/a01-107/a01-107-00.png\n",
            "Label: We believe that a comprehensive medical service , free to the patient\n",
            "Prediction:  He beleve that a comporeherice medial serice, fre to the patint\n",
            "CER: 0.15942028985507245; WER: 0.6666666666666666\n",
            "He beleve that a comporeherice medial serice, fre to the patint We believe that a comprehensive medical service , free to the patient\n",
            "/content/sentences/a06/a06-141/a06-141-00.png BRITAIN - One cannot but wonder at British bases being\n",
            "1/1 [==============================] - 0s 63ms/step\n"
          ]
        },
        {
          "name": "stderr",
          "output_type": "stream",
          "text": [
            "\r 48%|████▊     | 120/250 [00:15<00:15,  8.48it/s]"
          ]
        },
        {
          "name": "stdout",
          "output_type": "stream",
          "text": [
            "Image:  /content/sentences/a06/a06-141/a06-141-00.png\n",
            "Label: BRITAIN - One cannot but wonder at British bases being\n",
            "Prediction:  SRITAN - Ohe canaot but conder at Bitich boves being\n",
            "CER: 0.16666666666666666; WER: 0.6\n",
            "SRITAN - Ohe canaot but conder at Bitich boves being BRITAIN - One cannot but wonder at British bases being\n",
            "/content/sentences/a03/a03-071/a03-071-03.png it has so far , that such a project would\n",
            "1/1 [==============================] - 0s 64ms/step\n"
          ]
        },
        {
          "name": "stderr",
          "output_type": "stream",
          "text": [
            "\r 48%|████▊     | 121/250 [00:15<00:15,  8.37it/s]"
          ]
        },
        {
          "name": "stdout",
          "output_type": "stream",
          "text": [
            "Image:  /content/sentences/a03/a03-071/a03-071-03.png\n",
            "Label: it has so far , that such a project would\n",
            "Prediction:  it has so for , that such a projct would\n",
            "CER: 0.04878048780487805; WER: 0.2\n",
            "it has so for , that such a projct would it has so far , that such a project would\n",
            "/content/sentences/a04/a04-047/a04-047-00.png Addressing the annual congress of the National Union\n",
            "1/1 [==============================] - 0s 65ms/step\n"
          ]
        },
        {
          "name": "stderr",
          "output_type": "stream",
          "text": [
            "\r 49%|████▉     | 122/250 [00:15<00:15,  8.26it/s]"
          ]
        },
        {
          "name": "stdout",
          "output_type": "stream",
          "text": [
            "Image:  /content/sentences/a04/a04-047/a04-047-00.png\n",
            "Label: Addressing the annual congress of the National Union\n",
            "Prediction:  Aedesing the anmual congues of the satinel Urion\n",
            "CER: 0.19230769230769232; WER: 0.625\n",
            "Aedesing the anmual congues of the satinel Urion Addressing the annual congress of the National Union\n",
            "/content/sentences/a06/a06-036/a06-036-04.png Leningrad were thousands now told that in\n",
            "1/1 [==============================] - 0s 63ms/step\n"
          ]
        },
        {
          "name": "stderr",
          "output_type": "stream",
          "text": [
            "\r 49%|████▉     | 123/250 [00:15<00:15,  8.35it/s]"
          ]
        },
        {
          "name": "stdout",
          "output_type": "stream",
          "text": [
            "Image:  /content/sentences/a06/a06-036/a06-036-04.png\n",
            "Label: Leningrad were thousands now told that in\n",
            "Prediction:  Keningacl were thousands now tolel thet in\n",
            "CER: 0.17073170731707318; WER: 0.42857142857142855\n",
            "Keningacl were thousands now tolel thet in Leningrad were thousands now told that in\n",
            "/content/sentences/a01/a01-058x/a01-058x-02.png help America's balance of payments position\n",
            "1/1 [==============================] - 0s 65ms/step\n"
          ]
        },
        {
          "name": "stderr",
          "output_type": "stream",
          "text": [
            "\r 50%|████▉     | 124/250 [00:15<00:15,  8.36it/s]"
          ]
        },
        {
          "name": "stdout",
          "output_type": "stream",
          "text": [
            "Image:  /content/sentences/a01/a01-058x/a01-058x-02.png\n",
            "Label: help America's balance of payments position\n",
            "Prediction:  help Anerica's falarvce of paynents poition\n",
            "CER: 0.13953488372093023; WER: 0.6666666666666666\n",
            "help Anerica's falarvce of paynents poition help America's balance of payments position\n",
            "/content/sentences/a03/a03-023/a03-023-07.png The Government has claimed the\n",
            "1/1 [==============================] - 0s 65ms/step\n"
          ]
        },
        {
          "name": "stderr",
          "output_type": "stream",
          "text": [
            "\r 50%|█████     | 125/250 [00:16<00:14,  8.44it/s]"
          ]
        },
        {
          "name": "stdout",
          "output_type": "stream",
          "text": [
            "Image:  /content/sentences/a03/a03-023/a03-023-07.png\n",
            "Label: The Government has claimed the\n",
            "Prediction:  The a overment has claimes the\n",
            "CER: 0.13333333333333333; WER: 0.6\n",
            "The a overment has claimes the The Government has claimed the\n",
            "/content/sentences/a05/a05-104/a05-104-04.png they themselves had no condemnation for\n",
            "1/1 [==============================] - 0s 62ms/step\n"
          ]
        },
        {
          "name": "stderr",
          "output_type": "stream",
          "text": [
            "\r 50%|█████     | 126/250 [00:16<00:14,  8.35it/s]"
          ]
        },
        {
          "name": "stdout",
          "output_type": "stream",
          "text": [
            "Image:  /content/sentences/a05/a05-104/a05-104-04.png\n",
            "Label: they themselves had no condemnation for\n",
            "Prediction:  they themselves had no condemnation for\n",
            "CER: 0.0; WER: 0.0\n",
            "they themselves had no condemnation for they themselves had no condemnation for\n",
            "/content/sentences/a01/a01-113u/a01-113u-02.png different from that of Labour . They would\n",
            "1/1 [==============================] - 0s 70ms/step\n"
          ]
        },
        {
          "name": "stderr",
          "output_type": "stream",
          "text": [
            "\r 51%|█████     | 127/250 [00:16<00:15,  8.09it/s]"
          ]
        },
        {
          "name": "stdout",
          "output_type": "stream",
          "text": [
            "Image:  /content/sentences/a01/a01-113u/a01-113u-02.png\n",
            "Label: different from that of Labour . They would\n",
            "Prediction:  digferent from that of Labour . They would\n",
            "CER: 0.023809523809523808; WER: 0.125\n",
            "digferent from that of Labour . They would different from that of Labour . They would\n",
            "/content/sentences/a01/a01-038/a01-038-01.png parties had refused to attend the talks\n",
            "1/1 [==============================] - 0s 63ms/step\n"
          ]
        },
        {
          "name": "stderr",
          "output_type": "stream",
          "text": [
            "\r 51%|█████     | 128/250 [00:16<00:14,  8.16it/s]"
          ]
        },
        {
          "name": "stdout",
          "output_type": "stream",
          "text": [
            "Image:  /content/sentences/a01/a01-038/a01-038-01.png\n",
            "Label: parties had refused to attend the talks\n",
            "Prediction:  parties had refused to atlend the talks\n",
            "CER: 0.02564102564102564; WER: 0.14285714285714285\n",
            "parties had refused to atlend the talks parties had refused to attend the talks\n",
            "/content/sentences/a05/a05-022/a05-022-03.png serve at least a year overseas . There is\n",
            "1/1 [==============================] - 0s 62ms/step\n"
          ]
        },
        {
          "name": "stderr",
          "output_type": "stream",
          "text": [
            "\r 52%|█████▏    | 129/250 [00:16<00:14,  8.32it/s]"
          ]
        },
        {
          "name": "stdout",
          "output_type": "stream",
          "text": [
            "Image:  /content/sentences/a05/a05-022/a05-022-03.png\n",
            "Label: serve at least a year overseas . There is\n",
            "Prediction:  serve al least a year overseas . There is\n",
            "CER: 0.024390243902439025; WER: 0.1111111111111111\n",
            "serve al least a year overseas . There is serve at least a year overseas . There is\n",
            "/content/sentences/a03/a03-027/a03-027-08.png when Mr. Lester Pearson was chosen as party\n",
            "1/1 [==============================] - 0s 61ms/step\n"
          ]
        },
        {
          "name": "stderr",
          "output_type": "stream",
          "text": [
            "\r 52%|█████▏    | 130/250 [00:16<00:14,  8.41it/s]"
          ]
        },
        {
          "name": "stdout",
          "output_type": "stream",
          "text": [
            "Image:  /content/sentences/a03/a03-027/a03-027-08.png\n",
            "Label: when Mr. Lester Pearson was chosen as party\n",
            "Prediction:  when Mr. ester Peauson wat choven as poutly\n",
            "CER: 0.16279069767441862; WER: 0.625\n",
            "when Mr. ester Peauson wat choven as poutly when Mr. Lester Pearson was chosen as party\n",
            "/content/sentences/a02/a02-037/a02-037-00.png The urge came from a conference of activists of\n",
            "1/1 [==============================] - 0s 61ms/step\n"
          ]
        },
        {
          "name": "stderr",
          "output_type": "stream",
          "text": [
            "\r 52%|█████▏    | 131/250 [00:16<00:13,  8.55it/s]"
          ]
        },
        {
          "name": "stdout",
          "output_type": "stream",
          "text": [
            "Image:  /content/sentences/a02/a02-037/a02-037-00.png\n",
            "Label: The urge came from a conference of activists of\n",
            "Prediction:  The urge came from a conference of cetivist of\n",
            "CER: 0.06382978723404255; WER: 0.1111111111111111\n",
            "The urge came from a conference of cetivist of The urge came from a conference of activists of\n",
            "/content/sentences/a06/a06-004/a06-004-00.png Sir Edward Boyle , Financial Secretary\n",
            "1/1 [==============================] - 0s 64ms/step\n"
          ]
        },
        {
          "name": "stderr",
          "output_type": "stream",
          "text": [
            "\r 53%|█████▎    | 132/250 [00:16<00:14,  8.43it/s]"
          ]
        },
        {
          "name": "stdout",
          "output_type": "stream",
          "text": [
            "Image:  /content/sentences/a06/a06-004/a06-004-00.png\n",
            "Label: Sir Edward Boyle , Financial Secretary\n",
            "Prediction:  Sic Ehrared Bayke , finanial Sucetay\n",
            "CER: 0.2894736842105263; WER: 0.8333333333333334\n",
            "Sic Ehrared Bayke , finanial Sucetay Sir Edward Boyle , Financial Secretary\n",
            "/content/sentences/a05/a05-025/a05-025-01.png to have come mainly from retired officers\n",
            "1/1 [==============================] - 0s 63ms/step\n"
          ]
        },
        {
          "name": "stderr",
          "output_type": "stream",
          "text": [
            "\r 53%|█████▎    | 133/250 [00:17<00:13,  8.47it/s]"
          ]
        },
        {
          "name": "stdout",
          "output_type": "stream",
          "text": [
            "Image:  /content/sentences/a05/a05-025/a05-025-01.png\n",
            "Label: to have come mainly from retired officers\n",
            "Prediction:  to have come mainly from retied oftcers\n",
            "CER: 0.07317073170731707; WER: 0.2857142857142857\n",
            "to have come mainly from retied oftcers to have come mainly from retired officers\n",
            "/content/sentences/a05/a05-058/a05-058-07.png tests . The Council's findings would be\n",
            "1/1 [==============================] - 0s 70ms/step\n"
          ]
        },
        {
          "name": "stderr",
          "output_type": "stream",
          "text": [
            "\r 54%|█████▎    | 134/250 [00:17<00:13,  8.37it/s]"
          ]
        },
        {
          "name": "stdout",
          "output_type": "stream",
          "text": [
            "Image:  /content/sentences/a05/a05-058/a05-058-07.png\n",
            "Label: tests . The Council's findings would be\n",
            "Prediction:  lests . The Concil's finclings would be\n",
            "CER: 0.10256410256410256; WER: 0.42857142857142855\n",
            "lests . The Concil's finclings would be tests . The Council's findings would be\n",
            "/content/sentences/a03/a03-059/a03-059-02.png new and dynamic liberalism \" and this\n",
            "1/1 [==============================] - 0s 66ms/step\n"
          ]
        },
        {
          "name": "stderr",
          "output_type": "stream",
          "text": [
            "\r 54%|█████▍    | 135/250 [00:17<00:14,  8.10it/s]"
          ]
        },
        {
          "name": "stdout",
          "output_type": "stream",
          "text": [
            "Image:  /content/sentences/a03/a03-059/a03-059-02.png\n",
            "Label: new and dynamic liberalism \" and this\n",
            "Prediction:  new and dnamic liberalism' and this\n",
            "CER: 0.08108108108108109; WER: 0.42857142857142855\n",
            "new and dnamic liberalism' and this new and dynamic liberalism \" and this\n",
            "/content/sentences/a05/a05-116/a05-116-09.png Labour Solicitor-General , and Mrs. Barbara\n",
            "1/1 [==============================] - 0s 70ms/step\n"
          ]
        },
        {
          "name": "stderr",
          "output_type": "stream",
          "text": [
            "\r 54%|█████▍    | 136/250 [00:17<00:14,  8.06it/s]"
          ]
        },
        {
          "name": "stdout",
          "output_type": "stream",
          "text": [
            "Image:  /content/sentences/a05/a05-116/a05-116-09.png\n",
            "Label: Labour Solicitor-General , and Mrs. Barbara\n",
            "Prediction:  abrour Goisik- Gonral ad hs Baraaran\n",
            "CER: 0.4418604651162791; WER: 1.0\n",
            "abrour Goisik- Gonral ad hs Baraaran Labour Solicitor-General , and Mrs. Barbara\n",
            "/content/sentences/a04/a04-006/a04-006-05.png informed Mr. Macmillan of his discussions with Mr.\n",
            "1/1 [==============================] - 0s 64ms/step\n"
          ]
        },
        {
          "name": "stderr",
          "output_type": "stream",
          "text": [
            "\r 55%|█████▍    | 137/250 [00:17<00:13,  8.25it/s]"
          ]
        },
        {
          "name": "stdout",
          "output_type": "stream",
          "text": [
            "Image:  /content/sentences/a04/a04-006/a04-006-05.png\n",
            "Label: informed Mr. Macmillan of his discussions with Mr.\n",
            "Prediction:  informed Mr. Mecmillan of his diseusions with Mor.\n",
            "CER: 0.08; WER: 0.375\n",
            "informed Mr. Mecmillan of his diseusions with Mor. informed Mr. Macmillan of his discussions with Mr.\n",
            "/content/sentences/a03/a03-006/a03-006-01.png nesia arrived in Belgrade as the guest of the Yugoslav\n",
            "1/1 [==============================] - 0s 64ms/step\n"
          ]
        },
        {
          "name": "stderr",
          "output_type": "stream",
          "text": [
            "\r 55%|█████▌    | 138/250 [00:17<00:13,  8.11it/s]"
          ]
        },
        {
          "name": "stdout",
          "output_type": "stream",
          "text": [
            "Image:  /content/sentences/a03/a03-006/a03-006-01.png\n",
            "Label: nesia arrived in Belgrade as the guest of the Yugoslav\n",
            "Prediction:  nsia arrived in Belgrade ar the quet of the Fregaslar\n",
            "CER: 0.16666666666666666; WER: 0.4\n",
            "nsia arrived in Belgrade ar the quet of the Fregaslar nesia arrived in Belgrade as the guest of the Yugoslav\n",
            "/content/sentences/a05/a05-000/a05-000-03.png Services . Its aim will be to produce superbly\n",
            "1/1 [==============================] - 0s 64ms/step\n"
          ]
        },
        {
          "name": "stderr",
          "output_type": "stream",
          "text": [
            "\r 56%|█████▌    | 139/250 [00:17<00:13,  8.28it/s]"
          ]
        },
        {
          "name": "stdout",
          "output_type": "stream",
          "text": [
            "Image:  /content/sentences/a05/a05-000/a05-000-03.png\n",
            "Label: Services . Its aim will be to produce superbly\n",
            "Prediction:  Services . Ho aim will be to proance supobly\n",
            "CER: 0.15217391304347827; WER: 0.3333333333333333\n",
            "Services . Ho aim will be to proance supobly Services . Its aim will be to produce superbly\n",
            "/content/sentences/b04/b04-162/b04-162-07.png Welensky has lost all patience with his\n",
            "1/1 [==============================] - 0s 63ms/step\n"
          ]
        },
        {
          "name": "stderr",
          "output_type": "stream",
          "text": [
            "\r 56%|█████▌    | 140/250 [00:17<00:13,  8.43it/s]"
          ]
        },
        {
          "name": "stdout",
          "output_type": "stream",
          "text": [
            "Image:  /content/sentences/b04/b04-162/b04-162-07.png\n",
            "Label: Welensky has lost all patience with his\n",
            "Prediction:  Welensky has lost all patience with his\n",
            "CER: 0.0; WER: 0.0\n",
            "Welensky has lost all patience with his Welensky has lost all patience with his\n",
            "/content/sentences/b04/b04-147/b04-147-06.png for the people the board will earn their good will .\n",
            "1/1 [==============================] - 0s 63ms/step\n"
          ]
        },
        {
          "name": "stderr",
          "output_type": "stream",
          "text": [
            "\r 56%|█████▋    | 141/250 [00:17<00:12,  8.46it/s]"
          ]
        },
        {
          "name": "stdout",
          "output_type": "stream",
          "text": [
            "Image:  /content/sentences/b04/b04-147/b04-147-06.png\n",
            "Label: for the people the board will earn their good will .\n",
            "Prediction:  for the freoph the board will earn their geod mill .\n",
            "CER: 0.11538461538461539; WER: 0.2727272727272727\n",
            "for the freoph the board will earn their geod mill . for the people the board will earn their good will .\n",
            "/content/sentences/b01/b01-000/b01-000-02.png Government's policy of apartheid as we wait\n",
            "1/1 [==============================] - 0s 64ms/step\n"
          ]
        },
        {
          "name": "stderr",
          "output_type": "stream",
          "text": [
            "\r 57%|█████▋    | 142/250 [00:18<00:12,  8.47it/s]"
          ]
        },
        {
          "name": "stdout",
          "output_type": "stream",
          "text": [
            "Image:  /content/sentences/b01/b01-000/b01-000-02.png\n",
            "Label: Government's policy of apartheid as we wait\n",
            "Prediction:  Government's policy of apartherid as we wait\n",
            "CER: 0.023255813953488372; WER: 0.14285714285714285\n",
            "Government's policy of apartherid as we wait Government's policy of apartheid as we wait\n",
            "/content/sentences/a01/a01-087u/a01-087u-00.png Mr. Brown , passionate and warm-hearted ,\n",
            "1/1 [==============================] - 0s 64ms/step\n"
          ]
        },
        {
          "name": "stderr",
          "output_type": "stream",
          "text": [
            "\r 57%|█████▋    | 143/250 [00:18<00:12,  8.38it/s]"
          ]
        },
        {
          "name": "stdout",
          "output_type": "stream",
          "text": [
            "Image:  /content/sentences/a01/a01-087u/a01-087u-00.png\n",
            "Label: Mr. Brown , passionate and warm-hearted ,\n",
            "Prediction:  Mr. Brown , passicnate and warm-kearted ,\n",
            "CER: 0.04878048780487805; WER: 0.2857142857142857\n",
            "Mr. Brown , passicnate and warm-kearted , Mr. Brown , passionate and warm-hearted ,\n",
            "/content/sentences/a01/a01-011x/a01-011x-04.png to discuss a common course of action .\n",
            "1/1 [==============================] - 0s 62ms/step\n"
          ]
        },
        {
          "name": "stderr",
          "output_type": "stream",
          "text": [
            "\r 58%|█████▊    | 144/250 [00:18<00:12,  8.54it/s]"
          ]
        },
        {
          "name": "stdout",
          "output_type": "stream",
          "text": [
            "Image:  /content/sentences/a01/a01-011x/a01-011x-04.png\n",
            "Label: to discuss a common course of action .\n",
            "Prediction:  to discuss a common course of achion . I\n",
            "CER: 0.07894736842105263; WER: 0.25\n",
            "to discuss a common course of achion . I to discuss a common course of action .\n",
            "/content/sentences/a01/a01-026u/a01-026u-06.png the United Federal Party and the Dominion\n",
            "1/1 [==============================] - 0s 63ms/step\n"
          ]
        },
        {
          "name": "stderr",
          "output_type": "stream",
          "text": [
            "\r 58%|█████▊    | 145/250 [00:18<00:12,  8.68it/s]"
          ]
        },
        {
          "name": "stdout",
          "output_type": "stream",
          "text": [
            "Image:  /content/sentences/a01/a01-026u/a01-026u-06.png\n",
            "Label: the United Federal Party and the Dominion\n",
            "Prediction:  the United Federal Party and the Dominion\n",
            "CER: 0.0; WER: 0.0\n",
            "the United Federal Party and the Dominion the United Federal Party and the Dominion\n",
            "/content/sentences/a05/a05-017/a05-017-00.png The Minister regards the recent trend\n",
            "1/1 [==============================] - 0s 63ms/step\n"
          ]
        },
        {
          "name": "stderr",
          "output_type": "stream",
          "text": [
            "\r 58%|█████▊    | 146/250 [00:18<00:11,  8.77it/s]"
          ]
        },
        {
          "name": "stdout",
          "output_type": "stream",
          "text": [
            "Image:  /content/sentences/a05/a05-017/a05-017-00.png\n",
            "Label: The Minister regards the recent trend\n",
            "Prediction:  The Minister regards the secent trend\n",
            "CER: 0.02702702702702703; WER: 0.16666666666666666\n",
            "The Minister regards the secent trend The Minister regards the recent trend\n",
            "/content/sentences/a01/a01-053x/a01-053x-09.png full Senate .\n",
            "1/1 [==============================] - 0s 62ms/step\n"
          ]
        },
        {
          "name": "stderr",
          "output_type": "stream",
          "text": [
            "\r 59%|█████▉    | 147/250 [00:18<00:11,  8.92it/s]"
          ]
        },
        {
          "name": "stdout",
          "output_type": "stream",
          "text": [
            "Image:  /content/sentences/a01/a01-053x/a01-053x-09.png\n",
            "Label: full Senate .\n",
            "Prediction:  full tenate .\n",
            "CER: 0.07692307692307693; WER: 0.3333333333333333\n",
            "full tenate . full Senate .\n",
            "/content/sentences/a01/a01-003/a01-003-02.png turn down the Foot-Griffiths resolution . Mr.\n",
            "1/1 [==============================] - 0s 62ms/step\n"
          ]
        },
        {
          "name": "stderr",
          "output_type": "stream",
          "text": [
            "\r 59%|█████▉    | 148/250 [00:18<00:11,  8.96it/s]"
          ]
        },
        {
          "name": "stdout",
          "output_type": "stream",
          "text": [
            "Image:  /content/sentences/a01/a01-003/a01-003-02.png\n",
            "Label: turn down the Foot-Griffiths resolution . Mr.\n",
            "Prediction:  tum doun the Foot-Sriffithe resoktion . Tr\n",
            "CER: 0.2; WER: 0.7142857142857143\n",
            "tum doun the Foot-Sriffithe resoktion . Tr turn down the Foot-Griffiths resolution . Mr.\n",
            "/content/sentences/b03/b03-092/b03-092-06.png logical Office .\n",
            "1/1 [==============================] - 0s 61ms/step\n"
          ]
        },
        {
          "name": "stderr",
          "output_type": "stream",
          "text": [
            "\r 60%|█████▉    | 149/250 [00:18<00:11,  9.00it/s]"
          ]
        },
        {
          "name": "stdout",
          "output_type": "stream",
          "text": [
            "Image:  /content/sentences/b03/b03-092/b03-092-06.png\n",
            "Label: logical Office .\n",
            "Prediction:  ogical Office .\n",
            "CER: 0.0625; WER: 0.3333333333333333\n",
            "ogical Office . logical Office .\n",
            "/content/sentences/a01/a01-063u/a01-063u-02.png The President will probably discuss the\n",
            "1/1 [==============================] - 0s 62ms/step\n"
          ]
        },
        {
          "name": "stderr",
          "output_type": "stream",
          "text": [
            "\r 60%|██████    | 150/250 [00:19<00:11,  9.01it/s]"
          ]
        },
        {
          "name": "stdout",
          "output_type": "stream",
          "text": [
            "Image:  /content/sentences/a01/a01-063u/a01-063u-02.png\n",
            "Label: The President will probably discuss the\n",
            "Prediction:  The President will probably dis auss the\n",
            "CER: 0.05128205128205128; WER: 0.3333333333333333\n",
            "The President will probably dis auss the The President will probably discuss the\n",
            "/content/sentences/a05/a05-000/a05-000-02.png contain a five-year plan for the three\n",
            "1/1 [==============================] - 0s 62ms/step\n"
          ]
        },
        {
          "name": "stderr",
          "output_type": "stream",
          "text": [
            "\r 60%|██████    | 151/250 [00:19<00:10,  9.03it/s]"
          ]
        },
        {
          "name": "stdout",
          "output_type": "stream",
          "text": [
            "Image:  /content/sentences/a05/a05-000/a05-000-02.png\n",
            "Label: contain a five-year plan for the three\n",
            "Prediction:  contain a five-year plan for the thee\n",
            "CER: 0.02631578947368421; WER: 0.14285714285714285\n",
            "contain a five-year plan for the thee contain a five-year plan for the three\n",
            "/content/sentences/a02/a02-111/a02-111-07.png has been cancelled and secret plans prepared\n",
            "1/1 [==============================] - 0s 62ms/step\n"
          ]
        },
        {
          "name": "stderr",
          "output_type": "stream",
          "text": [
            "\r 61%|██████    | 152/250 [00:19<00:11,  8.77it/s]"
          ]
        },
        {
          "name": "stdout",
          "output_type": "stream",
          "text": [
            "Image:  /content/sentences/a02/a02-111/a02-111-07.png\n",
            "Label: has been cancelled and secret plans prepared\n",
            "Prediction:  has been cancelled and secret plans prepared\n",
            "CER: 0.0; WER: 0.0\n",
            "has been cancelled and secret plans prepared has been cancelled and secret plans prepared\n",
            "/content/sentences/a01/a01-053u/a01-053u-02.png listed by the Government . Immediately Mr.\n",
            "1/1 [==============================] - 0s 61ms/step\n"
          ]
        },
        {
          "name": "stderr",
          "output_type": "stream",
          "text": [
            "\r 61%|██████    | 153/250 [00:19<00:10,  8.88it/s]"
          ]
        },
        {
          "name": "stdout",
          "output_type": "stream",
          "text": [
            "Image:  /content/sentences/a01/a01-053u/a01-053u-02.png\n",
            "Label: listed by the Government . Immediately Mr.\n",
            "Prediction:  tisted by the Government . mumediatly Mr.\n",
            "CER: 0.09523809523809523; WER: 0.2857142857142857\n",
            "tisted by the Government . mumediatly Mr. listed by the Government . Immediately Mr.\n",
            "/content/sentences/a02/a02-106/a02-106-00.png King Freddie and three other hereditary rulers of\n",
            "1/1 [==============================] - 0s 61ms/step\n"
          ]
        },
        {
          "name": "stderr",
          "output_type": "stream",
          "text": [
            "\r 62%|██████▏   | 154/250 [00:19<00:10,  8.97it/s]"
          ]
        },
        {
          "name": "stdout",
          "output_type": "stream",
          "text": [
            "Image:  /content/sentences/a02/a02-106/a02-106-00.png\n",
            "Label: King Freddie and three other hereditary rulers of\n",
            "Prediction:  ting Freddie and three other hereditary rules of\n",
            "CER: 0.04081632653061224; WER: 0.25\n",
            "ting Freddie and three other hereditary rules of King Freddie and three other hereditary rulers of\n",
            "/content/sentences/a02/a02-120/a02-120-01.png invoke the Public Order Act , 1936 , and\n",
            "1/1 [==============================] - 0s 63ms/step\n"
          ]
        },
        {
          "name": "stderr",
          "output_type": "stream",
          "text": [
            "\r 62%|██████▏   | 155/250 [00:19<00:10,  8.64it/s]"
          ]
        },
        {
          "name": "stdout",
          "output_type": "stream",
          "text": [
            "Image:  /content/sentences/a02/a02-120/a02-120-01.png\n",
            "Label: invoke the Public Order Act , 1936 , and\n",
            "Prediction:  invote the Publie Andes let , 1950 , and\n",
            "CER: 0.225; WER: 0.5555555555555556\n",
            "invote the Publie Andes let , 1950 , and invoke the Public Order Act , 1936 , and\n",
            "/content/sentences/b05/b05-050/b05-050-02.png bats and wickets between two sides . Shades\n",
            "1/1 [==============================] - 0s 64ms/step\n"
          ]
        },
        {
          "name": "stderr",
          "output_type": "stream",
          "text": [
            "\r 62%|██████▏   | 156/250 [00:19<00:10,  8.67it/s]"
          ]
        },
        {
          "name": "stdout",
          "output_type": "stream",
          "text": [
            "Image:  /content/sentences/b05/b05-050/b05-050-02.png\n",
            "Label: bats and wickets between two sides . Shades\n",
            "Prediction:  bats and wiccets between tuor siders . Shater\n",
            "CER: 0.13953488372093023; WER: 0.5\n",
            "bats and wiccets between tuor siders . Shater bats and wickets between two sides . Shades\n",
            "/content/sentences/b04/b04-116/b04-116-00.png And as the British Government stepped up the pace\n",
            "1/1 [==============================] - 0s 61ms/step\n"
          ]
        },
        {
          "name": "stderr",
          "output_type": "stream",
          "text": [
            "\r 63%|██████▎   | 157/250 [00:19<00:10,  8.85it/s]"
          ]
        },
        {
          "name": "stdout",
          "output_type": "stream",
          "text": [
            "Image:  /content/sentences/b04/b04-116/b04-116-00.png\n",
            "Label: And as the British Government stepped up the pace\n",
            "Prediction:  And as the Butish Government sepped upe the pave\n",
            "CER: 0.10204081632653061; WER: 0.4444444444444444\n",
            "And as the Butish Government sepped upe the pave And as the British Government stepped up the pace\n",
            "/content/sentences/a01/a01-030x/a01-030x-04.png said Britain had an obligation to consult\n",
            "1/1 [==============================] - 0s 60ms/step\n"
          ]
        },
        {
          "name": "stderr",
          "output_type": "stream",
          "text": [
            "\r 63%|██████▎   | 158/250 [00:19<00:10,  8.90it/s]"
          ]
        },
        {
          "name": "stdout",
          "output_type": "stream",
          "text": [
            "Image:  /content/sentences/a01/a01-030x/a01-030x-04.png\n",
            "Label: said Britain had an obligation to consult\n",
            "Prediction:  said . Britain had an obigation to consult\n",
            "CER: 0.07317073170731707; WER: 0.2857142857142857\n",
            "said . Britain had an obigation to consult said Britain had an obligation to consult\n",
            "/content/sentences/a06/a06-134/a06-134-07.png forces and arms to touch off a world war .\n",
            "1/1 [==============================] - 0s 61ms/step\n"
          ]
        },
        {
          "name": "stderr",
          "output_type": "stream",
          "text": [
            "\r 64%|██████▎   | 159/250 [00:20<00:10,  8.63it/s]"
          ]
        },
        {
          "name": "stdout",
          "output_type": "stream",
          "text": [
            "Image:  /content/sentences/a06/a06-134/a06-134-07.png\n",
            "Label: forces and arms to touch off a world war .\n",
            "Prediction:  foucer and ams to touk off a would war .\n",
            "CER: 0.14285714285714285; WER: 0.4\n",
            "foucer and ams to touk off a would war . forces and arms to touch off a world war .\n",
            "/content/sentences/a06/a06-119/a06-119-04.png to a record 2,415,000,000 . This was\n",
            "1/1 [==============================] - 0s 61ms/step\n"
          ]
        },
        {
          "name": "stderr",
          "output_type": "stream",
          "text": [
            "\r 64%|██████▍   | 160/250 [00:20<00:10,  8.73it/s]"
          ]
        },
        {
          "name": "stdout",
          "output_type": "stream",
          "text": [
            "Image:  /content/sentences/a06/a06-119/a06-119-04.png\n",
            "Label: to a record 2,415,000,000 . This was\n",
            "Prediction:  to a record 2 , 415,000 , 000 This was\n",
            "CER: 0.16666666666666666; WER: 0.7142857142857143\n",
            "to a record 2 , 415,000 , 000 This was to a record 2,415,000,000 . This was\n",
            "/content/sentences/a01/a01-049x/a01-049x-08.png Senator Robertson later disclosed he had sent a\n",
            "1/1 [==============================] - 0s 64ms/step\n"
          ]
        },
        {
          "name": "stderr",
          "output_type": "stream",
          "text": [
            "\r 64%|██████▍   | 161/250 [00:20<00:10,  8.64it/s]"
          ]
        },
        {
          "name": "stdout",
          "output_type": "stream",
          "text": [
            "Image:  /content/sentences/a01/a01-049x/a01-049x-08.png\n",
            "Label: Senator Robertson later disclosed he had sent a\n",
            "Prediction:  Senator Robetson laler dioclosed he had sent d\n",
            "CER: 0.0851063829787234; WER: 0.5\n",
            "Senator Robetson laler dioclosed he had sent d Senator Robertson later disclosed he had sent a\n",
            "/content/sentences/a05/a05-121/a05-121-03.png atmosphere as a crime against humanity . \"\n",
            "1/1 [==============================] - 0s 62ms/step\n"
          ]
        },
        {
          "name": "stderr",
          "output_type": "stream",
          "text": [
            "\r 65%|██████▍   | 162/250 [00:20<00:10,  8.73it/s]"
          ]
        },
        {
          "name": "stdout",
          "output_type": "stream",
          "text": [
            "Image:  /content/sentences/a05/a05-121/a05-121-03.png\n",
            "Label: atmosphere as a crime against humanity . \"\n",
            "Prediction:  atncortere as a crime aganinst mmanity . \"\n",
            "CER: 0.19047619047619047; WER: 0.375\n",
            "atncortere as a crime aganinst mmanity . \" atmosphere as a crime against humanity . \"\n",
            "/content/sentences/a04/a04-031/a04-031-06.png Soviet Communist Party newspaper Pravda\n",
            "1/1 [==============================] - 0s 65ms/step\n"
          ]
        },
        {
          "name": "stderr",
          "output_type": "stream",
          "text": [
            "\r 65%|██████▌   | 163/250 [00:20<00:09,  8.80it/s]"
          ]
        },
        {
          "name": "stdout",
          "output_type": "stream",
          "text": [
            "Image:  /content/sentences/a04/a04-031/a04-031-06.png\n",
            "Label: Soviet Communist Party newspaper Pravda\n",
            "Prediction:  Soviet Commnnist Party newspaper Prauda\n",
            "CER: 0.05128205128205128; WER: 0.4\n",
            "Soviet Commnnist Party newspaper Prauda Soviet Communist Party newspaper Pravda\n",
            "/content/sentences/a01/a01-113/a01-113-00.png He told them that their conception of social services was wholly\n",
            "1/1 [==============================] - 0s 63ms/step\n"
          ]
        },
        {
          "name": "stderr",
          "output_type": "stream",
          "text": [
            "\r 66%|██████▌   | 164/250 [00:20<00:09,  8.72it/s]"
          ]
        },
        {
          "name": "stdout",
          "output_type": "stream",
          "text": [
            "Image:  /content/sentences/a01/a01-113/a01-113-00.png\n",
            "Label: He told them that their conception of social services was wholly\n",
            "Prediction:  He Fed then that their conception of scial sreries wars whaly\n",
            "CER: 0.171875; WER: 0.5454545454545454\n",
            "He Fed then that their conception of scial sreries wars whaly He told them that their conception of social services was wholly\n",
            "/content/sentences/b02/b02-097/b02-097-01.png important advance . We must not be overconfident\n",
            "1/1 [==============================] - 0s 63ms/step\n"
          ]
        },
        {
          "name": "stderr",
          "output_type": "stream",
          "text": [
            "\r 66%|██████▌   | 165/250 [00:20<00:09,  8.78it/s]"
          ]
        },
        {
          "name": "stdout",
          "output_type": "stream",
          "text": [
            "Image:  /content/sentences/b02/b02-097/b02-097-01.png\n",
            "Label: important advance . We must not be overconfident\n",
            "Prediction:  mipotant adrance . he mst not t orocontident\n",
            "CER: 0.25; WER: 0.75\n",
            "mipotant adrance . he mst not t orocontident important advance . We must not be overconfident\n",
            "/content/sentences/a01/a01-058u/a01-058u-03.png said bluntly in Washington yesterday that\n",
            "1/1 [==============================] - 0s 62ms/step\n"
          ]
        },
        {
          "name": "stderr",
          "output_type": "stream",
          "text": [
            "\r 66%|██████▋   | 166/250 [00:20<00:09,  8.78it/s]"
          ]
        },
        {
          "name": "stdout",
          "output_type": "stream",
          "text": [
            "Image:  /content/sentences/a01/a01-058u/a01-058u-03.png\n",
            "Label: said bluntly in Washington yesterday that\n",
            "Prediction:  said blutly in Washington yesterday that\n",
            "CER: 0.024390243902439025; WER: 0.16666666666666666\n",
            "said blutly in Washington yesterday that said bluntly in Washington yesterday that\n",
            "/content/sentences/b04/b04-103/b04-103-06.png box of chocolates or a bunch of flowers !\n",
            "1/1 [==============================] - 0s 61ms/step\n"
          ]
        },
        {
          "name": "stderr",
          "output_type": "stream",
          "text": [
            "\r 67%|██████▋   | 167/250 [00:20<00:09,  8.80it/s]"
          ]
        },
        {
          "name": "stdout",
          "output_type": "stream",
          "text": [
            "Image:  /content/sentences/b04/b04-103/b04-103-06.png\n",
            "Label: box of chocolates or a bunch of flowers !\n",
            "Prediction:  o ofdoales arc ond of frs .\n",
            "CER: 0.5121951219512195; WER: 0.8888888888888888\n",
            "o ofdoales arc ond of frs . box of chocolates or a bunch of flowers !\n",
            "/content/sentences/b04/b04-096/b04-096-01.png national income was spent on social services . The\n",
            "1/1 [==============================] - 0s 61ms/step\n"
          ]
        },
        {
          "name": "stderr",
          "output_type": "stream",
          "text": [
            "\r 67%|██████▋   | 168/250 [00:21<00:09,  8.82it/s]"
          ]
        },
        {
          "name": "stdout",
          "output_type": "stream",
          "text": [
            "Image:  /content/sentences/b04/b04-096/b04-096-01.png\n",
            "Label: national income was spent on social services . The\n",
            "Prediction:  nationed income was pent on said cavies he\n",
            "CER: 0.28; WER: 0.6666666666666666\n",
            "nationed income was pent on said cavies he national income was spent on social services . The\n",
            "/content/sentences/a05/a05-017/a05-017-06.png not agree that the point has been reached\n",
            "1/1 [==============================] - 0s 61ms/step\n"
          ]
        },
        {
          "name": "stderr",
          "output_type": "stream",
          "text": [
            "\r 68%|██████▊   | 169/250 [00:21<00:09,  8.88it/s]"
          ]
        },
        {
          "name": "stdout",
          "output_type": "stream",
          "text": [
            "Image:  /content/sentences/a05/a05-017/a05-017-06.png\n",
            "Label: not agree that the point has been reached\n",
            "Prediction:  nat agree that the point has been reached\n",
            "CER: 0.024390243902439025; WER: 0.125\n",
            "nat agree that the point has been reached not agree that the point has been reached\n",
            "/content/sentences/a03/a03-050/a03-050-00.png On the other hand , Mr. Pearson excels\n",
            "1/1 [==============================] - 0s 63ms/step\n"
          ]
        },
        {
          "name": "stderr",
          "output_type": "stream",
          "text": [
            "\r 68%|██████▊   | 170/250 [00:21<00:09,  8.72it/s]"
          ]
        },
        {
          "name": "stdout",
          "output_type": "stream",
          "text": [
            "Image:  /content/sentences/a03/a03-050/a03-050-00.png\n",
            "Label: On the other hand , Mr. Pearson excels\n",
            "Prediction:  On the other hond , Mr. Pearson eseels\n",
            "CER: 0.07894736842105263; WER: 0.25\n",
            "On the other hond , Mr. Pearson eseels On the other hand , Mr. Pearson excels\n",
            "/content/sentences/b04/b04-169/b04-169-04.png Office Savings Bank shows how wrong that\n",
            "1/1 [==============================] - 0s 62ms/step\n"
          ]
        },
        {
          "name": "stderr",
          "output_type": "stream",
          "text": [
            "\r 68%|██████▊   | 171/250 [00:21<00:08,  8.85it/s]"
          ]
        },
        {
          "name": "stdout",
          "output_type": "stream",
          "text": [
            "Image:  /content/sentences/b04/b04-169/b04-169-04.png\n",
            "Label: Office Savings Bank shows how wrong that\n",
            "Prediction:  Offie Savingo Paul shus hews wrong that\n",
            "CER: 0.225; WER: 0.7142857142857143\n",
            "Offie Savingo Paul shus hews wrong that Office Savings Bank shows how wrong that\n",
            "/content/sentences/a05/a05-039/a05-039-05.png general election showed Nationalists being\n",
            "1/1 [==============================] - 0s 64ms/step\n"
          ]
        },
        {
          "name": "stderr",
          "output_type": "stream",
          "text": [
            "\r 69%|██████▉   | 172/250 [00:21<00:08,  8.82it/s]"
          ]
        },
        {
          "name": "stdout",
          "output_type": "stream",
          "text": [
            "Image:  /content/sentences/a05/a05-039/a05-039-05.png\n",
            "Label: general election showed Nationalists being\n",
            "Prediction:  generel electin showed Natimalists being\n",
            "CER: 0.09523809523809523; WER: 0.6\n",
            "generel electin showed Natimalists being general election showed Nationalists being\n",
            "/content/sentences/a04/a04-072/a04-072-06.png opportunity for the party . It was a\n",
            "1/1 [==============================] - 0s 62ms/step\n"
          ]
        },
        {
          "name": "stderr",
          "output_type": "stream",
          "text": [
            "\r 69%|██████▉   | 173/250 [00:21<00:08,  8.92it/s]"
          ]
        },
        {
          "name": "stdout",
          "output_type": "stream",
          "text": [
            "Image:  /content/sentences/a04/a04-072/a04-072-06.png\n",
            "Label: opportunity for the party . It was a\n",
            "Prediction:  prtanty fo the paity . Et was .\n",
            "CER: 0.25; WER: 0.625\n",
            "prtanty fo the paity . Et was . opportunity for the party . It was a\n",
            "/content/sentences/b05/b05-038/b05-038-00.png Hence the hostility to automation and\n",
            "1/1 [==============================] - 0s 64ms/step\n"
          ]
        },
        {
          "name": "stderr",
          "output_type": "stream",
          "text": [
            "\r 70%|██████▉   | 174/250 [00:21<00:08,  8.89it/s]"
          ]
        },
        {
          "name": "stdout",
          "output_type": "stream",
          "text": [
            "Image:  /content/sentences/b05/b05-038/b05-038-00.png\n",
            "Label: Hence the hostility to automation and\n",
            "Prediction:  Atence the hostility to eutomation and\n",
            "CER: 0.08108108108108109; WER: 0.3333333333333333\n",
            "Atence the hostility to eutomation and Hence the hostility to automation and\n",
            "/content/sentences/b01/b01-127/b01-127-08.png apartheid is being applied ever more\n",
            "1/1 [==============================] - 0s 64ms/step\n"
          ]
        },
        {
          "name": "stderr",
          "output_type": "stream",
          "text": [
            "\r 70%|███████   | 175/250 [00:21<00:08,  8.95it/s]"
          ]
        },
        {
          "name": "stdout",
          "output_type": "stream",
          "text": [
            "Image:  /content/sentences/b01/b01-127/b01-127-08.png\n",
            "Label: apartheid is being applied ever more\n",
            "Prediction:  aportheid S being applied ever more\n",
            "CER: 0.08333333333333333; WER: 0.3333333333333333\n",
            "aportheid S being applied ever more apartheid is being applied ever more\n",
            "/content/sentences/a06/a06-064/a06-064-08.png opposition , which will be aired in the\n",
            "1/1 [==============================] - 0s 61ms/step\n"
          ]
        },
        {
          "name": "stderr",
          "output_type": "stream",
          "text": [
            "\r 70%|███████   | 176/250 [00:21<00:08,  8.59it/s]"
          ]
        },
        {
          "name": "stdout",
          "output_type": "stream",
          "text": [
            "Image:  /content/sentences/a06/a06-064/a06-064-08.png\n",
            "Label: opposition , which will be aired in the\n",
            "Prediction:  oppssition , which will be ained in the\n",
            "CER: 0.05128205128205128; WER: 0.25\n",
            "oppssition , which will be ained in the opposition , which will be aired in the\n",
            "/content/sentences/a02/a02-111/a02-111-08.png to deal with the mass sit-down rally planned\n",
            "1/1 [==============================] - 0s 64ms/step\n"
          ]
        },
        {
          "name": "stderr",
          "output_type": "stream",
          "text": [
            "\r 71%|███████   | 177/250 [00:22<00:08,  8.60it/s]"
          ]
        },
        {
          "name": "stdout",
          "output_type": "stream",
          "text": [
            "Image:  /content/sentences/a02/a02-111/a02-111-08.png\n",
            "Label: to deal with the mass sit-down rally planned\n",
            "Prediction:  to deat with the mass sit-down rally planned\n",
            "CER: 0.022727272727272728; WER: 0.125\n",
            "to deat with the mass sit-down rally planned to deal with the mass sit-down rally planned\n",
            "/content/sentences/b01/b01-053/b01-053-05.png other leading Western nations are at long last\n",
            "1/1 [==============================] - 0s 63ms/step\n"
          ]
        },
        {
          "name": "stderr",
          "output_type": "stream",
          "text": [
            "\r 71%|███████   | 178/250 [00:22<00:08,  8.62it/s]"
          ]
        },
        {
          "name": "stdout",
          "output_type": "stream",
          "text": [
            "Image:  /content/sentences/b01/b01-053/b01-053-05.png\n",
            "Label: other leading Western nations are at long last\n",
            "Prediction:  oher leading Western nations are at long last\n",
            "CER: 0.021739130434782608; WER: 0.125\n",
            "oher leading Western nations are at long last other leading Western nations are at long last\n",
            "/content/sentences/a02/a02-024/a02-024-04.png ter Mr Lloyd and his 24-strong delegation landed\n",
            "1/1 [==============================] - 0s 65ms/step\n"
          ]
        },
        {
          "name": "stderr",
          "output_type": "stream",
          "text": [
            "\r 72%|███████▏  | 179/250 [00:22<00:08,  8.26it/s]"
          ]
        },
        {
          "name": "stdout",
          "output_type": "stream",
          "text": [
            "Image:  /content/sentences/a02/a02-024/a02-024-04.png\n",
            "Label: ter Mr Lloyd and his 24-strong delegation landed\n",
            "Prediction:  ter Mr. Lloyd and his 2x-strong delegation landed\n",
            "CER: 0.041666666666666664; WER: 0.25\n",
            "ter Mr. Lloyd and his 2x-strong delegation landed ter Mr Lloyd and his 24-strong delegation landed\n",
            "/content/sentences/a05/a05-116/a05-116-04.png brief . He resembles the elephant seal , an\n",
            "1/1 [==============================] - 0s 65ms/step\n"
          ]
        },
        {
          "name": "stderr",
          "output_type": "stream",
          "text": [
            "\r 72%|███████▏  | 180/250 [00:22<00:08,  8.14it/s]"
          ]
        },
        {
          "name": "stdout",
          "output_type": "stream",
          "text": [
            "Image:  /content/sentences/a05/a05-116/a05-116-04.png\n",
            "Label: brief . He resembles the elephant seal , an\n",
            "Prediction:  brief . He resembles the elephant seat , an\n",
            "CER: 0.023255813953488372; WER: 0.1111111111111111\n",
            "brief . He resembles the elephant seat , an brief . He resembles the elephant seal , an\n",
            "/content/sentences/a05/a05-004/a05-004-05.png and operations . This would apply also in the\n",
            "1/1 [==============================] - 0s 64ms/step\n"
          ]
        },
        {
          "name": "stderr",
          "output_type": "stream",
          "text": [
            "\r 72%|███████▏  | 181/250 [00:22<00:08,  8.28it/s]"
          ]
        },
        {
          "name": "stdout",
          "output_type": "stream",
          "text": [
            "Image:  /content/sentences/a05/a05-004/a05-004-05.png\n",
            "Label: and operations . This would apply also in the\n",
            "Prediction:  and operations . This would apply also in the\n",
            "CER: 0.0; WER: 0.0\n",
            "and operations . This would apply also in the and operations . This would apply also in the\n",
            "/content/sentences/a01/a01-007/a01-007-08.png Roy Welensky , the Federal Premier .\n",
            "1/1 [==============================] - 0s 62ms/step\n"
          ]
        },
        {
          "name": "stderr",
          "output_type": "stream",
          "text": [
            "\r 73%|███████▎  | 182/250 [00:22<00:08,  8.43it/s]"
          ]
        },
        {
          "name": "stdout",
          "output_type": "stream",
          "text": [
            "Image:  /content/sentences/a01/a01-007/a01-007-08.png\n",
            "Label: Roy Welensky , the Federal Premier .\n",
            "Prediction:  Roy Welenskys , the Federal Premier .\n",
            "CER: 0.027777777777777776; WER: 0.14285714285714285\n",
            "Roy Welenskys , the Federal Premier . Roy Welensky , the Federal Premier .\n",
            "/content/sentences/b01/b01-132/b01-132-02.png way left to try to bring home to the people of\n",
            "1/1 [==============================] - 0s 61ms/step\n"
          ]
        },
        {
          "name": "stderr",
          "output_type": "stream",
          "text": [
            "\r 73%|███████▎  | 183/250 [00:22<00:07,  8.58it/s]"
          ]
        },
        {
          "name": "stdout",
          "output_type": "stream",
          "text": [
            "Image:  /content/sentences/b01/b01-132/b01-132-02.png\n",
            "Label: way left to try to bring home to the people of\n",
            "Prediction:  way left to try to bring home to the people of\n",
            "CER: 0.0; WER: 0.0\n",
            "way left to try to bring home to the people of way left to try to bring home to the people of\n",
            "/content/sentences/a04/a04-000/a04-000-04.png three hours , 20 minutes of discussion is believed\n",
            "1/1 [==============================] - 0s 65ms/step\n"
          ]
        },
        {
          "name": "stderr",
          "output_type": "stream",
          "text": [
            "\r 74%|███████▎  | 184/250 [00:22<00:07,  8.51it/s]"
          ]
        },
        {
          "name": "stdout",
          "output_type": "stream",
          "text": [
            "Image:  /content/sentences/a04/a04-000/a04-000-04.png\n",
            "Label: three hours , 20 minutes of discussion is believed\n",
            "Prediction:  the howes , 20 minutes of disaussion is believed\n",
            "CER: 0.1; WER: 0.3333333333333333\n",
            "the howes , 20 minutes of disaussion is believed three hours , 20 minutes of discussion is believed\n",
            "/content/sentences/b04/b04-107/b04-107-00.png HOW the Government must repent its haste and folly\n",
            "1/1 [==============================] - 0s 62ms/step\n"
          ]
        },
        {
          "name": "stderr",
          "output_type": "stream",
          "text": [
            "\r 74%|███████▍  | 185/250 [00:23<00:07,  8.62it/s]"
          ]
        },
        {
          "name": "stdout",
          "output_type": "stream",
          "text": [
            "Image:  /content/sentences/b04/b04-107/b04-107-00.png\n",
            "Label: HOW the Government must repent its haste and folly\n",
            "Prediction:  Now the Governmentrmust sepent its haste and foluy\n",
            "CER: 0.12; WER: 0.5555555555555556\n",
            "Now the Governmentrmust sepent its haste and foluy HOW the Government must repent its haste and folly\n",
            "/content/sentences/a06/a06-152/a06-152-00.png Behind Bonn's slogan of German self-\n",
            "1/1 [==============================] - 0s 63ms/step\n"
          ]
        },
        {
          "name": "stderr",
          "output_type": "stream",
          "text": [
            "\r 74%|███████▍  | 186/250 [00:23<00:07,  8.66it/s]"
          ]
        },
        {
          "name": "stdout",
          "output_type": "stream",
          "text": [
            "Image:  /content/sentences/a06/a06-152/a06-152-00.png\n",
            "Label: Behind Bonn's slogan of German self-\n",
            "Prediction:  Behnd Dois storgan of German self-\n",
            "CER: 0.19444444444444445; WER: 0.5\n",
            "Behnd Dois storgan of German self- Behind Bonn's slogan of German self-\n",
            "/content/sentences/b04/b04-047/b04-047-03.png Scot - and so were four of his predecessors this # century .\n",
            "1/1 [==============================] - 0s 65ms/step\n"
          ]
        },
        {
          "name": "stderr",
          "output_type": "stream",
          "text": [
            "\r 75%|███████▍  | 187/250 [00:23<00:07,  8.32it/s]"
          ]
        },
        {
          "name": "stdout",
          "output_type": "stream",
          "text": [
            "Image:  /content/sentences/b04/b04-047/b04-047-03.png\n",
            "Label: Scot - and so were four of his predecessors this # century .\n",
            "Prediction:  suot -and oo were fruof his pedecenons this exty centay .\n",
            "CER: 0.2833333333333333; WER: 0.6923076923076923\n",
            "suot -and oo were fruof his pedecenons this exty centay . Scot - and so were four of his predecessors this # century .\n",
            "/content/sentences/a02/a02-050/a02-050-07.png * enough\n",
            "1/1 [==============================] - 0s 62ms/step\n"
          ]
        },
        {
          "name": "stderr",
          "output_type": "stream",
          "text": [
            "\r 75%|███████▌  | 188/250 [00:23<00:07,  8.56it/s]"
          ]
        },
        {
          "name": "stdout",
          "output_type": "stream",
          "text": [
            "Image:  /content/sentences/a02/a02-050/a02-050-07.png\n",
            "Label: * enough\n",
            "Prediction:  Fcnough.\n",
            "CER: 0.5; WER: 1.0\n",
            "Fcnough. * enough\n",
            "/content/sentences/a02/a02-032/a02-032-04.png of the people is the supreme law \" ) reports : \" The\n",
            "1/1 [==============================] - 0s 63ms/step\n"
          ]
        },
        {
          "name": "stderr",
          "output_type": "stream",
          "text": [
            "\r 76%|███████▌  | 189/250 [00:23<00:07,  8.67it/s]"
          ]
        },
        {
          "name": "stdout",
          "output_type": "stream",
          "text": [
            "Image:  /content/sentences/a02/a02-032/a02-032-04.png\n",
            "Label: of the people is the supreme law \" ) reports : \" The\n",
            "Prediction:  of the peple is the sureme law \" reports : \" The\n",
            "CER: 0.07692307692307693; WER: 0.23076923076923078\n",
            "of the peple is the sureme law \" reports : \" The of the people is the supreme law \" ) reports : \" The\n",
            "/content/sentences/a04/a04-047/a04-047-04.png widespread resentment over the U.S. Polaris base in\n",
            "1/1 [==============================] - 0s 65ms/step\n"
          ]
        },
        {
          "name": "stderr",
          "output_type": "stream",
          "text": [
            "\r 76%|███████▌  | 190/250 [00:23<00:06,  8.61it/s]"
          ]
        },
        {
          "name": "stdout",
          "output_type": "stream",
          "text": [
            "Image:  /content/sentences/a04/a04-047/a04-047-04.png\n",
            "Label: widespread resentment over the U.S. Polaris base in\n",
            "Prediction:  wide sfread sesentment ove the U.S. Polars base in\n",
            "CER: 0.09803921568627451; WER: 0.625\n",
            "wide sfread sesentment ove the U.S. Polars base in widespread resentment over the U.S. Polaris base in\n",
            "/content/sentences/a01/a01-063/a01-063-06.png slice of Germany's \" aid \" # is the early\n",
            "1/1 [==============================] - 0s 63ms/step\n"
          ]
        },
        {
          "name": "stderr",
          "output_type": "stream",
          "text": [
            "\r 76%|███████▋  | 191/250 [00:23<00:06,  8.76it/s]"
          ]
        },
        {
          "name": "stdout",
          "output_type": "stream",
          "text": [
            "Image:  /content/sentences/a01/a01-063/a01-063-06.png\n",
            "Label: slice of Germany's \" aid \" # is the early\n",
            "Prediction:  shice of Germany's aid 5t is the carly\n",
            "CER: 0.17073170731707318; WER: 0.5\n",
            "shice of Germany's aid 5t is the carly slice of Germany's \" aid \" # is the early\n",
            "/content/sentences/a01/a01-128u/a01-128u-10.png over three years by 20 per cent.\n",
            "1/1 [==============================] - 0s 62ms/step\n"
          ]
        },
        {
          "name": "stderr",
          "output_type": "stream",
          "text": [
            "\r 77%|███████▋  | 192/250 [00:23<00:06,  8.83it/s]"
          ]
        },
        {
          "name": "stdout",
          "output_type": "stream",
          "text": [
            "Image:  /content/sentences/a01/a01-128u/a01-128u-10.png\n",
            "Label: over three years by 20 per cent.\n",
            "Prediction:  over three years by 20 per cent .\n",
            "CER: 0.03125; WER: 0.2857142857142857\n",
            "over three years by 20 per cent . over three years by 20 per cent.\n",
            "/content/sentences/a03/a03-027/a03-027-07.png some 2,000 delegates , the biggest gathering since 1958\n",
            "1/1 [==============================] - 0s 61ms/step\n"
          ]
        },
        {
          "name": "stderr",
          "output_type": "stream",
          "text": [
            "\r 77%|███████▋  | 193/250 [00:23<00:06,  8.84it/s]"
          ]
        },
        {
          "name": "stdout",
          "output_type": "stream",
          "text": [
            "Image:  /content/sentences/a03/a03-027/a03-027-07.png\n",
            "Label: some 2,000 delegates , the biggest gathering since 1958\n",
            "Prediction:  saml hpo ceolgrates , he byet gathering menss\n",
            "CER: 0.45454545454545453; WER: 0.7777777777777778\n",
            "saml hpo ceolgrates , he byet gathering menss some 2,000 delegates , the biggest gathering since 1958\n",
            "/content/sentences/a05/a05-113/a05-113-05.png He was not so happy in his defence of\n",
            "1/1 [==============================] - 0s 62ms/step\n"
          ]
        },
        {
          "name": "stderr",
          "output_type": "stream",
          "text": [
            "\r 78%|███████▊  | 194/250 [00:24<00:06,  8.99it/s]"
          ]
        },
        {
          "name": "stdout",
          "output_type": "stream",
          "text": [
            "Image:  /content/sentences/a05/a05-113/a05-113-05.png\n",
            "Label: He was not so happy in his defence of\n",
            "Prediction:  He was not so happy in his defence of\n",
            "CER: 0.0; WER: 0.0\n",
            "He was not so happy in his defence of He was not so happy in his defence of\n",
            "/content/sentences/a04/a04-043/a04-043-04.png troops . His main theme was that nuclear\n",
            "1/1 [==============================] - 0s 63ms/step\n"
          ]
        },
        {
          "name": "stderr",
          "output_type": "stream",
          "text": [
            "\r 78%|███████▊  | 195/250 [00:24<00:06,  8.98it/s]"
          ]
        },
        {
          "name": "stdout",
          "output_type": "stream",
          "text": [
            "Image:  /content/sentences/a04/a04-043/a04-043-04.png\n",
            "Label: troops . His main theme was that nuclear\n",
            "Prediction:  trops . this main theme was that nuclear\n",
            "CER: 0.075; WER: 0.25\n",
            "trops . this main theme was that nuclear troops . His main theme was that nuclear\n",
            "/content/sentences/a05/a05-053/a05-053-02.png there would be no hesitation in mobilising\n",
            "1/1 [==============================] - 0s 64ms/step\n"
          ]
        },
        {
          "name": "stderr",
          "output_type": "stream",
          "text": [
            "\r 78%|███████▊  | 196/250 [00:24<00:06,  8.65it/s]"
          ]
        },
        {
          "name": "stdout",
          "output_type": "stream",
          "text": [
            "Image:  /content/sentences/a05/a05-053/a05-053-02.png\n",
            "Label: there would be no hesitation in mobilising\n",
            "Prediction:  thee would be no hesitalian in mobilising\n",
            "CER: 0.07142857142857142; WER: 0.2857142857142857\n",
            "thee would be no hesitalian in mobilising there would be no hesitation in mobilising\n",
            "/content/sentences/b04/b04-010/b04-010-03.png Britain should champion Belgium . Not\n",
            "1/1 [==============================] - 0s 61ms/step\n"
          ]
        },
        {
          "name": "stderr",
          "output_type": "stream",
          "text": [
            "\r 79%|███████▉  | 197/250 [00:24<00:06,  8.74it/s]"
          ]
        },
        {
          "name": "stdout",
          "output_type": "stream",
          "text": [
            "Image:  /content/sentences/b04/b04-010/b04-010-03.png\n",
            "Label: Britain should champion Belgium . Not\n",
            "Prediction:  Britain should champion Selgiuin . Not\n",
            "CER: 0.08108108108108109; WER: 0.16666666666666666\n",
            "Britain should champion Selgiuin . Not Britain should champion Belgium . Not\n",
            "/content/sentences/b04/b04-000/b04-000-06.png attacked in a score of countries .\n",
            "1/1 [==============================] - 0s 62ms/step\n"
          ]
        },
        {
          "name": "stderr",
          "output_type": "stream",
          "text": [
            "\r 79%|███████▉  | 198/250 [00:24<00:06,  8.55it/s]"
          ]
        },
        {
          "name": "stdout",
          "output_type": "stream",
          "text": [
            "Image:  /content/sentences/b04/b04-000/b04-000-06.png\n",
            "Label: attacked in a score of countries .\n",
            "Prediction:  attacked in a score of couuttes .\n",
            "CER: 0.08823529411764706; WER: 0.14285714285714285\n",
            "attacked in a score of couuttes . attacked in a score of countries .\n",
            "/content/sentences/b04/b04-202/b04-202-01.png interested only in dead subjects . Now Cambridge has\n",
            "1/1 [==============================] - 0s 64ms/step\n"
          ]
        },
        {
          "name": "stderr",
          "output_type": "stream",
          "text": [
            "\r 80%|███████▉  | 199/250 [00:24<00:05,  8.64it/s]"
          ]
        },
        {
          "name": "stdout",
          "output_type": "stream",
          "text": [
            "Image:  /content/sentences/b04/b04-202/b04-202-01.png\n",
            "Label: interested only in dead subjects . Now Cambridge has\n",
            "Prediction:  nterted ounly in dead suljects . ow Cambridge has\n",
            "CER: 0.11538461538461539; WER: 0.4444444444444444\n",
            "nterted ounly in dead suljects . ow Cambridge has interested only in dead subjects . Now Cambridge has\n",
            "/content/sentences/b04/b04-054/b04-054-03.png to subsidise and defend the Cypriots . They will enjoy\n",
            "1/1 [==============================] - 0s 62ms/step\n"
          ]
        },
        {
          "name": "stderr",
          "output_type": "stream",
          "text": [
            "\r 80%|████████  | 200/250 [00:24<00:05,  8.72it/s]"
          ]
        },
        {
          "name": "stdout",
          "output_type": "stream",
          "text": [
            "Image:  /content/sentences/b04/b04-054/b04-054-03.png\n",
            "Label: to subsidise and defend the Cypriots . They will enjoy\n",
            "Prediction:  to subsidise and defend the Cppriots . They willeyjoy\n",
            "CER: 0.05555555555555555; WER: 0.3\n",
            "to subsidise and defend the Cppriots . They willeyjoy to subsidise and defend the Cypriots . They will enjoy\n",
            "/content/sentences/b04/b04-089/b04-089-03.png labour market . The unions are fortunate indeed to\n",
            "1/1 [==============================] - 0s 62ms/step\n"
          ]
        },
        {
          "name": "stderr",
          "output_type": "stream",
          "text": [
            "\r 80%|████████  | 201/250 [00:24<00:05,  8.83it/s]"
          ]
        },
        {
          "name": "stdout",
          "output_type": "stream",
          "text": [
            "Image:  /content/sentences/b04/b04-089/b04-089-03.png\n",
            "Label: labour market . The unions are fortunate indeed to\n",
            "Prediction:  Llor maket . The uious ale fotorate inded to\n",
            "CER: 0.24; WER: 0.6666666666666666\n",
            "Llor maket . The uious ale fotorate inded to labour market . The unions are fortunate indeed to\n",
            "/content/sentences/a01/a01-014/a01-014-07.png chief aide , Mr. Julius Greenfield , telephoned\n",
            "1/1 [==============================] - 0s 62ms/step\n"
          ]
        },
        {
          "name": "stderr",
          "output_type": "stream",
          "text": [
            "\r 81%|████████  | 202/250 [00:24<00:05,  8.81it/s]"
          ]
        },
        {
          "name": "stdout",
          "output_type": "stream",
          "text": [
            "Image:  /content/sentences/a01/a01-014/a01-014-07.png\n",
            "Label: chief aide , Mr. Julius Greenfield , telephoned\n",
            "Prediction:  chief ide , Mr. Julis Areenfield , telephoned\n",
            "CER: 0.06382978723404255; WER: 0.375\n",
            "chief ide , Mr. Julis Areenfield , telephoned chief aide , Mr. Julius Greenfield , telephoned\n",
            "/content/sentences/a04/a04-059/a04-059-06.png of party members and still less the party's\n",
            "1/1 [==============================] - 0s 63ms/step\n"
          ]
        },
        {
          "name": "stderr",
          "output_type": "stream",
          "text": [
            "\r 81%|████████  | 203/250 [00:25<00:05,  8.91it/s]"
          ]
        },
        {
          "name": "stdout",
          "output_type": "stream",
          "text": [
            "Image:  /content/sentences/a04/a04-059/a04-059-06.png\n",
            "Label: of party members and still less the party's\n",
            "Prediction:  of farty members and still less the arty's\n",
            "CER: 0.046511627906976744; WER: 0.25\n",
            "of farty members and still less the arty's of party members and still less the party's\n",
            "/content/sentences/a04/a04-043/a04-043-00.png MR. GAITSKELL today delivered a full-blooded\n",
            "1/1 [==============================] - 0s 62ms/step\n"
          ]
        },
        {
          "name": "stderr",
          "output_type": "stream",
          "text": [
            "\r 82%|████████▏ | 204/250 [00:25<00:05,  8.86it/s]"
          ]
        },
        {
          "name": "stdout",
          "output_type": "stream",
          "text": [
            "Image:  /content/sentences/a04/a04-043/a04-043-00.png\n",
            "Label: MR. GAITSKELL today delivered a full-blooded\n",
            "Prediction:  Mr. failskell today deliveed a full-blooded\n",
            "CER: 0.25; WER: 0.5\n",
            "Mr. failskell today deliveed a full-blooded MR. GAITSKELL today delivered a full-blooded\n",
            "/content/sentences/b02/b02-045/b02-045-07.png to Mr Kaunda's reasonable representations , but to\n",
            "1/1 [==============================] - 0s 64ms/step\n"
          ]
        },
        {
          "name": "stderr",
          "output_type": "stream",
          "text": [
            "\r 82%|████████▏ | 205/250 [00:25<00:05,  8.50it/s]"
          ]
        },
        {
          "name": "stdout",
          "output_type": "stream",
          "text": [
            "Image:  /content/sentences/b02/b02-045/b02-045-07.png\n",
            "Label: to Mr Kaunda's reasonable representations , but to\n",
            "Prediction:  to Mr Counda's reasonobve representations , but to\n",
            "CER: 0.08; WER: 0.25\n",
            "to Mr Counda's reasonobve representations , but to to Mr Kaunda's reasonable representations , but to\n",
            "/content/sentences/a01/a01-072u/a01-072u-08.png the new American administration .\n",
            "1/1 [==============================] - 0s 63ms/step\n"
          ]
        },
        {
          "name": "stderr",
          "output_type": "stream",
          "text": [
            "\r 82%|████████▏ | 206/250 [00:25<00:05,  8.67it/s]"
          ]
        },
        {
          "name": "stdout",
          "output_type": "stream",
          "text": [
            "Image:  /content/sentences/a01/a01-072u/a01-072u-08.png\n",
            "Label: the new American administration .\n",
            "Prediction:  the new American administration .\n",
            "CER: 0.0; WER: 0.0\n",
            "the new American administration . the new American administration .\n",
            "/content/sentences/b05/b05-017/b05-017-05.png to Paris .\n",
            "1/1 [==============================] - 0s 63ms/step\n"
          ]
        },
        {
          "name": "stderr",
          "output_type": "stream",
          "text": [
            "\r 83%|████████▎ | 207/250 [00:25<00:05,  8.51it/s]"
          ]
        },
        {
          "name": "stdout",
          "output_type": "stream",
          "text": [
            "Image:  /content/sentences/b05/b05-017/b05-017-05.png\n",
            "Label: to Paris .\n",
            "Prediction:  to baris .\n",
            "CER: 0.1; WER: 0.3333333333333333\n",
            "to baris . to Paris .\n",
            "/content/sentences/a01/a01-053x/a01-053x-00.png He said these concerned Mr. Weaver's alleged\n",
            "1/1 [==============================] - 0s 61ms/step\n"
          ]
        },
        {
          "name": "stderr",
          "output_type": "stream",
          "text": [
            "\r 83%|████████▎ | 208/250 [00:25<00:04,  8.59it/s]"
          ]
        },
        {
          "name": "stdout",
          "output_type": "stream",
          "text": [
            "Image:  /content/sentences/a01/a01-053x/a01-053x-00.png\n",
            "Label: He said these concerned Mr. Weaver's alleged\n",
            "Prediction:  He said thse conerned Mr. Weavers allesed\n",
            "CER: 0.09090909090909091; WER: 0.5714285714285714\n",
            "He said thse conerned Mr. Weavers allesed He said these concerned Mr. Weaver's alleged\n",
            "/content/sentences/b01/b01-014/b01-014-00.png He holds that more pressure can be put on South\n",
            "1/1 [==============================] - 0s 61ms/step\n"
          ]
        },
        {
          "name": "stderr",
          "output_type": "stream",
          "text": [
            "\r 84%|████████▎ | 209/250 [00:25<00:04,  8.43it/s]"
          ]
        },
        {
          "name": "stdout",
          "output_type": "stream",
          "text": [
            "Image:  /content/sentences/b01/b01-014/b01-014-00.png\n",
            "Label: He holds that more pressure can be put on South\n",
            "Prediction:  He nolds that more presure can be put on South\n",
            "CER: 0.0425531914893617; WER: 0.2\n",
            "He nolds that more presure can be put on South He holds that more pressure can be put on South\n",
            "/content/sentences/b01/b01-009/b01-009-00.png The Archbishop has long been a courageous\n",
            "1/1 [==============================] - 0s 64ms/step\n"
          ]
        },
        {
          "name": "stderr",
          "output_type": "stream",
          "text": [
            "\r 84%|████████▍ | 210/250 [00:25<00:04,  8.37it/s]"
          ]
        },
        {
          "name": "stdout",
          "output_type": "stream",
          "text": [
            "Image:  /content/sentences/b01/b01-009/b01-009-00.png\n",
            "Label: The Archbishop has long been a courageous\n",
            "Prediction:  The Archbishop has long been a courageons\n",
            "CER: 0.024390243902439025; WER: 0.14285714285714285\n",
            "The Archbishop has long been a courageons The Archbishop has long been a courageous\n",
            "/content/sentences/a02/a02-017/a02-017-06.png Market Commission , or wherever the Six decide\n",
            "1/1 [==============================] - 0s 66ms/step\n"
          ]
        },
        {
          "name": "stderr",
          "output_type": "stream",
          "text": [
            "\r 84%|████████▍ | 211/250 [00:26<00:04,  8.41it/s]"
          ]
        },
        {
          "name": "stdout",
          "output_type": "stream",
          "text": [
            "Image:  /content/sentences/a02/a02-017/a02-017-06.png\n",
            "Label: Market Commission , or wherever the Six decide\n",
            "Prediction:  Harhet Commissian , or wherever the Sit decide\n",
            "CER: 0.08695652173913043; WER: 0.375\n",
            "Harhet Commissian , or wherever the Sit decide Market Commission , or wherever the Six decide\n",
            "/content/sentences/b04/b04-060/b04-060-01.png will welcome them . How splendid it would be if , just\n",
            "1/1 [==============================] - 0s 64ms/step\n"
          ]
        },
        {
          "name": "stderr",
          "output_type": "stream",
          "text": [
            "\r 85%|████████▍ | 212/250 [00:26<00:04,  8.43it/s]"
          ]
        },
        {
          "name": "stdout",
          "output_type": "stream",
          "text": [
            "Image:  /content/sentences/b04/b04-060/b04-060-01.png\n",
            "Label: will welcome them . How splendid it would be if , just\n",
            "Prediction:  will welome them . How splendid it would be it , just\n",
            "CER: 0.037037037037037035; WER: 0.16666666666666666\n",
            "will welome them . How splendid it would be it , just will welcome them . How splendid it would be if , just\n",
            "/content/sentences/b01/b01-094/b01-094-04.png of UN conciliators they are meeting for\n",
            "1/1 [==============================] - 0s 68ms/step\n"
          ]
        },
        {
          "name": "stderr",
          "output_type": "stream",
          "text": [
            "\r 85%|████████▌ | 213/250 [00:26<00:04,  8.37it/s]"
          ]
        },
        {
          "name": "stdout",
          "output_type": "stream",
          "text": [
            "Image:  /content/sentences/b01/b01-094/b01-094-04.png\n",
            "Label: of UN conciliators they are meeting for\n",
            "Prediction:  of UN conciliators they are mneeting for\n",
            "CER: 0.02564102564102564; WER: 0.14285714285714285\n",
            "of UN conciliators they are mneeting for of UN conciliators they are meeting for\n",
            "/content/sentences/a01/a01-058x/a01-058x-05.png enough . And he indicated that his\n",
            "1/1 [==============================] - 0s 63ms/step\n"
          ]
        },
        {
          "name": "stderr",
          "output_type": "stream",
          "text": [
            "\r 86%|████████▌ | 214/250 [00:26<00:04,  8.31it/s]"
          ]
        },
        {
          "name": "stdout",
          "output_type": "stream",
          "text": [
            "Image:  /content/sentences/a01/a01-058x/a01-058x-05.png\n",
            "Label: enough . And he indicated that his\n",
            "Prediction:  Enough . And he indiated thatis\n",
            "CER: 0.11764705882352941; WER: 0.5714285714285714\n",
            "Enough . And he indiated thatis enough . And he indicated that his\n",
            "/content/sentences/b04/b04-081/b04-081-06.png go on strike .\n",
            "1/1 [==============================] - 0s 63ms/step\n"
          ]
        },
        {
          "name": "stderr",
          "output_type": "stream",
          "text": [
            "\r 86%|████████▌ | 215/250 [00:26<00:04,  8.56it/s]"
          ]
        },
        {
          "name": "stdout",
          "output_type": "stream",
          "text": [
            "Image:  /content/sentences/b04/b04-081/b04-081-06.png\n",
            "Label: go on strike .\n",
            "Prediction:  go on sticke .\n",
            "CER: 0.14285714285714285; WER: 0.25\n",
            "go on sticke . go on strike .\n",
            "/content/sentences/b04/b04-075/b04-075-02.png pleasant time . The weather forecast is good ; except for them ,\n",
            "1/1 [==============================] - 0s 65ms/step\n"
          ]
        },
        {
          "name": "stderr",
          "output_type": "stream",
          "text": [
            "\r 86%|████████▋ | 216/250 [00:26<00:04,  8.48it/s]"
          ]
        },
        {
          "name": "stdout",
          "output_type": "stream",
          "text": [
            "Image:  /content/sentences/b04/b04-075/b04-075-02.png\n",
            "Label: pleasant time . The weather forecast is good ; except for them ,\n",
            "Prediction:  pleasant time . The weather forecast is god ; acext for them .\n",
            "CER: 0.078125; WER: 0.23076923076923078\n",
            "pleasant time . The weather forecast is god ; acext for them . pleasant time . The weather forecast is good ; except for them ,\n",
            "/content/sentences/a03/a03-047/a03-047-04.png impression remains that the Liberal leader\n",
            "1/1 [==============================] - 0s 63ms/step\n"
          ]
        },
        {
          "name": "stderr",
          "output_type": "stream",
          "text": [
            "\r 87%|████████▋ | 217/250 [00:26<00:03,  8.59it/s]"
          ]
        },
        {
          "name": "stdout",
          "output_type": "stream",
          "text": [
            "Image:  /content/sentences/a03/a03-047/a03-047-04.png\n",
            "Label: impression remains that the Liberal leader\n",
            "Prediction:  impression remains that the Liberal leader\n",
            "CER: 0.0; WER: 0.0\n",
            "impression remains that the Liberal leader impression remains that the Liberal leader\n",
            "/content/sentences/b04/b04-000/b04-000-03.png scrap of evidence - of being implicated in\n",
            "1/1 [==============================] - 0s 63ms/step\n"
          ]
        },
        {
          "name": "stderr",
          "output_type": "stream",
          "text": [
            "\r 87%|████████▋ | 218/250 [00:26<00:03,  8.67it/s]"
          ]
        },
        {
          "name": "stdout",
          "output_type": "stream",
          "text": [
            "Image:  /content/sentences/b04/b04-000/b04-000-03.png\n",
            "Label: scrap of evidence - of being implicated in\n",
            "Prediction:  scrap of eidence - of benig implicated in\n",
            "CER: 0.07142857142857142; WER: 0.25\n",
            "scrap of eidence - of benig implicated in scrap of evidence - of being implicated in\n",
            "/content/sentences/a05/a05-084/a05-084-05.png at any time rose to fever pitch , to a\n",
            "1/1 [==============================] - 0s 60ms/step\n"
          ]
        },
        {
          "name": "stderr",
          "output_type": "stream",
          "text": [
            "\r 88%|████████▊ | 219/250 [00:26<00:03,  8.82it/s]"
          ]
        },
        {
          "name": "stdout",
          "output_type": "stream",
          "text": [
            "Image:  /content/sentences/a05/a05-084/a05-084-05.png\n",
            "Label: at any time rose to fever pitch , to a\n",
            "Prediction:  at any time rose to fever pitch , to a\n",
            "CER: 0.0; WER: 0.0\n",
            "at any time rose to fever pitch , to a at any time rose to fever pitch , to a\n",
            "/content/sentences/a01/a01-049/a01-049-06.png of Virginia - met today in closed session\n",
            "1/1 [==============================] - 0s 60ms/step\n"
          ]
        },
        {
          "name": "stderr",
          "output_type": "stream",
          "text": [
            "\r 88%|████████▊ | 220/250 [00:27<00:03,  8.87it/s]"
          ]
        },
        {
          "name": "stdout",
          "output_type": "stream",
          "text": [
            "Image:  /content/sentences/a01/a01-049/a01-049-06.png\n",
            "Label: of Virginia - met today in closed session\n",
            "Prediction:  of Uiginia-net taday in cland session\n",
            "CER: 0.21951219512195122; WER: 0.625\n",
            "of Uiginia-net taday in cland session of Virginia - met today in closed session\n",
            "/content/sentences/a05/a05-029/a05-029-08.png Francis stayed on , and # sacrificed\n",
            "1/1 [==============================] - 0s 63ms/step\n"
          ]
        },
        {
          "name": "stderr",
          "output_type": "stream",
          "text": [
            "\r 88%|████████▊ | 221/250 [00:27<00:03,  8.87it/s]"
          ]
        },
        {
          "name": "stdout",
          "output_type": "stream",
          "text": [
            "Image:  /content/sentences/a05/a05-029/a05-029-08.png\n",
            "Label: Francis stayed on , and # sacrificed\n",
            "Prediction:  Francis stayed on , and stis sacrificed\n",
            "CER: 0.1111111111111111; WER: 0.14285714285714285\n",
            "Francis stayed on , and stis sacrificed Francis stayed on , and # sacrificed\n",
            "/content/sentences/a04/a04-089/a04-089-08.png that \" very much larger protests are to\n",
            "1/1 [==============================] - 0s 63ms/step\n"
          ]
        },
        {
          "name": "stderr",
          "output_type": "stream",
          "text": [
            "\r 89%|████████▉ | 222/250 [00:27<00:03,  8.90it/s]"
          ]
        },
        {
          "name": "stdout",
          "output_type": "stream",
          "text": [
            "Image:  /content/sentences/a04/a04-089/a04-089-08.png\n",
            "Label: that \" very much larger protests are to\n",
            "Prediction:  that \" very moch larger protests ave to\n",
            "CER: 0.05128205128205128; WER: 0.25\n",
            "that \" very moch larger protests ave to that \" very much larger protests are to\n",
            "/content/sentences/a04/a04-027/a04-027-05.png but no big changes should be expected in the political situation .\n",
            "1/1 [==============================] - 0s 61ms/step\n"
          ]
        },
        {
          "name": "stderr",
          "output_type": "stream",
          "text": [
            "\r 89%|████████▉ | 223/250 [00:27<00:03,  8.43it/s]"
          ]
        },
        {
          "name": "stdout",
          "output_type": "stream",
          "text": [
            "Image:  /content/sentences/a04/a04-027/a04-027-05.png\n",
            "Label: but no big changes should be expected in the political situation .\n",
            "Prediction:  but no big changes should be expected in the political stuation .\n",
            "CER: 0.015151515151515152; WER: 0.08333333333333333\n",
            "but no big changes should be expected in the political stuation . but no big changes should be expected in the political situation .\n",
            "/content/sentences/a01/a01-030u/a01-030u-08.png spokesman , said Sir Roy had no right to\n",
            "1/1 [==============================] - 0s 63ms/step\n"
          ]
        },
        {
          "name": "stderr",
          "output_type": "stream",
          "text": [
            "\r 90%|████████▉ | 224/250 [00:27<00:03,  8.46it/s]"
          ]
        },
        {
          "name": "stdout",
          "output_type": "stream",
          "text": [
            "Image:  /content/sentences/a01/a01-030u/a01-030u-08.png\n",
            "Label: spokesman , said Sir Roy had no right to\n",
            "Prediction:  spokesman , said Sir Roy had no right to\n",
            "CER: 0.0; WER: 0.0\n",
            "spokesman , said Sir Roy had no right to spokesman , said Sir Roy had no right to\n",
            "/content/sentences/a01/a01-132x/a01-132x-00.png \" That cannot continue without either development\n",
            "1/1 [==============================] - 0s 65ms/step\n"
          ]
        },
        {
          "name": "stderr",
          "output_type": "stream",
          "text": [
            "\r 90%|█████████ | 225/250 [00:27<00:02,  8.43it/s]"
          ]
        },
        {
          "name": "stdout",
          "output_type": "stream",
          "text": [
            "Image:  /content/sentences/a01/a01-132x/a01-132x-00.png\n",
            "Label: \" That cannot continue without either development\n",
            "Prediction:  \" That cannot cantinue without either develpment\n",
            "CER: 0.04081632653061224; WER: 0.2857142857142857\n",
            "\" That cannot cantinue without either develpment \" That cannot continue without either development\n",
            "/content/sentences/a01/a01-014u/a01-014u-05.png Yesterday Sir Roy's chief aide , Mr.\n",
            "1/1 [==============================] - 0s 63ms/step\n"
          ]
        },
        {
          "name": "stderr",
          "output_type": "stream",
          "text": [
            "\r 90%|█████████ | 226/250 [00:27<00:02,  8.58it/s]"
          ]
        },
        {
          "name": "stdout",
          "output_type": "stream",
          "text": [
            "Image:  /content/sentences/a01/a01-014u/a01-014u-05.png\n",
            "Label: Yesterday Sir Roy's chief aide , Mr.\n",
            "Prediction:  eslerday Sir Ray's chief aide , Mr.\n",
            "CER: 0.08333333333333333; WER: 0.2857142857142857\n",
            "eslerday Sir Ray's chief aide , Mr. Yesterday Sir Roy's chief aide , Mr.\n",
            "/content/sentences/a01/a01-053/a01-053-05.png vestigation had reported on Mr. Weaver .\n",
            "1/1 [==============================] - 0s 63ms/step\n"
          ]
        },
        {
          "name": "stderr",
          "output_type": "stream",
          "text": [
            "\r 91%|█████████ | 227/250 [00:27<00:02,  8.68it/s]"
          ]
        },
        {
          "name": "stdout",
          "output_type": "stream",
          "text": [
            "Image:  /content/sentences/a01/a01-053/a01-053-05.png\n",
            "Label: vestigation had reported on Mr. Weaver .\n",
            "Prediction:  oestigation had repoted on Mr. Weaver .\n",
            "CER: 0.05; WER: 0.2857142857142857\n",
            "oestigation had repoted on Mr. Weaver . vestigation had reported on Mr. Weaver .\n",
            "/content/sentences/a05/a05-099/a05-099-08.png and control would be much easier to\n",
            "1/1 [==============================] - 0s 60ms/step\n"
          ]
        },
        {
          "name": "stderr",
          "output_type": "stream",
          "text": [
            "\r 91%|█████████ | 228/250 [00:28<00:02,  8.84it/s]"
          ]
        },
        {
          "name": "stdout",
          "output_type": "stream",
          "text": [
            "Image:  /content/sentences/a05/a05-099/a05-099-08.png\n",
            "Label: and control would be much easier to\n",
            "Prediction:  and coubol weould be much lasver to\n",
            "CER: 0.17142857142857143; WER: 0.42857142857142855\n",
            "and coubol weould be much lasver to and control would be much easier to\n",
            "/content/sentences/a04/a04-006/a04-006-10.png men talked alone .\n",
            "1/1 [==============================] - 0s 61ms/step\n"
          ]
        },
        {
          "name": "stderr",
          "output_type": "stream",
          "text": [
            "\r 92%|█████████▏| 229/250 [00:28<00:02,  8.91it/s]"
          ]
        },
        {
          "name": "stdout",
          "output_type": "stream",
          "text": [
            "Image:  /content/sentences/a04/a04-006/a04-006-10.png\n",
            "Label: men talked alone .\n",
            "Prediction:  mon toeted aloe .\n",
            "CER: 0.2777777777777778; WER: 0.75\n",
            "mon toeted aloe . men talked alone .\n",
            "/content/sentences/a02/a02-062/a02-062-06.png Lord Boyd-Orr , the Rev. Michael Scott , and\n",
            "1/1 [==============================] - 0s 66ms/step\n"
          ]
        },
        {
          "name": "stderr",
          "output_type": "stream",
          "text": [
            "\r 92%|█████████▏| 230/250 [00:28<00:02,  8.80it/s]"
          ]
        },
        {
          "name": "stdout",
          "output_type": "stream",
          "text": [
            "Image:  /content/sentences/a02/a02-062/a02-062-06.png\n",
            "Label: Lord Boyd-Orr , the Rev. Michael Scott , and\n",
            "Prediction:  Lord Oord Or , tho Per. Michael Seot , and\n",
            "CER: 0.20454545454545456; WER: 0.5555555555555556\n",
            "Lord Oord Or , tho Per. Michael Seot , and Lord Boyd-Orr , the Rev. Michael Scott , and\n",
            "/content/sentences/b05/b05-062/b05-062-01.png tested and weighed and not found wanting . \" He feels like\n",
            "1/1 [==============================] - 0s 62ms/step\n"
          ]
        },
        {
          "name": "stderr",
          "output_type": "stream",
          "text": [
            "\r 92%|█████████▏| 231/250 [00:28<00:02,  8.64it/s]"
          ]
        },
        {
          "name": "stdout",
          "output_type": "stream",
          "text": [
            "Image:  /content/sentences/b05/b05-062/b05-062-01.png\n",
            "Label: tested and weighed and not found wanting . \" He feels like\n",
            "Prediction:  esked and weighed and not baunl uonting . \" He fels like\n",
            "CER: 0.13793103448275862; WER: 0.3333333333333333\n",
            "esked and weighed and not baunl uonting . \" He fels like tested and weighed and not found wanting . \" He feels like\n",
            "/content/sentences/a05/a05-004/a05-004-09.png with the Prime Minister's approval .\n",
            "1/1 [==============================] - 0s 62ms/step\n"
          ]
        },
        {
          "name": "stderr",
          "output_type": "stream",
          "text": [
            "\r 93%|█████████▎| 232/250 [00:28<00:02,  8.42it/s]"
          ]
        },
        {
          "name": "stdout",
          "output_type": "stream",
          "text": [
            "Image:  /content/sentences/a05/a05-004/a05-004-09.png\n",
            "Label: with the Prime Minister's approval .\n",
            "Prediction:  with the Prime Minster's approval .\n",
            "CER: 0.027777777777777776; WER: 0.16666666666666666\n",
            "with the Prime Minster's approval . with the Prime Minister's approval .\n",
            "/content/sentences/a05/a05-121/a05-121-07.png Disarmament , addressed to Mr.\n",
            "1/1 [==============================] - 0s 60ms/step\n"
          ]
        },
        {
          "name": "stderr",
          "output_type": "stream",
          "text": [
            "\r 93%|█████████▎| 233/250 [00:28<00:01,  8.55it/s]"
          ]
        },
        {
          "name": "stdout",
          "output_type": "stream",
          "text": [
            "Image:  /content/sentences/a05/a05-121/a05-121-07.png\n",
            "Label: Disarmament , addressed to Mr.\n",
            "Prediction:  Bigarmament , addersed to Mr.\n",
            "CER: 0.13333333333333333; WER: 0.4\n",
            "Bigarmament , addersed to Mr. Disarmament , addressed to Mr.\n",
            "/content/sentences/a04/a04-081/a04-081-04.png modification of their structures to\n",
            "1/1 [==============================] - 0s 62ms/step\n"
          ]
        },
        {
          "name": "stderr",
          "output_type": "stream",
          "text": [
            "\r 94%|█████████▎| 234/250 [00:28<00:01,  8.44it/s]"
          ]
        },
        {
          "name": "stdout",
          "output_type": "stream",
          "text": [
            "Image:  /content/sentences/a04/a04-081/a04-081-04.png\n",
            "Label: modification of their structures to\n",
            "Prediction:  modilication of their stuuctures to\n",
            "CER: 0.05714285714285714; WER: 0.4\n",
            "modilication of their stuuctures to modification of their structures to\n",
            "/content/sentences/a03/a03-073/a03-073-07.png There has also been some talk of adopting another\n",
            "1/1 [==============================] - 0s 62ms/step\n"
          ]
        },
        {
          "name": "stderr",
          "output_type": "stream",
          "text": [
            "\r 94%|█████████▍| 235/250 [00:28<00:01,  8.49it/s]"
          ]
        },
        {
          "name": "stdout",
          "output_type": "stream",
          "text": [
            "Image:  /content/sentences/a03/a03-073/a03-073-07.png\n",
            "Label: There has also been some talk of adopting another\n",
            "Prediction:  There has seen some talh of adopting anster\n",
            "CER: 0.16326530612244897; WER: 0.4444444444444444\n",
            "There has seen some talh of adopting anster There has also been some talk of adopting another\n",
            "/content/sentences/a04/a04-000/a04-000-05.png to have been devoted to this main point\n",
            "1/1 [==============================] - 0s 71ms/step\n"
          ]
        },
        {
          "name": "stderr",
          "output_type": "stream",
          "text": [
            "\r 94%|█████████▍| 236/250 [00:28<00:01,  8.10it/s]"
          ]
        },
        {
          "name": "stdout",
          "output_type": "stream",
          "text": [
            "Image:  /content/sentences/a04/a04-000/a04-000-05.png\n",
            "Label: to have been devoted to this main point\n",
            "Prediction:  to howe been devsted to this main point\n",
            "CER: 0.07692307692307693; WER: 0.25\n",
            "to howe been devsted to this main point to have been devoted to this main point\n",
            "/content/sentences/b01/b01-038/b01-038-09.png for Germans to buy , while the goods which\n",
            "1/1 [==============================] - 0s 65ms/step\n"
          ]
        },
        {
          "name": "stderr",
          "output_type": "stream",
          "text": [
            "\r 95%|█████████▍| 237/250 [00:29<00:01,  8.30it/s]"
          ]
        },
        {
          "name": "stdout",
          "output_type": "stream",
          "text": [
            "Image:  /content/sentences/b01/b01-038/b01-038-09.png\n",
            "Label: for Germans to buy , while the goods which\n",
            "Prediction:  for Germans to bey , while the goods which\n",
            "CER: 0.023809523809523808; WER: 0.1111111111111111\n",
            "for Germans to bey , while the goods which for Germans to buy , while the goods which\n",
            "/content/sentences/b02/b02-097/b02-097-00.png To be able to say \" New York next week \" is an\n",
            "1/1 [==============================] - 0s 65ms/step\n"
          ]
        },
        {
          "name": "stderr",
          "output_type": "stream",
          "text": [
            "\r 95%|█████████▌| 238/250 [00:29<00:01,  8.26it/s]"
          ]
        },
        {
          "name": "stdout",
          "output_type": "stream",
          "text": [
            "Image:  /content/sentences/b02/b02-097/b02-097-00.png\n",
            "Label: To be able to say \" New York next week \" is an\n",
            "Prediction:  To te athe to say \" hew ork nert wet \" is an\n",
            "CER: 0.17391304347826086; WER: 0.46153846153846156\n",
            "To te athe to say \" hew ork nert wet \" is an To be able to say \" New York next week \" is an\n",
            "/content/sentences/b04/b04-187/b04-187-05.png of public taste has launched many great\n",
            "1/1 [==============================] - 0s 66ms/step\n"
          ]
        },
        {
          "name": "stderr",
          "output_type": "stream",
          "text": [
            "\r 96%|█████████▌| 239/250 [00:29<00:01,  8.20it/s]"
          ]
        },
        {
          "name": "stdout",
          "output_type": "stream",
          "text": [
            "Image:  /content/sentences/b04/b04-187/b04-187-05.png\n",
            "Label: of public taste has launched many great\n",
            "Prediction:  of puslic tarte has bounched many guot\n",
            "CER: 0.1794871794871795; WER: 0.5714285714285714\n",
            "of puslic tarte has bounched many guot of public taste has launched many great\n",
            "/content/sentences/a01/a01-063u/a01-063u-05.png next week . A big slice of Germany's \" aid \"\n",
            "1/1 [==============================] - 0s 64ms/step\n"
          ]
        },
        {
          "name": "stderr",
          "output_type": "stream",
          "text": [
            "\r 96%|█████████▌| 240/250 [00:29<00:01,  8.24it/s]"
          ]
        },
        {
          "name": "stdout",
          "output_type": "stream",
          "text": [
            "Image:  /content/sentences/a01/a01-063u/a01-063u-05.png\n",
            "Label: next week . A big slice of Germany's \" aid \"\n",
            "Prediction:  rett neeek . A big shice of Grermany's \" aid \"\n",
            "CER: 0.13636363636363635; WER: 0.36363636363636365\n",
            "rett neeek . A big shice of Grermany's \" aid \" next week . A big slice of Germany's \" aid \"\n",
            "/content/sentences/a03/a03-063/a03-063-07.png this is not primarily an effort on Britain's part to\n",
            "1/1 [==============================] - 0s 66ms/step\n"
          ]
        },
        {
          "name": "stderr",
          "output_type": "stream",
          "text": [
            "\r 96%|█████████▋| 241/250 [00:29<00:01,  8.16it/s]"
          ]
        },
        {
          "name": "stdout",
          "output_type": "stream",
          "text": [
            "Image:  /content/sentences/a03/a03-063/a03-063-07.png\n",
            "Label: this is not primarily an effort on Britain's part to\n",
            "Prediction:  this is not primanily anefflrt an Pritaias part to\n",
            "CER: 0.1346153846153846; WER: 0.5\n",
            "this is not primanily anefflrt an Pritaias part to this is not primarily an effort on Britain's part to\n",
            "/content/sentences/a02/a02-072/a02-072-04.png the Press conference , Mr. Clark said two committee\n",
            "1/1 [==============================] - 0s 65ms/step\n"
          ]
        },
        {
          "name": "stderr",
          "output_type": "stream",
          "text": [
            "\r 97%|█████████▋| 242/250 [00:29<00:00,  8.17it/s]"
          ]
        },
        {
          "name": "stdout",
          "output_type": "stream",
          "text": [
            "Image:  /content/sentences/a02/a02-072/a02-072-04.png\n",
            "Label: the Press conference , Mr. Clark said two committee\n",
            "Prediction:  the Press conference , Mr. Cark said two committee\n",
            "CER: 0.0196078431372549; WER: 0.1111111111111111\n",
            "the Press conference , Mr. Cark said two committee the Press conference , Mr. Clark said two committee\n",
            "/content/sentences/a06/a06-064/a06-064-00.png Most MPs agreed that Mr. Fell's attack had , if\n",
            "1/1 [==============================] - 0s 64ms/step\n"
          ]
        },
        {
          "name": "stderr",
          "output_type": "stream",
          "text": [
            "\r 97%|█████████▋| 243/250 [00:29<00:00,  8.30it/s]"
          ]
        },
        {
          "name": "stdout",
          "output_type": "stream",
          "text": [
            "Image:  /content/sentences/a06/a06-064/a06-064-00.png\n",
            "Label: Most MPs agreed that Mr. Fell's attack had , if\n",
            "Prediction:  Most Mrs agreed that Mr. Falls attacke had , if\n",
            "CER: 0.0851063829787234; WER: 0.3\n",
            "Most Mrs agreed that Mr. Falls attacke had , if Most MPs agreed that Mr. Fell's attack had , if\n",
            "/content/sentences/a01/a01-043/a01-043-08.png racial discrimination in Government\n",
            "1/1 [==============================] - 0s 66ms/step\n"
          ]
        },
        {
          "name": "stderr",
          "output_type": "stream",
          "text": [
            "\r 98%|█████████▊| 244/250 [00:29<00:00,  8.29it/s]"
          ]
        },
        {
          "name": "stdout",
          "output_type": "stream",
          "text": [
            "Image:  /content/sentences/a01/a01-043/a01-043-08.png\n",
            "Label: racial discrimination in Government\n",
            "Prediction:  racial cdicimination ins fovernment\n",
            "CER: 0.14285714285714285; WER: 0.75\n",
            "racial cdicimination ins fovernment racial discrimination in Government\n",
            "/content/sentences/a06/a06-128/a06-128-05.png about 150,000,000 has been frozen .\n",
            "1/1 [==============================] - 0s 64ms/step\n"
          ]
        },
        {
          "name": "stderr",
          "output_type": "stream",
          "text": [
            "\r 98%|█████████▊| 245/250 [00:30<00:00,  8.22it/s]"
          ]
        },
        {
          "name": "stdout",
          "output_type": "stream",
          "text": [
            "Image:  /content/sentences/a06/a06-128/a06-128-05.png\n",
            "Label: about 150,000,000 has been frozen .\n",
            "Prediction:  about 150,000,000 has been frocen.\n",
            "CER: 0.05714285714285714; WER: 0.3333333333333333\n",
            "about 150,000,000 has been frocen. about 150,000,000 has been frozen .\n",
            "/content/sentences/a01/a01-011/a01-011-02.png National Congress ( 400,000 ) will meet in London today\n",
            "1/1 [==============================] - 0s 61ms/step\n"
          ]
        },
        {
          "name": "stderr",
          "output_type": "stream",
          "text": [
            "\r 98%|█████████▊| 246/250 [00:30<00:00,  8.40it/s]"
          ]
        },
        {
          "name": "stdout",
          "output_type": "stream",
          "text": [
            "Image:  /content/sentences/a01/a01-011/a01-011-02.png\n",
            "Label: National Congress ( 400,000 ) will meet in London today\n",
            "Prediction:  Aational Longress ( 40 00ot will hmet in London today\n",
            "CER: 0.16363636363636364; WER: 0.5\n",
            "Aational Longress ( 40 00ot will hmet in London today National Congress ( 400,000 ) will meet in London today\n",
            "/content/sentences/a01/a01-132u/a01-132u-08.png still be free in families receiving regular\n",
            "1/1 [==============================] - 0s 61ms/step\n"
          ]
        },
        {
          "name": "stderr",
          "output_type": "stream",
          "text": [
            "\r 99%|█████████▉| 247/250 [00:30<00:00,  8.44it/s]"
          ]
        },
        {
          "name": "stdout",
          "output_type": "stream",
          "text": [
            "Image:  /content/sentences/a01/a01-132u/a01-132u-08.png\n",
            "Label: still be free in families receiving regular\n",
            "Prediction:  still be free in fomiles receiving regular\n",
            "CER: 0.046511627906976744; WER: 0.14285714285714285\n",
            "still be free in fomiles receiving regular still be free in families receiving regular\n",
            "/content/sentences/a05/a05-000/a05-000-01.png be published in March , is likely to\n",
            "1/1 [==============================] - 0s 63ms/step\n"
          ]
        },
        {
          "name": "stderr",
          "output_type": "stream",
          "text": [
            "\r 99%|█████████▉| 248/250 [00:30<00:00,  8.34it/s]"
          ]
        },
        {
          "name": "stdout",
          "output_type": "stream",
          "text": [
            "Image:  /content/sentences/a05/a05-000/a05-000-01.png\n",
            "Label: be published in March , is likely to\n",
            "Prediction:  be pubished in March , is likely to\n",
            "CER: 0.027777777777777776; WER: 0.125\n",
            "be pubished in March , is likely to be published in March , is likely to\n",
            "/content/sentences/a01/a01-020u/a01-020u-04.png attending . These plans do not give the\n",
            "1/1 [==============================] - 0s 67ms/step\n"
          ]
        },
        {
          "name": "stderr",
          "output_type": "stream",
          "text": [
            "\r100%|█████████▉| 249/250 [00:30<00:00,  8.29it/s]"
          ]
        },
        {
          "name": "stdout",
          "output_type": "stream",
          "text": [
            "Image:  /content/sentences/a01/a01-020u/a01-020u-04.png\n",
            "Label: attending . These plans do not give the\n",
            "Prediction:  attending . These plous do not give the\n",
            "CER: 0.05128205128205128; WER: 0.125\n",
            "attending . These plous do not give the attending . These plans do not give the\n",
            "/content/sentences/b04/b04-103/b04-103-01.png they would never behave like that . But do they ever\n",
            "1/1 [==============================] - 0s 64ms/step\n"
          ]
        },
        {
          "name": "stderr",
          "output_type": "stream",
          "text": [
            "100%|██████████| 250/250 [00:30<00:00,  8.15it/s]"
          ]
        },
        {
          "name": "stdout",
          "output_type": "stream",
          "text": [
            "Image:  /content/sentences/b04/b04-103/b04-103-01.png\n",
            "Label: they would never behave like that . But do they ever\n",
            "Prediction:  Hhey wald neser belare the that. Bot do thy aser\n",
            "CER: 0.2692307692307692; WER: 0.9090909090909091\n",
            "Hhey wald neser belare the that. Bot do thy aser they would never behave like that . But do they ever\n",
            "Average CER: 0.11166490924597065, Average WER: 0.35269169719169724\n"
          ]
        },
        {
          "name": "stderr",
          "output_type": "stream",
          "text": [
            "\n"
          ]
        }
      ],
      "source": [
        "import pandas as pd\n",
        "from tqdm import tqdm\n",
        "from mltu.configs import BaseModelConfigs\n",
        "import cv2\n",
        "import typing\n",
        "import numpy as np\n",
        "\n",
        "from mltu.inferenceModel import OnnxInferenceModel\n",
        "from mltu.utils.text_utils import ctc_decoder, get_cer, get_wer\n",
        "from mltu.transformers import ImageResizer\n",
        "\n",
        "# print(configs.vocab)\n",
        "\n",
        "# test_model = ImageToWordModel(\"model.onnx\", char_list=configs.vocab)\n",
        "\n",
        "# df = pd.read_csv(\"/content/Models/Sentence_recognition/202306030938/validate.csv\").values.tolist()\n",
        "\n",
        "\n",
        "def predict(image, model):\n",
        "        image = ImageResizer.resize_maintaining_aspect_ratio(image, 1408, 96)\n",
        "\n",
        "        image_pred = np.expand_dims(image, axis=0).astype(np.float32)\n",
        "\n",
        "        preds = model.predict(image_pred)\n",
        "\n",
        "        text = ctc_decoder(preds, configs.vocab)[0]\n",
        "\n",
        "        return text\n",
        "\n",
        "df = pd.read_csv(\"/content/validate.csv\").values.tolist()\n",
        "\n",
        "# df = pd.read_csv(\"/content/Models/Sentence_recognition/202306270026/validate.csv\").values.tolist()\n",
        "\n",
        "\n",
        "cnt = 0\n",
        "\n",
        "accum_cer, accum_wer = [], []\n",
        "for image_path, label in tqdm(df):\n",
        "    # if cnt == 1:\n",
        "    #   break\n",
        "    cnt += 1\n",
        "    print(image_path, label)\n",
        "\n",
        "    # image_path = image_path.split(\"/\")\n",
        "    # image_path[1] = 'data'\n",
        "    # image_path = '/'.join(image_path[1:])\n",
        "\n",
        "    image = np.asarray(cv2.imread(image_path))\n",
        "\n",
        "    prediction_text = predict(image, model)\n",
        "    # model.predict(image)\n",
        "\n",
        "    cer = get_cer(prediction_text, label)\n",
        "    wer = get_wer(prediction_text, label)\n",
        "    print(\"Image: \", image_path)\n",
        "    print(\"Label:\", label)\n",
        "    print(\"Prediction: \", prediction_text)\n",
        "    print(f\"CER: {cer}; WER: {wer}\")\n",
        "\n",
        "    accum_cer.append(cer)\n",
        "    accum_wer.append(wer)\n",
        "    print(prediction_text, label)\n",
        "\n",
        "print(f\"Average CER: {np.average(accum_cer)}, Average WER: {np.average(accum_wer)}\")"
      ]
    },
    {
      "cell_type": "code",
      "execution_count": 34,
      "metadata": {
        "colab": {
          "base_uri": "https://localhost:8080/"
        },
        "id": "rUPTxSvqHo4T",
        "outputId": "5cfd3d04-e633-4008-e869-c7c7b8441a48"
      },
      "outputs": [
        {
          "name": "stdout",
          "output_type": "stream",
          "text": [
            "1/1 [==============================] - 0s 63ms/step\n",
            "Image:  /content/test2.png\n",
            "Prediction:  people are bird \n",
            "CER: 0.06666666666666667; WER: 0.0\n"
          ]
        }
      ],
      "source": [
        "\n",
        "# image_path = \"/content/sentences/r03/r03-056/r03-056-01.png\"\n",
        "image_path = \"/content/test2.png\"\n",
        "# image_path = image_path.split(\"/\")\n",
        "# image_path[1] = 'data'\n",
        "# image_path = '/'.join(image_path[1:])\n",
        "\n",
        "image = np.asarray(cv2.imread(image_path))\n",
        "label = \"people are bird\"\n",
        "\n",
        "prediction_text = predict(image, model)\n",
        "# model.predict(image)\n",
        "\n",
        "cer = get_cer(prediction_text, label)\n",
        "wer = get_wer(prediction_text, label)\n",
        "print(\"Image: \", image_path)\n",
        "# print(\"Label:\", label)\n",
        "print(\"Prediction: \", prediction_text)\n",
        "print(f\"CER: {cer}; WER: {wer}\")\n",
        "\n",
        "# print(prediction_text, label)"
      ]
    },
    {
      "cell_type": "code",
      "execution_count": null,
      "metadata": {
        "id": "3O4-0djiOXJH"
      },
      "outputs": [],
      "source": []
    }
  ],
  "metadata": {
    "accelerator": "GPU",
    "colab": {
      "machine_shape": "hm",
      "provenance": []
    },
    "kernelspec": {
      "display_name": "Python 3",
      "name": "python3"
    },
    "language_info": {
      "codemirror_mode": {
        "name": "ipython",
        "version": 3
      },
      "file_extension": ".py",
      "mimetype": "text/x-python",
      "name": "python",
      "nbconvert_exporter": "python",
      "pygments_lexer": "ipython3",
      "version": "3.11.0"
    }
  },
  "nbformat": 4,
  "nbformat_minor": 0
}
